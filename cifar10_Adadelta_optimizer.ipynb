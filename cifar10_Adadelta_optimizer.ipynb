{
  "nbformat": 4,
  "nbformat_minor": 0,
  "metadata": {
    "colab": {
      "name": "cifar10  Adadelta  optimizer.ipynb",
      "provenance": [],
      "collapsed_sections": []
    },
    "kernelspec": {
      "name": "python3",
      "display_name": "Python 3"
    },
    "language_info": {
      "name": "python"
    },
    "accelerator": "GPU"
  },
  "cells": [
    {
      "cell_type": "code",
      "source": [
        "import tensorflow as tf\n",
        "from tensorflow.keras import datasets , layers ,models\n",
        "import matplotlib.pyplot as plt\n",
        "import numpy as np\n",
        "import pandas as pd\n",
        "import keras"
      ],
      "metadata": {
        "id": "r9mEBdS3bPh6"
      },
      "execution_count": 88,
      "outputs": []
    },
    {
      "cell_type": "code",
      "source": [
        "(x_train,y_train),(x_test,y_test)=datasets.cifar10.load_data()"
      ],
      "metadata": {
        "id": "KARkqeKbbPqa"
      },
      "execution_count": 89,
      "outputs": []
    },
    {
      "cell_type": "code",
      "source": [
        "x_train.shape"
      ],
      "metadata": {
        "colab": {
          "base_uri": "https://localhost:8080/"
        },
        "id": "5O5geXzubP0i",
        "outputId": "41aa7976-c495-47cd-c8b0-7a4e449c1d5d"
      },
      "execution_count": 90,
      "outputs": [
        {
          "output_type": "execute_result",
          "data": {
            "text/plain": [
              "(50000, 32, 32, 3)"
            ]
          },
          "metadata": {},
          "execution_count": 90
        }
      ]
    },
    {
      "cell_type": "code",
      "source": [
        "x_test.shape"
      ],
      "metadata": {
        "colab": {
          "base_uri": "https://localhost:8080/"
        },
        "id": "13s9Nx6HcMt9",
        "outputId": "4dd3102f-cc7e-4e48-d105-a81dcd79b931"
      },
      "execution_count": 91,
      "outputs": [
        {
          "output_type": "execute_result",
          "data": {
            "text/plain": [
              "(10000, 32, 32, 3)"
            ]
          },
          "metadata": {},
          "execution_count": 91
        }
      ]
    },
    {
      "cell_type": "code",
      "source": [
        "plt.imshow(x_train[1])"
      ],
      "metadata": {
        "colab": {
          "base_uri": "https://localhost:8080/",
          "height": 283
        },
        "id": "HxebsSUJcPp8",
        "outputId": "00f9694f-6e25-4b85-d47b-cc152a096591"
      },
      "execution_count": 92,
      "outputs": [
        {
          "output_type": "execute_result",
          "data": {
            "text/plain": [
              "<matplotlib.image.AxesImage at 0x7f2650208b10>"
            ]
          },
          "metadata": {},
          "execution_count": 92
        },
        {
          "output_type": "display_data",
          "data": {
            "image/png": "[encoded data removed]",
            "text/plain": [
              "<Figure size 432x288 with 1 Axes>"
            ]
          },
          "metadata": {
            "needs_background": "light"
          }
        }
      ]
    },
    {
      "cell_type": "code",
      "source": [
        "classes = [ \"airplane\" , \"automobile\" ,\"bird\", \"cat\", \"deer\", \"dog\" ,\"frog\" ,\"horse\" ,\"ship\" ,\"truck\"]"
      ],
      "metadata": {
        "id": "h4_ibMD4cZbu"
      },
      "execution_count": 93,
      "outputs": []
    },
    {
      "cell_type": "code",
      "source": [
        " y_train.shape"
      ],
      "metadata": {
        "colab": {
          "base_uri": "https://localhost:8080/"
        },
        "id": "jYkE-Hk3gupT",
        "outputId": "ab6ac154-41bc-406e-91e7-b24eba81f3c9"
      },
      "execution_count": 94,
      "outputs": [
        {
          "output_type": "execute_result",
          "data": {
            "text/plain": [
              "(50000, 1)"
            ]
          },
          "metadata": {},
          "execution_count": 94
        }
      ]
    },
    {
      "cell_type": "code",
      "source": [
        "y_train[:5]"
      ],
      "metadata": {
        "colab": {
          "base_uri": "https://localhost:8080/"
        },
        "id": "jO_tq21_g4pl",
        "outputId": "8f19a520-26aa-4cb4-d61c-464c616b5711"
      },
      "execution_count": 95,
      "outputs": [
        {
          "output_type": "execute_result",
          "data": {
            "text/plain": [
              "array([[6],\n",
              "       [9],\n",
              "       [9],\n",
              "       [4],\n",
              "       [1]], dtype=uint8)"
            ]
          },
          "metadata": {},
          "execution_count": 95
        }
      ]
    },
    {
      "cell_type": "code",
      "source": [
        "y_train=y_train.reshape(-1,)\n",
        "y_train"
      ],
      "metadata": {
        "colab": {
          "base_uri": "https://localhost:8080/"
        },
        "id": "Jlzo-E50g7D6",
        "outputId": "ee6aa478-7471-4d64-a0c4-8e545d545c42"
      },
      "execution_count": 96,
      "outputs": [
        {
          "output_type": "execute_result",
          "data": {
            "text/plain": [
              "array([6, 9, 9, ..., 9, 1, 1], dtype=uint8)"
            ]
          },
          "metadata": {},
          "execution_count": 96
        }
      ]
    },
    {
      "cell_type": "code",
      "source": [
        "classes[9]"
      ],
      "metadata": {
        "colab": {
          "base_uri": "https://localhost:8080/",
          "height": 35
        },
        "id": "vPUSMWB4hWi3",
        "outputId": "9760d7f1-12b2-4f5a-d11e-ba24b56c65ab"
      },
      "execution_count": 97,
      "outputs": [
        {
          "output_type": "execute_result",
          "data": {
            "application/vnd.google.colaboratory.intrinsic+json": {
              "type": "string"
            },
            "text/plain": [
              "'truck'"
            ]
          },
          "metadata": {},
          "execution_count": 97
        }
      ]
    },
    {
      "cell_type": "code",
      "source": [
        "def plot_sample(X,y,index):\n",
        "  plt.figure(figsize=(15,2))\n",
        "  plt.imshow(X[index])\n",
        "  plt.xlabel(classes[y[index]])"
      ],
      "metadata": {
        "id": "R-GDMyu4hdeO"
      },
      "execution_count": 98,
      "outputs": []
    },
    {
      "cell_type": "code",
      "source": [
        "plot_sample(x_train,y_train,1)"
      ],
      "metadata": {
        "colab": {
          "base_uri": "https://localhost:8080/",
          "height": 173
        },
        "id": "56it8GN6h7RB",
        "outputId": "b11f82e8-0d66-472a-cf04-870f6fb53526"
      },
      "execution_count": 99,
      "outputs": [
        {
          "output_type": "display_data",
          "data": {
            "image/png": "[encoded data removed]",
            "text/plain": [
              "<Figure size 1080x144 with 1 Axes>"
            ]
          },
          "metadata": {
            "needs_background": "light"
          }
        }
      ]
    },
    {
      "cell_type": "code",
      "source": [
        "x_train =x_train/255\n",
        "x_test = x_test/255\n"
      ],
      "metadata": {
        "id": "qZKRES41iEDo"
      },
      "execution_count": 100,
      "outputs": []
    },
    {
      "cell_type": "code",
      "source": [
        "print(x_train.shape)\n",
        "print(y_train.shape)"
      ],
      "metadata": {
        "colab": {
          "base_uri": "https://localhost:8080/"
        },
        "id": "YE-nv0S7pEg-",
        "outputId": "e852867a-e353-446c-a98b-f83233934257"
      },
      "execution_count": 101,
      "outputs": [
        {
          "output_type": "stream",
          "name": "stdout",
          "text": [
            "(50000, 32, 32, 3)\n",
            "(50000,)\n"
          ]
        }
      ]
    },
    {
      "cell_type": "code",
      "source": [
        "model = keras.Sequential(\n",
        "    [\n",
        "     layers.Conv2D(filters=64,kernel_size=(3,3), activation ='relu' ,input_shape=(32,32,3)),\n",
        "     layers.MaxPool2D((2,2)),\n",
        "     layers.Conv2D(filters=32,kernel_size=(3,3), activation ='relu'),\n",
        "     layers.MaxPool2D((2,2)),\n",
        "     layers.Conv2D(filters=32,kernel_size=(3,3), activation ='relu'),\n",
        "     layers.MaxPool2D((2,2)),\n",
        "     keras.layers.Flatten(),\n",
        "     keras.layers.Dense(32,activation =\"relu\"),\n",
        "     keras.layers.Dense(10 ,activation =\"softmax\"),\n",
        "     \n",
        "    ]\n",
        ")\n",
        "\n",
        "model.compile(optimizer = \"Adadelta\",\n",
        "               loss=\"sparse_categorical_crossentropy\",\n",
        "               metrics=[\"accuracy\"])\n",
        "model.fit(x_train,y_train, epochs=5)"
      ],
      "metadata": {
        "colab": {
          "base_uri": "https://localhost:8080/"
        },
        "id": "roKuRHDbiPxj",
        "outputId": "723bdf2d-c2cf-49aa-dba7-6c4143729be0"
      },
      "execution_count": 102,
      "outputs": [
        {
          "output_type": "stream",
          "name": "stdout",
          "text": [
            "Epoch 1/5\n",
            "1563/1563 [==============================] - 7s 4ms/step - loss: 2.2985 - accuracy: 0.1251\n",
            "Epoch 2/5\n",
            "1563/1563 [==============================] - 6s 4ms/step - loss: 2.2946 - accuracy: 0.1353\n",
            "Epoch 3/5\n",
            "1563/1563 [==============================] - 6s 4ms/step - loss: 2.2917 - accuracy: 0.1400\n",
            "Epoch 4/5\n",
            "1563/1563 [==============================] - 6s 4ms/step - loss: 2.2889 - accuracy: 0.1448\n",
            "Epoch 5/5\n",
            "1563/1563 [==============================] - 6s 4ms/step - loss: 2.2860 - accuracy: 0.1461\n"
          ]
        },
        {
          "output_type": "execute_result",
          "data": {
            "text/plain": [
              "<keras.callbacks.History at 0x7f25e211a190>"
            ]
          },
          "metadata": {},
          "execution_count": 102
        }
      ]
    },
    {
      "cell_type": "code",
      "source": [
        "from sklearn.metrics import confusion_matrix , classification_report\n",
        "import numpy as np \n",
        "y_pred = model.predict(x_test)\n",
        "y_pred_classes = [np.argmax(element) for element in y_pred]\n",
        "print(\"classification report: \\n\" , classification_report(y_test, y_pred_classes))"
      ],
      "metadata": {
        "colab": {
          "base_uri": "https://localhost:8080/"
        },
        "id": "t_Se6bS2lsbN",
        "outputId": "d0fe9b1b-693a-4603-8d68-32c8314d3bc0"
      },
      "execution_count": 103,
      "outputs": [
        {
          "output_type": "stream",
          "name": "stdout",
          "text": [
            "classification report: \n",
            "               precision    recall  f1-score   support\n",
            "\n",
            "           0       0.05      0.01      0.02      1000\n",
            "           1       0.07      0.02      0.03      1000\n",
            "           2       0.00      0.00      0.00      1000\n",
            "           3       0.10      0.02      0.03      1000\n",
            "           4       1.00      0.00      0.00      1000\n",
            "           5       0.11      0.09      0.10      1000\n",
            "           6       0.00      0.00      0.00      1000\n",
            "           7       0.13      0.18      0.15      1000\n",
            "           8       0.16      0.89      0.27      1000\n",
            "           9       0.14      0.23      0.17      1000\n",
            "\n",
            "    accuracy                           0.14     10000\n",
            "   macro avg       0.18      0.14      0.08     10000\n",
            "weighted avg       0.18      0.14      0.08     10000\n",
            "\n"
          ]
        },
        {
          "output_type": "stream",
          "name": "stderr",
          "text": [
            "/usr/local/lib/python3.7/dist-packages/sklearn/metrics/_classification.py:1318: UndefinedMetricWarning: Precision and F-score are ill-defined and being set to 0.0 in labels with no predicted samples. Use `zero_division` parameter to control this behavior.\n",
            "  _warn_prf(average, modifier, msg_start, len(result))\n",
            "/usr/local/lib/python3.7/dist-packages/sklearn/metrics/_classification.py:1318: UndefinedMetricWarning: Precision and F-score are ill-defined and being set to 0.0 in labels with no predicted samples. Use `zero_division` parameter to control this behavior.\n",
            "  _warn_prf(average, modifier, msg_start, len(result))\n",
            "/usr/local/lib/python3.7/dist-packages/sklearn/metrics/_classification.py:1318: UndefinedMetricWarning: Precision and F-score are ill-defined and being set to 0.0 in labels with no predicted samples. Use `zero_division` parameter to control this behavior.\n",
            "  _warn_prf(average, modifier, msg_start, len(result))\n"
          ]
        }
      ]
    },
    {
      "cell_type": "code",
      "source": [
        "model.evaluate(x_test,y_test)"
      ],
      "metadata": {
        "colab": {
          "base_uri": "https://localhost:8080/"
        },
        "id": "pYBdWVdbqGBp",
        "outputId": "2cc0851c-884c-4585-eec7-ddb8823231ba"
      },
      "execution_count": 104,
      "outputs": [
        {
          "output_type": "stream",
          "name": "stdout",
          "text": [
            "313/313 [==============================] - 1s 3ms/step - loss: 2.2850 - accuracy: 0.1431\n"
          ]
        },
        {
          "output_type": "execute_result",
          "data": {
            "text/plain": [
              "[2.2850077152252197, 0.14309999346733093]"
            ]
          },
          "metadata": {},
          "execution_count": 104
        }
      ]
    },
    {
      "cell_type": "code",
      "source": [
        "model.fit(x_train,y_train, epochs=10)"
      ],
      "metadata": {
        "colab": {
          "base_uri": "https://localhost:8080/"
        },
        "id": "OfvqBz-0qPOd",
        "outputId": "9719a613-294b-4819-d8b4-7b45e724ea84"
      },
      "execution_count": 105,
      "outputs": [
        {
          "output_type": "stream",
          "name": "stdout",
          "text": [
            "Epoch 1/10\n",
            "1563/1563 [==============================] - 6s 4ms/step - loss: 2.2832 - accuracy: 0.1477\n",
            "Epoch 2/10\n",
            "1563/1563 [==============================] - 6s 4ms/step - loss: 2.2801 - accuracy: 0.1498\n",
            "Epoch 3/10\n",
            "1563/1563 [==============================] - 6s 4ms/step - loss: 2.2766 - accuracy: 0.1519\n",
            "Epoch 4/10\n",
            "1563/1563 [==============================] - 6s 4ms/step - loss: 2.2726 - accuracy: 0.1539\n",
            "Epoch 5/10\n",
            "1563/1563 [==============================] - 6s 4ms/step - loss: 2.2677 - accuracy: 0.1566\n",
            "Epoch 6/10\n",
            "1563/1563 [==============================] - 6s 4ms/step - loss: 2.2624 - accuracy: 0.1590\n",
            "Epoch 7/10\n",
            "1563/1563 [==============================] - 6s 4ms/step - loss: 2.2568 - accuracy: 0.1602\n",
            "Epoch 8/10\n",
            "1563/1563 [==============================] - 6s 4ms/step - loss: 2.2508 - accuracy: 0.1632\n",
            "Epoch 9/10\n",
            "1563/1563 [==============================] - 6s 4ms/step - loss: 2.2444 - accuracy: 0.1648\n",
            "Epoch 10/10\n",
            "1563/1563 [==============================] - 6s 4ms/step - loss: 2.2376 - accuracy: 0.1677\n"
          ]
        },
        {
          "output_type": "execute_result",
          "data": {
            "text/plain": [
              "<keras.callbacks.History at 0x7f25ce58ba10>"
            ]
          },
          "metadata": {},
          "execution_count": 105
        }
      ]
    },
    {
      "cell_type": "code",
      "source": [
        "model.evaluate(x_test,y_test)"
      ],
      "metadata": {
        "colab": {
          "base_uri": "https://localhost:8080/"
        },
        "id": "JjscndYvrLSv",
        "outputId": "693d13fb-7772-4271-9d29-ae1021be791b"
      },
      "execution_count": 106,
      "outputs": [
        {
          "output_type": "stream",
          "name": "stdout",
          "text": [
            "313/313 [==============================] - 1s 3ms/step - loss: 2.2345 - accuracy: 0.1625\n"
          ]
        },
        {
          "output_type": "execute_result",
          "data": {
            "text/plain": [
              "[2.2344555854797363, 0.16249999403953552]"
            ]
          },
          "metadata": {},
          "execution_count": 106
        }
      ]
    },
    {
      "cell_type": "code",
      "source": [
        "model.fit(x_train,y_train, epochs=20)"
      ],
      "metadata": {
        "colab": {
          "base_uri": "https://localhost:8080/"
        },
        "id": "UIJdm7PVrQRb",
        "outputId": "7a1f6524-1b3e-4e05-e742-0790de3eb2a8"
      },
      "execution_count": 107,
      "outputs": [
        {
          "output_type": "stream",
          "name": "stdout",
          "text": [
            "Epoch 1/20\n",
            "1563/1563 [==============================] - 6s 4ms/step - loss: 2.2301 - accuracy: 0.1718\n",
            "Epoch 2/20\n",
            "1563/1563 [==============================] - 6s 4ms/step - loss: 2.2211 - accuracy: 0.1762\n",
            "Epoch 3/20\n",
            "1563/1563 [==============================] - 6s 4ms/step - loss: 2.2104 - accuracy: 0.1812\n",
            "Epoch 4/20\n",
            "1563/1563 [==============================] - 6s 4ms/step - loss: 2.2001 - accuracy: 0.1858\n",
            "Epoch 5/20\n",
            "1563/1563 [==============================] - 6s 4ms/step - loss: 2.1902 - accuracy: 0.1887\n",
            "Epoch 6/20\n",
            "1563/1563 [==============================] - 6s 4ms/step - loss: 2.1806 - accuracy: 0.1903\n",
            "Epoch 7/20\n",
            "1563/1563 [==============================] - 6s 4ms/step - loss: 2.1709 - accuracy: 0.1938\n",
            "Epoch 8/20\n",
            "1563/1563 [==============================] - 6s 4ms/step - loss: 2.1615 - accuracy: 0.1959\n",
            "Epoch 9/20\n",
            "1563/1563 [==============================] - 6s 4ms/step - loss: 2.1524 - accuracy: 0.1982\n",
            "Epoch 10/20\n",
            "1563/1563 [==============================] - 6s 4ms/step - loss: 2.1439 - accuracy: 0.2003\n",
            "Epoch 11/20\n",
            "1563/1563 [==============================] - 6s 4ms/step - loss: 2.1357 - accuracy: 0.2025\n",
            "Epoch 12/20\n",
            "1563/1563 [==============================] - 6s 4ms/step - loss: 2.1280 - accuracy: 0.2051\n",
            "Epoch 13/20\n",
            "1563/1563 [==============================] - 6s 4ms/step - loss: 2.1207 - accuracy: 0.2072\n",
            "Epoch 14/20\n",
            "1563/1563 [==============================] - 6s 4ms/step - loss: 2.1138 - accuracy: 0.2084\n",
            "Epoch 15/20\n",
            "1563/1563 [==============================] - 6s 4ms/step - loss: 2.1072 - accuracy: 0.2102\n",
            "Epoch 16/20\n",
            "1563/1563 [==============================] - 6s 4ms/step - loss: 2.1010 - accuracy: 0.2118\n",
            "Epoch 17/20\n",
            "1563/1563 [==============================] - 6s 4ms/step - loss: 2.0951 - accuracy: 0.2129\n",
            "Epoch 18/20\n",
            "1563/1563 [==============================] - 6s 4ms/step - loss: 2.0894 - accuracy: 0.2143\n",
            "Epoch 19/20\n",
            "1563/1563 [==============================] - 6s 4ms/step - loss: 2.0840 - accuracy: 0.2155\n",
            "Epoch 20/20\n",
            "1563/1563 [==============================] - 6s 4ms/step - loss: 2.0788 - accuracy: 0.2175\n"
          ]
        },
        {
          "output_type": "execute_result",
          "data": {
            "text/plain": [
              "<keras.callbacks.History at 0x7f25ce5a9c90>"
            ]
          },
          "metadata": {},
          "execution_count": 107
        }
      ]
    },
    {
      "cell_type": "code",
      "source": [
        "model.evaluate(x_test,y_test)"
      ],
      "metadata": {
        "colab": {
          "base_uri": "https://localhost:8080/"
        },
        "id": "DvQj8IbfrUMW",
        "outputId": "1896d165-7684-406b-f497-6997c5d9bae4"
      },
      "execution_count": 108,
      "outputs": [
        {
          "output_type": "stream",
          "name": "stdout",
          "text": [
            "313/313 [==============================] - 1s 3ms/step - loss: 2.0766 - accuracy: 0.2151\n"
          ]
        },
        {
          "output_type": "execute_result",
          "data": {
            "text/plain": [
              "[2.076577663421631, 0.2151000052690506]"
            ]
          },
          "metadata": {},
          "execution_count": 108
        }
      ]
    },
    {
      "cell_type": "code",
      "source": [
        "model.fit(x_train,y_train, epochs=50)"
      ],
      "metadata": {
        "colab": {
          "base_uri": "https://localhost:8080/"
        },
        "id": "x-wKGPgwrYpb",
        "outputId": "c3302eae-7fc7-4e3c-c14e-cb179255ec44"
      },
      "execution_count": 109,
      "outputs": [
        {
          "output_type": "stream",
          "name": "stdout",
          "text": [
            "Epoch 1/50\n",
            "1563/1563 [==============================] - 7s 4ms/step - loss: 2.0738 - accuracy: 0.2191\n",
            "Epoch 2/50\n",
            "1563/1563 [==============================] - 7s 4ms/step - loss: 2.0689 - accuracy: 0.2210\n",
            "Epoch 3/50\n",
            "1563/1563 [==============================] - 7s 4ms/step - loss: 2.0641 - accuracy: 0.2221\n",
            "Epoch 4/50\n",
            "1563/1563 [==============================] - 7s 4ms/step - loss: 2.0595 - accuracy: 0.2237\n",
            "Epoch 5/50\n",
            "1563/1563 [==============================] - 7s 4ms/step - loss: 2.0550 - accuracy: 0.2259\n",
            "Epoch 6/50\n",
            "1563/1563 [==============================] - 7s 4ms/step - loss: 2.0506 - accuracy: 0.2276\n",
            "Epoch 7/50\n",
            "1563/1563 [==============================] - 7s 4ms/step - loss: 2.0463 - accuracy: 0.2297\n",
            "Epoch 8/50\n",
            "1563/1563 [==============================] - 6s 4ms/step - loss: 2.0421 - accuracy: 0.2317\n",
            "Epoch 9/50\n",
            "1563/1563 [==============================] - 6s 4ms/step - loss: 2.0379 - accuracy: 0.2334\n",
            "Epoch 10/50\n",
            "1563/1563 [==============================] - 6s 4ms/step - loss: 2.0339 - accuracy: 0.2349\n",
            "Epoch 11/50\n",
            "1563/1563 [==============================] - 6s 4ms/step - loss: 2.0300 - accuracy: 0.2364\n",
            "Epoch 12/50\n",
            "1563/1563 [==============================] - 6s 4ms/step - loss: 2.0261 - accuracy: 0.2378\n",
            "Epoch 13/50\n",
            "1563/1563 [==============================] - 6s 4ms/step - loss: 2.0223 - accuracy: 0.2390\n",
            "Epoch 14/50\n",
            "1563/1563 [==============================] - 6s 4ms/step - loss: 2.0187 - accuracy: 0.2412\n",
            "Epoch 15/50\n",
            "1563/1563 [==============================] - 6s 4ms/step - loss: 2.0150 - accuracy: 0.2431\n",
            "Epoch 16/50\n",
            "1563/1563 [==============================] - 6s 4ms/step - loss: 2.0115 - accuracy: 0.2445\n",
            "Epoch 17/50\n",
            "1563/1563 [==============================] - 6s 4ms/step - loss: 2.0081 - accuracy: 0.2460\n",
            "Epoch 18/50\n",
            "1563/1563 [==============================] - 6s 4ms/step - loss: 2.0046 - accuracy: 0.2478\n",
            "Epoch 19/50\n",
            "1563/1563 [==============================] - 6s 4ms/step - loss: 2.0012 - accuracy: 0.2499\n",
            "Epoch 20/50\n",
            "1563/1563 [==============================] - 6s 4ms/step - loss: 1.9978 - accuracy: 0.2517\n",
            "Epoch 21/50\n",
            "1563/1563 [==============================] - 6s 4ms/step - loss: 1.9945 - accuracy: 0.2536\n",
            "Epoch 22/50\n",
            "1563/1563 [==============================] - 6s 4ms/step - loss: 1.9913 - accuracy: 0.2547\n",
            "Epoch 23/50\n",
            "1563/1563 [==============================] - 6s 4ms/step - loss: 1.9880 - accuracy: 0.2565\n",
            "Epoch 24/50\n",
            "1563/1563 [==============================] - 6s 4ms/step - loss: 1.9848 - accuracy: 0.2579\n",
            "Epoch 25/50\n",
            "1563/1563 [==============================] - 6s 4ms/step - loss: 1.9816 - accuracy: 0.2591\n",
            "Epoch 26/50\n",
            "1563/1563 [==============================] - 6s 4ms/step - loss: 1.9784 - accuracy: 0.2605\n",
            "Epoch 27/50\n",
            "1563/1563 [==============================] - 6s 4ms/step - loss: 1.9752 - accuracy: 0.2624\n",
            "Epoch 28/50\n",
            "1563/1563 [==============================] - 6s 4ms/step - loss: 1.9722 - accuracy: 0.2632\n",
            "Epoch 29/50\n",
            "1563/1563 [==============================] - 7s 4ms/step - loss: 1.9691 - accuracy: 0.2659\n",
            "Epoch 30/50\n",
            "1563/1563 [==============================] - 6s 4ms/step - loss: 1.9661 - accuracy: 0.2666\n",
            "Epoch 31/50\n",
            "1563/1563 [==============================] - 6s 4ms/step - loss: 1.9630 - accuracy: 0.2694\n",
            "Epoch 32/50\n",
            "1563/1563 [==============================] - 6s 4ms/step - loss: 1.9600 - accuracy: 0.2704\n",
            "Epoch 33/50\n",
            "1563/1563 [==============================] - 6s 4ms/step - loss: 1.9571 - accuracy: 0.2720\n",
            "Epoch 34/50\n",
            "1563/1563 [==============================] - 6s 4ms/step - loss: 1.9541 - accuracy: 0.2729\n",
            "Epoch 35/50\n",
            "1563/1563 [==============================] - 6s 4ms/step - loss: 1.9511 - accuracy: 0.2751\n",
            "Epoch 36/50\n",
            "1563/1563 [==============================] - 6s 4ms/step - loss: 1.9482 - accuracy: 0.2762\n",
            "Epoch 37/50\n",
            "1563/1563 [==============================] - 6s 4ms/step - loss: 1.9453 - accuracy: 0.2776\n",
            "Epoch 38/50\n",
            "1563/1563 [==============================] - 6s 4ms/step - loss: 1.9424 - accuracy: 0.2790\n",
            "Epoch 39/50\n",
            "1563/1563 [==============================] - 6s 4ms/step - loss: 1.9395 - accuracy: 0.2806\n",
            "Epoch 40/50\n",
            "1563/1563 [==============================] - 6s 4ms/step - loss: 1.9366 - accuracy: 0.2831\n",
            "Epoch 41/50\n",
            "1563/1563 [==============================] - 6s 4ms/step - loss: 1.9338 - accuracy: 0.2835\n",
            "Epoch 42/50\n",
            "1563/1563 [==============================] - 6s 4ms/step - loss: 1.9310 - accuracy: 0.2851\n",
            "Epoch 43/50\n",
            "1563/1563 [==============================] - 6s 4ms/step - loss: 1.9281 - accuracy: 0.2865\n",
            "Epoch 44/50\n",
            "1563/1563 [==============================] - 6s 4ms/step - loss: 1.9252 - accuracy: 0.2878\n",
            "Epoch 45/50\n",
            "1563/1563 [==============================] - 7s 4ms/step - loss: 1.9224 - accuracy: 0.2893\n",
            "Epoch 46/50\n",
            "1563/1563 [==============================] - 7s 4ms/step - loss: 1.9196 - accuracy: 0.2906\n",
            "Epoch 47/50\n",
            "1563/1563 [==============================] - 6s 4ms/step - loss: 1.9168 - accuracy: 0.2926\n",
            "Epoch 48/50\n",
            "1563/1563 [==============================] - 7s 4ms/step - loss: 1.9141 - accuracy: 0.2935\n",
            "Epoch 49/50\n",
            "1563/1563 [==============================] - 6s 4ms/step - loss: 1.9113 - accuracy: 0.2944\n",
            "Epoch 50/50\n",
            "1563/1563 [==============================] - 6s 4ms/step - loss: 1.9086 - accuracy: 0.2956\n"
          ]
        },
        {
          "output_type": "execute_result",
          "data": {
            "text/plain": [
              "<keras.callbacks.History at 0x7f25ce54ab50>"
            ]
          },
          "metadata": {},
          "execution_count": 109
        }
      ]
    },
    {
      "cell_type": "code",
      "source": [
        "model.evaluate(x_test,y_test)"
      ],
      "metadata": {
        "colab": {
          "base_uri": "https://localhost:8080/"
        },
        "id": "NNDsDSesriGs",
        "outputId": "6abfc188-e9f1-4c39-e039-50fac2e54ec2"
      },
      "execution_count": 110,
      "outputs": [
        {
          "output_type": "stream",
          "name": "stdout",
          "text": [
            "313/313 [==============================] - 1s 3ms/step - loss: 1.9060 - accuracy: 0.2966\n"
          ]
        },
        {
          "output_type": "execute_result",
          "data": {
            "text/plain": [
              "[1.9060230255126953, 0.29660001397132874]"
            ]
          },
          "metadata": {},
          "execution_count": 110
        }
      ]
    },
    {
      "cell_type": "code",
      "source": [
        "model.fit(x_train,y_train, epochs=70)"
      ],
      "metadata": {
        "colab": {
          "base_uri": "https://localhost:8080/"
        },
        "id": "yYAC5gvSrkB2",
        "outputId": "481debe6-10a5-4f61-e568-b7d841772cc1"
      },
      "execution_count": 111,
      "outputs": [
        {
          "output_type": "stream",
          "name": "stdout",
          "text": [
            "Epoch 1/70\n",
            "1563/1563 [==============================] - 6s 4ms/step - loss: 1.9058 - accuracy: 0.2975\n",
            "Epoch 2/70\n",
            "1563/1563 [==============================] - 6s 4ms/step - loss: 1.9031 - accuracy: 0.2986\n",
            "Epoch 3/70\n",
            "1563/1563 [==============================] - 6s 4ms/step - loss: 1.9004 - accuracy: 0.2994\n",
            "Epoch 4/70\n",
            "1563/1563 [==============================] - 6s 4ms/step - loss: 1.8977 - accuracy: 0.3013\n",
            "Epoch 5/70\n",
            "1563/1563 [==============================] - 6s 4ms/step - loss: 1.8950 - accuracy: 0.3025\n",
            "Epoch 6/70\n",
            "1563/1563 [==============================] - 6s 4ms/step - loss: 1.8922 - accuracy: 0.3045\n",
            "Epoch 7/70\n",
            "1563/1563 [==============================] - 6s 4ms/step - loss: 1.8896 - accuracy: 0.3040\n",
            "Epoch 8/70\n",
            "1563/1563 [==============================] - 7s 4ms/step - loss: 1.8869 - accuracy: 0.3056\n",
            "Epoch 9/70\n",
            "1563/1563 [==============================] - 6s 4ms/step - loss: 1.8844 - accuracy: 0.3069\n",
            "Epoch 10/70\n",
            "1563/1563 [==============================] - 6s 4ms/step - loss: 1.8818 - accuracy: 0.3082\n",
            "Epoch 11/70\n",
            "1563/1563 [==============================] - 6s 4ms/step - loss: 1.8793 - accuracy: 0.3097\n",
            "Epoch 12/70\n",
            "1563/1563 [==============================] - 6s 4ms/step - loss: 1.8767 - accuracy: 0.3104\n",
            "Epoch 13/70\n",
            "1563/1563 [==============================] - 6s 4ms/step - loss: 1.8741 - accuracy: 0.3121\n",
            "Epoch 14/70\n",
            "1563/1563 [==============================] - 6s 4ms/step - loss: 1.8716 - accuracy: 0.3130\n",
            "Epoch 15/70\n",
            "1563/1563 [==============================] - 6s 4ms/step - loss: 1.8690 - accuracy: 0.3141\n",
            "Epoch 16/70\n",
            "1563/1563 [==============================] - 6s 4ms/step - loss: 1.8665 - accuracy: 0.3159\n",
            "Epoch 17/70\n",
            "1563/1563 [==============================] - 6s 4ms/step - loss: 1.8640 - accuracy: 0.3169\n",
            "Epoch 18/70\n",
            "1563/1563 [==============================] - 6s 4ms/step - loss: 1.8615 - accuracy: 0.3179\n",
            "Epoch 19/70\n",
            "1563/1563 [==============================] - 6s 4ms/step - loss: 1.8590 - accuracy: 0.3192\n",
            "Epoch 20/70\n",
            "1563/1563 [==============================] - 6s 4ms/step - loss: 1.8565 - accuracy: 0.3205\n",
            "Epoch 21/70\n",
            "1563/1563 [==============================] - 6s 4ms/step - loss: 1.8540 - accuracy: 0.3215\n",
            "Epoch 22/70\n",
            "1563/1563 [==============================] - 6s 4ms/step - loss: 1.8515 - accuracy: 0.3221\n",
            "Epoch 23/70\n",
            "1563/1563 [==============================] - 6s 4ms/step - loss: 1.8491 - accuracy: 0.3235\n",
            "Epoch 24/70\n",
            "1563/1563 [==============================] - 6s 4ms/step - loss: 1.8466 - accuracy: 0.3241\n",
            "Epoch 25/70\n",
            "1563/1563 [==============================] - 6s 4ms/step - loss: 1.8442 - accuracy: 0.3248\n",
            "Epoch 26/70\n",
            "1563/1563 [==============================] - 6s 4ms/step - loss: 1.8418 - accuracy: 0.3256\n",
            "Epoch 27/70\n",
            "1563/1563 [==============================] - 6s 4ms/step - loss: 1.8394 - accuracy: 0.3273\n",
            "Epoch 28/70\n",
            "1563/1563 [==============================] - 6s 4ms/step - loss: 1.8370 - accuracy: 0.3276\n",
            "Epoch 29/70\n",
            "1563/1563 [==============================] - 6s 4ms/step - loss: 1.8348 - accuracy: 0.3295\n",
            "Epoch 30/70\n",
            "1563/1563 [==============================] - 6s 4ms/step - loss: 1.8324 - accuracy: 0.3301\n",
            "Epoch 31/70\n",
            "1563/1563 [==============================] - 6s 4ms/step - loss: 1.8301 - accuracy: 0.3313\n",
            "Epoch 32/70\n",
            "1563/1563 [==============================] - 6s 4ms/step - loss: 1.8278 - accuracy: 0.3319\n",
            "Epoch 33/70\n",
            "1563/1563 [==============================] - 6s 4ms/step - loss: 1.8256 - accuracy: 0.3332\n",
            "Epoch 34/70\n",
            "1563/1563 [==============================] - 6s 4ms/step - loss: 1.8233 - accuracy: 0.3341\n",
            "Epoch 35/70\n",
            "1563/1563 [==============================] - 6s 4ms/step - loss: 1.8211 - accuracy: 0.3352\n",
            "Epoch 36/70\n",
            "1563/1563 [==============================] - 6s 4ms/step - loss: 1.8189 - accuracy: 0.3370\n",
            "Epoch 37/70\n",
            "1563/1563 [==============================] - 7s 4ms/step - loss: 1.8167 - accuracy: 0.3376\n",
            "Epoch 38/70\n",
            "1563/1563 [==============================] - 6s 4ms/step - loss: 1.8146 - accuracy: 0.3377\n",
            "Epoch 39/70\n",
            "1563/1563 [==============================] - 6s 4ms/step - loss: 1.8123 - accuracy: 0.3390\n",
            "Epoch 40/70\n",
            "1563/1563 [==============================] - 6s 4ms/step - loss: 1.8102 - accuracy: 0.3400\n",
            "Epoch 41/70\n",
            "1563/1563 [==============================] - 6s 4ms/step - loss: 1.8081 - accuracy: 0.3413\n",
            "Epoch 42/70\n",
            "1563/1563 [==============================] - 6s 4ms/step - loss: 1.8059 - accuracy: 0.3419\n",
            "Epoch 43/70\n",
            "1563/1563 [==============================] - 6s 4ms/step - loss: 1.8039 - accuracy: 0.3425\n",
            "Epoch 44/70\n",
            "1563/1563 [==============================] - 6s 4ms/step - loss: 1.8018 - accuracy: 0.3435\n",
            "Epoch 45/70\n",
            "1563/1563 [==============================] - 6s 4ms/step - loss: 1.7997 - accuracy: 0.3440\n",
            "Epoch 46/70\n",
            "1563/1563 [==============================] - 6s 4ms/step - loss: 1.7978 - accuracy: 0.3450\n",
            "Epoch 47/70\n",
            "1563/1563 [==============================] - 6s 4ms/step - loss: 1.7957 - accuracy: 0.3458\n",
            "Epoch 48/70\n",
            "1563/1563 [==============================] - 6s 4ms/step - loss: 1.7937 - accuracy: 0.3468\n",
            "Epoch 49/70\n",
            "1563/1563 [==============================] - 6s 4ms/step - loss: 1.7917 - accuracy: 0.3472\n",
            "Epoch 50/70\n",
            "1563/1563 [==============================] - 6s 4ms/step - loss: 1.7898 - accuracy: 0.3485\n",
            "Epoch 51/70\n",
            "1563/1563 [==============================] - 6s 4ms/step - loss: 1.7879 - accuracy: 0.3487\n",
            "Epoch 52/70\n",
            "1563/1563 [==============================] - 6s 4ms/step - loss: 1.7859 - accuracy: 0.3496\n",
            "Epoch 53/70\n",
            "1563/1563 [==============================] - 6s 4ms/step - loss: 1.7840 - accuracy: 0.3508\n",
            "Epoch 54/70\n",
            "1563/1563 [==============================] - 6s 4ms/step - loss: 1.7821 - accuracy: 0.3515\n",
            "Epoch 55/70\n",
            "1563/1563 [==============================] - 6s 4ms/step - loss: 1.7802 - accuracy: 0.3524\n",
            "Epoch 56/70\n",
            "1563/1563 [==============================] - 6s 4ms/step - loss: 1.7783 - accuracy: 0.3528\n",
            "Epoch 57/70\n",
            "1563/1563 [==============================] - 6s 4ms/step - loss: 1.7766 - accuracy: 0.3537\n",
            "Epoch 58/70\n",
            "1563/1563 [==============================] - 6s 4ms/step - loss: 1.7747 - accuracy: 0.3541\n",
            "Epoch 59/70\n",
            "1563/1563 [==============================] - 6s 4ms/step - loss: 1.7729 - accuracy: 0.3552\n",
            "Epoch 60/70\n",
            "1563/1563 [==============================] - 6s 4ms/step - loss: 1.7711 - accuracy: 0.3558\n",
            "Epoch 61/70\n",
            "1563/1563 [==============================] - 6s 4ms/step - loss: 1.7693 - accuracy: 0.3568\n",
            "Epoch 62/70\n",
            "1563/1563 [==============================] - 6s 4ms/step - loss: 1.7675 - accuracy: 0.3567\n",
            "Epoch 63/70\n",
            "1563/1563 [==============================] - 6s 4ms/step - loss: 1.7658 - accuracy: 0.3578\n",
            "Epoch 64/70\n",
            "1563/1563 [==============================] - 6s 4ms/step - loss: 1.7640 - accuracy: 0.3577\n",
            "Epoch 65/70\n",
            "1563/1563 [==============================] - 6s 4ms/step - loss: 1.7623 - accuracy: 0.3591\n",
            "Epoch 66/70\n",
            "1563/1563 [==============================] - 6s 4ms/step - loss: 1.7605 - accuracy: 0.3593\n",
            "Epoch 67/70\n",
            "1563/1563 [==============================] - 6s 4ms/step - loss: 1.7588 - accuracy: 0.3605\n",
            "Epoch 68/70\n",
            "1563/1563 [==============================] - 7s 4ms/step - loss: 1.7571 - accuracy: 0.3610\n",
            "Epoch 69/70\n",
            "1563/1563 [==============================] - 6s 4ms/step - loss: 1.7554 - accuracy: 0.3620\n",
            "Epoch 70/70\n",
            "1563/1563 [==============================] - 6s 4ms/step - loss: 1.7537 - accuracy: 0.3626\n"
          ]
        },
        {
          "output_type": "execute_result",
          "data": {
            "text/plain": [
              "<keras.callbacks.History at 0x7f25ce528d50>"
            ]
          },
          "metadata": {},
          "execution_count": 111
        }
      ]
    },
    {
      "cell_type": "code",
      "source": [
        "model.evaluate(x_test,y_test)"
      ],
      "metadata": {
        "colab": {
          "base_uri": "https://localhost:8080/"
        },
        "id": "ZsC2xU6ur0PU",
        "outputId": "8bff542d-127a-4dd6-cc19-64d7f8aeaf4f"
      },
      "execution_count": 112,
      "outputs": [
        {
          "output_type": "stream",
          "name": "stdout",
          "text": [
            "313/313 [==============================] - 1s 3ms/step - loss: 1.7535 - accuracy: 0.3633\n"
          ]
        },
        {
          "output_type": "execute_result",
          "data": {
            "text/plain": [
              "[1.7535433769226074, 0.36329999566078186]"
            ]
          },
          "metadata": {},
          "execution_count": 112
        }
      ]
    },
    {
      "cell_type": "code",
      "source": [
        "model.fit(x_train,y_train, epochs=100)"
      ],
      "metadata": {
        "colab": {
          "base_uri": "https://localhost:8080/"
        },
        "id": "FyJo8TXxxsMt",
        "outputId": "8569c53b-5f13-41b5-fd9b-ba15269e8430"
      },
      "execution_count": 113,
      "outputs": [
        {
          "output_type": "stream",
          "name": "stdout",
          "text": [
            "Epoch 1/100\n",
            "1563/1563 [==============================] - 6s 4ms/step - loss: 1.7520 - accuracy: 0.3627\n",
            "Epoch 2/100\n",
            "1563/1563 [==============================] - 6s 4ms/step - loss: 1.7504 - accuracy: 0.3642\n",
            "Epoch 3/100\n",
            "1563/1563 [==============================] - 6s 4ms/step - loss: 1.7488 - accuracy: 0.3641\n",
            "Epoch 4/100\n",
            "1563/1563 [==============================] - 6s 4ms/step - loss: 1.7472 - accuracy: 0.3650\n",
            "Epoch 5/100\n",
            "1563/1563 [==============================] - 6s 4ms/step - loss: 1.7456 - accuracy: 0.3655\n",
            "Epoch 6/100\n",
            "1563/1563 [==============================] - 6s 4ms/step - loss: 1.7440 - accuracy: 0.3663\n",
            "Epoch 7/100\n",
            "1563/1563 [==============================] - 6s 4ms/step - loss: 1.7423 - accuracy: 0.3671\n",
            "Epoch 8/100\n",
            "1563/1563 [==============================] - 6s 4ms/step - loss: 1.7408 - accuracy: 0.3675\n",
            "Epoch 9/100\n",
            "1563/1563 [==============================] - 6s 4ms/step - loss: 1.7392 - accuracy: 0.3691\n",
            "Epoch 10/100\n",
            "1563/1563 [==============================] - 6s 4ms/step - loss: 1.7377 - accuracy: 0.3685\n",
            "Epoch 11/100\n",
            "1563/1563 [==============================] - 6s 4ms/step - loss: 1.7361 - accuracy: 0.3696\n",
            "Epoch 12/100\n",
            "1563/1563 [==============================] - 6s 4ms/step - loss: 1.7346 - accuracy: 0.3702\n",
            "Epoch 13/100\n",
            "1563/1563 [==============================] - 6s 4ms/step - loss: 1.7331 - accuracy: 0.3715\n",
            "Epoch 14/100\n",
            "1563/1563 [==============================] - 6s 4ms/step - loss: 1.7316 - accuracy: 0.3716\n",
            "Epoch 15/100\n",
            "1563/1563 [==============================] - 6s 4ms/step - loss: 1.7301 - accuracy: 0.3721\n",
            "Epoch 16/100\n",
            "1563/1563 [==============================] - 6s 4ms/step - loss: 1.7286 - accuracy: 0.3729\n",
            "Epoch 17/100\n",
            "1563/1563 [==============================] - 6s 4ms/step - loss: 1.7271 - accuracy: 0.3740\n",
            "Epoch 18/100\n",
            "1563/1563 [==============================] - 6s 4ms/step - loss: 1.7257 - accuracy: 0.3737\n",
            "Epoch 19/100\n",
            "1563/1563 [==============================] - 6s 4ms/step - loss: 1.7242 - accuracy: 0.3744\n",
            "Epoch 20/100\n",
            "1563/1563 [==============================] - 6s 4ms/step - loss: 1.7227 - accuracy: 0.3749\n",
            "Epoch 21/100\n",
            "1563/1563 [==============================] - 6s 4ms/step - loss: 1.7213 - accuracy: 0.3753\n",
            "Epoch 22/100\n",
            "1563/1563 [==============================] - 6s 4ms/step - loss: 1.7199 - accuracy: 0.3761\n",
            "Epoch 23/100\n",
            "1563/1563 [==============================] - 6s 4ms/step - loss: 1.7184 - accuracy: 0.3766\n",
            "Epoch 24/100\n",
            "1563/1563 [==============================] - 6s 4ms/step - loss: 1.7170 - accuracy: 0.3767\n",
            "Epoch 25/100\n",
            "1563/1563 [==============================] - 6s 4ms/step - loss: 1.7157 - accuracy: 0.3785\n",
            "Epoch 26/100\n",
            "1563/1563 [==============================] - 6s 4ms/step - loss: 1.7143 - accuracy: 0.3782\n",
            "Epoch 27/100\n",
            "1563/1563 [==============================] - 6s 4ms/step - loss: 1.7129 - accuracy: 0.3788\n",
            "Epoch 28/100\n",
            "1563/1563 [==============================] - 6s 4ms/step - loss: 1.7115 - accuracy: 0.3790\n",
            "Epoch 29/100\n",
            "1563/1563 [==============================] - 6s 4ms/step - loss: 1.7102 - accuracy: 0.3797\n",
            "Epoch 30/100\n",
            "1563/1563 [==============================] - 6s 4ms/step - loss: 1.7088 - accuracy: 0.3801\n",
            "Epoch 31/100\n",
            "1563/1563 [==============================] - 6s 4ms/step - loss: 1.7074 - accuracy: 0.3802\n",
            "Epoch 32/100\n",
            "1563/1563 [==============================] - 6s 4ms/step - loss: 1.7060 - accuracy: 0.3808\n",
            "Epoch 33/100\n",
            "1563/1563 [==============================] - 6s 4ms/step - loss: 1.7048 - accuracy: 0.3820\n",
            "Epoch 34/100\n",
            "1563/1563 [==============================] - 6s 4ms/step - loss: 1.7034 - accuracy: 0.3823\n",
            "Epoch 35/100\n",
            "1563/1563 [==============================] - 6s 4ms/step - loss: 1.7020 - accuracy: 0.3833\n",
            "Epoch 36/100\n",
            "1563/1563 [==============================] - 6s 4ms/step - loss: 1.7008 - accuracy: 0.3833\n",
            "Epoch 37/100\n",
            "1563/1563 [==============================] - 6s 4ms/step - loss: 1.6994 - accuracy: 0.3834\n",
            "Epoch 38/100\n",
            "1563/1563 [==============================] - 6s 4ms/step - loss: 1.6983 - accuracy: 0.3835\n",
            "Epoch 39/100\n",
            "1563/1563 [==============================] - 6s 4ms/step - loss: 1.6969 - accuracy: 0.3841\n",
            "Epoch 40/100\n",
            "1563/1563 [==============================] - 6s 4ms/step - loss: 1.6957 - accuracy: 0.3842\n",
            "Epoch 41/100\n",
            "1563/1563 [==============================] - 6s 4ms/step - loss: 1.6944 - accuracy: 0.3851\n",
            "Epoch 42/100\n",
            "1563/1563 [==============================] - 6s 4ms/step - loss: 1.6931 - accuracy: 0.3855\n",
            "Epoch 43/100\n",
            "1563/1563 [==============================] - 6s 4ms/step - loss: 1.6919 - accuracy: 0.3863\n",
            "Epoch 44/100\n",
            "1563/1563 [==============================] - 6s 4ms/step - loss: 1.6906 - accuracy: 0.3862\n",
            "Epoch 45/100\n",
            "1563/1563 [==============================] - 6s 4ms/step - loss: 1.6894 - accuracy: 0.3872\n",
            "Epoch 46/100\n",
            "1563/1563 [==============================] - 6s 4ms/step - loss: 1.6882 - accuracy: 0.3875\n",
            "Epoch 47/100\n",
            "1563/1563 [==============================] - 6s 4ms/step - loss: 1.6867 - accuracy: 0.3888\n",
            "Epoch 48/100\n",
            "1563/1563 [==============================] - 6s 4ms/step - loss: 1.6857 - accuracy: 0.3878\n",
            "Epoch 49/100\n",
            "1563/1563 [==============================] - 6s 4ms/step - loss: 1.6845 - accuracy: 0.3882\n",
            "Epoch 50/100\n",
            "1563/1563 [==============================] - 6s 4ms/step - loss: 1.6832 - accuracy: 0.3884\n",
            "Epoch 51/100\n",
            "1563/1563 [==============================] - 6s 4ms/step - loss: 1.6820 - accuracy: 0.3895\n",
            "Epoch 52/100\n",
            "1563/1563 [==============================] - 6s 4ms/step - loss: 1.6809 - accuracy: 0.3893\n",
            "Epoch 53/100\n",
            "1563/1563 [==============================] - 6s 4ms/step - loss: 1.6796 - accuracy: 0.3900\n",
            "Epoch 54/100\n",
            "1563/1563 [==============================] - 6s 4ms/step - loss: 1.6784 - accuracy: 0.3906\n",
            "Epoch 55/100\n",
            "1563/1563 [==============================] - 6s 4ms/step - loss: 1.6772 - accuracy: 0.3908\n",
            "Epoch 56/100\n",
            "1563/1563 [==============================] - 6s 4ms/step - loss: 1.6760 - accuracy: 0.3917\n",
            "Epoch 57/100\n",
            "1563/1563 [==============================] - 6s 4ms/step - loss: 1.6748 - accuracy: 0.3919\n",
            "Epoch 58/100\n",
            "1563/1563 [==============================] - 6s 4ms/step - loss: 1.6737 - accuracy: 0.3921\n",
            "Epoch 59/100\n",
            "1563/1563 [==============================] - 6s 4ms/step - loss: 1.6725 - accuracy: 0.3925\n",
            "Epoch 60/100\n",
            "1563/1563 [==============================] - 6s 4ms/step - loss: 1.6713 - accuracy: 0.3924\n",
            "Epoch 61/100\n",
            "1563/1563 [==============================] - 6s 4ms/step - loss: 1.6701 - accuracy: 0.3932\n",
            "Epoch 62/100\n",
            "1563/1563 [==============================] - 6s 4ms/step - loss: 1.6690 - accuracy: 0.3933\n",
            "Epoch 63/100\n",
            "1563/1563 [==============================] - 6s 4ms/step - loss: 1.6679 - accuracy: 0.3937\n",
            "Epoch 64/100\n",
            "1563/1563 [==============================] - 6s 4ms/step - loss: 1.6668 - accuracy: 0.3939\n",
            "Epoch 65/100\n",
            "1563/1563 [==============================] - 6s 4ms/step - loss: 1.6656 - accuracy: 0.3944\n",
            "Epoch 66/100\n",
            "1563/1563 [==============================] - 6s 4ms/step - loss: 1.6645 - accuracy: 0.3953\n",
            "Epoch 67/100\n",
            "1563/1563 [==============================] - 6s 4ms/step - loss: 1.6634 - accuracy: 0.3957\n",
            "Epoch 68/100\n",
            "1563/1563 [==============================] - 6s 4ms/step - loss: 1.6623 - accuracy: 0.3955\n",
            "Epoch 69/100\n",
            "1563/1563 [==============================] - 6s 4ms/step - loss: 1.6611 - accuracy: 0.3964\n",
            "Epoch 70/100\n",
            "1563/1563 [==============================] - 6s 4ms/step - loss: 1.6601 - accuracy: 0.3966\n",
            "Epoch 71/100\n",
            "1563/1563 [==============================] - 6s 4ms/step - loss: 1.6591 - accuracy: 0.3964\n",
            "Epoch 72/100\n",
            "1563/1563 [==============================] - 6s 4ms/step - loss: 1.6579 - accuracy: 0.3973\n",
            "Epoch 73/100\n",
            "1563/1563 [==============================] - 6s 4ms/step - loss: 1.6570 - accuracy: 0.3974\n",
            "Epoch 74/100\n",
            "1563/1563 [==============================] - 6s 4ms/step - loss: 1.6558 - accuracy: 0.3983\n",
            "Epoch 75/100\n",
            "1563/1563 [==============================] - 6s 4ms/step - loss: 1.6548 - accuracy: 0.3980\n",
            "Epoch 76/100\n",
            "1563/1563 [==============================] - 6s 4ms/step - loss: 1.6537 - accuracy: 0.3987\n",
            "Epoch 77/100\n",
            "1563/1563 [==============================] - 6s 4ms/step - loss: 1.6528 - accuracy: 0.3986\n",
            "Epoch 78/100\n",
            "1563/1563 [==============================] - 6s 4ms/step - loss: 1.6517 - accuracy: 0.3997\n",
            "Epoch 79/100\n",
            "1563/1563 [==============================] - 6s 4ms/step - loss: 1.6505 - accuracy: 0.3993\n",
            "Epoch 80/100\n",
            "1563/1563 [==============================] - 6s 4ms/step - loss: 1.6496 - accuracy: 0.4005\n",
            "Epoch 81/100\n",
            "1563/1563 [==============================] - 6s 4ms/step - loss: 1.6487 - accuracy: 0.4006\n",
            "Epoch 82/100\n",
            "1563/1563 [==============================] - 6s 4ms/step - loss: 1.6476 - accuracy: 0.4007\n",
            "Epoch 83/100\n",
            "1563/1563 [==============================] - 6s 4ms/step - loss: 1.6466 - accuracy: 0.4018\n",
            "Epoch 84/100\n",
            "1563/1563 [==============================] - 6s 4ms/step - loss: 1.6456 - accuracy: 0.4012\n",
            "Epoch 85/100\n",
            "1563/1563 [==============================] - 6s 4ms/step - loss: 1.6446 - accuracy: 0.4022\n",
            "Epoch 86/100\n",
            "1563/1563 [==============================] - 6s 4ms/step - loss: 1.6436 - accuracy: 0.4025\n",
            "Epoch 87/100\n",
            "1563/1563 [==============================] - 6s 4ms/step - loss: 1.6426 - accuracy: 0.4030\n",
            "Epoch 88/100\n",
            "1563/1563 [==============================] - 6s 4ms/step - loss: 1.6417 - accuracy: 0.4035\n",
            "Epoch 89/100\n",
            "1563/1563 [==============================] - 6s 4ms/step - loss: 1.6406 - accuracy: 0.4034\n",
            "Epoch 90/100\n",
            "1563/1563 [==============================] - 6s 4ms/step - loss: 1.6398 - accuracy: 0.4037\n",
            "Epoch 91/100\n",
            "1563/1563 [==============================] - 6s 4ms/step - loss: 1.6388 - accuracy: 0.4046\n",
            "Epoch 92/100\n",
            "1563/1563 [==============================] - 6s 4ms/step - loss: 1.6378 - accuracy: 0.4047\n",
            "Epoch 93/100\n",
            "1563/1563 [==============================] - 6s 4ms/step - loss: 1.6369 - accuracy: 0.4054\n",
            "Epoch 94/100\n",
            "1563/1563 [==============================] - 6s 4ms/step - loss: 1.6359 - accuracy: 0.4054\n",
            "Epoch 95/100\n",
            "1563/1563 [==============================] - 6s 4ms/step - loss: 1.6350 - accuracy: 0.4049\n",
            "Epoch 96/100\n",
            "1563/1563 [==============================] - 6s 4ms/step - loss: 1.6340 - accuracy: 0.4061\n",
            "Epoch 97/100\n",
            "1563/1563 [==============================] - 6s 4ms/step - loss: 1.6330 - accuracy: 0.4066\n",
            "Epoch 98/100\n",
            "1563/1563 [==============================] - 6s 4ms/step - loss: 1.6322 - accuracy: 0.4070\n",
            "Epoch 99/100\n",
            "1563/1563 [==============================] - 6s 4ms/step - loss: 1.6313 - accuracy: 0.4069\n",
            "Epoch 100/100\n",
            "1563/1563 [==============================] - 6s 4ms/step - loss: 1.6303 - accuracy: 0.4072\n"
          ]
        },
        {
          "output_type": "execute_result",
          "data": {
            "text/plain": [
              "<keras.callbacks.History at 0x7f25ce4d0a10>"
            ]
          },
          "metadata": {},
          "execution_count": 113
        }
      ]
    },
    {
      "cell_type": "code",
      "source": [
        "model.evaluate(x_test,y_test)"
      ],
      "metadata": {
        "colab": {
          "base_uri": "https://localhost:8080/"
        },
        "id": "TizodTtPx0AM",
        "outputId": "3477caa9-69dd-44b8-a7ed-54f30d83aa01"
      },
      "execution_count": 114,
      "outputs": [
        {
          "output_type": "stream",
          "name": "stdout",
          "text": [
            "313/313 [==============================] - 1s 3ms/step - loss: 1.6371 - accuracy: 0.4034\n"
          ]
        },
        {
          "output_type": "execute_result",
          "data": {
            "text/plain": [
              "[1.6370892524719238, 0.4034000039100647]"
            ]
          },
          "metadata": {},
          "execution_count": 114
        }
      ]
    },
    {
      "cell_type": "code",
      "source": [
        ""
      ],
      "metadata": {
        "id": "fb3KuIePx2U7"
      },
      "execution_count": 114,
      "outputs": []
    }
  ]
}