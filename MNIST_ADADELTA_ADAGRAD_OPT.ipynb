{
  "nbformat": 4,
  "nbformat_minor": 0,
  "metadata": {
    "colab": {
      "name": "MNIST --ADADELTA////ADAGRAD--OPT.ipynb",
      "provenance": [],
      "collapsed_sections": []
    },
    "kernelspec": {
      "name": "python3",
      "display_name": "Python 3"
    },
    "language_info": {
      "name": "python"
    },
    "accelerator": "GPU"
  },
  "cells": [
    {
      "cell_type": "code",
      "metadata": {
        "id": "BBwuJqS_WYc-"
      },
      "source": [
        "import tensorflow as tf\n",
        "from tensorflow import keras\n",
        "import matplotlib.pyplot as plt\n",
        "%matplotlib inline \n",
        "import numpy as np"
      ],
      "execution_count": 2,
      "outputs": []
    },
    {
      "cell_type": "code",
      "metadata": {
        "id": "AxFZjfcSWlBu",
        "colab": {
          "base_uri": "https://localhost:8080/"
        },
        "outputId": "a8991551-1599-4016-feae-6eb839b8b0bc"
      },
      "source": [
        "(x_train,y_train),(x_test,y_test) = keras.datasets.mnist.load_data()"
      ],
      "execution_count": 3,
      "outputs": [
        {
          "output_type": "stream",
          "name": "stdout",
          "text": [
            "Downloading data from https://storage.googleapis.com/tensorflow/tf-keras-datasets/mnist.npz\n",
            "11493376/11490434 [==============================] - 0s 0us/step\n",
            "11501568/11490434 [==============================] - 0s 0us/step\n"
          ]
        }
      ]
    },
    {
      "cell_type": "code",
      "metadata": {
        "id": "gt_ppM1OWnku"
      },
      "source": [
        "x_train=x_train/255\n",
        "x_test=x_test/255"
      ],
      "execution_count": 4,
      "outputs": []
    },
    {
      "cell_type": "code",
      "metadata": {
        "id": "3vop7KZYWqFA"
      },
      "source": [
        "x_train_flattened=x_train.reshape(len(x_train),28*28)"
      ],
      "execution_count": 5,
      "outputs": []
    },
    {
      "cell_type": "code",
      "metadata": {
        "id": "QxwnXK6pWs1T"
      },
      "source": [
        "x_test_flattened=x_test.reshape(len(x_test),28*28)"
      ],
      "execution_count": 6,
      "outputs": []
    },
    {
      "cell_type": "code",
      "metadata": {
        "colab": {
          "base_uri": "https://localhost:8080/"
        },
        "id": "VvNWkUEWXMK7",
        "outputId": "66182684-8873-4675-8ca0-1431b1cb38e3"
      },
      "source": [
        "model_Adadelta1=keras.Sequential([\n",
        "             keras.layers.Dense(10,input_shape=(784,),activation='sigmoid') , \n",
        "             keras.layers.Dense(100,input_shape=(784,),activation='sigmoid')  ,\n",
        "             keras.layers.Dense(1000,input_shape=(784,),activation='sigmoid')  ,\n",
        "             keras.layers.Dense(1000,input_shape=(784,),activation='sigmoid')  \n",
        "                \n",
        "])\n",
        "model_Adadelta1.compile(\n",
        "    optimizer='Adadelta',\n",
        "    loss='sparse_categorical_crossentropy',\n",
        "    metrics=['accuracy']\n",
        "\n",
        ")\n",
        "model_Adadelta1.fit(x_train_flattened,y_train,epochs=5)"
      ],
      "execution_count": null,
      "outputs": [
        {
          "output_type": "stream",
          "name": "stdout",
          "text": [
            "Epoch 1/5\n",
            "1875/1875 [==============================] - 11s 5ms/step - loss: 6.1930 - accuracy: 0.0659\n",
            "Epoch 2/5\n",
            "1875/1875 [==============================] - 9s 5ms/step - loss: 4.4031 - accuracy: 0.1078\n",
            "Epoch 3/5\n",
            "1875/1875 [==============================] - 9s 5ms/step - loss: 3.2321 - accuracy: 0.1124\n",
            "Epoch 4/5\n",
            "1875/1875 [==============================] - 9s 5ms/step - loss: 2.7247 - accuracy: 0.1124\n",
            "Epoch 5/5\n",
            "1875/1875 [==============================] - 9s 5ms/step - loss: 2.5301 - accuracy: 0.1124\n"
          ]
        },
        {
          "output_type": "execute_result",
          "data": {
            "text/plain": [
              "<keras.callbacks.History at 0x7fc1603a1c50>"
            ]
          },
          "metadata": {},
          "execution_count": 6
        }
      ]
    },
    {
      "cell_type": "code",
      "metadata": {
        "colab": {
          "base_uri": "https://localhost:8080/"
        },
        "id": "z_gDjvCaXf7N",
        "outputId": "d0705dc8-3646-461a-8c93-d8bae2e495e1"
      },
      "source": [
        "model_Adadelta2=keras.Sequential([\n",
        "             keras.layers.Dense(10,input_shape=(784,),activation='sigmoid') , \n",
        "             keras.layers.Dense(100,input_shape=(784,),activation='sigmoid')  ,\n",
        "             keras.layers.Dense(1000,input_shape=(784,),activation='sigmoid')  ,\n",
        "             keras.layers.Dense(1000,input_shape=(784,),activation='sigmoid')  \n",
        "                \n",
        "])\n",
        "model_Adadelta2.compile(\n",
        "    optimizer='Adadelta',\n",
        "    loss='sparse_categorical_crossentropy',\n",
        "    metrics=['accuracy']\n",
        "\n",
        ")\n",
        "model_Adadelta2.fit(x_train_flattened,y_train,epochs=20)"
      ],
      "execution_count": null,
      "outputs": [
        {
          "output_type": "stream",
          "name": "stdout",
          "text": [
            "Epoch 1/20\n",
            "1875/1875 [==============================] - 9s 5ms/step - loss: 5.9242 - accuracy: 0.0798\n",
            "Epoch 2/20\n",
            "1875/1875 [==============================] - 9s 5ms/step - loss: 4.1987 - accuracy: 0.0993\n",
            "Epoch 3/20\n",
            "1875/1875 [==============================] - 9s 5ms/step - loss: 3.1311 - accuracy: 0.1001\n",
            "Epoch 4/20\n",
            "1875/1875 [==============================] - 9s 5ms/step - loss: 2.6833 - accuracy: 0.1124\n",
            "Epoch 5/20\n",
            "1875/1875 [==============================] - 9s 5ms/step - loss: 2.5132 - accuracy: 0.1124\n",
            "Epoch 6/20\n",
            "1875/1875 [==============================] - 9s 5ms/step - loss: 2.4403 - accuracy: 0.1124\n",
            "Epoch 7/20\n",
            "1875/1875 [==============================] - 9s 5ms/step - loss: 2.4027 - accuracy: 0.1124\n",
            "Epoch 8/20\n",
            "1875/1875 [==============================] - 9s 5ms/step - loss: 2.3804 - accuracy: 0.1124\n",
            "Epoch 9/20\n",
            "1875/1875 [==============================] - 9s 5ms/step - loss: 2.3659 - accuracy: 0.1124\n",
            "Epoch 10/20\n",
            "1875/1875 [==============================] - 9s 5ms/step - loss: 2.3558 - accuracy: 0.1124\n",
            "Epoch 11/20\n",
            "1875/1875 [==============================] - 9s 5ms/step - loss: 2.3483 - accuracy: 0.1124\n",
            "Epoch 12/20\n",
            "1875/1875 [==============================] - 9s 5ms/step - loss: 2.3425 - accuracy: 0.1124\n",
            "Epoch 13/20\n",
            "1875/1875 [==============================] - 9s 5ms/step - loss: 2.3380 - accuracy: 0.1124\n",
            "Epoch 14/20\n",
            "1875/1875 [==============================] - 9s 5ms/step - loss: 2.3343 - accuracy: 0.1124\n",
            "Epoch 15/20\n",
            "1875/1875 [==============================] - 9s 5ms/step - loss: 2.3313 - accuracy: 0.1124\n",
            "Epoch 16/20\n",
            "1875/1875 [==============================] - 9s 5ms/step - loss: 2.3288 - accuracy: 0.1124\n",
            "Epoch 17/20\n",
            "1875/1875 [==============================] - 9s 5ms/step - loss: 2.3267 - accuracy: 0.1124\n",
            "Epoch 18/20\n",
            "1875/1875 [==============================] - 9s 5ms/step - loss: 2.3248 - accuracy: 0.1124\n",
            "Epoch 19/20\n",
            "1875/1875 [==============================] - 9s 5ms/step - loss: 2.3233 - accuracy: 0.1124\n",
            "Epoch 20/20\n",
            "1875/1875 [==============================] - 9s 5ms/step - loss: 2.3219 - accuracy: 0.1124\n"
          ]
        },
        {
          "output_type": "execute_result",
          "data": {
            "text/plain": [
              "<keras.callbacks.History at 0x7fc160164ad0>"
            ]
          },
          "metadata": {},
          "execution_count": 7
        }
      ]
    },
    {
      "cell_type": "code",
      "metadata": {
        "colab": {
          "base_uri": "https://localhost:8080/"
        },
        "id": "NZF6ov6qXlSE",
        "outputId": "df625f67-1602-4d30-cad0-caecec791f50"
      },
      "source": [
        "model_Adadelta3=keras.Sequential([\n",
        "             keras.layers.Dense(10,input_shape=(784,),activation='sigmoid') , \n",
        "             keras.layers.Dense(100,input_shape=(784,),activation='sigmoid')  ,\n",
        "             keras.layers.Dense(1000,input_shape=(784,),activation='sigmoid')  ,\n",
        "             keras.layers.Dense(1000,input_shape=(784,),activation='sigmoid')  \n",
        "                \n",
        "])\n",
        "model_Adadelta3.compile(\n",
        "    optimizer='Adadelta',\n",
        "    loss='sparse_categorical_crossentropy',\n",
        "    metrics=['accuracy']\n",
        "\n",
        ")\n",
        "model_Adadelta3.fit(x_train_flattened,y_train,epochs=50)"
      ],
      "execution_count": null,
      "outputs": [
        {
          "output_type": "stream",
          "name": "stdout",
          "text": [
            "Epoch 1/50\n",
            "1875/1875 [==============================] - 9s 5ms/step - loss: 6.2347 - accuracy: 0.0623\n",
            "Epoch 2/50\n",
            "1875/1875 [==============================] - 9s 5ms/step - loss: 4.4350 - accuracy: 0.1022\n",
            "Epoch 3/50\n",
            "1875/1875 [==============================] - 9s 5ms/step - loss: 3.2366 - accuracy: 0.1022\n",
            "Epoch 4/50\n",
            "1875/1875 [==============================] - 9s 5ms/step - loss: 2.7245 - accuracy: 0.1067\n",
            "Epoch 5/50\n",
            "1875/1875 [==============================] - 9s 5ms/step - loss: 2.5315 - accuracy: 0.1124\n",
            "Epoch 6/50\n",
            "1875/1875 [==============================] - 9s 5ms/step - loss: 2.4497 - accuracy: 0.1124\n",
            "Epoch 7/50\n",
            "1875/1875 [==============================] - 9s 5ms/step - loss: 2.4081 - accuracy: 0.1124\n",
            "Epoch 8/50\n",
            "1875/1875 [==============================] - 9s 5ms/step - loss: 2.3839 - accuracy: 0.1124\n",
            "Epoch 9/50\n",
            "1875/1875 [==============================] - 9s 5ms/step - loss: 2.3683 - accuracy: 0.1124\n",
            "Epoch 10/50\n",
            "1875/1875 [==============================] - 9s 5ms/step - loss: 2.3575 - accuracy: 0.1124\n",
            "Epoch 11/50\n",
            "1875/1875 [==============================] - 9s 5ms/step - loss: 2.3496 - accuracy: 0.1124\n",
            "Epoch 12/50\n",
            "1875/1875 [==============================] - 9s 5ms/step - loss: 2.3435 - accuracy: 0.1124\n",
            "Epoch 13/50\n",
            "1875/1875 [==============================] - 9s 5ms/step - loss: 2.3387 - accuracy: 0.1124\n",
            "Epoch 14/50\n",
            "1875/1875 [==============================] - 9s 5ms/step - loss: 2.3348 - accuracy: 0.1124\n",
            "Epoch 15/50\n",
            "1875/1875 [==============================] - 9s 5ms/step - loss: 2.3317 - accuracy: 0.1124\n",
            "Epoch 16/50\n",
            "1875/1875 [==============================] - 9s 5ms/step - loss: 2.3291 - accuracy: 0.1124\n",
            "Epoch 17/50\n",
            "1875/1875 [==============================] - 9s 5ms/step - loss: 2.3269 - accuracy: 0.1124\n",
            "Epoch 18/50\n",
            "1875/1875 [==============================] - 9s 5ms/step - loss: 2.3250 - accuracy: 0.1124\n",
            "Epoch 19/50\n",
            "1875/1875 [==============================] - 9s 5ms/step - loss: 2.3234 - accuracy: 0.1124\n",
            "Epoch 20/50\n",
            "1875/1875 [==============================] - 9s 5ms/step - loss: 2.3219 - accuracy: 0.1124\n",
            "Epoch 21/50\n",
            "1875/1875 [==============================] - 9s 5ms/step - loss: 2.3207 - accuracy: 0.1124\n",
            "Epoch 22/50\n",
            "1875/1875 [==============================] - 9s 5ms/step - loss: 2.3195 - accuracy: 0.1124\n",
            "Epoch 23/50\n",
            "1875/1875 [==============================] - 9s 5ms/step - loss: 2.3185 - accuracy: 0.1124\n",
            "Epoch 24/50\n",
            "1875/1875 [==============================] - 9s 5ms/step - loss: 2.3176 - accuracy: 0.1124\n",
            "Epoch 25/50\n",
            "1875/1875 [==============================] - 9s 5ms/step - loss: 2.3168 - accuracy: 0.1124\n",
            "Epoch 26/50\n",
            "1875/1875 [==============================] - 9s 5ms/step - loss: 2.3160 - accuracy: 0.1124\n",
            "Epoch 27/50\n",
            "1875/1875 [==============================] - 9s 5ms/step - loss: 2.3154 - accuracy: 0.1124\n",
            "Epoch 28/50\n",
            "1875/1875 [==============================] - 9s 5ms/step - loss: 2.3147 - accuracy: 0.1124\n",
            "Epoch 29/50\n",
            "1875/1875 [==============================] - 9s 5ms/step - loss: 2.3141 - accuracy: 0.1124\n",
            "Epoch 30/50\n",
            "1875/1875 [==============================] - 9s 5ms/step - loss: 2.3135 - accuracy: 0.1124\n",
            "Epoch 31/50\n",
            "1875/1875 [==============================] - 9s 5ms/step - loss: 2.3130 - accuracy: 0.1124\n",
            "Epoch 32/50\n",
            "1875/1875 [==============================] - 9s 5ms/step - loss: 2.3125 - accuracy: 0.1124\n",
            "Epoch 33/50\n",
            "1875/1875 [==============================] - 9s 5ms/step - loss: 2.3121 - accuracy: 0.1124\n",
            "Epoch 34/50\n",
            "1875/1875 [==============================] - 9s 5ms/step - loss: 2.3117 - accuracy: 0.1124\n",
            "Epoch 35/50\n",
            "1875/1875 [==============================] - 9s 5ms/step - loss: 2.3113 - accuracy: 0.1124\n",
            "Epoch 36/50\n",
            "1875/1875 [==============================] - 9s 5ms/step - loss: 2.3109 - accuracy: 0.1124\n",
            "Epoch 37/50\n",
            "1875/1875 [==============================] - 9s 5ms/step - loss: 2.3105 - accuracy: 0.1124\n",
            "Epoch 38/50\n",
            "1875/1875 [==============================] - 9s 5ms/step - loss: 2.3101 - accuracy: 0.1124\n",
            "Epoch 39/50\n",
            "1875/1875 [==============================] - 9s 5ms/step - loss: 2.3098 - accuracy: 0.1124\n",
            "Epoch 40/50\n",
            "1875/1875 [==============================] - 9s 5ms/step - loss: 2.3095 - accuracy: 0.1124\n",
            "Epoch 41/50\n",
            "1875/1875 [==============================] - 9s 5ms/step - loss: 2.3092 - accuracy: 0.1124\n",
            "Epoch 42/50\n",
            "1875/1875 [==============================] - 9s 5ms/step - loss: 2.3089 - accuracy: 0.1124\n",
            "Epoch 43/50\n",
            "1875/1875 [==============================] - 9s 5ms/step - loss: 2.3086 - accuracy: 0.1124\n",
            "Epoch 44/50\n",
            "1875/1875 [==============================] - 9s 5ms/step - loss: 2.3083 - accuracy: 0.1124\n",
            "Epoch 45/50\n",
            "1875/1875 [==============================] - 9s 5ms/step - loss: 2.3080 - accuracy: 0.1124\n",
            "Epoch 46/50\n",
            "1875/1875 [==============================] - 9s 5ms/step - loss: 2.3078 - accuracy: 0.1124\n",
            "Epoch 47/50\n",
            "1875/1875 [==============================] - 9s 5ms/step - loss: 2.3076 - accuracy: 0.1124\n",
            "Epoch 48/50\n",
            "1875/1875 [==============================] - 9s 5ms/step - loss: 2.3073 - accuracy: 0.1124\n",
            "Epoch 49/50\n",
            "1875/1875 [==============================] - 9s 5ms/step - loss: 2.3071 - accuracy: 0.1124\n",
            "Epoch 50/50\n",
            "1875/1875 [==============================] - 9s 5ms/step - loss: 2.3068 - accuracy: 0.1124\n"
          ]
        },
        {
          "output_type": "execute_result",
          "data": {
            "text/plain": [
              "<keras.callbacks.History at 0x7fc160079b90>"
            ]
          },
          "metadata": {},
          "execution_count": 8
        }
      ]
    },
    {
      "cell_type": "code",
      "metadata": {
        "colab": {
          "base_uri": "https://localhost:8080/"
        },
        "id": "HidPi2bjXpZO",
        "outputId": "2a353df1-4b54-4d00-c2f9-9a3dc9cf0699"
      },
      "source": [
        "model_Adadelta4=keras.Sequential([\n",
        "             keras.layers.Dense(10,input_shape=(784,),activation='sigmoid') , \n",
        "             keras.layers.Dense(100,input_shape=(784,),activation='sigmoid')  ,\n",
        "             keras.layers.Dense(1000,input_shape=(784,),activation='sigmoid')  ,\n",
        "             keras.layers.Dense(1000,input_shape=(784,),activation='sigmoid')  \n",
        "                \n",
        "])\n",
        "model_Adadelta4.compile(\n",
        "    optimizer='Adadelta',\n",
        "    loss='sparse_categorical_crossentropy',\n",
        "    metrics=['accuracy']\n",
        "\n",
        ")\n",
        "model_Adadelta4.fit(x_train_flattened,y_train,epochs=70)"
      ],
      "execution_count": null,
      "outputs": [
        {
          "output_type": "stream",
          "name": "stdout",
          "text": [
            "Epoch 1/70\n",
            "1875/1875 [==============================] - 9s 5ms/step - loss: 5.7711 - accuracy: 0.0844\n",
            "Epoch 2/70\n",
            "1875/1875 [==============================] - 9s 5ms/step - loss: 4.0667 - accuracy: 0.0974\n",
            "Epoch 3/70\n",
            "1875/1875 [==============================] - 9s 5ms/step - loss: 3.0578 - accuracy: 0.0974\n",
            "Epoch 4/70\n",
            "1875/1875 [==============================] - 9s 5ms/step - loss: 2.6520 - accuracy: 0.1040\n",
            "Epoch 5/70\n",
            "1875/1875 [==============================] - 8s 5ms/step - loss: 2.5005 - accuracy: 0.1107\n",
            "Epoch 6/70\n",
            "1875/1875 [==============================] - 9s 5ms/step - loss: 2.4338 - accuracy: 0.1124\n",
            "Epoch 7/70\n",
            "1875/1875 [==============================] - 9s 5ms/step - loss: 2.3987 - accuracy: 0.1124\n",
            "Epoch 8/70\n",
            "1875/1875 [==============================] - 9s 5ms/step - loss: 2.3774 - accuracy: 0.1124\n",
            "Epoch 9/70\n",
            "1875/1875 [==============================] - 9s 5ms/step - loss: 2.3636 - accuracy: 0.1124\n",
            "Epoch 10/70\n",
            "1875/1875 [==============================] - 8s 5ms/step - loss: 2.3538 - accuracy: 0.1124\n",
            "Epoch 11/70\n",
            "1875/1875 [==============================] - 9s 5ms/step - loss: 2.3466 - accuracy: 0.1124\n",
            "Epoch 12/70\n",
            "1875/1875 [==============================] - 9s 5ms/step - loss: 2.3410 - accuracy: 0.1124\n",
            "Epoch 13/70\n",
            "1875/1875 [==============================] - 9s 5ms/step - loss: 2.3366 - accuracy: 0.1124\n",
            "Epoch 14/70\n",
            "1875/1875 [==============================] - 9s 5ms/step - loss: 2.3330 - accuracy: 0.1124\n",
            "Epoch 15/70\n",
            "1875/1875 [==============================] - 9s 5ms/step - loss: 2.3301 - accuracy: 0.1124\n",
            "Epoch 16/70\n",
            "1875/1875 [==============================] - 9s 5ms/step - loss: 2.3277 - accuracy: 0.1124\n",
            "Epoch 17/70\n",
            "1875/1875 [==============================] - 9s 5ms/step - loss: 2.3256 - accuracy: 0.1124\n",
            "Epoch 18/70\n",
            "1875/1875 [==============================] - 9s 5ms/step - loss: 2.3239 - accuracy: 0.1124\n",
            "Epoch 19/70\n",
            "1875/1875 [==============================] - 9s 5ms/step - loss: 2.3223 - accuracy: 0.1124\n",
            "Epoch 20/70\n",
            "1875/1875 [==============================] - 9s 5ms/step - loss: 2.3210 - accuracy: 0.1124\n",
            "Epoch 21/70\n",
            "1875/1875 [==============================] - 9s 5ms/step - loss: 2.3198 - accuracy: 0.1124\n",
            "Epoch 22/70\n",
            "1875/1875 [==============================] - 9s 5ms/step - loss: 2.3187 - accuracy: 0.1124\n",
            "Epoch 23/70\n",
            "1875/1875 [==============================] - 9s 5ms/step - loss: 2.3178 - accuracy: 0.1124\n",
            "Epoch 24/70\n",
            "1875/1875 [==============================] - 9s 5ms/step - loss: 2.3169 - accuracy: 0.1124\n",
            "Epoch 25/70\n",
            "1875/1875 [==============================] - 9s 5ms/step - loss: 2.3161 - accuracy: 0.1124\n",
            "Epoch 26/70\n",
            "1875/1875 [==============================] - 9s 5ms/step - loss: 2.3153 - accuracy: 0.1124\n",
            "Epoch 27/70\n",
            "1875/1875 [==============================] - 9s 5ms/step - loss: 2.3147 - accuracy: 0.1124\n",
            "Epoch 28/70\n",
            "1875/1875 [==============================] - 9s 5ms/step - loss: 2.3141 - accuracy: 0.1124\n",
            "Epoch 29/70\n",
            "1875/1875 [==============================] - 9s 5ms/step - loss: 2.3135 - accuracy: 0.1124\n",
            "Epoch 30/70\n",
            "1875/1875 [==============================] - 9s 5ms/step - loss: 2.3129 - accuracy: 0.1124\n",
            "Epoch 31/70\n",
            "1875/1875 [==============================] - 9s 5ms/step - loss: 2.3125 - accuracy: 0.1124\n",
            "Epoch 32/70\n",
            "1875/1875 [==============================] - 9s 5ms/step - loss: 2.3119 - accuracy: 0.1124\n",
            "Epoch 33/70\n",
            "1875/1875 [==============================] - 9s 5ms/step - loss: 2.3115 - accuracy: 0.1124\n",
            "Epoch 34/70\n",
            "1875/1875 [==============================] - 9s 5ms/step - loss: 2.3111 - accuracy: 0.1124\n",
            "Epoch 35/70\n",
            "1875/1875 [==============================] - 9s 5ms/step - loss: 2.3107 - accuracy: 0.1124\n",
            "Epoch 36/70\n",
            "1875/1875 [==============================] - 9s 5ms/step - loss: 2.3104 - accuracy: 0.1124\n",
            "Epoch 37/70\n",
            "1875/1875 [==============================] - 9s 5ms/step - loss: 2.3100 - accuracy: 0.1124\n",
            "Epoch 38/70\n",
            "1875/1875 [==============================] - 9s 5ms/step - loss: 2.3097 - accuracy: 0.1124\n",
            "Epoch 39/70\n",
            "1875/1875 [==============================] - 9s 5ms/step - loss: 2.3094 - accuracy: 0.1124\n",
            "Epoch 40/70\n",
            "1875/1875 [==============================] - 9s 5ms/step - loss: 2.3090 - accuracy: 0.1124\n",
            "Epoch 41/70\n",
            "1875/1875 [==============================] - 9s 5ms/step - loss: 2.3087 - accuracy: 0.1124\n",
            "Epoch 42/70\n",
            "1875/1875 [==============================] - 9s 5ms/step - loss: 2.3084 - accuracy: 0.1124\n",
            "Epoch 43/70\n",
            "1875/1875 [==============================] - 9s 5ms/step - loss: 2.3081 - accuracy: 0.1124\n",
            "Epoch 44/70\n",
            "1875/1875 [==============================] - 9s 5ms/step - loss: 2.3079 - accuracy: 0.1124\n",
            "Epoch 45/70\n",
            "1875/1875 [==============================] - 9s 5ms/step - loss: 2.3076 - accuracy: 0.1124\n",
            "Epoch 46/70\n",
            "1875/1875 [==============================] - 9s 5ms/step - loss: 2.3073 - accuracy: 0.1124\n",
            "Epoch 47/70\n",
            "1875/1875 [==============================] - 9s 5ms/step - loss: 2.3071 - accuracy: 0.1124\n",
            "Epoch 48/70\n",
            "1875/1875 [==============================] - 8s 5ms/step - loss: 2.3068 - accuracy: 0.1124\n",
            "Epoch 49/70\n",
            "1875/1875 [==============================] - 9s 5ms/step - loss: 2.3066 - accuracy: 0.1124\n",
            "Epoch 50/70\n",
            "1875/1875 [==============================] - 9s 5ms/step - loss: 2.3064 - accuracy: 0.1124\n",
            "Epoch 51/70\n",
            "1875/1875 [==============================] - 9s 5ms/step - loss: 2.3061 - accuracy: 0.1124\n",
            "Epoch 52/70\n",
            "1875/1875 [==============================] - 9s 5ms/step - loss: 2.3059 - accuracy: 0.1124\n",
            "Epoch 53/70\n",
            "1875/1875 [==============================] - 9s 5ms/step - loss: 2.3056 - accuracy: 0.1124\n",
            "Epoch 54/70\n",
            "1875/1875 [==============================] - 9s 5ms/step - loss: 2.3054 - accuracy: 0.1124\n",
            "Epoch 55/70\n",
            "1875/1875 [==============================] - 9s 5ms/step - loss: 2.3052 - accuracy: 0.1124\n",
            "Epoch 56/70\n",
            "1875/1875 [==============================] - 9s 5ms/step - loss: 2.3049 - accuracy: 0.1124\n",
            "Epoch 57/70\n",
            "1875/1875 [==============================] - 9s 5ms/step - loss: 2.3047 - accuracy: 0.1124\n",
            "Epoch 58/70\n",
            "1875/1875 [==============================] - 9s 5ms/step - loss: 2.3045 - accuracy: 0.1124\n",
            "Epoch 59/70\n",
            "1875/1875 [==============================] - 9s 5ms/step - loss: 2.3042 - accuracy: 0.1124\n",
            "Epoch 60/70\n",
            "1875/1875 [==============================] - 9s 5ms/step - loss: 2.3040 - accuracy: 0.1124\n",
            "Epoch 61/70\n",
            "1875/1875 [==============================] - 9s 5ms/step - loss: 2.3038 - accuracy: 0.1124\n",
            "Epoch 62/70\n",
            "1875/1875 [==============================] - 9s 5ms/step - loss: 2.3036 - accuracy: 0.1124\n",
            "Epoch 63/70\n",
            "1875/1875 [==============================] - 9s 5ms/step - loss: 2.3033 - accuracy: 0.1124\n",
            "Epoch 64/70\n",
            "1875/1875 [==============================] - 9s 5ms/step - loss: 2.3031 - accuracy: 0.1124\n",
            "Epoch 65/70\n",
            "1875/1875 [==============================] - 9s 5ms/step - loss: 2.3029 - accuracy: 0.1124\n",
            "Epoch 66/70\n",
            "1875/1875 [==============================] - 9s 5ms/step - loss: 2.3026 - accuracy: 0.1124\n",
            "Epoch 67/70\n",
            "1875/1875 [==============================] - 9s 5ms/step - loss: 2.3024 - accuracy: 0.1124\n",
            "Epoch 68/70\n",
            "1875/1875 [==============================] - 9s 5ms/step - loss: 2.3021 - accuracy: 0.1124\n",
            "Epoch 69/70\n",
            "1875/1875 [==============================] - 9s 5ms/step - loss: 2.3019 - accuracy: 0.1124\n",
            "Epoch 70/70\n",
            "1875/1875 [==============================] - 9s 5ms/step - loss: 2.3016 - accuracy: 0.1124\n"
          ]
        },
        {
          "output_type": "execute_result",
          "data": {
            "text/plain": [
              "<keras.callbacks.History at 0x7fc1230f2b10>"
            ]
          },
          "metadata": {},
          "execution_count": 9
        }
      ]
    },
    {
      "cell_type": "code",
      "metadata": {
        "colab": {
          "base_uri": "https://localhost:8080/"
        },
        "id": "gxPuPeCnXtlL",
        "outputId": "1080b640-85bf-474b-df70-58782faa20ef"
      },
      "source": [
        "model_Adadelta5=keras.Sequential([\n",
        "             keras.layers.Dense(10,input_shape=(784,),activation='sigmoid') , \n",
        "             keras.layers.Dense(100,input_shape=(784,),activation='sigmoid')  ,\n",
        "             keras.layers.Dense(1000,input_shape=(784,),activation='sigmoid')  ,\n",
        "             keras.layers.Dense(1000,input_shape=(784,),activation='sigmoid')  \n",
        "                \n",
        "])\n",
        "model_Adadelta5.compile(\n",
        "    optimizer='Adadelta',\n",
        "    loss='sparse_categorical_crossentropy',\n",
        "    metrics=['accuracy']\n",
        "\n",
        ")\n",
        "model_Adadelta5.fit(x_train_flattened,y_train,epochs=100)"
      ],
      "execution_count": null,
      "outputs": [
        {
          "output_type": "stream",
          "name": "stdout",
          "text": [
            "Epoch 1/100\n",
            "1875/1875 [==============================] - 9s 5ms/step - loss: 6.0073 - accuracy: 0.0739\n",
            "Epoch 2/100\n",
            "1875/1875 [==============================] - 9s 5ms/step - loss: 4.2449 - accuracy: 0.0993\n",
            "Epoch 3/100\n",
            "1875/1875 [==============================] - 8s 5ms/step - loss: 3.1301 - accuracy: 0.0993\n",
            "Epoch 4/100\n",
            "1875/1875 [==============================] - 9s 5ms/step - loss: 2.6786 - accuracy: 0.1074\n",
            "Epoch 5/100\n",
            "1875/1875 [==============================] - 9s 5ms/step - loss: 2.5117 - accuracy: 0.1124\n",
            "Epoch 6/100\n",
            "1875/1875 [==============================] - 9s 5ms/step - loss: 2.4400 - accuracy: 0.1124\n",
            "Epoch 7/100\n",
            "1875/1875 [==============================] - 9s 5ms/step - loss: 2.4027 - accuracy: 0.1124\n",
            "Epoch 8/100\n",
            "1875/1875 [==============================] - 9s 5ms/step - loss: 2.3803 - accuracy: 0.1124\n",
            "Epoch 9/100\n",
            "1875/1875 [==============================] - 9s 5ms/step - loss: 2.3657 - accuracy: 0.1124\n",
            "Epoch 10/100\n",
            "1875/1875 [==============================] - 8s 5ms/step - loss: 2.3556 - accuracy: 0.1124\n",
            "Epoch 11/100\n",
            "1875/1875 [==============================] - 9s 5ms/step - loss: 2.3481 - accuracy: 0.1124\n",
            "Epoch 12/100\n",
            "1875/1875 [==============================] - 9s 5ms/step - loss: 2.3424 - accuracy: 0.1124\n",
            "Epoch 13/100\n",
            "1875/1875 [==============================] - 9s 5ms/step - loss: 2.3378 - accuracy: 0.1124\n",
            "Epoch 14/100\n",
            "1875/1875 [==============================] - 9s 5ms/step - loss: 2.3342 - accuracy: 0.1124\n",
            "Epoch 15/100\n",
            "1875/1875 [==============================] - 9s 5ms/step - loss: 2.3312 - accuracy: 0.1124\n",
            "Epoch 16/100\n",
            "1875/1875 [==============================] - 9s 5ms/step - loss: 2.3287 - accuracy: 0.1124\n",
            "Epoch 17/100\n",
            "1875/1875 [==============================] - 9s 5ms/step - loss: 2.3265 - accuracy: 0.1124\n",
            "Epoch 18/100\n",
            "1875/1875 [==============================] - 9s 5ms/step - loss: 2.3247 - accuracy: 0.1124\n",
            "Epoch 19/100\n",
            "1875/1875 [==============================] - 8s 5ms/step - loss: 2.3231 - accuracy: 0.1124\n",
            "Epoch 20/100\n",
            "1875/1875 [==============================] - 9s 5ms/step - loss: 2.3217 - accuracy: 0.1124\n",
            "Epoch 21/100\n",
            "1875/1875 [==============================] - 9s 5ms/step - loss: 2.3204 - accuracy: 0.1124\n",
            "Epoch 22/100\n",
            "1875/1875 [==============================] - 9s 5ms/step - loss: 2.3193 - accuracy: 0.1124\n",
            "Epoch 23/100\n",
            "1875/1875 [==============================] - 9s 5ms/step - loss: 2.3183 - accuracy: 0.1124\n",
            "Epoch 24/100\n",
            "1875/1875 [==============================] - 9s 5ms/step - loss: 2.3174 - accuracy: 0.1124\n",
            "Epoch 25/100\n",
            "1875/1875 [==============================] - 9s 5ms/step - loss: 2.3166 - accuracy: 0.1124\n",
            "Epoch 26/100\n",
            "1875/1875 [==============================] - 8s 5ms/step - loss: 2.3159 - accuracy: 0.1124\n",
            "Epoch 27/100\n",
            "1875/1875 [==============================] - 9s 5ms/step - loss: 2.3152 - accuracy: 0.1124\n",
            "Epoch 28/100\n",
            "1875/1875 [==============================] - 9s 5ms/step - loss: 2.3145 - accuracy: 0.1124\n",
            "Epoch 29/100\n",
            "1875/1875 [==============================] - 8s 5ms/step - loss: 2.3139 - accuracy: 0.1124\n",
            "Epoch 30/100\n",
            "1875/1875 [==============================] - 9s 5ms/step - loss: 2.3134 - accuracy: 0.1124\n",
            "Epoch 31/100\n",
            "1875/1875 [==============================] - 9s 5ms/step - loss: 2.3129 - accuracy: 0.1124\n",
            "Epoch 32/100\n",
            "1875/1875 [==============================] - 9s 5ms/step - loss: 2.3124 - accuracy: 0.1124\n",
            "Epoch 33/100\n",
            "1875/1875 [==============================] - 9s 5ms/step - loss: 2.3120 - accuracy: 0.1124\n",
            "Epoch 34/100\n",
            "1875/1875 [==============================] - 8s 5ms/step - loss: 2.3115 - accuracy: 0.1124\n",
            "Epoch 35/100\n",
            "1875/1875 [==============================] - 8s 5ms/step - loss: 2.3111 - accuracy: 0.1124\n",
            "Epoch 36/100\n",
            "1875/1875 [==============================] - 8s 5ms/step - loss: 2.3107 - accuracy: 0.1124\n",
            "Epoch 37/100\n",
            "1875/1875 [==============================] - 8s 5ms/step - loss: 2.3104 - accuracy: 0.1124\n",
            "Epoch 38/100\n",
            "1875/1875 [==============================] - 8s 4ms/step - loss: 2.3100 - accuracy: 0.1124\n",
            "Epoch 39/100\n",
            "1875/1875 [==============================] - 9s 5ms/step - loss: 2.3097 - accuracy: 0.1124\n",
            "Epoch 40/100\n",
            "1875/1875 [==============================] - 9s 5ms/step - loss: 2.3094 - accuracy: 0.1124\n",
            "Epoch 41/100\n",
            "1875/1875 [==============================] - 8s 5ms/step - loss: 2.3091 - accuracy: 0.1124\n",
            "Epoch 42/100\n",
            "1875/1875 [==============================] - 9s 5ms/step - loss: 2.3088 - accuracy: 0.1124\n",
            "Epoch 43/100\n",
            "1875/1875 [==============================] - 9s 5ms/step - loss: 2.3085 - accuracy: 0.1124\n",
            "Epoch 44/100\n",
            "1875/1875 [==============================] - 8s 5ms/step - loss: 2.3082 - accuracy: 0.1124\n",
            "Epoch 45/100\n",
            "1875/1875 [==============================] - 8s 5ms/step - loss: 2.3079 - accuracy: 0.1124\n",
            "Epoch 46/100\n",
            "1875/1875 [==============================] - 9s 5ms/step - loss: 2.3077 - accuracy: 0.1124\n",
            "Epoch 47/100\n",
            "1875/1875 [==============================] - 9s 5ms/step - loss: 2.3074 - accuracy: 0.1124\n",
            "Epoch 48/100\n",
            "1875/1875 [==============================] - 8s 5ms/step - loss: 2.3072 - accuracy: 0.1124\n",
            "Epoch 49/100\n",
            "1875/1875 [==============================] - 9s 5ms/step - loss: 2.3069 - accuracy: 0.1124\n",
            "Epoch 50/100\n",
            "1875/1875 [==============================] - 9s 5ms/step - loss: 2.3066 - accuracy: 0.1124\n",
            "Epoch 51/100\n",
            "1875/1875 [==============================] - 9s 5ms/step - loss: 2.3064 - accuracy: 0.1124\n",
            "Epoch 52/100\n",
            "1875/1875 [==============================] - 8s 5ms/step - loss: 2.3062 - accuracy: 0.1124\n",
            "Epoch 53/100\n",
            "1875/1875 [==============================] - 9s 5ms/step - loss: 2.3059 - accuracy: 0.1124\n",
            "Epoch 54/100\n",
            "1875/1875 [==============================] - 8s 5ms/step - loss: 2.3057 - accuracy: 0.1124\n",
            "Epoch 55/100\n",
            "1875/1875 [==============================] - 9s 5ms/step - loss: 2.3055 - accuracy: 0.1124\n",
            "Epoch 56/100\n",
            "1875/1875 [==============================] - 8s 5ms/step - loss: 2.3052 - accuracy: 0.1124\n",
            "Epoch 57/100\n",
            "1875/1875 [==============================] - 8s 5ms/step - loss: 2.3050 - accuracy: 0.1124\n",
            "Epoch 58/100\n",
            "1875/1875 [==============================] - 9s 5ms/step - loss: 2.3047 - accuracy: 0.1124\n",
            "Epoch 59/100\n",
            "1875/1875 [==============================] - 8s 5ms/step - loss: 2.3045 - accuracy: 0.1124\n",
            "Epoch 60/100\n",
            "1875/1875 [==============================] - 9s 5ms/step - loss: 2.3043 - accuracy: 0.1124\n",
            "Epoch 61/100\n",
            "1875/1875 [==============================] - 9s 5ms/step - loss: 2.3041 - accuracy: 0.1124\n",
            "Epoch 62/100\n",
            "1875/1875 [==============================] - 9s 5ms/step - loss: 2.3039 - accuracy: 0.1124\n",
            "Epoch 63/100\n",
            "1875/1875 [==============================] - 9s 5ms/step - loss: 2.3036 - accuracy: 0.1124\n",
            "Epoch 64/100\n",
            "1875/1875 [==============================] - 9s 5ms/step - loss: 2.3034 - accuracy: 0.1124\n",
            "Epoch 65/100\n",
            "1875/1875 [==============================] - 8s 5ms/step - loss: 2.3032 - accuracy: 0.1124\n",
            "Epoch 66/100\n",
            "1875/1875 [==============================] - 9s 5ms/step - loss: 2.3029 - accuracy: 0.1124\n",
            "Epoch 67/100\n",
            "1875/1875 [==============================] - 9s 5ms/step - loss: 2.3027 - accuracy: 0.1124\n",
            "Epoch 68/100\n",
            "1875/1875 [==============================] - 8s 5ms/step - loss: 2.3024 - accuracy: 0.1124\n",
            "Epoch 69/100\n",
            "1875/1875 [==============================] - 9s 5ms/step - loss: 2.3022 - accuracy: 0.1124\n",
            "Epoch 70/100\n",
            "1875/1875 [==============================] - 9s 5ms/step - loss: 2.3019 - accuracy: 0.1124\n",
            "Epoch 71/100\n",
            "1875/1875 [==============================] - 9s 5ms/step - loss: 2.3017 - accuracy: 0.1124\n",
            "Epoch 72/100\n",
            "1875/1875 [==============================] - 9s 5ms/step - loss: 2.3014 - accuracy: 0.1124\n",
            "Epoch 73/100\n",
            "1875/1875 [==============================] - 9s 5ms/step - loss: 2.3012 - accuracy: 0.1124\n",
            "Epoch 74/100\n",
            "1875/1875 [==============================] - 9s 5ms/step - loss: 2.3009 - accuracy: 0.1124\n",
            "Epoch 75/100\n",
            "1875/1875 [==============================] - 9s 5ms/step - loss: 2.3006 - accuracy: 0.1124\n",
            "Epoch 76/100\n",
            "1875/1875 [==============================] - 9s 5ms/step - loss: 2.3003 - accuracy: 0.1124\n",
            "Epoch 77/100\n",
            "1875/1875 [==============================] - 9s 5ms/step - loss: 2.3001 - accuracy: 0.1124\n",
            "Epoch 78/100\n",
            "1875/1875 [==============================] - 9s 5ms/step - loss: 2.2997 - accuracy: 0.1124\n",
            "Epoch 79/100\n",
            "1875/1875 [==============================] - 9s 5ms/step - loss: 2.2995 - accuracy: 0.1124\n",
            "Epoch 80/100\n",
            "1875/1875 [==============================] - 9s 5ms/step - loss: 2.2992 - accuracy: 0.1124\n",
            "Epoch 81/100\n",
            "1875/1875 [==============================] - 9s 5ms/step - loss: 2.2989 - accuracy: 0.1124\n",
            "Epoch 82/100\n",
            "1875/1875 [==============================] - 9s 5ms/step - loss: 2.2985 - accuracy: 0.1124\n",
            "Epoch 83/100\n",
            "1875/1875 [==============================] - 9s 5ms/step - loss: 2.2982 - accuracy: 0.1124\n",
            "Epoch 84/100\n",
            "1875/1875 [==============================] - 9s 5ms/step - loss: 2.2979 - accuracy: 0.1124\n",
            "Epoch 85/100\n",
            "1875/1875 [==============================] - 9s 5ms/step - loss: 2.2975 - accuracy: 0.1124\n",
            "Epoch 86/100\n",
            "1875/1875 [==============================] - 9s 5ms/step - loss: 2.2972 - accuracy: 0.1124\n",
            "Epoch 87/100\n",
            "1875/1875 [==============================] - 9s 5ms/step - loss: 2.2968 - accuracy: 0.1124\n",
            "Epoch 88/100\n",
            "1875/1875 [==============================] - 9s 5ms/step - loss: 2.2965 - accuracy: 0.1124\n",
            "Epoch 89/100\n",
            "1875/1875 [==============================] - 9s 5ms/step - loss: 2.2961 - accuracy: 0.1124\n",
            "Epoch 90/100\n",
            "1875/1875 [==============================] - 9s 5ms/step - loss: 2.2957 - accuracy: 0.1124\n",
            "Epoch 91/100\n",
            "1875/1875 [==============================] - 9s 5ms/step - loss: 2.2953 - accuracy: 0.1124\n",
            "Epoch 92/100\n",
            "1875/1875 [==============================] - 9s 5ms/step - loss: 2.2949 - accuracy: 0.1125\n",
            "Epoch 93/100\n",
            "1875/1875 [==============================] - 9s 5ms/step - loss: 2.2944 - accuracy: 0.1125\n",
            "Epoch 94/100\n",
            "1875/1875 [==============================] - 9s 5ms/step - loss: 2.2940 - accuracy: 0.1124\n",
            "Epoch 95/100\n",
            "1875/1875 [==============================] - 9s 5ms/step - loss: 2.2935 - accuracy: 0.1124\n",
            "Epoch 96/100\n",
            "1875/1875 [==============================] - 9s 5ms/step - loss: 2.2931 - accuracy: 0.1124\n",
            "Epoch 97/100\n",
            "1875/1875 [==============================] - 9s 5ms/step - loss: 2.2926 - accuracy: 0.1171\n",
            "Epoch 98/100\n",
            "1875/1875 [==============================] - 9s 5ms/step - loss: 2.2921 - accuracy: 0.1124\n",
            "Epoch 99/100\n",
            "1875/1875 [==============================] - 9s 5ms/step - loss: 2.2916 - accuracy: 0.1164\n",
            "Epoch 100/100\n",
            "1875/1875 [==============================] - 9s 5ms/step - loss: 2.2910 - accuracy: 0.1129\n"
          ]
        },
        {
          "output_type": "execute_result",
          "data": {
            "text/plain": [
              "<keras.callbacks.History at 0x7fc123158650>"
            ]
          },
          "metadata": {},
          "execution_count": 10
        }
      ]
    },
    {
      "cell_type": "code",
      "metadata": {
        "colab": {
          "base_uri": "https://localhost:8080/"
        },
        "id": "LdOhn_X_YHAr",
        "outputId": "4fbfa86a-7297-40ff-acac-65f49f70f7b5"
      },
      "source": [
        "y_pred_Adadelta1=model_Adadelta1.predict(x_test_flattened)\n",
        "y_pred_Adadeltaf1=[np.argmax(i) for i in y_pred_Adadelta1]\n",
        "from keras import metrics \n",
        "from sklearn.metrics import *\n",
        "Adadelta_acc1=accuracy_score(y_pred_Adadeltaf1,y_test)\n",
        "print(Adadelta_acc1)"
      ],
      "execution_count": null,
      "outputs": [
        {
          "output_type": "stream",
          "name": "stdout",
          "text": [
            "0.1135\n"
          ]
        }
      ]
    },
    {
      "cell_type": "code",
      "metadata": {
        "colab": {
          "base_uri": "https://localhost:8080/"
        },
        "id": "HBN4EmVrYhXy",
        "outputId": "1bda63a4-41e7-412c-f560-5fe4dfe79344"
      },
      "source": [
        "y_pred_Adadelta2=model_Adadelta2.predict(x_test_flattened)\n",
        "y_pred_Adadeltaf2=[np.argmax(i) for i in y_pred_Adadelta2]\n",
        "from keras import metrics \n",
        "from sklearn.metrics import *\n",
        "Adadelta_acc2=accuracy_score(y_pred_Adadeltaf2,y_test)\n",
        "print(Adadelta_acc2)"
      ],
      "execution_count": null,
      "outputs": [
        {
          "output_type": "stream",
          "name": "stdout",
          "text": [
            "0.1135\n"
          ]
        }
      ]
    },
    {
      "cell_type": "code",
      "metadata": {
        "colab": {
          "base_uri": "https://localhost:8080/"
        },
        "id": "xGWxpIqeYtWT",
        "outputId": "d53f7bff-9ae8-41e8-8e04-1fd7f62cd602"
      },
      "source": [
        "y_pred_Adadelta3=model_Adadelta3.predict(x_test_flattened)\n",
        "y_pred_Adadeltaf3=[np.argmax(i) for i in y_pred_Adadelta3]\n",
        "from keras import metrics \n",
        "from sklearn.metrics import *\n",
        "Adadelta_acc3=accuracy_score(y_pred_Adadeltaf3,y_test)\n",
        "print(Adadelta_acc3)"
      ],
      "execution_count": null,
      "outputs": [
        {
          "output_type": "stream",
          "name": "stdout",
          "text": [
            "0.1135\n"
          ]
        }
      ]
    },
    {
      "cell_type": "code",
      "metadata": {
        "colab": {
          "base_uri": "https://localhost:8080/"
        },
        "id": "EoQIEDLHYyyT",
        "outputId": "ff2acf0c-96e0-4d2a-99c1-27d73c9c17af"
      },
      "source": [
        "y_pred_Adadelta4=model_Adadelta4.predict(x_test_flattened)\n",
        "y_pred_Adadeltaf4=[np.argmax(i) for i in y_pred_Adadelta4]\n",
        "from keras import metrics \n",
        "from sklearn.metrics import *\n",
        "Adadelta_acc4=accuracy_score(y_pred_Adadeltaf4,y_test)\n",
        "print(Adadelta_acc4)"
      ],
      "execution_count": null,
      "outputs": [
        {
          "output_type": "stream",
          "name": "stdout",
          "text": [
            "0.1135\n"
          ]
        }
      ]
    },
    {
      "cell_type": "code",
      "metadata": {
        "colab": {
          "base_uri": "https://localhost:8080/"
        },
        "id": "XLsrxos8Y4-c",
        "outputId": "28da9c3d-82a7-46c1-904f-10ef12c60162"
      },
      "source": [
        "y_pred_Adadelta5=model_Adadelta5.predict(x_test_flattened)\n",
        "y_pred_Adadeltaf5=[np.argmax(i) for i in y_pred_Adadelta5]\n",
        "from keras import metrics \n",
        "from sklearn.metrics import *\n",
        "Adadelta_acc5=accuracy_score(y_pred_Adadeltaf5,y_test)\n",
        "print(Adadelta_acc5)"
      ],
      "execution_count": null,
      "outputs": [
        {
          "output_type": "stream",
          "name": "stdout",
          "text": [
            "0.1135\n"
          ]
        }
      ]
    },
    {
      "cell_type": "markdown",
      "metadata": {
        "id": "dO7X2Pubb6Ob"
      },
      "source": [
        "------------------------------------------\n",
        "Adagrad"
      ]
    },
    {
      "cell_type": "code",
      "metadata": {
        "id": "ojLtK7BiZggJ",
        "colab": {
          "base_uri": "https://localhost:8080/"
        },
        "outputId": "3171a28e-aeca-4cbb-a636-a142d8a2be8e"
      },
      "source": [
        "model_Adagrad1=keras.Sequential([\n",
        "             keras.layers.Dense(10,input_shape=(784,),activation='sigmoid') , \n",
        "             keras.layers.Dense(100,input_shape=(784,),activation='sigmoid')  ,\n",
        "             keras.layers.Dense(1000,input_shape=(784,),activation='sigmoid')  ,\n",
        "             keras.layers.Dense(1000,input_shape=(784,),activation='sigmoid')  \n",
        "                \n",
        "])\n",
        "model_Adagrad1.compile(\n",
        "    optimizer='Adagrad',\n",
        "    loss='sparse_categorical_crossentropy',\n",
        "    metrics=['accuracy']\n",
        "\n",
        ")\n",
        "model_Adagrad1.fit(x_train_flattened,y_train,epochs=5)"
      ],
      "execution_count": 8,
      "outputs": [
        {
          "output_type": "stream",
          "name": "stdout",
          "text": [
            "Epoch 1/5\n",
            "1875/1875 [==============================] - 8s 4ms/step - loss: 2.5006 - accuracy: 0.1064\n",
            "Epoch 2/5\n",
            "1875/1875 [==============================] - 8s 4ms/step - loss: 2.3172 - accuracy: 0.1091\n",
            "Epoch 3/5\n",
            "1875/1875 [==============================] - 8s 4ms/step - loss: 2.3118 - accuracy: 0.1104\n",
            "Epoch 4/5\n",
            "1875/1875 [==============================] - 8s 4ms/step - loss: 2.3093 - accuracy: 0.1106\n",
            "Epoch 5/5\n",
            "1875/1875 [==============================] - 8s 4ms/step - loss: 2.3078 - accuracy: 0.1117\n"
          ]
        },
        {
          "output_type": "execute_result",
          "data": {
            "text/plain": [
              "<keras.callbacks.History at 0x7f5500094810>"
            ]
          },
          "metadata": {},
          "execution_count": 8
        }
      ]
    },
    {
      "cell_type": "code",
      "metadata": {
        "colab": {
          "base_uri": "https://localhost:8080/"
        },
        "id": "tm2tzCizdAjP",
        "outputId": "7bc7110d-d58c-4084-afcc-774cbb91b86e"
      },
      "source": [
        "model_Adagrad2=keras.Sequential([\n",
        "             keras.layers.Dense(10,input_shape=(784,),activation='sigmoid') , \n",
        "             keras.layers.Dense(100,input_shape=(784,),activation='sigmoid')  ,\n",
        "             keras.layers.Dense(1000,input_shape=(784,),activation='sigmoid')  ,\n",
        "             keras.layers.Dense(1000,input_shape=(784,),activation='sigmoid')  \n",
        "                \n",
        "])\n",
        "model_Adagrad2.compile(\n",
        "    optimizer='Adagrad',\n",
        "    loss='sparse_categorical_crossentropy',\n",
        "    metrics=['accuracy']\n",
        "\n",
        ")\n",
        "model_Adagrad2.fit(x_train_flattened,y_train,epochs=20)"
      ],
      "execution_count": 9,
      "outputs": [
        {
          "output_type": "stream",
          "name": "stdout",
          "text": [
            "Epoch 1/20\n",
            "1875/1875 [==============================] - 8s 4ms/step - loss: 2.5017 - accuracy: 0.1059\n",
            "Epoch 2/20\n",
            "1875/1875 [==============================] - 8s 4ms/step - loss: 2.3172 - accuracy: 0.1096\n",
            "Epoch 3/20\n",
            "1875/1875 [==============================] - 8s 4ms/step - loss: 2.3119 - accuracy: 0.1103\n",
            "Epoch 4/20\n",
            "1875/1875 [==============================] - 8s 4ms/step - loss: 2.3092 - accuracy: 0.1119\n",
            "Epoch 5/20\n",
            "1875/1875 [==============================] - 8s 4ms/step - loss: 2.3078 - accuracy: 0.1109\n",
            "Epoch 6/20\n",
            "1875/1875 [==============================] - 8s 4ms/step - loss: 2.3067 - accuracy: 0.1121\n",
            "Epoch 7/20\n",
            "1875/1875 [==============================] - 8s 4ms/step - loss: 2.3060 - accuracy: 0.1121\n",
            "Epoch 8/20\n",
            "1875/1875 [==============================] - 8s 4ms/step - loss: 2.3052 - accuracy: 0.1121\n",
            "Epoch 9/20\n",
            "1875/1875 [==============================] - 8s 4ms/step - loss: 2.3047 - accuracy: 0.1123\n",
            "Epoch 10/20\n",
            "1875/1875 [==============================] - 8s 4ms/step - loss: 2.3042 - accuracy: 0.1125\n",
            "Epoch 11/20\n",
            "1875/1875 [==============================] - 8s 4ms/step - loss: 2.3037 - accuracy: 0.1121\n",
            "Epoch 12/20\n",
            "1875/1875 [==============================] - 8s 4ms/step - loss: 2.3033 - accuracy: 0.1125\n",
            "Epoch 13/20\n",
            "1875/1875 [==============================] - 8s 4ms/step - loss: 2.3027 - accuracy: 0.1129\n",
            "Epoch 14/20\n",
            "1875/1875 [==============================] - 8s 4ms/step - loss: 2.3025 - accuracy: 0.1125\n",
            "Epoch 15/20\n",
            "1875/1875 [==============================] - 8s 4ms/step - loss: 2.3021 - accuracy: 0.1129\n",
            "Epoch 16/20\n",
            "1875/1875 [==============================] - 8s 4ms/step - loss: 2.3015 - accuracy: 0.1128\n",
            "Epoch 17/20\n",
            "1875/1875 [==============================] - 8s 4ms/step - loss: 2.3011 - accuracy: 0.1125\n",
            "Epoch 18/20\n",
            "1875/1875 [==============================] - 8s 4ms/step - loss: 2.3006 - accuracy: 0.1128\n",
            "Epoch 19/20\n",
            "1875/1875 [==============================] - 8s 4ms/step - loss: 2.3000 - accuracy: 0.1128\n",
            "Epoch 20/20\n",
            "1875/1875 [==============================] - 8s 4ms/step - loss: 2.2995 - accuracy: 0.1126\n"
          ]
        },
        {
          "output_type": "execute_result",
          "data": {
            "text/plain": [
              "<keras.callbacks.History at 0x7f54beaf4b50>"
            ]
          },
          "metadata": {},
          "execution_count": 9
        }
      ]
    },
    {
      "cell_type": "code",
      "metadata": {
        "colab": {
          "base_uri": "https://localhost:8080/"
        },
        "id": "qoFjLbL1fFDL",
        "outputId": "dcd2541f-1867-4e7a-9f2c-77c5a41640bd"
      },
      "source": [
        "model_Adagrad3=keras.Sequential([\n",
        "             keras.layers.Dense(10,input_shape=(784,),activation='sigmoid') , \n",
        "             keras.layers.Dense(100,input_shape=(784,),activation='sigmoid')  ,\n",
        "             keras.layers.Dense(1000,input_shape=(784,),activation='sigmoid')  ,\n",
        "             keras.layers.Dense(1000,input_shape=(784,),activation='sigmoid')  \n",
        "                \n",
        "])\n",
        "model_Adagrad3.compile(\n",
        "    optimizer='Adagrad',\n",
        "    loss='sparse_categorical_crossentropy',\n",
        "    metrics=['accuracy']\n",
        "\n",
        ")\n",
        "model_Adagrad3.fit(x_train_flattened,y_train,epochs=50)"
      ],
      "execution_count": 10,
      "outputs": [
        {
          "output_type": "stream",
          "name": "stdout",
          "text": [
            "Epoch 1/50\n",
            "1875/1875 [==============================] - 8s 4ms/step - loss: 2.4915 - accuracy: 0.1073\n",
            "Epoch 2/50\n",
            "1875/1875 [==============================] - 8s 4ms/step - loss: 2.3169 - accuracy: 0.1098\n",
            "Epoch 3/50\n",
            "1875/1875 [==============================] - 8s 4ms/step - loss: 2.3115 - accuracy: 0.1112\n",
            "Epoch 4/50\n",
            "1875/1875 [==============================] - 8s 4ms/step - loss: 2.3091 - accuracy: 0.1122\n",
            "Epoch 5/50\n",
            "1875/1875 [==============================] - 8s 4ms/step - loss: 2.3075 - accuracy: 0.1116\n",
            "Epoch 6/50\n",
            "1875/1875 [==============================] - 8s 4ms/step - loss: 2.3064 - accuracy: 0.1126\n",
            "Epoch 7/50\n",
            "1875/1875 [==============================] - 8s 4ms/step - loss: 2.3055 - accuracy: 0.1125\n",
            "Epoch 8/50\n",
            "1875/1875 [==============================] - 8s 4ms/step - loss: 2.3050 - accuracy: 0.1123\n",
            "Epoch 9/50\n",
            "1875/1875 [==============================] - 8s 4ms/step - loss: 2.3043 - accuracy: 0.1139\n",
            "Epoch 10/50\n",
            "1875/1875 [==============================] - 8s 4ms/step - loss: 2.3037 - accuracy: 0.1128\n",
            "Epoch 11/50\n",
            "1875/1875 [==============================] - 8s 4ms/step - loss: 2.3031 - accuracy: 0.1140\n",
            "Epoch 12/50\n",
            "1875/1875 [==============================] - 8s 4ms/step - loss: 2.3027 - accuracy: 0.1140\n",
            "Epoch 13/50\n",
            "1875/1875 [==============================] - 8s 4ms/step - loss: 2.3021 - accuracy: 0.1150\n",
            "Epoch 14/50\n",
            "1875/1875 [==============================] - 8s 4ms/step - loss: 2.3015 - accuracy: 0.1138\n",
            "Epoch 15/50\n",
            "1875/1875 [==============================] - 8s 4ms/step - loss: 2.3011 - accuracy: 0.1149\n",
            "Epoch 16/50\n",
            "1875/1875 [==============================] - 8s 4ms/step - loss: 2.3004 - accuracy: 0.1141\n",
            "Epoch 17/50\n",
            "1875/1875 [==============================] - 8s 4ms/step - loss: 2.2997 - accuracy: 0.1138\n",
            "Epoch 18/50\n",
            "1875/1875 [==============================] - 8s 4ms/step - loss: 2.2991 - accuracy: 0.1143\n",
            "Epoch 19/50\n",
            "1875/1875 [==============================] - 8s 4ms/step - loss: 2.2985 - accuracy: 0.1139\n",
            "Epoch 20/50\n",
            "1875/1875 [==============================] - 8s 4ms/step - loss: 2.2976 - accuracy: 0.1134\n",
            "Epoch 21/50\n",
            "1875/1875 [==============================] - 8s 4ms/step - loss: 2.2967 - accuracy: 0.1181\n",
            "Epoch 22/50\n",
            "1875/1875 [==============================] - 8s 4ms/step - loss: 2.2957 - accuracy: 0.1174\n",
            "Epoch 23/50\n",
            "1875/1875 [==============================] - 8s 4ms/step - loss: 2.2947 - accuracy: 0.1198\n",
            "Epoch 24/50\n",
            "1875/1875 [==============================] - 8s 4ms/step - loss: 2.2935 - accuracy: 0.1164\n",
            "Epoch 25/50\n",
            "1875/1875 [==============================] - 8s 4ms/step - loss: 2.2921 - accuracy: 0.1211\n",
            "Epoch 26/50\n",
            "1875/1875 [==============================] - 8s 4ms/step - loss: 2.2906 - accuracy: 0.1167\n",
            "Epoch 27/50\n",
            "1875/1875 [==============================] - 8s 4ms/step - loss: 2.2889 - accuracy: 0.1238\n",
            "Epoch 28/50\n",
            "1875/1875 [==============================] - 8s 4ms/step - loss: 2.2870 - accuracy: 0.1181\n",
            "Epoch 29/50\n",
            "1875/1875 [==============================] - 8s 4ms/step - loss: 2.2848 - accuracy: 0.1445\n",
            "Epoch 30/50\n",
            "1875/1875 [==============================] - 8s 4ms/step - loss: 2.2824 - accuracy: 0.1363\n",
            "Epoch 31/50\n",
            "1875/1875 [==============================] - 8s 4ms/step - loss: 2.2796 - accuracy: 0.1421\n",
            "Epoch 32/50\n",
            "1875/1875 [==============================] - 8s 4ms/step - loss: 2.2765 - accuracy: 0.1549\n",
            "Epoch 33/50\n",
            "1875/1875 [==============================] - 8s 4ms/step - loss: 2.2728 - accuracy: 0.1814\n",
            "Epoch 34/50\n",
            "1875/1875 [==============================] - 8s 4ms/step - loss: 2.2687 - accuracy: 0.1950\n",
            "Epoch 35/50\n",
            "1875/1875 [==============================] - 8s 4ms/step - loss: 2.2639 - accuracy: 0.2092\n",
            "Epoch 36/50\n",
            "1875/1875 [==============================] - 8s 4ms/step - loss: 2.2584 - accuracy: 0.2204\n",
            "Epoch 37/50\n",
            "1875/1875 [==============================] - 8s 4ms/step - loss: 2.2520 - accuracy: 0.2291\n",
            "Epoch 38/50\n",
            "1875/1875 [==============================] - 8s 4ms/step - loss: 2.2447 - accuracy: 0.2365\n",
            "Epoch 39/50\n",
            "1875/1875 [==============================] - 8s 4ms/step - loss: 2.2360 - accuracy: 0.2480\n",
            "Epoch 40/50\n",
            "1875/1875 [==============================] - 8s 4ms/step - loss: 2.2261 - accuracy: 0.2566\n",
            "Epoch 41/50\n",
            "1875/1875 [==============================] - 8s 4ms/step - loss: 2.2146 - accuracy: 0.2733\n",
            "Epoch 42/50\n",
            "1875/1875 [==============================] - 8s 4ms/step - loss: 2.2013 - accuracy: 0.2934\n",
            "Epoch 43/50\n",
            "1875/1875 [==============================] - 8s 4ms/step - loss: 2.1860 - accuracy: 0.2907\n",
            "Epoch 44/50\n",
            "1875/1875 [==============================] - 8s 4ms/step - loss: 2.1685 - accuracy: 0.3147\n",
            "Epoch 45/50\n",
            "1875/1875 [==============================] - 8s 4ms/step - loss: 2.1486 - accuracy: 0.3113\n",
            "Epoch 46/50\n",
            "1875/1875 [==============================] - 8s 4ms/step - loss: 2.1263 - accuracy: 0.3276\n",
            "Epoch 47/50\n",
            "1875/1875 [==============================] - 8s 4ms/step - loss: 2.1016 - accuracy: 0.3255\n",
            "Epoch 48/50\n",
            "1875/1875 [==============================] - 8s 4ms/step - loss: 2.0746 - accuracy: 0.3464\n",
            "Epoch 49/50\n",
            "1875/1875 [==============================] - 8s 4ms/step - loss: 2.0459 - accuracy: 0.3457\n",
            "Epoch 50/50\n",
            "1875/1875 [==============================] - 8s 4ms/step - loss: 2.0157 - accuracy: 0.3513\n"
          ]
        },
        {
          "output_type": "execute_result",
          "data": {
            "text/plain": [
              "<keras.callbacks.History at 0x7f54bea0a710>"
            ]
          },
          "metadata": {},
          "execution_count": 10
        }
      ]
    },
    {
      "cell_type": "code",
      "metadata": {
        "colab": {
          "base_uri": "https://localhost:8080/"
        },
        "id": "Vyf1pJaDfOQh",
        "outputId": "a7353ba9-1f16-4d38-a092-d52eefcfff2c"
      },
      "source": [
        "model_Adagrad4=keras.Sequential([\n",
        "             keras.layers.Dense(10,input_shape=(784,),activation='sigmoid') , \n",
        "             keras.layers.Dense(100,input_shape=(784,),activation='sigmoid')  ,\n",
        "             keras.layers.Dense(1000,input_shape=(784,),activation='sigmoid')  ,\n",
        "             keras.layers.Dense(1000,input_shape=(784,),activation='sigmoid')  \n",
        "                \n",
        "])\n",
        "model_Adagrad4.compile(\n",
        "    optimizer='Adagrad',\n",
        "    loss='sparse_categorical_crossentropy',\n",
        "    metrics=['accuracy']\n",
        "\n",
        ")\n",
        "model_Adagrad4.fit(x_train_flattened,y_train,epochs=70)"
      ],
      "execution_count": 11,
      "outputs": [
        {
          "output_type": "stream",
          "name": "stdout",
          "text": [
            "Epoch 1/70\n",
            "1875/1875 [==============================] - 8s 4ms/step - loss: 2.4866 - accuracy: 0.1056\n",
            "Epoch 2/70\n",
            "1875/1875 [==============================] - 8s 4ms/step - loss: 2.3175 - accuracy: 0.1088\n",
            "Epoch 3/70\n",
            "1875/1875 [==============================] - 8s 4ms/step - loss: 2.3119 - accuracy: 0.1106\n",
            "Epoch 4/70\n",
            "1875/1875 [==============================] - 8s 4ms/step - loss: 2.3095 - accuracy: 0.1108\n",
            "Epoch 5/70\n",
            "1875/1875 [==============================] - 8s 4ms/step - loss: 2.3080 - accuracy: 0.1113\n",
            "Epoch 6/70\n",
            "1875/1875 [==============================] - 8s 4ms/step - loss: 2.3070 - accuracy: 0.1120\n",
            "Epoch 7/70\n",
            "1875/1875 [==============================] - 8s 4ms/step - loss: 2.3061 - accuracy: 0.1124\n",
            "Epoch 8/70\n",
            "1875/1875 [==============================] - 8s 4ms/step - loss: 2.3054 - accuracy: 0.1130\n",
            "Epoch 9/70\n",
            "1875/1875 [==============================] - 8s 4ms/step - loss: 2.3049 - accuracy: 0.1126\n",
            "Epoch 10/70\n",
            "1875/1875 [==============================] - 8s 4ms/step - loss: 2.3044 - accuracy: 0.1126\n",
            "Epoch 11/70\n",
            "1875/1875 [==============================] - 8s 4ms/step - loss: 2.3040 - accuracy: 0.1128\n",
            "Epoch 12/70\n",
            "1875/1875 [==============================] - 8s 4ms/step - loss: 2.3036 - accuracy: 0.1126\n",
            "Epoch 13/70\n",
            "1875/1875 [==============================] - 8s 4ms/step - loss: 2.3031 - accuracy: 0.1147\n",
            "Epoch 14/70\n",
            "1875/1875 [==============================] - 8s 4ms/step - loss: 2.3028 - accuracy: 0.1132\n",
            "Epoch 15/70\n",
            "1875/1875 [==============================] - 8s 4ms/step - loss: 2.3023 - accuracy: 0.1150\n",
            "Epoch 16/70\n",
            "1875/1875 [==============================] - 8s 4ms/step - loss: 2.3019 - accuracy: 0.1150\n",
            "Epoch 17/70\n",
            "1875/1875 [==============================] - 8s 4ms/step - loss: 2.3014 - accuracy: 0.1125\n",
            "Epoch 18/70\n",
            "1875/1875 [==============================] - 8s 4ms/step - loss: 2.3009 - accuracy: 0.1124\n",
            "Epoch 19/70\n",
            "1875/1875 [==============================] - 8s 4ms/step - loss: 2.3005 - accuracy: 0.1124\n",
            "Epoch 20/70\n",
            "1875/1875 [==============================] - 8s 4ms/step - loss: 2.2999 - accuracy: 0.1125\n",
            "Epoch 21/70\n",
            "1875/1875 [==============================] - 8s 4ms/step - loss: 2.2992 - accuracy: 0.1162\n",
            "Epoch 22/70\n",
            "1875/1875 [==============================] - 8s 4ms/step - loss: 2.2986 - accuracy: 0.1133\n",
            "Epoch 23/70\n",
            "1875/1875 [==============================] - 8s 4ms/step - loss: 2.2980 - accuracy: 0.1124\n",
            "Epoch 24/70\n",
            "1875/1875 [==============================] - 8s 4ms/step - loss: 2.2973 - accuracy: 0.1144\n",
            "Epoch 25/70\n",
            "1875/1875 [==============================] - 8s 4ms/step - loss: 2.2964 - accuracy: 0.1137\n",
            "Epoch 26/70\n",
            "1875/1875 [==============================] - 8s 4ms/step - loss: 2.2954 - accuracy: 0.1151\n",
            "Epoch 27/70\n",
            "1875/1875 [==============================] - 8s 4ms/step - loss: 2.2944 - accuracy: 0.1145\n",
            "Epoch 28/70\n",
            "1875/1875 [==============================] - 8s 4ms/step - loss: 2.2932 - accuracy: 0.1132\n",
            "Epoch 29/70\n",
            "1875/1875 [==============================] - 8s 4ms/step - loss: 2.2919 - accuracy: 0.1153\n",
            "Epoch 30/70\n",
            "1875/1875 [==============================] - 8s 4ms/step - loss: 2.2904 - accuracy: 0.1164\n",
            "Epoch 31/70\n",
            "1875/1875 [==============================] - 8s 4ms/step - loss: 2.2889 - accuracy: 0.1221\n",
            "Epoch 32/70\n",
            "1875/1875 [==============================] - 8s 4ms/step - loss: 2.2870 - accuracy: 0.1204\n",
            "Epoch 33/70\n",
            "1875/1875 [==============================] - 8s 4ms/step - loss: 2.2850 - accuracy: 0.1394\n",
            "Epoch 34/70\n",
            "1875/1875 [==============================] - 8s 4ms/step - loss: 2.2826 - accuracy: 0.1469\n",
            "Epoch 35/70\n",
            "1875/1875 [==============================] - 8s 4ms/step - loss: 2.2801 - accuracy: 0.1499\n",
            "Epoch 36/70\n",
            "1875/1875 [==============================] - 8s 4ms/step - loss: 2.2771 - accuracy: 0.1861\n",
            "Epoch 37/70\n",
            "1875/1875 [==============================] - 8s 4ms/step - loss: 2.2737 - accuracy: 0.1765\n",
            "Epoch 38/70\n",
            "1875/1875 [==============================] - 8s 4ms/step - loss: 2.2699 - accuracy: 0.1930\n",
            "Epoch 39/70\n",
            "1875/1875 [==============================] - 8s 4ms/step - loss: 2.2656 - accuracy: 0.2092\n",
            "Epoch 40/70\n",
            "1875/1875 [==============================] - 8s 4ms/step - loss: 2.2604 - accuracy: 0.2201\n",
            "Epoch 41/70\n",
            "1875/1875 [==============================] - 8s 4ms/step - loss: 2.2548 - accuracy: 0.2334\n",
            "Epoch 42/70\n",
            "1875/1875 [==============================] - 8s 4ms/step - loss: 2.2481 - accuracy: 0.2516\n",
            "Epoch 43/70\n",
            "1875/1875 [==============================] - 8s 4ms/step - loss: 2.2406 - accuracy: 0.2465\n",
            "Epoch 44/70\n",
            "1875/1875 [==============================] - 8s 4ms/step - loss: 2.2320 - accuracy: 0.2578\n",
            "Epoch 45/70\n",
            "1875/1875 [==============================] - 8s 4ms/step - loss: 2.2220 - accuracy: 0.2678\n",
            "Epoch 46/70\n",
            "1875/1875 [==============================] - 8s 4ms/step - loss: 2.2105 - accuracy: 0.2901\n",
            "Epoch 47/70\n",
            "1875/1875 [==============================] - 8s 4ms/step - loss: 2.1976 - accuracy: 0.2946\n",
            "Epoch 48/70\n",
            "1875/1875 [==============================] - 8s 4ms/step - loss: 2.1826 - accuracy: 0.3031\n",
            "Epoch 49/70\n",
            "1875/1875 [==============================] - 8s 4ms/step - loss: 2.1657 - accuracy: 0.3041\n",
            "Epoch 50/70\n",
            "1875/1875 [==============================] - 8s 4ms/step - loss: 2.1467 - accuracy: 0.3127\n",
            "Epoch 51/70\n",
            "1875/1875 [==============================] - 8s 4ms/step - loss: 2.1253 - accuracy: 0.3143\n",
            "Epoch 52/70\n",
            "1875/1875 [==============================] - 8s 4ms/step - loss: 2.1019 - accuracy: 0.3192\n",
            "Epoch 53/70\n",
            "1875/1875 [==============================] - 8s 4ms/step - loss: 2.0763 - accuracy: 0.3203\n",
            "Epoch 54/70\n",
            "1875/1875 [==============================] - 8s 4ms/step - loss: 2.0488 - accuracy: 0.3248\n",
            "Epoch 55/70\n",
            "1875/1875 [==============================] - 8s 4ms/step - loss: 2.0195 - accuracy: 0.3291\n",
            "Epoch 56/70\n",
            "1875/1875 [==============================] - 8s 4ms/step - loss: 1.9893 - accuracy: 0.3326\n",
            "Epoch 57/70\n",
            "1875/1875 [==============================] - 8s 4ms/step - loss: 1.9581 - accuracy: 0.3350\n",
            "Epoch 58/70\n",
            "1875/1875 [==============================] - 8s 4ms/step - loss: 1.9268 - accuracy: 0.3355\n",
            "Epoch 59/70\n",
            "1875/1875 [==============================] - 8s 4ms/step - loss: 1.8957 - accuracy: 0.3420\n",
            "Epoch 60/70\n",
            "1875/1875 [==============================] - 8s 4ms/step - loss: 1.8652 - accuracy: 0.3418\n",
            "Epoch 61/70\n",
            "1875/1875 [==============================] - 8s 4ms/step - loss: 1.8356 - accuracy: 0.3475\n",
            "Epoch 62/70\n",
            "1875/1875 [==============================] - 8s 4ms/step - loss: 1.8072 - accuracy: 0.3509\n",
            "Epoch 63/70\n",
            "1875/1875 [==============================] - 8s 4ms/step - loss: 1.7801 - accuracy: 0.3541\n",
            "Epoch 64/70\n",
            "1875/1875 [==============================] - 8s 4ms/step - loss: 1.7543 - accuracy: 0.3572\n",
            "Epoch 65/70\n",
            "1875/1875 [==============================] - 8s 4ms/step - loss: 1.7298 - accuracy: 0.3636\n",
            "Epoch 66/70\n",
            "1875/1875 [==============================] - 8s 4ms/step - loss: 1.7066 - accuracy: 0.3668\n",
            "Epoch 67/70\n",
            "1875/1875 [==============================] - 8s 4ms/step - loss: 1.6845 - accuracy: 0.3704\n",
            "Epoch 68/70\n",
            "1875/1875 [==============================] - 8s 4ms/step - loss: 1.6636 - accuracy: 0.3773\n",
            "Epoch 69/70\n",
            "1875/1875 [==============================] - 8s 4ms/step - loss: 1.6438 - accuracy: 0.3795\n",
            "Epoch 70/70\n",
            "1875/1875 [==============================] - 8s 4ms/step - loss: 1.6252 - accuracy: 0.3873\n"
          ]
        },
        {
          "output_type": "execute_result",
          "data": {
            "text/plain": [
              "<keras.callbacks.History at 0x7f54be8925d0>"
            ]
          },
          "metadata": {},
          "execution_count": 11
        }
      ]
    },
    {
      "cell_type": "code",
      "metadata": {
        "colab": {
          "base_uri": "https://localhost:8080/"
        },
        "id": "HUjK6ZC9fjEW",
        "outputId": "32829cea-6175-4d12-eeb4-1cb267f768fd"
      },
      "source": [
        "model_Adagrad5=keras.Sequential([\n",
        "             keras.layers.Dense(10,input_shape=(784,),activation='sigmoid') , \n",
        "             keras.layers.Dense(100,input_shape=(784,),activation='sigmoid')  ,\n",
        "             keras.layers.Dense(1000,input_shape=(784,),activation='sigmoid')  ,\n",
        "             keras.layers.Dense(1000,input_shape=(784,),activation='sigmoid')  \n",
        "                \n",
        "])\n",
        "model_Adagrad5.compile(\n",
        "    optimizer='Adagrad',\n",
        "    loss='sparse_categorical_crossentropy',\n",
        "    metrics=['accuracy']\n",
        "\n",
        ")\n",
        "model_Adagrad5.fit(x_train_flattened,y_train,epochs=100)"
      ],
      "execution_count": 12,
      "outputs": [
        {
          "output_type": "stream",
          "name": "stdout",
          "text": [
            "Epoch 1/100\n",
            "1875/1875 [==============================] - 8s 4ms/step - loss: 2.4981 - accuracy: 0.1072\n",
            "Epoch 2/100\n",
            "1875/1875 [==============================] - 8s 4ms/step - loss: 2.3172 - accuracy: 0.1104\n",
            "Epoch 3/100\n",
            "1875/1875 [==============================] - 8s 4ms/step - loss: 2.3117 - accuracy: 0.1098\n",
            "Epoch 4/100\n",
            "1875/1875 [==============================] - 8s 4ms/step - loss: 2.3092 - accuracy: 0.1109\n",
            "Epoch 5/100\n",
            "1875/1875 [==============================] - 8s 4ms/step - loss: 2.3077 - accuracy: 0.1113\n",
            "Epoch 6/100\n",
            "1875/1875 [==============================] - 8s 4ms/step - loss: 2.3065 - accuracy: 0.1123\n",
            "Epoch 7/100\n",
            "1875/1875 [==============================] - 8s 4ms/step - loss: 2.3059 - accuracy: 0.1119\n",
            "Epoch 8/100\n",
            "1875/1875 [==============================] - 8s 4ms/step - loss: 2.3051 - accuracy: 0.1120\n",
            "Epoch 9/100\n",
            "1875/1875 [==============================] - 8s 4ms/step - loss: 2.3046 - accuracy: 0.1120\n",
            "Epoch 10/100\n",
            "1875/1875 [==============================] - 8s 4ms/step - loss: 2.3038 - accuracy: 0.1135\n",
            "Epoch 11/100\n",
            "1875/1875 [==============================] - 8s 4ms/step - loss: 2.3034 - accuracy: 0.1125\n",
            "Epoch 12/100\n",
            "1875/1875 [==============================] - 8s 4ms/step - loss: 2.3028 - accuracy: 0.1127\n",
            "Epoch 13/100\n",
            "1875/1875 [==============================] - 8s 4ms/step - loss: 2.3024 - accuracy: 0.1137\n",
            "Epoch 14/100\n",
            "1875/1875 [==============================] - 8s 4ms/step - loss: 2.3017 - accuracy: 0.1127\n",
            "Epoch 15/100\n",
            "1875/1875 [==============================] - 8s 4ms/step - loss: 2.3012 - accuracy: 0.1132\n",
            "Epoch 16/100\n",
            "1875/1875 [==============================] - 8s 4ms/step - loss: 2.3006 - accuracy: 0.1126\n",
            "Epoch 17/100\n",
            "1875/1875 [==============================] - 8s 4ms/step - loss: 2.3001 - accuracy: 0.1132\n",
            "Epoch 18/100\n",
            "1875/1875 [==============================] - 8s 4ms/step - loss: 2.2993 - accuracy: 0.1137\n",
            "Epoch 19/100\n",
            "1875/1875 [==============================] - 8s 4ms/step - loss: 2.2985 - accuracy: 0.1148\n",
            "Epoch 20/100\n",
            "1875/1875 [==============================] - 8s 4ms/step - loss: 2.2977 - accuracy: 0.1126\n",
            "Epoch 21/100\n",
            "1875/1875 [==============================] - 8s 4ms/step - loss: 2.2967 - accuracy: 0.1146\n",
            "Epoch 22/100\n",
            "1875/1875 [==============================] - 8s 4ms/step - loss: 2.2957 - accuracy: 0.1168\n",
            "Epoch 23/100\n",
            "1875/1875 [==============================] - 8s 4ms/step - loss: 2.2946 - accuracy: 0.1151\n",
            "Epoch 24/100\n",
            "1875/1875 [==============================] - 8s 4ms/step - loss: 2.2933 - accuracy: 0.1155\n",
            "Epoch 25/100\n",
            "1875/1875 [==============================] - 8s 4ms/step - loss: 2.2919 - accuracy: 0.1240\n",
            "Epoch 26/100\n",
            "1875/1875 [==============================] - 8s 4ms/step - loss: 2.2904 - accuracy: 0.1250\n",
            "Epoch 27/100\n",
            "1875/1875 [==============================] - 8s 4ms/step - loss: 2.2886 - accuracy: 0.1395\n",
            "Epoch 28/100\n",
            "1875/1875 [==============================] - 8s 4ms/step - loss: 2.2863 - accuracy: 0.1483\n",
            "Epoch 29/100\n",
            "1875/1875 [==============================] - 8s 4ms/step - loss: 2.2842 - accuracy: 0.1627\n",
            "Epoch 30/100\n",
            "1875/1875 [==============================] - 8s 4ms/step - loss: 2.2816 - accuracy: 0.1830\n",
            "Epoch 31/100\n",
            "1875/1875 [==============================] - 8s 4ms/step - loss: 2.2787 - accuracy: 0.1880\n",
            "Epoch 32/100\n",
            "1875/1875 [==============================] - 8s 4ms/step - loss: 2.2753 - accuracy: 0.1971\n",
            "Epoch 33/100\n",
            "1875/1875 [==============================] - 8s 4ms/step - loss: 2.2714 - accuracy: 0.2037\n",
            "Epoch 34/100\n",
            "1875/1875 [==============================] - 8s 4ms/step - loss: 2.2670 - accuracy: 0.2091\n",
            "Epoch 35/100\n",
            "1875/1875 [==============================] - 8s 4ms/step - loss: 2.2618 - accuracy: 0.2127\n",
            "Epoch 36/100\n",
            "1875/1875 [==============================] - 8s 4ms/step - loss: 2.2560 - accuracy: 0.2096\n",
            "Epoch 37/100\n",
            "1875/1875 [==============================] - 8s 4ms/step - loss: 2.2492 - accuracy: 0.2165\n",
            "Epoch 38/100\n",
            "1875/1875 [==============================] - 8s 4ms/step - loss: 2.2414 - accuracy: 0.2198\n",
            "Epoch 39/100\n",
            "1875/1875 [==============================] - 8s 4ms/step - loss: 2.2324 - accuracy: 0.2218\n",
            "Epoch 40/100\n",
            "1875/1875 [==============================] - 8s 4ms/step - loss: 2.2221 - accuracy: 0.2194\n",
            "Epoch 41/100\n",
            "1875/1875 [==============================] - 8s 4ms/step - loss: 2.2104 - accuracy: 0.2203\n",
            "Epoch 42/100\n",
            "1875/1875 [==============================] - 8s 4ms/step - loss: 2.1970 - accuracy: 0.2255\n",
            "Epoch 43/100\n",
            "1875/1875 [==============================] - 8s 4ms/step - loss: 2.1817 - accuracy: 0.2269\n",
            "Epoch 44/100\n",
            "1875/1875 [==============================] - 8s 4ms/step - loss: 2.1646 - accuracy: 0.2322\n",
            "Epoch 45/100\n",
            "1875/1875 [==============================] - 8s 4ms/step - loss: 2.1457 - accuracy: 0.2351\n",
            "Epoch 46/100\n",
            "1875/1875 [==============================] - 8s 4ms/step - loss: 2.1251 - accuracy: 0.2447\n",
            "Epoch 47/100\n",
            "1875/1875 [==============================] - 8s 4ms/step - loss: 2.1027 - accuracy: 0.2462\n",
            "Epoch 48/100\n",
            "1875/1875 [==============================] - 8s 4ms/step - loss: 2.0791 - accuracy: 0.2533\n",
            "Epoch 49/100\n",
            "1875/1875 [==============================] - 8s 4ms/step - loss: 2.0545 - accuracy: 0.2591\n",
            "Epoch 50/100\n",
            "1875/1875 [==============================] - 8s 4ms/step - loss: 2.0293 - accuracy: 0.2662\n",
            "Epoch 51/100\n",
            "1875/1875 [==============================] - 8s 4ms/step - loss: 2.0037 - accuracy: 0.2777\n",
            "Epoch 52/100\n",
            "1875/1875 [==============================] - 8s 4ms/step - loss: 1.9784 - accuracy: 0.2800\n",
            "Epoch 53/100\n",
            "1875/1875 [==============================] - 8s 4ms/step - loss: 1.9535 - accuracy: 0.2860\n",
            "Epoch 54/100\n",
            "1875/1875 [==============================] - 8s 4ms/step - loss: 1.9292 - accuracy: 0.2902\n",
            "Epoch 55/100\n",
            "1875/1875 [==============================] - 8s 4ms/step - loss: 1.9055 - accuracy: 0.3031\n",
            "Epoch 56/100\n",
            "1875/1875 [==============================] - 8s 4ms/step - loss: 1.8828 - accuracy: 0.3097\n",
            "Epoch 57/100\n",
            "1875/1875 [==============================] - 8s 4ms/step - loss: 1.8608 - accuracy: 0.3196\n",
            "Epoch 58/100\n",
            "1875/1875 [==============================] - 8s 4ms/step - loss: 1.8397 - accuracy: 0.3255\n",
            "Epoch 59/100\n",
            "1875/1875 [==============================] - 8s 4ms/step - loss: 1.8192 - accuracy: 0.3345\n",
            "Epoch 60/100\n",
            "1875/1875 [==============================] - 8s 4ms/step - loss: 1.7995 - accuracy: 0.3444\n",
            "Epoch 61/100\n",
            "1875/1875 [==============================] - 8s 4ms/step - loss: 1.7803 - accuracy: 0.3525\n",
            "Epoch 62/100\n",
            "1875/1875 [==============================] - 8s 4ms/step - loss: 1.7616 - accuracy: 0.3631\n",
            "Epoch 63/100\n",
            "1875/1875 [==============================] - 8s 4ms/step - loss: 1.7433 - accuracy: 0.3744\n",
            "Epoch 64/100\n",
            "1875/1875 [==============================] - 8s 4ms/step - loss: 1.7255 - accuracy: 0.3841\n",
            "Epoch 65/100\n",
            "1875/1875 [==============================] - 8s 4ms/step - loss: 1.7079 - accuracy: 0.3954\n",
            "Epoch 66/100\n",
            "1875/1875 [==============================] - 8s 4ms/step - loss: 1.6906 - accuracy: 0.4096\n",
            "Epoch 67/100\n",
            "1875/1875 [==============================] - 8s 4ms/step - loss: 1.6735 - accuracy: 0.4178\n",
            "Epoch 68/100\n",
            "1875/1875 [==============================] - 8s 4ms/step - loss: 1.6566 - accuracy: 0.4296\n",
            "Epoch 69/100\n",
            "1875/1875 [==============================] - 8s 4ms/step - loss: 1.6397 - accuracy: 0.4417\n",
            "Epoch 70/100\n",
            "1875/1875 [==============================] - 8s 4ms/step - loss: 1.6229 - accuracy: 0.4521\n",
            "Epoch 71/100\n",
            "1875/1875 [==============================] - 8s 4ms/step - loss: 1.6063 - accuracy: 0.4627\n",
            "Epoch 72/100\n",
            "1875/1875 [==============================] - 8s 4ms/step - loss: 1.5896 - accuracy: 0.4742\n",
            "Epoch 73/100\n",
            "1875/1875 [==============================] - 8s 4ms/step - loss: 1.5729 - accuracy: 0.4828\n",
            "Epoch 74/100\n",
            "1875/1875 [==============================] - 8s 4ms/step - loss: 1.5561 - accuracy: 0.4914\n",
            "Epoch 75/100\n",
            "1875/1875 [==============================] - 8s 4ms/step - loss: 1.5395 - accuracy: 0.5021\n",
            "Epoch 76/100\n",
            "1875/1875 [==============================] - 8s 4ms/step - loss: 1.5228 - accuracy: 0.5079\n",
            "Epoch 77/100\n",
            "1875/1875 [==============================] - 8s 4ms/step - loss: 1.5060 - accuracy: 0.5158\n",
            "Epoch 78/100\n",
            "1875/1875 [==============================] - 8s 4ms/step - loss: 1.4893 - accuracy: 0.5234\n",
            "Epoch 79/100\n",
            "1875/1875 [==============================] - 8s 4ms/step - loss: 1.4725 - accuracy: 0.5295\n",
            "Epoch 80/100\n",
            "1875/1875 [==============================] - 8s 4ms/step - loss: 1.4559 - accuracy: 0.5359\n",
            "Epoch 81/100\n",
            "1875/1875 [==============================] - 8s 4ms/step - loss: 1.4393 - accuracy: 0.5410\n",
            "Epoch 82/100\n",
            "1875/1875 [==============================] - 8s 4ms/step - loss: 1.4228 - accuracy: 0.5472\n",
            "Epoch 83/100\n",
            "1875/1875 [==============================] - 8s 4ms/step - loss: 1.4065 - accuracy: 0.5525\n",
            "Epoch 84/100\n",
            "1875/1875 [==============================] - 8s 4ms/step - loss: 1.3904 - accuracy: 0.5601\n",
            "Epoch 85/100\n",
            "1875/1875 [==============================] - 8s 4ms/step - loss: 1.3745 - accuracy: 0.5635\n",
            "Epoch 86/100\n",
            "1875/1875 [==============================] - 8s 4ms/step - loss: 1.3588 - accuracy: 0.5674\n",
            "Epoch 87/100\n",
            "1875/1875 [==============================] - 8s 4ms/step - loss: 1.3435 - accuracy: 0.5745\n",
            "Epoch 88/100\n",
            "1875/1875 [==============================] - 8s 4ms/step - loss: 1.3286 - accuracy: 0.5792\n",
            "Epoch 89/100\n",
            "1875/1875 [==============================] - 8s 4ms/step - loss: 1.3141 - accuracy: 0.5853\n",
            "Epoch 90/100\n",
            "1875/1875 [==============================] - 8s 4ms/step - loss: 1.2999 - accuracy: 0.5878\n",
            "Epoch 91/100\n",
            "1875/1875 [==============================] - 8s 4ms/step - loss: 1.2862 - accuracy: 0.5943\n",
            "Epoch 92/100\n",
            "1875/1875 [==============================] - 8s 4ms/step - loss: 1.2729 - accuracy: 0.5974\n",
            "Epoch 93/100\n",
            "1875/1875 [==============================] - 8s 4ms/step - loss: 1.2601 - accuracy: 0.6028\n",
            "Epoch 94/100\n",
            "1875/1875 [==============================] - 8s 4ms/step - loss: 1.2477 - accuracy: 0.6046\n",
            "Epoch 95/100\n",
            "1875/1875 [==============================] - 8s 4ms/step - loss: 1.2357 - accuracy: 0.6107\n",
            "Epoch 96/100\n",
            "1875/1875 [==============================] - 8s 4ms/step - loss: 1.2240 - accuracy: 0.6129\n",
            "Epoch 97/100\n",
            "1875/1875 [==============================] - 8s 4ms/step - loss: 1.2129 - accuracy: 0.6183\n",
            "Epoch 98/100\n",
            "1875/1875 [==============================] - 8s 4ms/step - loss: 1.2021 - accuracy: 0.6222\n",
            "Epoch 99/100\n",
            "1875/1875 [==============================] - 8s 4ms/step - loss: 1.1916 - accuracy: 0.6252\n",
            "Epoch 100/100\n",
            "1875/1875 [==============================] - 8s 4ms/step - loss: 1.1815 - accuracy: 0.6290\n"
          ]
        },
        {
          "output_type": "execute_result",
          "data": {
            "text/plain": [
              "<keras.callbacks.History at 0x7f54be90af90>"
            ]
          },
          "metadata": {},
          "execution_count": 12
        }
      ]
    },
    {
      "cell_type": "code",
      "metadata": {
        "colab": {
          "base_uri": "https://localhost:8080/"
        },
        "id": "Sn3_1gimfmkZ",
        "outputId": "3e643e75-5fce-4eb6-cc63-e74d785c80d8"
      },
      "source": [
        "y_pred_Adagrad1=model_Adagrad1.predict(x_test_flattened)\n",
        "y_pred_Adagradf1=[np.argmax(i) for i in y_pred_Adagrad1]\n",
        "from keras import metrics \n",
        "from sklearn.metrics import *\n",
        "Adagrad_acc1=accuracy_score(y_pred_Adagradf1,y_test)\n",
        "print(Adagrad_acc1)"
      ],
      "execution_count": 13,
      "outputs": [
        {
          "output_type": "stream",
          "name": "stdout",
          "text": [
            "0.1026\n"
          ]
        }
      ]
    },
    {
      "cell_type": "code",
      "metadata": {
        "colab": {
          "base_uri": "https://localhost:8080/"
        },
        "id": "p4iCh8k7pAri",
        "outputId": "8e1b9834-6f4e-48bd-ee64-bdc9c8b42101"
      },
      "source": [
        "y_pred_Adagrad2=model_Adagrad2.predict(x_test_flattened)\n",
        "y_pred_Adagradf2=[np.argmax(i) for i in y_pred_Adagrad2]\n",
        "from keras import metrics \n",
        "from sklearn.metrics import *\n",
        "Adagrad_acc2=accuracy_score(y_pred_Adagradf2,y_test)\n",
        "print(Adagrad_acc2)"
      ],
      "execution_count": 15,
      "outputs": [
        {
          "output_type": "stream",
          "name": "stdout",
          "text": [
            "0.1135\n"
          ]
        }
      ]
    },
    {
      "cell_type": "code",
      "metadata": {
        "colab": {
          "base_uri": "https://localhost:8080/"
        },
        "id": "Oit2Oocnp8tC",
        "outputId": "6a8eecbf-0963-4d89-c98e-9ac7908e8fd5"
      },
      "source": [
        "y_pred_Adagrad3=model_Adagrad3.predict(x_test_flattened)\n",
        "y_pred_Adagradf3=[np.argmax(i) for i in y_pred_Adagrad3]\n",
        "from keras import metrics \n",
        "from sklearn.metrics import *\n",
        "Adagrad_acc3=accuracy_score(y_pred_Adagradf3,y_test)\n",
        "print(Adagrad_acc3)"
      ],
      "execution_count": 16,
      "outputs": [
        {
          "output_type": "stream",
          "name": "stdout",
          "text": [
            "0.3681\n"
          ]
        }
      ]
    },
    {
      "cell_type": "code",
      "metadata": {
        "colab": {
          "base_uri": "https://localhost:8080/"
        },
        "id": "pzBclUzOqImP",
        "outputId": "7b1f34d3-0351-4b14-a5ce-ca6ef7f17335"
      },
      "source": [
        "y_pred_Adagrad4=model_Adagrad4.predict(x_test_flattened)\n",
        "y_pred_Adagradf4=[np.argmax(i) for i in y_pred_Adagrad4]\n",
        "from keras import metrics \n",
        "from sklearn.metrics import *\n",
        "Adagrad_acc4=accuracy_score(y_pred_Adagradf4,y_test)\n",
        "print(Adagrad_acc4)"
      ],
      "execution_count": 17,
      "outputs": [
        {
          "output_type": "stream",
          "name": "stdout",
          "text": [
            "0.3878\n"
          ]
        }
      ]
    },
    {
      "cell_type": "code",
      "metadata": {
        "colab": {
          "base_uri": "https://localhost:8080/"
        },
        "id": "RO9OFhBmqP3Z",
        "outputId": "2c6eaa97-6a8f-495e-d549-c0fad70f4fde"
      },
      "source": [
        "y_pred_Adagrad5=model_Adagrad5.predict(x_test_flattened)\n",
        "y_pred_Adagradf5=[np.argmax(i) for i in y_pred_Adagrad5]\n",
        "from keras import metrics \n",
        "from sklearn.metrics import *\n",
        "Adagrad_acc5=accuracy_score(y_pred_Adagradf5,y_test)\n",
        "print(Adagrad_acc5)"
      ],
      "execution_count": 18,
      "outputs": [
        {
          "output_type": "stream",
          "name": "stdout",
          "text": [
            "0.6236\n"
          ]
        }
      ]
    },
    {
      "cell_type": "code",
      "metadata": {
        "id": "tc249dG9wIbs"
      },
      "source": [
        ""
      ],
      "execution_count": 8,
      "outputs": []
    },
    {
      "cell_type": "code",
      "metadata": {
        "id": "NbTyW6eLqYq2"
      },
      "source": [
        ""
      ],
      "execution_count": 8,
      "outputs": []
    },
    {
      "cell_type": "code",
      "metadata": {
        "id": "n0oyPAOxuc_e"
      },
      "source": [
        ""
      ],
      "execution_count": 8,
      "outputs": []
    },
    {
      "cell_type": "code",
      "metadata": {
        "id": "vfNsKQBNw6f9"
      },
      "source": [
        ""
      ],
      "execution_count": 8,
      "outputs": []
    },
    {
      "cell_type": "code",
      "metadata": {
        "id": "C4RdgDNsxDdU"
      },
      "source": [
        ""
      ],
      "execution_count": 8,
      "outputs": []
    },
    {
      "cell_type": "code",
      "metadata": {
        "id": "v02Q_xNFxcbC"
      },
      "source": [
        ""
      ],
      "execution_count": null,
      "outputs": []
    },
    {
      "cell_type": "code",
      "metadata": {
        "id": "5NCdVblmxgef"
      },
      "source": [
        ""
      ],
      "execution_count": null,
      "outputs": []
    },
    {
      "cell_type": "code",
      "metadata": {
        "id": "YKSaNyPHyJL1"
      },
      "source": [
        ""
      ],
      "execution_count": null,
      "outputs": []
    },
    {
      "cell_type": "code",
      "metadata": {
        "id": "QSyvGy0dyW90"
      },
      "source": [
        ""
      ],
      "execution_count": null,
      "outputs": []
    },
    {
      "cell_type": "code",
      "metadata": {
        "id": "iJyOJVHYyb4Z"
      },
      "source": [
        ""
      ],
      "execution_count": null,
      "outputs": []
    },
    {
      "cell_type": "code",
      "metadata": {
        "id": "MAU3EgnByiOI"
      },
      "source": [
        ""
      ],
      "execution_count": 9,
      "outputs": []
    },
    {
      "cell_type": "code",
      "metadata": {
        "id": "H6gSLxHwyofI"
      },
      "source": [
        ""
      ],
      "execution_count": null,
      "outputs": []
    }
  ]
}