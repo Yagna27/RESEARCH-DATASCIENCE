{
  "nbformat": 4,
  "nbformat_minor": 0,
  "metadata": {
    "colab": {
      "name": "MNIST --ADADELTA--OPT.ipynb",
      "provenance": [],
      "collapsed_sections": []
    },
    "kernelspec": {
      "name": "python3",
      "display_name": "Python 3"
    },
    "language_info": {
      "name": "python"
    },
    "accelerator": "GPU"
  },
  "cells": [
    {
      "cell_type": "code",
      "metadata": {
        "id": "BBwuJqS_WYc-"
      },
      "source": [
        "import tensorflow as tf\n",
        "from tensorflow import keras\n",
        "import matplotlib.pyplot as plt\n",
        "%matplotlib inline \n",
        "import numpy as np"
      ],
      "execution_count": 1,
      "outputs": []
    },
    {
      "cell_type": "code",
      "metadata": {
        "id": "AxFZjfcSWlBu",
        "colab": {
          "base_uri": "https://localhost:8080/"
        },
        "outputId": "3d3d5328-5854-442b-e68d-c845e77b6bae"
      },
      "source": [
        "(x_train,y_train),(x_test,y_test) = keras.datasets.mnist.load_data()"
      ],
      "execution_count": 2,
      "outputs": [
        {
          "output_type": "stream",
          "name": "stdout",
          "text": [
            "Downloading data from https://storage.googleapis.com/tensorflow/tf-keras-datasets/mnist.npz\n",
            "11493376/11490434 [==============================] - 0s 0us/step\n",
            "11501568/11490434 [==============================] - 0s 0us/step\n"
          ]
        }
      ]
    },
    {
      "cell_type": "code",
      "metadata": {
        "id": "gt_ppM1OWnku"
      },
      "source": [
        "x_train=x_train/255\n",
        "x_test=x_test/255"
      ],
      "execution_count": 3,
      "outputs": []
    },
    {
      "cell_type": "code",
      "metadata": {
        "id": "3vop7KZYWqFA"
      },
      "source": [
        "x_train_flattened=x_train.reshape(len(x_train),28*28)"
      ],
      "execution_count": 4,
      "outputs": []
    },
    {
      "cell_type": "code",
      "metadata": {
        "id": "QxwnXK6pWs1T"
      },
      "source": [
        "x_test_flattened=x_test.reshape(len(x_test),28*28)"
      ],
      "execution_count": 5,
      "outputs": []
    },
    {
      "cell_type": "code",
      "metadata": {
        "colab": {
          "base_uri": "https://localhost:8080/"
        },
        "id": "VvNWkUEWXMK7",
        "outputId": "66182684-8873-4675-8ca0-1431b1cb38e3"
      },
      "source": [
        "model_Adadelta1=keras.Sequential([\n",
        "             keras.layers.Dense(10,input_shape=(784,),activation='sigmoid') , \n",
        "             keras.layers.Dense(100,input_shape=(784,),activation='sigmoid')  ,\n",
        "             keras.layers.Dense(1000,input_shape=(784,),activation='sigmoid')  ,\n",
        "             keras.layers.Dense(1000,input_shape=(784,),activation='sigmoid')  \n",
        "                \n",
        "])\n",
        "model_Adadelta1.compile(\n",
        "    optimizer='Adadelta',\n",
        "    loss='sparse_categorical_crossentropy',\n",
        "    metrics=['accuracy']\n",
        "\n",
        ")\n",
        "model_Adadelta1.fit(x_train_flattened,y_train,epochs=5)"
      ],
      "execution_count": 6,
      "outputs": [
        {
          "output_type": "stream",
          "name": "stdout",
          "text": [
            "Epoch 1/5\n",
            "1875/1875 [==============================] - 11s 5ms/step - loss: 6.1930 - accuracy: 0.0659\n",
            "Epoch 2/5\n",
            "1875/1875 [==============================] - 9s 5ms/step - loss: 4.4031 - accuracy: 0.1078\n",
            "Epoch 3/5\n",
            "1875/1875 [==============================] - 9s 5ms/step - loss: 3.2321 - accuracy: 0.1124\n",
            "Epoch 4/5\n",
            "1875/1875 [==============================] - 9s 5ms/step - loss: 2.7247 - accuracy: 0.1124\n",
            "Epoch 5/5\n",
            "1875/1875 [==============================] - 9s 5ms/step - loss: 2.5301 - accuracy: 0.1124\n"
          ]
        },
        {
          "output_type": "execute_result",
          "data": {
            "text/plain": [
              "<keras.callbacks.History at 0x7fc1603a1c50>"
            ]
          },
          "metadata": {},
          "execution_count": 6
        }
      ]
    },
    {
      "cell_type": "code",
      "metadata": {
        "colab": {
          "base_uri": "https://localhost:8080/"
        },
        "id": "z_gDjvCaXf7N",
        "outputId": "d0705dc8-3646-461a-8c93-d8bae2e495e1"
      },
      "source": [
        "model_Adadelta2=keras.Sequential([\n",
        "             keras.layers.Dense(10,input_shape=(784,),activation='sigmoid') , \n",
        "             keras.layers.Dense(100,input_shape=(784,),activation='sigmoid')  ,\n",
        "             keras.layers.Dense(1000,input_shape=(784,),activation='sigmoid')  ,\n",
        "             keras.layers.Dense(1000,input_shape=(784,),activation='sigmoid')  \n",
        "                \n",
        "])\n",
        "model_Adadelta2.compile(\n",
        "    optimizer='Adadelta',\n",
        "    loss='sparse_categorical_crossentropy',\n",
        "    metrics=['accuracy']\n",
        "\n",
        ")\n",
        "model_Adadelta2.fit(x_train_flattened,y_train,epochs=20)"
      ],
      "execution_count": 7,
      "outputs": [
        {
          "output_type": "stream",
          "name": "stdout",
          "text": [
            "Epoch 1/20\n",
            "1875/1875 [==============================] - 9s 5ms/step - loss: 5.9242 - accuracy: 0.0798\n",
            "Epoch 2/20\n",
            "1875/1875 [==============================] - 9s 5ms/step - loss: 4.1987 - accuracy: 0.0993\n",
            "Epoch 3/20\n",
            "1875/1875 [==============================] - 9s 5ms/step - loss: 3.1311 - accuracy: 0.1001\n",
            "Epoch 4/20\n",
            "1875/1875 [==============================] - 9s 5ms/step - loss: 2.6833 - accuracy: 0.1124\n",
            "Epoch 5/20\n",
            "1875/1875 [==============================] - 9s 5ms/step - loss: 2.5132 - accuracy: 0.1124\n",
            "Epoch 6/20\n",
            "1875/1875 [==============================] - 9s 5ms/step - loss: 2.4403 - accuracy: 0.1124\n",
            "Epoch 7/20\n",
            "1875/1875 [==============================] - 9s 5ms/step - loss: 2.4027 - accuracy: 0.1124\n",
            "Epoch 8/20\n",
            "1875/1875 [==============================] - 9s 5ms/step - loss: 2.3804 - accuracy: 0.1124\n",
            "Epoch 9/20\n",
            "1875/1875 [==============================] - 9s 5ms/step - loss: 2.3659 - accuracy: 0.1124\n",
            "Epoch 10/20\n",
            "1875/1875 [==============================] - 9s 5ms/step - loss: 2.3558 - accuracy: 0.1124\n",
            "Epoch 11/20\n",
            "1875/1875 [==============================] - 9s 5ms/step - loss: 2.3483 - accuracy: 0.1124\n",
            "Epoch 12/20\n",
            "1875/1875 [==============================] - 9s 5ms/step - loss: 2.3425 - accuracy: 0.1124\n",
            "Epoch 13/20\n",
            "1875/1875 [==============================] - 9s 5ms/step - loss: 2.3380 - accuracy: 0.1124\n",
            "Epoch 14/20\n",
            "1875/1875 [==============================] - 9s 5ms/step - loss: 2.3343 - accuracy: 0.1124\n",
            "Epoch 15/20\n",
            "1875/1875 [==============================] - 9s 5ms/step - loss: 2.3313 - accuracy: 0.1124\n",
            "Epoch 16/20\n",
            "1875/1875 [==============================] - 9s 5ms/step - loss: 2.3288 - accuracy: 0.1124\n",
            "Epoch 17/20\n",
            "1875/1875 [==============================] - 9s 5ms/step - loss: 2.3267 - accuracy: 0.1124\n",
            "Epoch 18/20\n",
            "1875/1875 [==============================] - 9s 5ms/step - loss: 2.3248 - accuracy: 0.1124\n",
            "Epoch 19/20\n",
            "1875/1875 [==============================] - 9s 5ms/step - loss: 2.3233 - accuracy: 0.1124\n",
            "Epoch 20/20\n",
            "1875/1875 [==============================] - 9s 5ms/step - loss: 2.3219 - accuracy: 0.1124\n"
          ]
        },
        {
          "output_type": "execute_result",
          "data": {
            "text/plain": [
              "<keras.callbacks.History at 0x7fc160164ad0>"
            ]
          },
          "metadata": {},
          "execution_count": 7
        }
      ]
    },
    {
      "cell_type": "code",
      "metadata": {
        "colab": {
          "base_uri": "https://localhost:8080/"
        },
        "id": "NZF6ov6qXlSE",
        "outputId": "df625f67-1602-4d30-cad0-caecec791f50"
      },
      "source": [
        "model_Adadelta3=keras.Sequential([\n",
        "             keras.layers.Dense(10,input_shape=(784,),activation='sigmoid') , \n",
        "             keras.layers.Dense(100,input_shape=(784,),activation='sigmoid')  ,\n",
        "             keras.layers.Dense(1000,input_shape=(784,),activation='sigmoid')  ,\n",
        "             keras.layers.Dense(1000,input_shape=(784,),activation='sigmoid')  \n",
        "                \n",
        "])\n",
        "model_Adadelta3.compile(\n",
        "    optimizer='Adadelta',\n",
        "    loss='sparse_categorical_crossentropy',\n",
        "    metrics=['accuracy']\n",
        "\n",
        ")\n",
        "model_Adadelta3.fit(x_train_flattened,y_train,epochs=50)"
      ],
      "execution_count": 8,
      "outputs": [
        {
          "output_type": "stream",
          "name": "stdout",
          "text": [
            "Epoch 1/50\n",
            "1875/1875 [==============================] - 9s 5ms/step - loss: 6.2347 - accuracy: 0.0623\n",
            "Epoch 2/50\n",
            "1875/1875 [==============================] - 9s 5ms/step - loss: 4.4350 - accuracy: 0.1022\n",
            "Epoch 3/50\n",
            "1875/1875 [==============================] - 9s 5ms/step - loss: 3.2366 - accuracy: 0.1022\n",
            "Epoch 4/50\n",
            "1875/1875 [==============================] - 9s 5ms/step - loss: 2.7245 - accuracy: 0.1067\n",
            "Epoch 5/50\n",
            "1875/1875 [==============================] - 9s 5ms/step - loss: 2.5315 - accuracy: 0.1124\n",
            "Epoch 6/50\n",
            "1875/1875 [==============================] - 9s 5ms/step - loss: 2.4497 - accuracy: 0.1124\n",
            "Epoch 7/50\n",
            "1875/1875 [==============================] - 9s 5ms/step - loss: 2.4081 - accuracy: 0.1124\n",
            "Epoch 8/50\n",
            "1875/1875 [==============================] - 9s 5ms/step - loss: 2.3839 - accuracy: 0.1124\n",
            "Epoch 9/50\n",
            "1875/1875 [==============================] - 9s 5ms/step - loss: 2.3683 - accuracy: 0.1124\n",
            "Epoch 10/50\n",
            "1875/1875 [==============================] - 9s 5ms/step - loss: 2.3575 - accuracy: 0.1124\n",
            "Epoch 11/50\n",
            "1875/1875 [==============================] - 9s 5ms/step - loss: 2.3496 - accuracy: 0.1124\n",
            "Epoch 12/50\n",
            "1875/1875 [==============================] - 9s 5ms/step - loss: 2.3435 - accuracy: 0.1124\n",
            "Epoch 13/50\n",
            "1875/1875 [==============================] - 9s 5ms/step - loss: 2.3387 - accuracy: 0.1124\n",
            "Epoch 14/50\n",
            "1875/1875 [==============================] - 9s 5ms/step - loss: 2.3348 - accuracy: 0.1124\n",
            "Epoch 15/50\n",
            "1875/1875 [==============================] - 9s 5ms/step - loss: 2.3317 - accuracy: 0.1124\n",
            "Epoch 16/50\n",
            "1875/1875 [==============================] - 9s 5ms/step - loss: 2.3291 - accuracy: 0.1124\n",
            "Epoch 17/50\n",
            "1875/1875 [==============================] - 9s 5ms/step - loss: 2.3269 - accuracy: 0.1124\n",
            "Epoch 18/50\n",
            "1875/1875 [==============================] - 9s 5ms/step - loss: 2.3250 - accuracy: 0.1124\n",
            "Epoch 19/50\n",
            "1875/1875 [==============================] - 9s 5ms/step - loss: 2.3234 - accuracy: 0.1124\n",
            "Epoch 20/50\n",
            "1875/1875 [==============================] - 9s 5ms/step - loss: 2.3219 - accuracy: 0.1124\n",
            "Epoch 21/50\n",
            "1875/1875 [==============================] - 9s 5ms/step - loss: 2.3207 - accuracy: 0.1124\n",
            "Epoch 22/50\n",
            "1875/1875 [==============================] - 9s 5ms/step - loss: 2.3195 - accuracy: 0.1124\n",
            "Epoch 23/50\n",
            "1875/1875 [==============================] - 9s 5ms/step - loss: 2.3185 - accuracy: 0.1124\n",
            "Epoch 24/50\n",
            "1875/1875 [==============================] - 9s 5ms/step - loss: 2.3176 - accuracy: 0.1124\n",
            "Epoch 25/50\n",
            "1875/1875 [==============================] - 9s 5ms/step - loss: 2.3168 - accuracy: 0.1124\n",
            "Epoch 26/50\n",
            "1875/1875 [==============================] - 9s 5ms/step - loss: 2.3160 - accuracy: 0.1124\n",
            "Epoch 27/50\n",
            "1875/1875 [==============================] - 9s 5ms/step - loss: 2.3154 - accuracy: 0.1124\n",
            "Epoch 28/50\n",
            "1875/1875 [==============================] - 9s 5ms/step - loss: 2.3147 - accuracy: 0.1124\n",
            "Epoch 29/50\n",
            "1875/1875 [==============================] - 9s 5ms/step - loss: 2.3141 - accuracy: 0.1124\n",
            "Epoch 30/50\n",
            "1875/1875 [==============================] - 9s 5ms/step - loss: 2.3135 - accuracy: 0.1124\n",
            "Epoch 31/50\n",
            "1875/1875 [==============================] - 9s 5ms/step - loss: 2.3130 - accuracy: 0.1124\n",
            "Epoch 32/50\n",
            "1875/1875 [==============================] - 9s 5ms/step - loss: 2.3125 - accuracy: 0.1124\n",
            "Epoch 33/50\n",
            "1875/1875 [==============================] - 9s 5ms/step - loss: 2.3121 - accuracy: 0.1124\n",
            "Epoch 34/50\n",
            "1875/1875 [==============================] - 9s 5ms/step - loss: 2.3117 - accuracy: 0.1124\n",
            "Epoch 35/50\n",
            "1875/1875 [==============================] - 9s 5ms/step - loss: 2.3113 - accuracy: 0.1124\n",
            "Epoch 36/50\n",
            "1875/1875 [==============================] - 9s 5ms/step - loss: 2.3109 - accuracy: 0.1124\n",
            "Epoch 37/50\n",
            "1875/1875 [==============================] - 9s 5ms/step - loss: 2.3105 - accuracy: 0.1124\n",
            "Epoch 38/50\n",
            "1875/1875 [==============================] - 9s 5ms/step - loss: 2.3101 - accuracy: 0.1124\n",
            "Epoch 39/50\n",
            "1875/1875 [==============================] - 9s 5ms/step - loss: 2.3098 - accuracy: 0.1124\n",
            "Epoch 40/50\n",
            "1875/1875 [==============================] - 9s 5ms/step - loss: 2.3095 - accuracy: 0.1124\n",
            "Epoch 41/50\n",
            "1875/1875 [==============================] - 9s 5ms/step - loss: 2.3092 - accuracy: 0.1124\n",
            "Epoch 42/50\n",
            "1875/1875 [==============================] - 9s 5ms/step - loss: 2.3089 - accuracy: 0.1124\n",
            "Epoch 43/50\n",
            "1875/1875 [==============================] - 9s 5ms/step - loss: 2.3086 - accuracy: 0.1124\n",
            "Epoch 44/50\n",
            "1875/1875 [==============================] - 9s 5ms/step - loss: 2.3083 - accuracy: 0.1124\n",
            "Epoch 45/50\n",
            "1875/1875 [==============================] - 9s 5ms/step - loss: 2.3080 - accuracy: 0.1124\n",
            "Epoch 46/50\n",
            "1875/1875 [==============================] - 9s 5ms/step - loss: 2.3078 - accuracy: 0.1124\n",
            "Epoch 47/50\n",
            "1875/1875 [==============================] - 9s 5ms/step - loss: 2.3076 - accuracy: 0.1124\n",
            "Epoch 48/50\n",
            "1875/1875 [==============================] - 9s 5ms/step - loss: 2.3073 - accuracy: 0.1124\n",
            "Epoch 49/50\n",
            "1875/1875 [==============================] - 9s 5ms/step - loss: 2.3071 - accuracy: 0.1124\n",
            "Epoch 50/50\n",
            "1875/1875 [==============================] - 9s 5ms/step - loss: 2.3068 - accuracy: 0.1124\n"
          ]
        },
        {
          "output_type": "execute_result",
          "data": {
            "text/plain": [
              "<keras.callbacks.History at 0x7fc160079b90>"
            ]
          },
          "metadata": {},
          "execution_count": 8
        }
      ]
    },
    {
      "cell_type": "code",
      "metadata": {
        "colab": {
          "base_uri": "https://localhost:8080/"
        },
        "id": "HidPi2bjXpZO",
        "outputId": "2a353df1-4b54-4d00-c2f9-9a3dc9cf0699"
      },
      "source": [
        "model_Adadelta4=keras.Sequential([\n",
        "             keras.layers.Dense(10,input_shape=(784,),activation='sigmoid') , \n",
        "             keras.layers.Dense(100,input_shape=(784,),activation='sigmoid')  ,\n",
        "             keras.layers.Dense(1000,input_shape=(784,),activation='sigmoid')  ,\n",
        "             keras.layers.Dense(1000,input_shape=(784,),activation='sigmoid')  \n",
        "                \n",
        "])\n",
        "model_Adadelta4.compile(\n",
        "    optimizer='Adadelta',\n",
        "    loss='sparse_categorical_crossentropy',\n",
        "    metrics=['accuracy']\n",
        "\n",
        ")\n",
        "model_Adadelta4.fit(x_train_flattened,y_train,epochs=70)"
      ],
      "execution_count": 9,
      "outputs": [
        {
          "output_type": "stream",
          "name": "stdout",
          "text": [
            "Epoch 1/70\n",
            "1875/1875 [==============================] - 9s 5ms/step - loss: 5.7711 - accuracy: 0.0844\n",
            "Epoch 2/70\n",
            "1875/1875 [==============================] - 9s 5ms/step - loss: 4.0667 - accuracy: 0.0974\n",
            "Epoch 3/70\n",
            "1875/1875 [==============================] - 9s 5ms/step - loss: 3.0578 - accuracy: 0.0974\n",
            "Epoch 4/70\n",
            "1875/1875 [==============================] - 9s 5ms/step - loss: 2.6520 - accuracy: 0.1040\n",
            "Epoch 5/70\n",
            "1875/1875 [==============================] - 8s 5ms/step - loss: 2.5005 - accuracy: 0.1107\n",
            "Epoch 6/70\n",
            "1875/1875 [==============================] - 9s 5ms/step - loss: 2.4338 - accuracy: 0.1124\n",
            "Epoch 7/70\n",
            "1875/1875 [==============================] - 9s 5ms/step - loss: 2.3987 - accuracy: 0.1124\n",
            "Epoch 8/70\n",
            "1875/1875 [==============================] - 9s 5ms/step - loss: 2.3774 - accuracy: 0.1124\n",
            "Epoch 9/70\n",
            "1875/1875 [==============================] - 9s 5ms/step - loss: 2.3636 - accuracy: 0.1124\n",
            "Epoch 10/70\n",
            "1875/1875 [==============================] - 8s 5ms/step - loss: 2.3538 - accuracy: 0.1124\n",
            "Epoch 11/70\n",
            "1875/1875 [==============================] - 9s 5ms/step - loss: 2.3466 - accuracy: 0.1124\n",
            "Epoch 12/70\n",
            "1875/1875 [==============================] - 9s 5ms/step - loss: 2.3410 - accuracy: 0.1124\n",
            "Epoch 13/70\n",
            "1875/1875 [==============================] - 9s 5ms/step - loss: 2.3366 - accuracy: 0.1124\n",
            "Epoch 14/70\n",
            "1875/1875 [==============================] - 9s 5ms/step - loss: 2.3330 - accuracy: 0.1124\n",
            "Epoch 15/70\n",
            "1875/1875 [==============================] - 9s 5ms/step - loss: 2.3301 - accuracy: 0.1124\n",
            "Epoch 16/70\n",
            "1875/1875 [==============================] - 9s 5ms/step - loss: 2.3277 - accuracy: 0.1124\n",
            "Epoch 17/70\n",
            "1875/1875 [==============================] - 9s 5ms/step - loss: 2.3256 - accuracy: 0.1124\n",
            "Epoch 18/70\n",
            "1875/1875 [==============================] - 9s 5ms/step - loss: 2.3239 - accuracy: 0.1124\n",
            "Epoch 19/70\n",
            "1875/1875 [==============================] - 9s 5ms/step - loss: 2.3223 - accuracy: 0.1124\n",
            "Epoch 20/70\n",
            "1875/1875 [==============================] - 9s 5ms/step - loss: 2.3210 - accuracy: 0.1124\n",
            "Epoch 21/70\n",
            "1875/1875 [==============================] - 9s 5ms/step - loss: 2.3198 - accuracy: 0.1124\n",
            "Epoch 22/70\n",
            "1875/1875 [==============================] - 9s 5ms/step - loss: 2.3187 - accuracy: 0.1124\n",
            "Epoch 23/70\n",
            "1875/1875 [==============================] - 9s 5ms/step - loss: 2.3178 - accuracy: 0.1124\n",
            "Epoch 24/70\n",
            "1875/1875 [==============================] - 9s 5ms/step - loss: 2.3169 - accuracy: 0.1124\n",
            "Epoch 25/70\n",
            "1875/1875 [==============================] - 9s 5ms/step - loss: 2.3161 - accuracy: 0.1124\n",
            "Epoch 26/70\n",
            "1875/1875 [==============================] - 9s 5ms/step - loss: 2.3153 - accuracy: 0.1124\n",
            "Epoch 27/70\n",
            "1875/1875 [==============================] - 9s 5ms/step - loss: 2.3147 - accuracy: 0.1124\n",
            "Epoch 28/70\n",
            "1875/1875 [==============================] - 9s 5ms/step - loss: 2.3141 - accuracy: 0.1124\n",
            "Epoch 29/70\n",
            "1875/1875 [==============================] - 9s 5ms/step - loss: 2.3135 - accuracy: 0.1124\n",
            "Epoch 30/70\n",
            "1875/1875 [==============================] - 9s 5ms/step - loss: 2.3129 - accuracy: 0.1124\n",
            "Epoch 31/70\n",
            "1875/1875 [==============================] - 9s 5ms/step - loss: 2.3125 - accuracy: 0.1124\n",
            "Epoch 32/70\n",
            "1875/1875 [==============================] - 9s 5ms/step - loss: 2.3119 - accuracy: 0.1124\n",
            "Epoch 33/70\n",
            "1875/1875 [==============================] - 9s 5ms/step - loss: 2.3115 - accuracy: 0.1124\n",
            "Epoch 34/70\n",
            "1875/1875 [==============================] - 9s 5ms/step - loss: 2.3111 - accuracy: 0.1124\n",
            "Epoch 35/70\n",
            "1875/1875 [==============================] - 9s 5ms/step - loss: 2.3107 - accuracy: 0.1124\n",
            "Epoch 36/70\n",
            "1875/1875 [==============================] - 9s 5ms/step - loss: 2.3104 - accuracy: 0.1124\n",
            "Epoch 37/70\n",
            "1875/1875 [==============================] - 9s 5ms/step - loss: 2.3100 - accuracy: 0.1124\n",
            "Epoch 38/70\n",
            "1875/1875 [==============================] - 9s 5ms/step - loss: 2.3097 - accuracy: 0.1124\n",
            "Epoch 39/70\n",
            "1875/1875 [==============================] - 9s 5ms/step - loss: 2.3094 - accuracy: 0.1124\n",
            "Epoch 40/70\n",
            "1875/1875 [==============================] - 9s 5ms/step - loss: 2.3090 - accuracy: 0.1124\n",
            "Epoch 41/70\n",
            "1875/1875 [==============================] - 9s 5ms/step - loss: 2.3087 - accuracy: 0.1124\n",
            "Epoch 42/70\n",
            "1875/1875 [==============================] - 9s 5ms/step - loss: 2.3084 - accuracy: 0.1124\n",
            "Epoch 43/70\n",
            "1875/1875 [==============================] - 9s 5ms/step - loss: 2.3081 - accuracy: 0.1124\n",
            "Epoch 44/70\n",
            "1875/1875 [==============================] - 9s 5ms/step - loss: 2.3079 - accuracy: 0.1124\n",
            "Epoch 45/70\n",
            "1875/1875 [==============================] - 9s 5ms/step - loss: 2.3076 - accuracy: 0.1124\n",
            "Epoch 46/70\n",
            "1875/1875 [==============================] - 9s 5ms/step - loss: 2.3073 - accuracy: 0.1124\n",
            "Epoch 47/70\n",
            "1875/1875 [==============================] - 9s 5ms/step - loss: 2.3071 - accuracy: 0.1124\n",
            "Epoch 48/70\n",
            "1875/1875 [==============================] - 8s 5ms/step - loss: 2.3068 - accuracy: 0.1124\n",
            "Epoch 49/70\n",
            "1875/1875 [==============================] - 9s 5ms/step - loss: 2.3066 - accuracy: 0.1124\n",
            "Epoch 50/70\n",
            "1875/1875 [==============================] - 9s 5ms/step - loss: 2.3064 - accuracy: 0.1124\n",
            "Epoch 51/70\n",
            "1875/1875 [==============================] - 9s 5ms/step - loss: 2.3061 - accuracy: 0.1124\n",
            "Epoch 52/70\n",
            "1875/1875 [==============================] - 9s 5ms/step - loss: 2.3059 - accuracy: 0.1124\n",
            "Epoch 53/70\n",
            "1875/1875 [==============================] - 9s 5ms/step - loss: 2.3056 - accuracy: 0.1124\n",
            "Epoch 54/70\n",
            "1875/1875 [==============================] - 9s 5ms/step - loss: 2.3054 - accuracy: 0.1124\n",
            "Epoch 55/70\n",
            "1875/1875 [==============================] - 9s 5ms/step - loss: 2.3052 - accuracy: 0.1124\n",
            "Epoch 56/70\n",
            "1875/1875 [==============================] - 9s 5ms/step - loss: 2.3049 - accuracy: 0.1124\n",
            "Epoch 57/70\n",
            "1875/1875 [==============================] - 9s 5ms/step - loss: 2.3047 - accuracy: 0.1124\n",
            "Epoch 58/70\n",
            "1875/1875 [==============================] - 9s 5ms/step - loss: 2.3045 - accuracy: 0.1124\n",
            "Epoch 59/70\n",
            "1875/1875 [==============================] - 9s 5ms/step - loss: 2.3042 - accuracy: 0.1124\n",
            "Epoch 60/70\n",
            "1875/1875 [==============================] - 9s 5ms/step - loss: 2.3040 - accuracy: 0.1124\n",
            "Epoch 61/70\n",
            "1875/1875 [==============================] - 9s 5ms/step - loss: 2.3038 - accuracy: 0.1124\n",
            "Epoch 62/70\n",
            "1875/1875 [==============================] - 9s 5ms/step - loss: 2.3036 - accuracy: 0.1124\n",
            "Epoch 63/70\n",
            "1875/1875 [==============================] - 9s 5ms/step - loss: 2.3033 - accuracy: 0.1124\n",
            "Epoch 64/70\n",
            "1875/1875 [==============================] - 9s 5ms/step - loss: 2.3031 - accuracy: 0.1124\n",
            "Epoch 65/70\n",
            "1875/1875 [==============================] - 9s 5ms/step - loss: 2.3029 - accuracy: 0.1124\n",
            "Epoch 66/70\n",
            "1875/1875 [==============================] - 9s 5ms/step - loss: 2.3026 - accuracy: 0.1124\n",
            "Epoch 67/70\n",
            "1875/1875 [==============================] - 9s 5ms/step - loss: 2.3024 - accuracy: 0.1124\n",
            "Epoch 68/70\n",
            "1875/1875 [==============================] - 9s 5ms/step - loss: 2.3021 - accuracy: 0.1124\n",
            "Epoch 69/70\n",
            "1875/1875 [==============================] - 9s 5ms/step - loss: 2.3019 - accuracy: 0.1124\n",
            "Epoch 70/70\n",
            "1875/1875 [==============================] - 9s 5ms/step - loss: 2.3016 - accuracy: 0.1124\n"
          ]
        },
        {
          "output_type": "execute_result",
          "data": {
            "text/plain": [
              "<keras.callbacks.History at 0x7fc1230f2b10>"
            ]
          },
          "metadata": {},
          "execution_count": 9
        }
      ]
    },
    {
      "cell_type": "code",
      "metadata": {
        "colab": {
          "base_uri": "https://localhost:8080/"
        },
        "id": "gxPuPeCnXtlL",
        "outputId": "1080b640-85bf-474b-df70-58782faa20ef"
      },
      "source": [
        "model_Adadelta5=keras.Sequential([\n",
        "             keras.layers.Dense(10,input_shape=(784,),activation='sigmoid') , \n",
        "             keras.layers.Dense(100,input_shape=(784,),activation='sigmoid')  ,\n",
        "             keras.layers.Dense(1000,input_shape=(784,),activation='sigmoid')  ,\n",
        "             keras.layers.Dense(1000,input_shape=(784,),activation='sigmoid')  \n",
        "                \n",
        "])\n",
        "model_Adadelta5.compile(\n",
        "    optimizer='Adadelta',\n",
        "    loss='sparse_categorical_crossentropy',\n",
        "    metrics=['accuracy']\n",
        "\n",
        ")\n",
        "model_Adadelta5.fit(x_train_flattened,y_train,epochs=100)"
      ],
      "execution_count": 10,
      "outputs": [
        {
          "output_type": "stream",
          "name": "stdout",
          "text": [
            "Epoch 1/100\n",
            "1875/1875 [==============================] - 9s 5ms/step - loss: 6.0073 - accuracy: 0.0739\n",
            "Epoch 2/100\n",
            "1875/1875 [==============================] - 9s 5ms/step - loss: 4.2449 - accuracy: 0.0993\n",
            "Epoch 3/100\n",
            "1875/1875 [==============================] - 8s 5ms/step - loss: 3.1301 - accuracy: 0.0993\n",
            "Epoch 4/100\n",
            "1875/1875 [==============================] - 9s 5ms/step - loss: 2.6786 - accuracy: 0.1074\n",
            "Epoch 5/100\n",
            "1875/1875 [==============================] - 9s 5ms/step - loss: 2.5117 - accuracy: 0.1124\n",
            "Epoch 6/100\n",
            "1875/1875 [==============================] - 9s 5ms/step - loss: 2.4400 - accuracy: 0.1124\n",
            "Epoch 7/100\n",
            "1875/1875 [==============================] - 9s 5ms/step - loss: 2.4027 - accuracy: 0.1124\n",
            "Epoch 8/100\n",
            "1875/1875 [==============================] - 9s 5ms/step - loss: 2.3803 - accuracy: 0.1124\n",
            "Epoch 9/100\n",
            "1875/1875 [==============================] - 9s 5ms/step - loss: 2.3657 - accuracy: 0.1124\n",
            "Epoch 10/100\n",
            "1875/1875 [==============================] - 8s 5ms/step - loss: 2.3556 - accuracy: 0.1124\n",
            "Epoch 11/100\n",
            "1875/1875 [==============================] - 9s 5ms/step - loss: 2.3481 - accuracy: 0.1124\n",
            "Epoch 12/100\n",
            "1875/1875 [==============================] - 9s 5ms/step - loss: 2.3424 - accuracy: 0.1124\n",
            "Epoch 13/100\n",
            "1875/1875 [==============================] - 9s 5ms/step - loss: 2.3378 - accuracy: 0.1124\n",
            "Epoch 14/100\n",
            "1875/1875 [==============================] - 9s 5ms/step - loss: 2.3342 - accuracy: 0.1124\n",
            "Epoch 15/100\n",
            "1875/1875 [==============================] - 9s 5ms/step - loss: 2.3312 - accuracy: 0.1124\n",
            "Epoch 16/100\n",
            "1875/1875 [==============================] - 9s 5ms/step - loss: 2.3287 - accuracy: 0.1124\n",
            "Epoch 17/100\n",
            "1875/1875 [==============================] - 9s 5ms/step - loss: 2.3265 - accuracy: 0.1124\n",
            "Epoch 18/100\n",
            "1875/1875 [==============================] - 9s 5ms/step - loss: 2.3247 - accuracy: 0.1124\n",
            "Epoch 19/100\n",
            "1875/1875 [==============================] - 8s 5ms/step - loss: 2.3231 - accuracy: 0.1124\n",
            "Epoch 20/100\n",
            "1875/1875 [==============================] - 9s 5ms/step - loss: 2.3217 - accuracy: 0.1124\n",
            "Epoch 21/100\n",
            "1875/1875 [==============================] - 9s 5ms/step - loss: 2.3204 - accuracy: 0.1124\n",
            "Epoch 22/100\n",
            "1875/1875 [==============================] - 9s 5ms/step - loss: 2.3193 - accuracy: 0.1124\n",
            "Epoch 23/100\n",
            "1875/1875 [==============================] - 9s 5ms/step - loss: 2.3183 - accuracy: 0.1124\n",
            "Epoch 24/100\n",
            "1875/1875 [==============================] - 9s 5ms/step - loss: 2.3174 - accuracy: 0.1124\n",
            "Epoch 25/100\n",
            "1875/1875 [==============================] - 9s 5ms/step - loss: 2.3166 - accuracy: 0.1124\n",
            "Epoch 26/100\n",
            "1875/1875 [==============================] - 8s 5ms/step - loss: 2.3159 - accuracy: 0.1124\n",
            "Epoch 27/100\n",
            "1875/1875 [==============================] - 9s 5ms/step - loss: 2.3152 - accuracy: 0.1124\n",
            "Epoch 28/100\n",
            "1875/1875 [==============================] - 9s 5ms/step - loss: 2.3145 - accuracy: 0.1124\n",
            "Epoch 29/100\n",
            "1875/1875 [==============================] - 8s 5ms/step - loss: 2.3139 - accuracy: 0.1124\n",
            "Epoch 30/100\n",
            "1875/1875 [==============================] - 9s 5ms/step - loss: 2.3134 - accuracy: 0.1124\n",
            "Epoch 31/100\n",
            "1875/1875 [==============================] - 9s 5ms/step - loss: 2.3129 - accuracy: 0.1124\n",
            "Epoch 32/100\n",
            "1875/1875 [==============================] - 9s 5ms/step - loss: 2.3124 - accuracy: 0.1124\n",
            "Epoch 33/100\n",
            "1875/1875 [==============================] - 9s 5ms/step - loss: 2.3120 - accuracy: 0.1124\n",
            "Epoch 34/100\n",
            "1875/1875 [==============================] - 8s 5ms/step - loss: 2.3115 - accuracy: 0.1124\n",
            "Epoch 35/100\n",
            "1875/1875 [==============================] - 8s 5ms/step - loss: 2.3111 - accuracy: 0.1124\n",
            "Epoch 36/100\n",
            "1875/1875 [==============================] - 8s 5ms/step - loss: 2.3107 - accuracy: 0.1124\n",
            "Epoch 37/100\n",
            "1875/1875 [==============================] - 8s 5ms/step - loss: 2.3104 - accuracy: 0.1124\n",
            "Epoch 38/100\n",
            "1875/1875 [==============================] - 8s 4ms/step - loss: 2.3100 - accuracy: 0.1124\n",
            "Epoch 39/100\n",
            "1875/1875 [==============================] - 9s 5ms/step - loss: 2.3097 - accuracy: 0.1124\n",
            "Epoch 40/100\n",
            "1875/1875 [==============================] - 9s 5ms/step - loss: 2.3094 - accuracy: 0.1124\n",
            "Epoch 41/100\n",
            "1875/1875 [==============================] - 8s 5ms/step - loss: 2.3091 - accuracy: 0.1124\n",
            "Epoch 42/100\n",
            "1875/1875 [==============================] - 9s 5ms/step - loss: 2.3088 - accuracy: 0.1124\n",
            "Epoch 43/100\n",
            "1875/1875 [==============================] - 9s 5ms/step - loss: 2.3085 - accuracy: 0.1124\n",
            "Epoch 44/100\n",
            "1875/1875 [==============================] - 8s 5ms/step - loss: 2.3082 - accuracy: 0.1124\n",
            "Epoch 45/100\n",
            "1875/1875 [==============================] - 8s 5ms/step - loss: 2.3079 - accuracy: 0.1124\n",
            "Epoch 46/100\n",
            "1875/1875 [==============================] - 9s 5ms/step - loss: 2.3077 - accuracy: 0.1124\n",
            "Epoch 47/100\n",
            "1875/1875 [==============================] - 9s 5ms/step - loss: 2.3074 - accuracy: 0.1124\n",
            "Epoch 48/100\n",
            "1875/1875 [==============================] - 8s 5ms/step - loss: 2.3072 - accuracy: 0.1124\n",
            "Epoch 49/100\n",
            "1875/1875 [==============================] - 9s 5ms/step - loss: 2.3069 - accuracy: 0.1124\n",
            "Epoch 50/100\n",
            "1875/1875 [==============================] - 9s 5ms/step - loss: 2.3066 - accuracy: 0.1124\n",
            "Epoch 51/100\n",
            "1875/1875 [==============================] - 9s 5ms/step - loss: 2.3064 - accuracy: 0.1124\n",
            "Epoch 52/100\n",
            "1875/1875 [==============================] - 8s 5ms/step - loss: 2.3062 - accuracy: 0.1124\n",
            "Epoch 53/100\n",
            "1875/1875 [==============================] - 9s 5ms/step - loss: 2.3059 - accuracy: 0.1124\n",
            "Epoch 54/100\n",
            "1875/1875 [==============================] - 8s 5ms/step - loss: 2.3057 - accuracy: 0.1124\n",
            "Epoch 55/100\n",
            "1875/1875 [==============================] - 9s 5ms/step - loss: 2.3055 - accuracy: 0.1124\n",
            "Epoch 56/100\n",
            "1875/1875 [==============================] - 8s 5ms/step - loss: 2.3052 - accuracy: 0.1124\n",
            "Epoch 57/100\n",
            "1875/1875 [==============================] - 8s 5ms/step - loss: 2.3050 - accuracy: 0.1124\n",
            "Epoch 58/100\n",
            "1875/1875 [==============================] - 9s 5ms/step - loss: 2.3047 - accuracy: 0.1124\n",
            "Epoch 59/100\n",
            "1875/1875 [==============================] - 8s 5ms/step - loss: 2.3045 - accuracy: 0.1124\n",
            "Epoch 60/100\n",
            "1875/1875 [==============================] - 9s 5ms/step - loss: 2.3043 - accuracy: 0.1124\n",
            "Epoch 61/100\n",
            "1875/1875 [==============================] - 9s 5ms/step - loss: 2.3041 - accuracy: 0.1124\n",
            "Epoch 62/100\n",
            "1875/1875 [==============================] - 9s 5ms/step - loss: 2.3039 - accuracy: 0.1124\n",
            "Epoch 63/100\n",
            "1875/1875 [==============================] - 9s 5ms/step - loss: 2.3036 - accuracy: 0.1124\n",
            "Epoch 64/100\n",
            "1875/1875 [==============================] - 9s 5ms/step - loss: 2.3034 - accuracy: 0.1124\n",
            "Epoch 65/100\n",
            "1875/1875 [==============================] - 8s 5ms/step - loss: 2.3032 - accuracy: 0.1124\n",
            "Epoch 66/100\n",
            "1875/1875 [==============================] - 9s 5ms/step - loss: 2.3029 - accuracy: 0.1124\n",
            "Epoch 67/100\n",
            "1875/1875 [==============================] - 9s 5ms/step - loss: 2.3027 - accuracy: 0.1124\n",
            "Epoch 68/100\n",
            "1875/1875 [==============================] - 8s 5ms/step - loss: 2.3024 - accuracy: 0.1124\n",
            "Epoch 69/100\n",
            "1875/1875 [==============================] - 9s 5ms/step - loss: 2.3022 - accuracy: 0.1124\n",
            "Epoch 70/100\n",
            "1875/1875 [==============================] - 9s 5ms/step - loss: 2.3019 - accuracy: 0.1124\n",
            "Epoch 71/100\n",
            "1875/1875 [==============================] - 9s 5ms/step - loss: 2.3017 - accuracy: 0.1124\n",
            "Epoch 72/100\n",
            "1875/1875 [==============================] - 9s 5ms/step - loss: 2.3014 - accuracy: 0.1124\n",
            "Epoch 73/100\n",
            "1875/1875 [==============================] - 9s 5ms/step - loss: 2.3012 - accuracy: 0.1124\n",
            "Epoch 74/100\n",
            "1875/1875 [==============================] - 9s 5ms/step - loss: 2.3009 - accuracy: 0.1124\n",
            "Epoch 75/100\n",
            "1875/1875 [==============================] - 9s 5ms/step - loss: 2.3006 - accuracy: 0.1124\n",
            "Epoch 76/100\n",
            "1875/1875 [==============================] - 9s 5ms/step - loss: 2.3003 - accuracy: 0.1124\n",
            "Epoch 77/100\n",
            "1875/1875 [==============================] - 9s 5ms/step - loss: 2.3001 - accuracy: 0.1124\n",
            "Epoch 78/100\n",
            "1875/1875 [==============================] - 9s 5ms/step - loss: 2.2997 - accuracy: 0.1124\n",
            "Epoch 79/100\n",
            "1875/1875 [==============================] - 9s 5ms/step - loss: 2.2995 - accuracy: 0.1124\n",
            "Epoch 80/100\n",
            "1875/1875 [==============================] - 9s 5ms/step - loss: 2.2992 - accuracy: 0.1124\n",
            "Epoch 81/100\n",
            "1875/1875 [==============================] - 9s 5ms/step - loss: 2.2989 - accuracy: 0.1124\n",
            "Epoch 82/100\n",
            "1875/1875 [==============================] - 9s 5ms/step - loss: 2.2985 - accuracy: 0.1124\n",
            "Epoch 83/100\n",
            "1875/1875 [==============================] - 9s 5ms/step - loss: 2.2982 - accuracy: 0.1124\n",
            "Epoch 84/100\n",
            "1875/1875 [==============================] - 9s 5ms/step - loss: 2.2979 - accuracy: 0.1124\n",
            "Epoch 85/100\n",
            "1875/1875 [==============================] - 9s 5ms/step - loss: 2.2975 - accuracy: 0.1124\n",
            "Epoch 86/100\n",
            "1875/1875 [==============================] - 9s 5ms/step - loss: 2.2972 - accuracy: 0.1124\n",
            "Epoch 87/100\n",
            "1875/1875 [==============================] - 9s 5ms/step - loss: 2.2968 - accuracy: 0.1124\n",
            "Epoch 88/100\n",
            "1875/1875 [==============================] - 9s 5ms/step - loss: 2.2965 - accuracy: 0.1124\n",
            "Epoch 89/100\n",
            "1875/1875 [==============================] - 9s 5ms/step - loss: 2.2961 - accuracy: 0.1124\n",
            "Epoch 90/100\n",
            "1875/1875 [==============================] - 9s 5ms/step - loss: 2.2957 - accuracy: 0.1124\n",
            "Epoch 91/100\n",
            "1875/1875 [==============================] - 9s 5ms/step - loss: 2.2953 - accuracy: 0.1124\n",
            "Epoch 92/100\n",
            "1875/1875 [==============================] - 9s 5ms/step - loss: 2.2949 - accuracy: 0.1125\n",
            "Epoch 93/100\n",
            "1875/1875 [==============================] - 9s 5ms/step - loss: 2.2944 - accuracy: 0.1125\n",
            "Epoch 94/100\n",
            "1875/1875 [==============================] - 9s 5ms/step - loss: 2.2940 - accuracy: 0.1124\n",
            "Epoch 95/100\n",
            "1875/1875 [==============================] - 9s 5ms/step - loss: 2.2935 - accuracy: 0.1124\n",
            "Epoch 96/100\n",
            "1875/1875 [==============================] - 9s 5ms/step - loss: 2.2931 - accuracy: 0.1124\n",
            "Epoch 97/100\n",
            "1875/1875 [==============================] - 9s 5ms/step - loss: 2.2926 - accuracy: 0.1171\n",
            "Epoch 98/100\n",
            "1875/1875 [==============================] - 9s 5ms/step - loss: 2.2921 - accuracy: 0.1124\n",
            "Epoch 99/100\n",
            "1875/1875 [==============================] - 9s 5ms/step - loss: 2.2916 - accuracy: 0.1164\n",
            "Epoch 100/100\n",
            "1875/1875 [==============================] - 9s 5ms/step - loss: 2.2910 - accuracy: 0.1129\n"
          ]
        },
        {
          "output_type": "execute_result",
          "data": {
            "text/plain": [
              "<keras.callbacks.History at 0x7fc123158650>"
            ]
          },
          "metadata": {},
          "execution_count": 10
        }
      ]
    },
    {
      "cell_type": "code",
      "metadata": {
        "colab": {
          "base_uri": "https://localhost:8080/"
        },
        "id": "LdOhn_X_YHAr",
        "outputId": "4fbfa86a-7297-40ff-acac-65f49f70f7b5"
      },
      "source": [
        "y_pred_Adadelta1=model_Adadelta1.predict(x_test_flattened)\n",
        "y_pred_Adadeltaf1=[np.argmax(i) for i in y_pred_Adadelta1]\n",
        "from keras import metrics \n",
        "from sklearn.metrics import *\n",
        "Adadelta_acc1=accuracy_score(y_pred_Adadeltaf1,y_test)\n",
        "print(Adadelta_acc1)"
      ],
      "execution_count": 11,
      "outputs": [
        {
          "output_type": "stream",
          "name": "stdout",
          "text": [
            "0.1135\n"
          ]
        }
      ]
    },
    {
      "cell_type": "code",
      "metadata": {
        "colab": {
          "base_uri": "https://localhost:8080/"
        },
        "id": "HBN4EmVrYhXy",
        "outputId": "1bda63a4-41e7-412c-f560-5fe4dfe79344"
      },
      "source": [
        "y_pred_Adadelta2=model_Adadelta2.predict(x_test_flattened)\n",
        "y_pred_Adadeltaf2=[np.argmax(i) for i in y_pred_Adadelta2]\n",
        "from keras import metrics \n",
        "from sklearn.metrics import *\n",
        "Adadelta_acc2=accuracy_score(y_pred_Adadeltaf2,y_test)\n",
        "print(Adadelta_acc2)"
      ],
      "execution_count": 12,
      "outputs": [
        {
          "output_type": "stream",
          "name": "stdout",
          "text": [
            "0.1135\n"
          ]
        }
      ]
    },
    {
      "cell_type": "code",
      "metadata": {
        "colab": {
          "base_uri": "https://localhost:8080/"
        },
        "id": "xGWxpIqeYtWT",
        "outputId": "d53f7bff-9ae8-41e8-8e04-1fd7f62cd602"
      },
      "source": [
        "y_pred_Adadelta3=model_Adadelta3.predict(x_test_flattened)\n",
        "y_pred_Adadeltaf3=[np.argmax(i) for i in y_pred_Adadelta3]\n",
        "from keras import metrics \n",
        "from sklearn.metrics import *\n",
        "Adadelta_acc3=accuracy_score(y_pred_Adadeltaf3,y_test)\n",
        "print(Adadelta_acc3)"
      ],
      "execution_count": 13,
      "outputs": [
        {
          "output_type": "stream",
          "name": "stdout",
          "text": [
            "0.1135\n"
          ]
        }
      ]
    },
    {
      "cell_type": "code",
      "metadata": {
        "colab": {
          "base_uri": "https://localhost:8080/"
        },
        "id": "EoQIEDLHYyyT",
        "outputId": "ff2acf0c-96e0-4d2a-99c1-27d73c9c17af"
      },
      "source": [
        "y_pred_Adadelta4=model_Adadelta4.predict(x_test_flattened)\n",
        "y_pred_Adadeltaf4=[np.argmax(i) for i in y_pred_Adadelta4]\n",
        "from keras import metrics \n",
        "from sklearn.metrics import *\n",
        "Adadelta_acc4=accuracy_score(y_pred_Adadeltaf4,y_test)\n",
        "print(Adadelta_acc4)"
      ],
      "execution_count": 14,
      "outputs": [
        {
          "output_type": "stream",
          "name": "stdout",
          "text": [
            "0.1135\n"
          ]
        }
      ]
    },
    {
      "cell_type": "code",
      "metadata": {
        "colab": {
          "base_uri": "https://localhost:8080/"
        },
        "id": "XLsrxos8Y4-c",
        "outputId": "28da9c3d-82a7-46c1-904f-10ef12c60162"
      },
      "source": [
        "y_pred_Adadelta5=model_Adadelta5.predict(x_test_flattened)\n",
        "y_pred_Adadeltaf5=[np.argmax(i) for i in y_pred_Adadelta5]\n",
        "from keras import metrics \n",
        "from sklearn.metrics import *\n",
        "Adadelta_acc5=accuracy_score(y_pred_Adadeltaf5,y_test)\n",
        "print(Adadelta_acc5)"
      ],
      "execution_count": 15,
      "outputs": [
        {
          "output_type": "stream",
          "name": "stdout",
          "text": [
            "0.1135\n"
          ]
        }
      ]
    },
    {
      "cell_type": "code",
      "metadata": {
        "id": "ojLtK7BiZggJ"
      },
      "source": [
        ""
      ],
      "execution_count": null,
      "outputs": []
    }
  ]
}