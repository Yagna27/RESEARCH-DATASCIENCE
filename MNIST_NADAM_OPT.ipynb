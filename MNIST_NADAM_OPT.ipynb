{
  "nbformat": 4,
  "nbformat_minor": 0,
  "metadata": {
    "colab": {
      "name": "MNIST--NADAM--OPT.ipynb",
      "provenance": [],
      "collapsed_sections": []
    },
    "kernelspec": {
      "name": "python3",
      "display_name": "Python 3"
    },
    "language_info": {
      "name": "python"
    },
    "accelerator": "GPU"
  },
  "cells": [
    {
      "cell_type": "code",
      "metadata": {
        "id": "uIB05h4SDOjM"
      },
      "source": [
        "import tensorflow as tf\n",
        "from tensorflow import keras\n",
        "import matplotlib.pyplot as plt\n",
        "%matplotlib inline \n",
        "import numpy as np"
      ],
      "execution_count": 1,
      "outputs": []
    },
    {
      "cell_type": "code",
      "metadata": {
        "colab": {
          "base_uri": "https://localhost:8080/"
        },
        "id": "YlWFuCrfDW5X",
        "outputId": "435bef5e-7752-4296-d5bd-c42dd690ff76"
      },
      "source": [
        "(x_train,y_train),(x_test,y_test) = keras.datasets.mnist.load_data()"
      ],
      "execution_count": 2,
      "outputs": [
        {
          "output_type": "stream",
          "name": "stdout",
          "text": [
            "Downloading data from https://storage.googleapis.com/tensorflow/tf-keras-datasets/mnist.npz\n",
            "11493376/11490434 [==============================] - 0s 0us/step\n",
            "11501568/11490434 [==============================] - 0s 0us/step\n"
          ]
        }
      ]
    },
    {
      "cell_type": "code",
      "metadata": {
        "id": "ojkSndtIDdKC"
      },
      "source": [
        "x_train=x_train/255\n",
        "x_test=x_test/255"
      ],
      "execution_count": 3,
      "outputs": []
    },
    {
      "cell_type": "code",
      "metadata": {
        "id": "6WEF35yPDi8J"
      },
      "source": [
        "x_train_flattened=x_train.reshape(len(x_train),28*28)"
      ],
      "execution_count": 4,
      "outputs": []
    },
    {
      "cell_type": "code",
      "metadata": {
        "id": "WUlOoKIxDoGT"
      },
      "source": [
        "x_test_flattened=x_test.reshape(len(x_test),28*28)"
      ],
      "execution_count": 5,
      "outputs": []
    },
    {
      "cell_type": "code",
      "metadata": {
        "colab": {
          "base_uri": "https://localhost:8080/"
        },
        "id": "WKtH2j6VDqvb",
        "outputId": "6910ddbe-1580-4fa5-e0f5-a6e0530bf3b4"
      },
      "source": [
        "pip install tensorflow-addons"
      ],
      "execution_count": 6,
      "outputs": [
        {
          "output_type": "stream",
          "name": "stdout",
          "text": [
            "Collecting tensorflow-addons\n",
            "  Downloading tensorflow_addons-0.14.0-cp37-cp37m-manylinux_2_12_x86_64.manylinux2010_x86_64.whl (1.1 MB)\n",
            "\u001b[?25l\r\u001b[K     |▎                               | 10 kB 23.5 MB/s eta 0:00:01\r\u001b[K     |▋                               | 20 kB 29.3 MB/s eta 0:00:01\r\u001b[K     |▉                               | 30 kB 24.6 MB/s eta 0:00:01\r\u001b[K     |█▏                              | 40 kB 19.1 MB/s eta 0:00:01\r\u001b[K     |█▌                              | 51 kB 14.8 MB/s eta 0:00:01\r\u001b[K     |█▊                              | 61 kB 11.4 MB/s eta 0:00:01\r\u001b[K     |██                              | 71 kB 12.5 MB/s eta 0:00:01\r\u001b[K     |██▍                             | 81 kB 13.7 MB/s eta 0:00:01\r\u001b[K     |██▋                             | 92 kB 13.7 MB/s eta 0:00:01\r\u001b[K     |███                             | 102 kB 10.4 MB/s eta 0:00:01\r\u001b[K     |███▎                            | 112 kB 10.4 MB/s eta 0:00:01\r\u001b[K     |███▌                            | 122 kB 10.4 MB/s eta 0:00:01\r\u001b[K     |███▉                            | 133 kB 10.4 MB/s eta 0:00:01\r\u001b[K     |████▏                           | 143 kB 10.4 MB/s eta 0:00:01\r\u001b[K     |████▍                           | 153 kB 10.4 MB/s eta 0:00:01\r\u001b[K     |████▊                           | 163 kB 10.4 MB/s eta 0:00:01\r\u001b[K     |█████                           | 174 kB 10.4 MB/s eta 0:00:01\r\u001b[K     |█████▎                          | 184 kB 10.4 MB/s eta 0:00:01\r\u001b[K     |█████▋                          | 194 kB 10.4 MB/s eta 0:00:01\r\u001b[K     |██████                          | 204 kB 10.4 MB/s eta 0:00:01\r\u001b[K     |██████▏                         | 215 kB 10.4 MB/s eta 0:00:01\r\u001b[K     |██████▌                         | 225 kB 10.4 MB/s eta 0:00:01\r\u001b[K     |██████▉                         | 235 kB 10.4 MB/s eta 0:00:01\r\u001b[K     |███████                         | 245 kB 10.4 MB/s eta 0:00:01\r\u001b[K     |███████▍                        | 256 kB 10.4 MB/s eta 0:00:01\r\u001b[K     |███████▊                        | 266 kB 10.4 MB/s eta 0:00:01\r\u001b[K     |████████                        | 276 kB 10.4 MB/s eta 0:00:01\r\u001b[K     |████████▎                       | 286 kB 10.4 MB/s eta 0:00:01\r\u001b[K     |████████▋                       | 296 kB 10.4 MB/s eta 0:00:01\r\u001b[K     |████████▉                       | 307 kB 10.4 MB/s eta 0:00:01\r\u001b[K     |█████████▏                      | 317 kB 10.4 MB/s eta 0:00:01\r\u001b[K     |█████████▌                      | 327 kB 10.4 MB/s eta 0:00:01\r\u001b[K     |█████████▊                      | 337 kB 10.4 MB/s eta 0:00:01\r\u001b[K     |██████████                      | 348 kB 10.4 MB/s eta 0:00:01\r\u001b[K     |██████████▍                     | 358 kB 10.4 MB/s eta 0:00:01\r\u001b[K     |██████████▋                     | 368 kB 10.4 MB/s eta 0:00:01\r\u001b[K     |███████████                     | 378 kB 10.4 MB/s eta 0:00:01\r\u001b[K     |███████████▎                    | 389 kB 10.4 MB/s eta 0:00:01\r\u001b[K     |███████████▌                    | 399 kB 10.4 MB/s eta 0:00:01\r\u001b[K     |███████████▉                    | 409 kB 10.4 MB/s eta 0:00:01\r\u001b[K     |████████████▏                   | 419 kB 10.4 MB/s eta 0:00:01\r\u001b[K     |████████████▍                   | 430 kB 10.4 MB/s eta 0:00:01\r\u001b[K     |████████████▊                   | 440 kB 10.4 MB/s eta 0:00:01\r\u001b[K     |█████████████                   | 450 kB 10.4 MB/s eta 0:00:01\r\u001b[K     |█████████████▎                  | 460 kB 10.4 MB/s eta 0:00:01\r\u001b[K     |█████████████▋                  | 471 kB 10.4 MB/s eta 0:00:01\r\u001b[K     |██████████████                  | 481 kB 10.4 MB/s eta 0:00:01\r\u001b[K     |██████████████▏                 | 491 kB 10.4 MB/s eta 0:00:01\r\u001b[K     |██████████████▌                 | 501 kB 10.4 MB/s eta 0:00:01\r\u001b[K     |██████████████▉                 | 512 kB 10.4 MB/s eta 0:00:01\r\u001b[K     |███████████████                 | 522 kB 10.4 MB/s eta 0:00:01\r\u001b[K     |███████████████▍                | 532 kB 10.4 MB/s eta 0:00:01\r\u001b[K     |███████████████▊                | 542 kB 10.4 MB/s eta 0:00:01\r\u001b[K     |████████████████                | 552 kB 10.4 MB/s eta 0:00:01\r\u001b[K     |████████████████▎               | 563 kB 10.4 MB/s eta 0:00:01\r\u001b[K     |████████████████▋               | 573 kB 10.4 MB/s eta 0:00:01\r\u001b[K     |████████████████▉               | 583 kB 10.4 MB/s eta 0:00:01\r\u001b[K     |█████████████████▏              | 593 kB 10.4 MB/s eta 0:00:01\r\u001b[K     |█████████████████▌              | 604 kB 10.4 MB/s eta 0:00:01\r\u001b[K     |█████████████████▊              | 614 kB 10.4 MB/s eta 0:00:01\r\u001b[K     |██████████████████              | 624 kB 10.4 MB/s eta 0:00:01\r\u001b[K     |██████████████████▍             | 634 kB 10.4 MB/s eta 0:00:01\r\u001b[K     |██████████████████▋             | 645 kB 10.4 MB/s eta 0:00:01\r\u001b[K     |███████████████████             | 655 kB 10.4 MB/s eta 0:00:01\r\u001b[K     |███████████████████▎            | 665 kB 10.4 MB/s eta 0:00:01\r\u001b[K     |███████████████████▌            | 675 kB 10.4 MB/s eta 0:00:01\r\u001b[K     |███████████████████▉            | 686 kB 10.4 MB/s eta 0:00:01\r\u001b[K     |████████████████████▏           | 696 kB 10.4 MB/s eta 0:00:01\r\u001b[K     |████████████████████▍           | 706 kB 10.4 MB/s eta 0:00:01\r\u001b[K     |████████████████████▊           | 716 kB 10.4 MB/s eta 0:00:01\r\u001b[K     |█████████████████████           | 727 kB 10.4 MB/s eta 0:00:01\r\u001b[K     |█████████████████████▎          | 737 kB 10.4 MB/s eta 0:00:01\r\u001b[K     |█████████████████████▋          | 747 kB 10.4 MB/s eta 0:00:01\r\u001b[K     |██████████████████████          | 757 kB 10.4 MB/s eta 0:00:01\r\u001b[K     |██████████████████████▏         | 768 kB 10.4 MB/s eta 0:00:01\r\u001b[K     |██████████████████████▌         | 778 kB 10.4 MB/s eta 0:00:01\r\u001b[K     |██████████████████████▉         | 788 kB 10.4 MB/s eta 0:00:01\r\u001b[K     |███████████████████████         | 798 kB 10.4 MB/s eta 0:00:01\r\u001b[K     |███████████████████████▍        | 808 kB 10.4 MB/s eta 0:00:01\r\u001b[K     |███████████████████████▊        | 819 kB 10.4 MB/s eta 0:00:01\r\u001b[K     |████████████████████████        | 829 kB 10.4 MB/s eta 0:00:01\r\u001b[K     |████████████████████████▎       | 839 kB 10.4 MB/s eta 0:00:01\r\u001b[K     |████████████████████████▋       | 849 kB 10.4 MB/s eta 0:00:01\r\u001b[K     |████████████████████████▉       | 860 kB 10.4 MB/s eta 0:00:01\r\u001b[K     |█████████████████████████▏      | 870 kB 10.4 MB/s eta 0:00:01\r\u001b[K     |█████████████████████████▍      | 880 kB 10.4 MB/s eta 0:00:01\r\u001b[K     |█████████████████████████▊      | 890 kB 10.4 MB/s eta 0:00:01\r\u001b[K     |██████████████████████████      | 901 kB 10.4 MB/s eta 0:00:01\r\u001b[K     |██████████████████████████▎     | 911 kB 10.4 MB/s eta 0:00:01\r\u001b[K     |██████████████████████████▋     | 921 kB 10.4 MB/s eta 0:00:01\r\u001b[K     |███████████████████████████     | 931 kB 10.4 MB/s eta 0:00:01\r\u001b[K     |███████████████████████████▏    | 942 kB 10.4 MB/s eta 0:00:01\r\u001b[K     |███████████████████████████▌    | 952 kB 10.4 MB/s eta 0:00:01\r\u001b[K     |███████████████████████████▉    | 962 kB 10.4 MB/s eta 0:00:01\r\u001b[K     |████████████████████████████    | 972 kB 10.4 MB/s eta 0:00:01\r\u001b[K     |████████████████████████████▍   | 983 kB 10.4 MB/s eta 0:00:01\r\u001b[K     |████████████████████████████▊   | 993 kB 10.4 MB/s eta 0:00:01\r\u001b[K     |█████████████████████████████   | 1.0 MB 10.4 MB/s eta 0:00:01\r\u001b[K     |█████████████████████████████▎  | 1.0 MB 10.4 MB/s eta 0:00:01\r\u001b[K     |█████████████████████████████▋  | 1.0 MB 10.4 MB/s eta 0:00:01\r\u001b[K     |█████████████████████████████▉  | 1.0 MB 10.4 MB/s eta 0:00:01\r\u001b[K     |██████████████████████████████▏ | 1.0 MB 10.4 MB/s eta 0:00:01\r\u001b[K     |██████████████████████████████▌ | 1.1 MB 10.4 MB/s eta 0:00:01\r\u001b[K     |██████████████████████████████▊ | 1.1 MB 10.4 MB/s eta 0:00:01\r\u001b[K     |███████████████████████████████ | 1.1 MB 10.4 MB/s eta 0:00:01\r\u001b[K     |███████████████████████████████▍| 1.1 MB 10.4 MB/s eta 0:00:01\r\u001b[K     |███████████████████████████████▋| 1.1 MB 10.4 MB/s eta 0:00:01\r\u001b[K     |████████████████████████████████| 1.1 MB 10.4 MB/s eta 0:00:01\r\u001b[K     |████████████████████████████████| 1.1 MB 10.4 MB/s \n",
            "\u001b[?25hRequirement already satisfied: typeguard>=2.7 in /usr/local/lib/python3.7/dist-packages (from tensorflow-addons) (2.7.1)\n",
            "Installing collected packages: tensorflow-addons\n",
            "Successfully installed tensorflow-addons-0.14.0\n"
          ]
        }
      ]
    },
    {
      "cell_type": "code",
      "metadata": {
        "id": "Z5sE1rdCDskj"
      },
      "source": [
        "import tensorflow as tf\n",
        "import tensorflow_addons as tfa"
      ],
      "execution_count": 7,
      "outputs": []
    },
    {
      "cell_type": "code",
      "metadata": {
        "colab": {
          "base_uri": "https://localhost:8080/"
        },
        "id": "oz-sDpY7Duf9",
        "outputId": "534f292b-c644-44f6-a3f5-b712cde5e034"
      },
      "source": [
        "import tensorflow as tf\n",
        "import tensorflow_addons as tfa\n",
        "model_nadam1=keras.Sequential([\n",
        "             keras.layers.Dense(10,input_shape=(784,),activation='sigmoid') , \n",
        "             keras.layers.Dense(100,input_shape=(784,),activation='sigmoid')  ,\n",
        "             keras.layers.Dense(1000,input_shape=(784,),activation='sigmoid')  ,\n",
        "             keras.layers.Dense(1000,input_shape=(784,),activation='sigmoid')  \n",
        "                \n",
        "])\n",
        "model_nadam1.compile(\n",
        "    optimizer='Nadam',\n",
        "    loss='sparse_categorical_crossentropy',\n",
        "    metrics=['accuracy']\n",
        "\n",
        ")\n",
        "model_nadam1.fit(x_train_flattened,y_train,epochs=5)"
      ],
      "execution_count": 8,
      "outputs": [
        {
          "output_type": "stream",
          "name": "stdout",
          "text": [
            "Epoch 1/5\n",
            "1875/1875 [==============================] - 15s 6ms/step - loss: 0.8475 - accuracy: 0.7259\n",
            "Epoch 2/5\n",
            "1875/1875 [==============================] - 11s 6ms/step - loss: 0.3908 - accuracy: 0.8877\n",
            "Epoch 3/5\n",
            "1875/1875 [==============================] - 11s 6ms/step - loss: 0.3066 - accuracy: 0.9113\n",
            "Epoch 4/5\n",
            "1875/1875 [==============================] - 11s 6ms/step - loss: 0.2633 - accuracy: 0.9227\n",
            "Epoch 5/5\n",
            "1875/1875 [==============================] - 11s 6ms/step - loss: 0.2377 - accuracy: 0.9296\n"
          ]
        },
        {
          "output_type": "execute_result",
          "data": {
            "text/plain": [
              "<keras.callbacks.History at 0x7fe1f076e290>"
            ]
          },
          "metadata": {},
          "execution_count": 8
        }
      ]
    },
    {
      "cell_type": "code",
      "metadata": {
        "colab": {
          "base_uri": "https://localhost:8080/"
        },
        "id": "OqvX7WdyEB1k",
        "outputId": "9a3bca0d-3a2f-4bec-9093-7374160383d9"
      },
      "source": [
        "import tensorflow as tf\n",
        "import tensorflow_addons as tfa\n",
        "model_nadam2=keras.Sequential([\n",
        "             keras.layers.Dense(10,input_shape=(784,),activation='sigmoid') , \n",
        "             keras.layers.Dense(100,input_shape=(784,),activation='sigmoid')  ,\n",
        "             keras.layers.Dense(1000,input_shape=(784,),activation='sigmoid')  ,\n",
        "             keras.layers.Dense(1000,input_shape=(784,),activation='sigmoid')  \n",
        "                \n",
        "])\n",
        "model_nadam2.compile(\n",
        "    optimizer='Nadam',\n",
        "    loss='sparse_categorical_crossentropy',\n",
        "    metrics=['accuracy']\n",
        "\n",
        ")\n",
        "model_nadam2.fit(x_train_flattened,y_train,epochs=20)"
      ],
      "execution_count": 9,
      "outputs": [
        {
          "output_type": "stream",
          "name": "stdout",
          "text": [
            "Epoch 1/20\n",
            "1875/1875 [==============================] - 12s 6ms/step - loss: 0.8579 - accuracy: 0.7219\n",
            "Epoch 2/20\n",
            "1875/1875 [==============================] - 11s 6ms/step - loss: 0.3776 - accuracy: 0.8921\n",
            "Epoch 3/20\n",
            "1875/1875 [==============================] - 11s 6ms/step - loss: 0.3026 - accuracy: 0.9127\n",
            "Epoch 4/20\n",
            "1875/1875 [==============================] - 11s 6ms/step - loss: 0.2665 - accuracy: 0.9229\n",
            "Epoch 5/20\n",
            "1875/1875 [==============================] - 11s 6ms/step - loss: 0.2419 - accuracy: 0.9286\n",
            "Epoch 6/20\n",
            "1875/1875 [==============================] - 11s 6ms/step - loss: 0.2252 - accuracy: 0.9332\n",
            "Epoch 7/20\n",
            "1875/1875 [==============================] - 11s 6ms/step - loss: 0.2099 - accuracy: 0.9368\n",
            "Epoch 8/20\n",
            "1875/1875 [==============================] - 11s 6ms/step - loss: 0.1990 - accuracy: 0.9400\n",
            "Epoch 9/20\n",
            "1875/1875 [==============================] - 11s 6ms/step - loss: 0.1899 - accuracy: 0.9426\n",
            "Epoch 10/20\n",
            "1875/1875 [==============================] - 11s 6ms/step - loss: 0.1811 - accuracy: 0.9451\n",
            "Epoch 11/20\n",
            "1875/1875 [==============================] - 11s 6ms/step - loss: 0.1752 - accuracy: 0.9478\n",
            "Epoch 12/20\n",
            "1875/1875 [==============================] - 11s 6ms/step - loss: 0.1700 - accuracy: 0.9491\n",
            "Epoch 13/20\n",
            "1875/1875 [==============================] - 11s 6ms/step - loss: 0.1650 - accuracy: 0.9501\n",
            "Epoch 14/20\n",
            "1875/1875 [==============================] - 11s 6ms/step - loss: 0.1599 - accuracy: 0.9514\n",
            "Epoch 15/20\n",
            "1875/1875 [==============================] - 11s 6ms/step - loss: 0.1562 - accuracy: 0.9524\n",
            "Epoch 16/20\n",
            "1875/1875 [==============================] - 11s 6ms/step - loss: 0.1528 - accuracy: 0.9537\n",
            "Epoch 17/20\n",
            "1875/1875 [==============================] - 11s 6ms/step - loss: 0.1489 - accuracy: 0.9545\n",
            "Epoch 18/20\n",
            "1875/1875 [==============================] - 11s 6ms/step - loss: 0.1459 - accuracy: 0.9548\n",
            "Epoch 19/20\n",
            "1875/1875 [==============================] - 11s 6ms/step - loss: 0.1419 - accuracy: 0.9564\n",
            "Epoch 20/20\n",
            "1875/1875 [==============================] - 11s 6ms/step - loss: 0.1401 - accuracy: 0.9568\n"
          ]
        },
        {
          "output_type": "execute_result",
          "data": {
            "text/plain": [
              "<keras.callbacks.History at 0x7fe1f0416610>"
            ]
          },
          "metadata": {},
          "execution_count": 9
        }
      ]
    },
    {
      "cell_type": "code",
      "metadata": {
        "colab": {
          "base_uri": "https://localhost:8080/"
        },
        "id": "jmD7azv_EIAW",
        "outputId": "4c71ea07-30ad-4e7e-b07d-3c0bd30b709b"
      },
      "source": [
        "import tensorflow as tf\n",
        "import tensorflow_addons as tfa\n",
        "model_nadam3=keras.Sequential([\n",
        "             keras.layers.Dense(10,input_shape=(784,),activation='sigmoid') , \n",
        "             keras.layers.Dense(100,input_shape=(784,),activation='sigmoid')  ,\n",
        "             keras.layers.Dense(1000,input_shape=(784,),activation='sigmoid')  ,\n",
        "             keras.layers.Dense(1000,input_shape=(784,),activation='sigmoid')  \n",
        "                \n",
        "])\n",
        "model_nadam3.compile(\n",
        "    optimizer='Nadam',\n",
        "    loss='sparse_categorical_crossentropy',\n",
        "    metrics=['accuracy']\n",
        "\n",
        ")\n",
        "model_nadam3.fit(x_train_flattened,y_train,epochs=50)"
      ],
      "execution_count": 10,
      "outputs": [
        {
          "output_type": "stream",
          "name": "stdout",
          "text": [
            "Epoch 1/50\n",
            "1875/1875 [==============================] - 12s 6ms/step - loss: 0.8226 - accuracy: 0.7410\n",
            "Epoch 2/50\n",
            "1875/1875 [==============================] - 11s 6ms/step - loss: 0.3692 - accuracy: 0.8949\n",
            "Epoch 3/50\n",
            "1875/1875 [==============================] - 11s 6ms/step - loss: 0.3050 - accuracy: 0.9112\n",
            "Epoch 4/50\n",
            "1875/1875 [==============================] - 11s 6ms/step - loss: 0.2667 - accuracy: 0.9217\n",
            "Epoch 5/50\n",
            "1875/1875 [==============================] - 11s 6ms/step - loss: 0.2435 - accuracy: 0.9279\n",
            "Epoch 6/50\n",
            "1875/1875 [==============================] - 11s 6ms/step - loss: 0.2261 - accuracy: 0.9324\n",
            "Epoch 7/50\n",
            "1875/1875 [==============================] - 11s 6ms/step - loss: 0.2144 - accuracy: 0.9352\n",
            "Epoch 8/50\n",
            "1875/1875 [==============================] - 11s 6ms/step - loss: 0.2054 - accuracy: 0.9380\n",
            "Epoch 9/50\n",
            "1875/1875 [==============================] - 11s 6ms/step - loss: 0.1972 - accuracy: 0.9402\n",
            "Epoch 10/50\n",
            "1875/1875 [==============================] - 11s 6ms/step - loss: 0.1908 - accuracy: 0.9414\n",
            "Epoch 11/50\n",
            "1875/1875 [==============================] - 11s 6ms/step - loss: 0.1844 - accuracy: 0.9433\n",
            "Epoch 12/50\n",
            "1875/1875 [==============================] - 11s 6ms/step - loss: 0.1796 - accuracy: 0.9442\n",
            "Epoch 13/50\n",
            "1875/1875 [==============================] - 11s 6ms/step - loss: 0.1750 - accuracy: 0.9466\n",
            "Epoch 14/50\n",
            "1875/1875 [==============================] - 11s 6ms/step - loss: 0.1710 - accuracy: 0.9474\n",
            "Epoch 15/50\n",
            "1875/1875 [==============================] - 11s 6ms/step - loss: 0.1676 - accuracy: 0.9478\n",
            "Epoch 16/50\n",
            "1875/1875 [==============================] - 11s 6ms/step - loss: 0.1629 - accuracy: 0.9492\n",
            "Epoch 17/50\n",
            "1875/1875 [==============================] - 11s 6ms/step - loss: 0.1604 - accuracy: 0.9501\n",
            "Epoch 18/50\n",
            "1875/1875 [==============================] - 11s 6ms/step - loss: 0.1577 - accuracy: 0.9507\n",
            "Epoch 19/50\n",
            "1875/1875 [==============================] - 11s 6ms/step - loss: 0.1531 - accuracy: 0.9529\n",
            "Epoch 20/50\n",
            "1875/1875 [==============================] - 11s 6ms/step - loss: 0.1509 - accuracy: 0.9538\n",
            "Epoch 21/50\n",
            "1875/1875 [==============================] - 11s 6ms/step - loss: 0.1482 - accuracy: 0.9535\n",
            "Epoch 22/50\n",
            "1875/1875 [==============================] - 11s 6ms/step - loss: 0.1459 - accuracy: 0.9540\n",
            "Epoch 23/50\n",
            "1875/1875 [==============================] - 11s 6ms/step - loss: 0.1418 - accuracy: 0.9557\n",
            "Epoch 24/50\n",
            "1875/1875 [==============================] - 11s 6ms/step - loss: 0.1406 - accuracy: 0.9557\n",
            "Epoch 25/50\n",
            "1875/1875 [==============================] - 11s 6ms/step - loss: 0.1382 - accuracy: 0.9561\n",
            "Epoch 26/50\n",
            "1875/1875 [==============================] - 11s 6ms/step - loss: 0.1367 - accuracy: 0.9569\n",
            "Epoch 27/50\n",
            "1875/1875 [==============================] - 11s 6ms/step - loss: 0.1332 - accuracy: 0.9584\n",
            "Epoch 28/50\n",
            "1875/1875 [==============================] - 11s 6ms/step - loss: 0.1316 - accuracy: 0.9582\n",
            "Epoch 29/50\n",
            "1875/1875 [==============================] - 11s 6ms/step - loss: 0.1282 - accuracy: 0.9594\n",
            "Epoch 30/50\n",
            "1875/1875 [==============================] - 11s 6ms/step - loss: 0.1273 - accuracy: 0.9598\n",
            "Epoch 31/50\n",
            "1875/1875 [==============================] - 11s 6ms/step - loss: 0.1265 - accuracy: 0.9600\n",
            "Epoch 32/50\n",
            "1875/1875 [==============================] - 11s 6ms/step - loss: 0.1242 - accuracy: 0.9603\n",
            "Epoch 33/50\n",
            "1875/1875 [==============================] - 11s 6ms/step - loss: 0.1224 - accuracy: 0.9607\n",
            "Epoch 34/50\n",
            "1875/1875 [==============================] - 11s 6ms/step - loss: 0.1198 - accuracy: 0.9620\n",
            "Epoch 35/50\n",
            "1875/1875 [==============================] - 11s 6ms/step - loss: 0.1187 - accuracy: 0.9627\n",
            "Epoch 36/50\n",
            "1875/1875 [==============================] - 11s 6ms/step - loss: 0.1172 - accuracy: 0.9622\n",
            "Epoch 37/50\n",
            "1875/1875 [==============================] - 11s 6ms/step - loss: 0.1161 - accuracy: 0.9626\n",
            "Epoch 38/50\n",
            "1875/1875 [==============================] - 11s 6ms/step - loss: 0.1143 - accuracy: 0.9628\n",
            "Epoch 39/50\n",
            "1875/1875 [==============================] - 11s 6ms/step - loss: 0.1127 - accuracy: 0.9636\n",
            "Epoch 40/50\n",
            "1875/1875 [==============================] - 11s 6ms/step - loss: 0.1114 - accuracy: 0.9643\n",
            "Epoch 41/50\n",
            "1875/1875 [==============================] - 11s 6ms/step - loss: 0.1102 - accuracy: 0.9648\n",
            "Epoch 42/50\n",
            "1875/1875 [==============================] - 11s 6ms/step - loss: 0.1093 - accuracy: 0.9639\n",
            "Epoch 43/50\n",
            "1875/1875 [==============================] - 11s 6ms/step - loss: 0.1068 - accuracy: 0.9652\n",
            "Epoch 44/50\n",
            "1875/1875 [==============================] - 11s 6ms/step - loss: 0.1071 - accuracy: 0.9649\n",
            "Epoch 45/50\n",
            "1875/1875 [==============================] - 11s 6ms/step - loss: 0.1046 - accuracy: 0.9657\n",
            "Epoch 46/50\n",
            "1875/1875 [==============================] - 11s 6ms/step - loss: 0.1032 - accuracy: 0.9662\n",
            "Epoch 47/50\n",
            "1875/1875 [==============================] - 11s 6ms/step - loss: 0.1020 - accuracy: 0.9668\n",
            "Epoch 48/50\n",
            "1875/1875 [==============================] - 11s 6ms/step - loss: 0.1006 - accuracy: 0.9669\n",
            "Epoch 49/50\n",
            "1875/1875 [==============================] - 11s 6ms/step - loss: 0.1003 - accuracy: 0.9670\n",
            "Epoch 50/50\n",
            "1875/1875 [==============================] - 11s 6ms/step - loss: 0.0994 - accuracy: 0.9677\n"
          ]
        },
        {
          "output_type": "execute_result",
          "data": {
            "text/plain": [
              "<keras.callbacks.History at 0x7fe1f023b310>"
            ]
          },
          "metadata": {},
          "execution_count": 10
        }
      ]
    },
    {
      "cell_type": "code",
      "metadata": {
        "colab": {
          "base_uri": "https://localhost:8080/"
        },
        "id": "9ElFwzexELaD",
        "outputId": "63b2721f-8ff3-4ac6-df4b-a11e120233cb"
      },
      "source": [
        "import tensorflow as tf\n",
        "import tensorflow_addons as tfa\n",
        "model_nadam4=keras.Sequential([\n",
        "             keras.layers.Dense(10,input_shape=(784,),activation='sigmoid') , \n",
        "             keras.layers.Dense(100,input_shape=(784,),activation='sigmoid')  ,\n",
        "             keras.layers.Dense(1000,input_shape=(784,),activation='sigmoid')  ,\n",
        "             keras.layers.Dense(1000,input_shape=(784,),activation='sigmoid')  \n",
        "                \n",
        "])\n",
        "model_nadam4.compile(\n",
        "    optimizer='Nadam',\n",
        "    loss='sparse_categorical_crossentropy',\n",
        "    metrics=['accuracy']\n",
        "\n",
        ")\n",
        "model_nadam4.fit(x_train_flattened,y_train,epochs=70)"
      ],
      "execution_count": 11,
      "outputs": [
        {
          "output_type": "stream",
          "name": "stdout",
          "text": [
            "Epoch 1/70\n",
            "1875/1875 [==============================] - 12s 6ms/step - loss: 0.7991 - accuracy: 0.7475\n",
            "Epoch 2/70\n",
            "1875/1875 [==============================] - 11s 6ms/step - loss: 0.3547 - accuracy: 0.8996\n",
            "Epoch 3/70\n",
            "1875/1875 [==============================] - 11s 6ms/step - loss: 0.2979 - accuracy: 0.9145\n",
            "Epoch 4/70\n",
            "1875/1875 [==============================] - 11s 6ms/step - loss: 0.2641 - accuracy: 0.9229\n",
            "Epoch 5/70\n",
            "1875/1875 [==============================] - 11s 6ms/step - loss: 0.2457 - accuracy: 0.9280\n",
            "Epoch 6/70\n",
            "1875/1875 [==============================] - 11s 6ms/step - loss: 0.2289 - accuracy: 0.9317\n",
            "Epoch 7/70\n",
            "1875/1875 [==============================] - 11s 6ms/step - loss: 0.2177 - accuracy: 0.9341\n",
            "Epoch 8/70\n",
            "1875/1875 [==============================] - 11s 6ms/step - loss: 0.2084 - accuracy: 0.9360\n",
            "Epoch 9/70\n",
            "1875/1875 [==============================] - 11s 6ms/step - loss: 0.2003 - accuracy: 0.9397\n",
            "Epoch 10/70\n",
            "1875/1875 [==============================] - 11s 6ms/step - loss: 0.1935 - accuracy: 0.9417\n",
            "Epoch 11/70\n",
            "1875/1875 [==============================] - 11s 6ms/step - loss: 0.1874 - accuracy: 0.9430\n",
            "Epoch 12/70\n",
            "1875/1875 [==============================] - 11s 6ms/step - loss: 0.1825 - accuracy: 0.9440\n",
            "Epoch 13/70\n",
            "1875/1875 [==============================] - 11s 6ms/step - loss: 0.1785 - accuracy: 0.9453\n",
            "Epoch 14/70\n",
            "1875/1875 [==============================] - 11s 6ms/step - loss: 0.1734 - accuracy: 0.9462\n",
            "Epoch 15/70\n",
            "1875/1875 [==============================] - 11s 6ms/step - loss: 0.1700 - accuracy: 0.9476\n",
            "Epoch 16/70\n",
            "1875/1875 [==============================] - 11s 6ms/step - loss: 0.1678 - accuracy: 0.9477\n",
            "Epoch 17/70\n",
            "1875/1875 [==============================] - 11s 6ms/step - loss: 0.1647 - accuracy: 0.9492\n",
            "Epoch 18/70\n",
            "1875/1875 [==============================] - 11s 6ms/step - loss: 0.1608 - accuracy: 0.9506\n",
            "Epoch 19/70\n",
            "1875/1875 [==============================] - 11s 6ms/step - loss: 0.1593 - accuracy: 0.9505\n",
            "Epoch 20/70\n",
            "1875/1875 [==============================] - 11s 6ms/step - loss: 0.1565 - accuracy: 0.9511\n",
            "Epoch 21/70\n",
            "1875/1875 [==============================] - 11s 6ms/step - loss: 0.1538 - accuracy: 0.9529\n",
            "Epoch 22/70\n",
            "1875/1875 [==============================] - 11s 6ms/step - loss: 0.1520 - accuracy: 0.9529\n",
            "Epoch 23/70\n",
            "1875/1875 [==============================] - 11s 6ms/step - loss: 0.1500 - accuracy: 0.9529\n",
            "Epoch 24/70\n",
            "1875/1875 [==============================] - 11s 6ms/step - loss: 0.1475 - accuracy: 0.9533\n",
            "Epoch 25/70\n",
            "1875/1875 [==============================] - 11s 6ms/step - loss: 0.1453 - accuracy: 0.9542\n",
            "Epoch 26/70\n",
            "1875/1875 [==============================] - 11s 6ms/step - loss: 0.1435 - accuracy: 0.9550\n",
            "Epoch 27/70\n",
            "1875/1875 [==============================] - 11s 6ms/step - loss: 0.1417 - accuracy: 0.9554\n",
            "Epoch 28/70\n",
            "1875/1875 [==============================] - 11s 6ms/step - loss: 0.1390 - accuracy: 0.9561\n",
            "Epoch 29/70\n",
            "1875/1875 [==============================] - 11s 6ms/step - loss: 0.1390 - accuracy: 0.9557\n",
            "Epoch 30/70\n",
            "1875/1875 [==============================] - 11s 6ms/step - loss: 0.1368 - accuracy: 0.9564\n",
            "Epoch 31/70\n",
            "1875/1875 [==============================] - 11s 6ms/step - loss: 0.1356 - accuracy: 0.9577\n",
            "Epoch 32/70\n",
            "1875/1875 [==============================] - 11s 6ms/step - loss: 0.1335 - accuracy: 0.9582\n",
            "Epoch 33/70\n",
            "1875/1875 [==============================] - 11s 6ms/step - loss: 0.1321 - accuracy: 0.9586\n",
            "Epoch 34/70\n",
            "1875/1875 [==============================] - 11s 6ms/step - loss: 0.1302 - accuracy: 0.9588\n",
            "Epoch 35/70\n",
            "1875/1875 [==============================] - 11s 6ms/step - loss: 0.1291 - accuracy: 0.9587\n",
            "Epoch 36/70\n",
            "1875/1875 [==============================] - 11s 6ms/step - loss: 0.1266 - accuracy: 0.9593\n",
            "Epoch 37/70\n",
            "1875/1875 [==============================] - 11s 6ms/step - loss: 0.1265 - accuracy: 0.9596\n",
            "Epoch 38/70\n",
            "1875/1875 [==============================] - 11s 6ms/step - loss: 0.1245 - accuracy: 0.9599\n",
            "Epoch 39/70\n",
            "1875/1875 [==============================] - 11s 6ms/step - loss: 0.1232 - accuracy: 0.9604\n",
            "Epoch 40/70\n",
            "1875/1875 [==============================] - 11s 6ms/step - loss: 0.1218 - accuracy: 0.9614\n",
            "Epoch 41/70\n",
            "1875/1875 [==============================] - 11s 6ms/step - loss: 0.1201 - accuracy: 0.9607\n",
            "Epoch 42/70\n",
            "1875/1875 [==============================] - 11s 6ms/step - loss: 0.1186 - accuracy: 0.9621\n",
            "Epoch 43/70\n",
            "1875/1875 [==============================] - 11s 6ms/step - loss: 0.1178 - accuracy: 0.9619\n",
            "Epoch 44/70\n",
            "1875/1875 [==============================] - 11s 6ms/step - loss: 0.1168 - accuracy: 0.9626\n",
            "Epoch 45/70\n",
            "1875/1875 [==============================] - 11s 6ms/step - loss: 0.1149 - accuracy: 0.9627\n",
            "Epoch 46/70\n",
            "1875/1875 [==============================] - 11s 6ms/step - loss: 0.1139 - accuracy: 0.9634\n",
            "Epoch 47/70\n",
            "1875/1875 [==============================] - 11s 6ms/step - loss: 0.1119 - accuracy: 0.9642\n",
            "Epoch 48/70\n",
            "1875/1875 [==============================] - 11s 6ms/step - loss: 0.1104 - accuracy: 0.9644\n",
            "Epoch 49/70\n",
            "1875/1875 [==============================] - 11s 6ms/step - loss: 0.1098 - accuracy: 0.9639\n",
            "Epoch 50/70\n",
            "1875/1875 [==============================] - 11s 6ms/step - loss: 0.1085 - accuracy: 0.9643\n",
            "Epoch 51/70\n",
            "1875/1875 [==============================] - 11s 6ms/step - loss: 0.1079 - accuracy: 0.9652\n",
            "Epoch 52/70\n",
            "1875/1875 [==============================] - 11s 6ms/step - loss: 0.1064 - accuracy: 0.9659\n",
            "Epoch 53/70\n",
            "1875/1875 [==============================] - 11s 6ms/step - loss: 0.1051 - accuracy: 0.9659\n",
            "Epoch 54/70\n",
            "1875/1875 [==============================] - 11s 6ms/step - loss: 0.1041 - accuracy: 0.9662\n",
            "Epoch 55/70\n",
            "1875/1875 [==============================] - 11s 6ms/step - loss: 0.1027 - accuracy: 0.9667\n",
            "Epoch 56/70\n",
            "1875/1875 [==============================] - 11s 6ms/step - loss: 0.1013 - accuracy: 0.9672\n",
            "Epoch 57/70\n",
            "1875/1875 [==============================] - 11s 6ms/step - loss: 0.1005 - accuracy: 0.9673\n",
            "Epoch 58/70\n",
            "1875/1875 [==============================] - 11s 6ms/step - loss: 0.0990 - accuracy: 0.9683\n",
            "Epoch 59/70\n",
            "1875/1875 [==============================] - 11s 6ms/step - loss: 0.0976 - accuracy: 0.9678\n",
            "Epoch 60/70\n",
            "1875/1875 [==============================] - 11s 6ms/step - loss: 0.0970 - accuracy: 0.9686\n",
            "Epoch 61/70\n",
            "1875/1875 [==============================] - 11s 6ms/step - loss: 0.0954 - accuracy: 0.9682\n",
            "Epoch 62/70\n",
            "1875/1875 [==============================] - 11s 6ms/step - loss: 0.0952 - accuracy: 0.9689\n",
            "Epoch 63/70\n",
            "1875/1875 [==============================] - 11s 6ms/step - loss: 0.0949 - accuracy: 0.9689\n",
            "Epoch 64/70\n",
            "1875/1875 [==============================] - 11s 6ms/step - loss: 0.0930 - accuracy: 0.9693\n",
            "Epoch 65/70\n",
            "1875/1875 [==============================] - 11s 6ms/step - loss: 0.0918 - accuracy: 0.9699\n",
            "Epoch 66/70\n",
            "1875/1875 [==============================] - 11s 6ms/step - loss: 0.0911 - accuracy: 0.9696\n",
            "Epoch 67/70\n",
            "1875/1875 [==============================] - 11s 6ms/step - loss: 0.0904 - accuracy: 0.9700\n",
            "Epoch 68/70\n",
            "1875/1875 [==============================] - 11s 6ms/step - loss: 0.0885 - accuracy: 0.9707\n",
            "Epoch 69/70\n",
            "1875/1875 [==============================] - 11s 6ms/step - loss: 0.0877 - accuracy: 0.9709\n",
            "Epoch 70/70\n",
            "1875/1875 [==============================] - 11s 6ms/step - loss: 0.0875 - accuracy: 0.9714\n"
          ]
        },
        {
          "output_type": "execute_result",
          "data": {
            "text/plain": [
              "<keras.callbacks.History at 0x7fe1837be590>"
            ]
          },
          "metadata": {},
          "execution_count": 11
        }
      ]
    },
    {
      "cell_type": "code",
      "metadata": {
        "colab": {
          "base_uri": "https://localhost:8080/"
        },
        "id": "EO5s1t3pETpy",
        "outputId": "696ab471-5c7b-4427-a57f-adf2c8d3efab"
      },
      "source": [
        "import tensorflow as tf\n",
        "import tensorflow_addons as tfa\n",
        "model_nadam5=keras.Sequential([\n",
        "             keras.layers.Dense(10,input_shape=(784,),activation='sigmoid') , \n",
        "             keras.layers.Dense(100,input_shape=(784,),activation='sigmoid')  ,\n",
        "             keras.layers.Dense(1000,input_shape=(784,),activation='sigmoid')  ,\n",
        "             keras.layers.Dense(1000,input_shape=(784,),activation='sigmoid')  \n",
        "                \n",
        "])\n",
        "model_nadam5.compile(\n",
        "    optimizer='Nadam',\n",
        "    loss='sparse_categorical_crossentropy',\n",
        "    metrics=['accuracy']\n",
        "\n",
        ")\n",
        "model_nadam5.fit(x_train_flattened,y_train,epochs=100)"
      ],
      "execution_count": 12,
      "outputs": [
        {
          "output_type": "stream",
          "name": "stdout",
          "text": [
            "Epoch 1/100\n",
            "1875/1875 [==============================] - 12s 6ms/step - loss: 0.8309 - accuracy: 0.7386\n",
            "Epoch 2/100\n",
            "1875/1875 [==============================] - 11s 6ms/step - loss: 0.3837 - accuracy: 0.8922\n",
            "Epoch 3/100\n",
            "1875/1875 [==============================] - 11s 6ms/step - loss: 0.3158 - accuracy: 0.9079\n",
            "Epoch 4/100\n",
            "1875/1875 [==============================] - 11s 6ms/step - loss: 0.2812 - accuracy: 0.9167\n",
            "Epoch 5/100\n",
            "1875/1875 [==============================] - 11s 6ms/step - loss: 0.2585 - accuracy: 0.9232\n",
            "Epoch 6/100\n",
            "1875/1875 [==============================] - 11s 6ms/step - loss: 0.2401 - accuracy: 0.9270\n",
            "Epoch 7/100\n",
            "1875/1875 [==============================] - 11s 6ms/step - loss: 0.2262 - accuracy: 0.9319\n",
            "Epoch 8/100\n",
            "1875/1875 [==============================] - 11s 6ms/step - loss: 0.2137 - accuracy: 0.9348\n",
            "Epoch 9/100\n",
            "1875/1875 [==============================] - 11s 6ms/step - loss: 0.2040 - accuracy: 0.9370\n",
            "Epoch 10/100\n",
            "1875/1875 [==============================] - 11s 6ms/step - loss: 0.1952 - accuracy: 0.9397\n",
            "Epoch 11/100\n",
            "1875/1875 [==============================] - 11s 6ms/step - loss: 0.1885 - accuracy: 0.9419\n",
            "Epoch 12/100\n",
            "1875/1875 [==============================] - 11s 6ms/step - loss: 0.1814 - accuracy: 0.9430\n",
            "Epoch 13/100\n",
            "1875/1875 [==============================] - 11s 6ms/step - loss: 0.1751 - accuracy: 0.9460\n",
            "Epoch 14/100\n",
            "1875/1875 [==============================] - 11s 6ms/step - loss: 0.1705 - accuracy: 0.9466\n",
            "Epoch 15/100\n",
            "1875/1875 [==============================] - 11s 6ms/step - loss: 0.1661 - accuracy: 0.9478\n",
            "Epoch 16/100\n",
            "1875/1875 [==============================] - 11s 6ms/step - loss: 0.1627 - accuracy: 0.9492\n",
            "Epoch 17/100\n",
            "1875/1875 [==============================] - 11s 6ms/step - loss: 0.1585 - accuracy: 0.9507\n",
            "Epoch 18/100\n",
            "1875/1875 [==============================] - 11s 6ms/step - loss: 0.1560 - accuracy: 0.9514\n",
            "Epoch 19/100\n",
            "1875/1875 [==============================] - 11s 6ms/step - loss: 0.1532 - accuracy: 0.9523\n",
            "Epoch 20/100\n",
            "1875/1875 [==============================] - 11s 6ms/step - loss: 0.1502 - accuracy: 0.9527\n",
            "Epoch 21/100\n",
            "1875/1875 [==============================] - 11s 6ms/step - loss: 0.1471 - accuracy: 0.9543\n",
            "Epoch 22/100\n",
            "1875/1875 [==============================] - 11s 6ms/step - loss: 0.1449 - accuracy: 0.9557\n",
            "Epoch 23/100\n",
            "1875/1875 [==============================] - 11s 6ms/step - loss: 0.1428 - accuracy: 0.9556\n",
            "Epoch 24/100\n",
            "1875/1875 [==============================] - 11s 6ms/step - loss: 0.1409 - accuracy: 0.9554\n",
            "Epoch 25/100\n",
            "1875/1875 [==============================] - 11s 6ms/step - loss: 0.1376 - accuracy: 0.9563\n",
            "Epoch 26/100\n",
            "1875/1875 [==============================] - 11s 6ms/step - loss: 0.1363 - accuracy: 0.9575\n",
            "Epoch 27/100\n",
            "1875/1875 [==============================] - 11s 6ms/step - loss: 0.1340 - accuracy: 0.9585\n",
            "Epoch 28/100\n",
            "1875/1875 [==============================] - 11s 6ms/step - loss: 0.1327 - accuracy: 0.9586\n",
            "Epoch 29/100\n",
            "1875/1875 [==============================] - 11s 6ms/step - loss: 0.1301 - accuracy: 0.9594\n",
            "Epoch 30/100\n",
            "1875/1875 [==============================] - 11s 6ms/step - loss: 0.1280 - accuracy: 0.9599\n",
            "Epoch 31/100\n",
            "1875/1875 [==============================] - 11s 6ms/step - loss: 0.1265 - accuracy: 0.9601\n",
            "Epoch 32/100\n",
            "1875/1875 [==============================] - 11s 6ms/step - loss: 0.1247 - accuracy: 0.9610\n",
            "Epoch 33/100\n",
            "1875/1875 [==============================] - 11s 6ms/step - loss: 0.1224 - accuracy: 0.9607\n",
            "Epoch 34/100\n",
            "1875/1875 [==============================] - 11s 6ms/step - loss: 0.1209 - accuracy: 0.9611\n",
            "Epoch 35/100\n",
            "1875/1875 [==============================] - 11s 6ms/step - loss: 0.1187 - accuracy: 0.9625\n",
            "Epoch 36/100\n",
            "1875/1875 [==============================] - 11s 6ms/step - loss: 0.1171 - accuracy: 0.9630\n",
            "Epoch 37/100\n",
            "1875/1875 [==============================] - 11s 6ms/step - loss: 0.1160 - accuracy: 0.9635\n",
            "Epoch 38/100\n",
            "1875/1875 [==============================] - 11s 6ms/step - loss: 0.1147 - accuracy: 0.9639\n",
            "Epoch 39/100\n",
            "1875/1875 [==============================] - 11s 6ms/step - loss: 0.1133 - accuracy: 0.9643\n",
            "Epoch 40/100\n",
            "1875/1875 [==============================] - 11s 6ms/step - loss: 0.1116 - accuracy: 0.9650\n",
            "Epoch 41/100\n",
            "1875/1875 [==============================] - 11s 6ms/step - loss: 0.1092 - accuracy: 0.9652\n",
            "Epoch 42/100\n",
            "1875/1875 [==============================] - 11s 6ms/step - loss: 0.1088 - accuracy: 0.9652\n",
            "Epoch 43/100\n",
            "1875/1875 [==============================] - 11s 6ms/step - loss: 0.1070 - accuracy: 0.9664\n",
            "Epoch 44/100\n",
            "1875/1875 [==============================] - 11s 6ms/step - loss: 0.1053 - accuracy: 0.9661\n",
            "Epoch 45/100\n",
            "1875/1875 [==============================] - 11s 6ms/step - loss: 0.1044 - accuracy: 0.9675\n",
            "Epoch 46/100\n",
            "1875/1875 [==============================] - 11s 6ms/step - loss: 0.1033 - accuracy: 0.9668\n",
            "Epoch 47/100\n",
            "1875/1875 [==============================] - 11s 6ms/step - loss: 0.1020 - accuracy: 0.9675\n",
            "Epoch 48/100\n",
            "1875/1875 [==============================] - 11s 6ms/step - loss: 0.1000 - accuracy: 0.9686\n",
            "Epoch 49/100\n",
            "1875/1875 [==============================] - 11s 6ms/step - loss: 0.0994 - accuracy: 0.9677\n",
            "Epoch 50/100\n",
            "1875/1875 [==============================] - 11s 6ms/step - loss: 0.0977 - accuracy: 0.9683\n",
            "Epoch 51/100\n",
            "1875/1875 [==============================] - 11s 6ms/step - loss: 0.0977 - accuracy: 0.9678\n",
            "Epoch 52/100\n",
            "1875/1875 [==============================] - 11s 6ms/step - loss: 0.0952 - accuracy: 0.9696\n",
            "Epoch 53/100\n",
            "1875/1875 [==============================] - 11s 6ms/step - loss: 0.0946 - accuracy: 0.9698\n",
            "Epoch 54/100\n",
            "1875/1875 [==============================] - 11s 6ms/step - loss: 0.0931 - accuracy: 0.9697\n",
            "Epoch 55/100\n",
            "1875/1875 [==============================] - 11s 6ms/step - loss: 0.0931 - accuracy: 0.9695\n",
            "Epoch 56/100\n",
            "1875/1875 [==============================] - 11s 6ms/step - loss: 0.0907 - accuracy: 0.9697\n",
            "Epoch 57/100\n",
            "1875/1875 [==============================] - 11s 6ms/step - loss: 0.0905 - accuracy: 0.9704\n",
            "Epoch 58/100\n",
            "1875/1875 [==============================] - 11s 6ms/step - loss: 0.0888 - accuracy: 0.9710\n",
            "Epoch 59/100\n",
            "1875/1875 [==============================] - 11s 6ms/step - loss: 0.0888 - accuracy: 0.9705\n",
            "Epoch 60/100\n",
            "1875/1875 [==============================] - 11s 6ms/step - loss: 0.0864 - accuracy: 0.9714\n",
            "Epoch 61/100\n",
            "1875/1875 [==============================] - 11s 6ms/step - loss: 0.0847 - accuracy: 0.9722\n",
            "Epoch 62/100\n",
            "1875/1875 [==============================] - 11s 6ms/step - loss: 0.0842 - accuracy: 0.9721\n",
            "Epoch 63/100\n",
            "1875/1875 [==============================] - 11s 6ms/step - loss: 0.0835 - accuracy: 0.9726\n",
            "Epoch 64/100\n",
            "1875/1875 [==============================] - 11s 6ms/step - loss: 0.0814 - accuracy: 0.9736\n",
            "Epoch 65/100\n",
            "1875/1875 [==============================] - 11s 6ms/step - loss: 0.0824 - accuracy: 0.9730\n",
            "Epoch 66/100\n",
            "1875/1875 [==============================] - 11s 6ms/step - loss: 0.0804 - accuracy: 0.9736\n",
            "Epoch 67/100\n",
            "1875/1875 [==============================] - 11s 6ms/step - loss: 0.0801 - accuracy: 0.9726\n",
            "Epoch 68/100\n",
            "1875/1875 [==============================] - 11s 6ms/step - loss: 0.0783 - accuracy: 0.9739\n",
            "Epoch 69/100\n",
            "1875/1875 [==============================] - 11s 6ms/step - loss: 0.0781 - accuracy: 0.9739\n",
            "Epoch 70/100\n",
            "1875/1875 [==============================] - 11s 6ms/step - loss: 0.0760 - accuracy: 0.9749\n",
            "Epoch 71/100\n",
            "1875/1875 [==============================] - 11s 6ms/step - loss: 0.0753 - accuracy: 0.9744\n",
            "Epoch 72/100\n",
            "1875/1875 [==============================] - 11s 6ms/step - loss: 0.0745 - accuracy: 0.9755\n",
            "Epoch 73/100\n",
            "1875/1875 [==============================] - 11s 6ms/step - loss: 0.0730 - accuracy: 0.9760\n",
            "Epoch 74/100\n",
            "1875/1875 [==============================] - 11s 6ms/step - loss: 0.0725 - accuracy: 0.9757\n",
            "Epoch 75/100\n",
            "1875/1875 [==============================] - 11s 6ms/step - loss: 0.0720 - accuracy: 0.9758\n",
            "Epoch 76/100\n",
            "1875/1875 [==============================] - 11s 6ms/step - loss: 0.0702 - accuracy: 0.9752\n",
            "Epoch 77/100\n",
            "1875/1875 [==============================] - 11s 6ms/step - loss: 0.0705 - accuracy: 0.9763\n",
            "Epoch 78/100\n",
            "1875/1875 [==============================] - 11s 6ms/step - loss: 0.0688 - accuracy: 0.9765\n",
            "Epoch 79/100\n",
            "1875/1875 [==============================] - 11s 6ms/step - loss: 0.0675 - accuracy: 0.9768\n",
            "Epoch 80/100\n",
            "1875/1875 [==============================] - 11s 6ms/step - loss: 0.0674 - accuracy: 0.9773\n",
            "Epoch 81/100\n",
            "1875/1875 [==============================] - 11s 6ms/step - loss: 0.0659 - accuracy: 0.9773\n",
            "Epoch 82/100\n",
            "1875/1875 [==============================] - 11s 6ms/step - loss: 0.0643 - accuracy: 0.9781\n",
            "Epoch 83/100\n",
            "1875/1875 [==============================] - 11s 6ms/step - loss: 0.0643 - accuracy: 0.9789\n",
            "Epoch 84/100\n",
            "1875/1875 [==============================] - 11s 6ms/step - loss: 0.0631 - accuracy: 0.9785\n",
            "Epoch 85/100\n",
            "1875/1875 [==============================] - 11s 6ms/step - loss: 0.0620 - accuracy: 0.9783\n",
            "Epoch 86/100\n",
            "1875/1875 [==============================] - 11s 6ms/step - loss: 0.0621 - accuracy: 0.9790\n",
            "Epoch 87/100\n",
            "1875/1875 [==============================] - 11s 6ms/step - loss: 0.0615 - accuracy: 0.9788\n",
            "Epoch 88/100\n",
            "1875/1875 [==============================] - 11s 6ms/step - loss: 0.0597 - accuracy: 0.9799\n",
            "Epoch 89/100\n",
            "1875/1875 [==============================] - 11s 6ms/step - loss: 0.0593 - accuracy: 0.9793\n",
            "Epoch 90/100\n",
            "1875/1875 [==============================] - 11s 6ms/step - loss: 0.0584 - accuracy: 0.9801\n",
            "Epoch 91/100\n",
            "1875/1875 [==============================] - 11s 6ms/step - loss: 0.0582 - accuracy: 0.9804\n",
            "Epoch 92/100\n",
            "1875/1875 [==============================] - 11s 6ms/step - loss: 0.0577 - accuracy: 0.9802\n",
            "Epoch 93/100\n",
            "1875/1875 [==============================] - 11s 6ms/step - loss: 0.0554 - accuracy: 0.9811\n",
            "Epoch 94/100\n",
            "1875/1875 [==============================] - 11s 6ms/step - loss: 0.0557 - accuracy: 0.9808\n",
            "Epoch 95/100\n",
            "1875/1875 [==============================] - 11s 6ms/step - loss: 0.0545 - accuracy: 0.9812\n",
            "Epoch 96/100\n",
            "1875/1875 [==============================] - 11s 6ms/step - loss: 0.0541 - accuracy: 0.9811\n",
            "Epoch 97/100\n",
            "1875/1875 [==============================] - 11s 6ms/step - loss: 0.0525 - accuracy: 0.9820\n",
            "Epoch 98/100\n",
            "1875/1875 [==============================] - 11s 6ms/step - loss: 0.0524 - accuracy: 0.9819\n",
            "Epoch 99/100\n",
            "1875/1875 [==============================] - 11s 6ms/step - loss: 0.0524 - accuracy: 0.9823\n",
            "Epoch 100/100\n",
            "1875/1875 [==============================] - 11s 6ms/step - loss: 0.0516 - accuracy: 0.9821\n"
          ]
        },
        {
          "output_type": "execute_result",
          "data": {
            "text/plain": [
              "<keras.callbacks.History at 0x7fe1835ee5d0>"
            ]
          },
          "metadata": {},
          "execution_count": 12
        }
      ]
    },
    {
      "cell_type": "code",
      "metadata": {
        "colab": {
          "base_uri": "https://localhost:8080/"
        },
        "id": "O01ZbalNEXnX",
        "outputId": "45025c1a-aafe-4cba-9a66-39743e048f69"
      },
      "source": [
        "y_pred_nadam1=model_nadam1.predict(x_test_flattened)\n",
        "y_pred_nadamf1=[np.argmax(i) for i in y_pred_nadam1]\n",
        "from keras import metrics \n",
        "from sklearn.metrics import *\n",
        "nadam_acc1=accuracy_score(y_pred_nadamf1,y_test)\n",
        "print(nadam_acc1)"
      ],
      "execution_count": 13,
      "outputs": [
        {
          "output_type": "stream",
          "name": "stdout",
          "text": [
            "0.9301\n"
          ]
        }
      ]
    },
    {
      "cell_type": "code",
      "metadata": {
        "colab": {
          "base_uri": "https://localhost:8080/"
        },
        "id": "tf0o4fhMEnr9",
        "outputId": "f6b310ac-7331-4751-b3ab-a1538907dd1f"
      },
      "source": [
        "y_pred_nadam2=model_nadam1.predict(x_test_flattened)\n",
        "y_pred_nadamf2=[np.argmax(i) for i in y_pred_nadam2]\n",
        "from keras import metrics \n",
        "from sklearn.metrics import *\n",
        "nadam_acc2=accuracy_score(y_pred_nadamf2,y_test)\n",
        "print(nadam_acc2)"
      ],
      "execution_count": 14,
      "outputs": [
        {
          "output_type": "stream",
          "name": "stdout",
          "text": [
            "0.9301\n"
          ]
        }
      ]
    },
    {
      "cell_type": "code",
      "metadata": {
        "colab": {
          "base_uri": "https://localhost:8080/"
        },
        "id": "NVC5d9xzEyXU",
        "outputId": "e2c0c037-946c-45dc-f5b5-99fbf51c11ee"
      },
      "source": [
        "y_pred_nadam3=model_nadam1.predict(x_test_flattened)\n",
        "y_pred_nadamf3=[np.argmax(i) for i in y_pred_nadam3]\n",
        "from keras import metrics \n",
        "from sklearn.metrics import *\n",
        "nadam_acc3=accuracy_score(y_pred_nadamf3,y_test)\n",
        "print(nadam_acc3)"
      ],
      "execution_count": 15,
      "outputs": [
        {
          "output_type": "stream",
          "name": "stdout",
          "text": [
            "0.9301\n"
          ]
        }
      ]
    },
    {
      "cell_type": "code",
      "metadata": {
        "colab": {
          "base_uri": "https://localhost:8080/"
        },
        "id": "P-zLtr5gE3V9",
        "outputId": "5b5f76bb-0bca-4e0c-ce7c-f76420490314"
      },
      "source": [
        "y_pred_nadam4=model_nadam4.predict(x_test_flattened)\n",
        "y_pred_nadamf4=[np.argmax(i) for i in y_pred_nadam4]\n",
        "from keras import metrics \n",
        "from sklearn.metrics import *\n",
        "nadam_acc4=accuracy_score(y_pred_nadamf4,y_test)\n",
        "print(nadam_acc4)"
      ],
      "execution_count": 16,
      "outputs": [
        {
          "output_type": "stream",
          "name": "stdout",
          "text": [
            "0.9437\n"
          ]
        }
      ]
    },
    {
      "cell_type": "code",
      "metadata": {
        "colab": {
          "base_uri": "https://localhost:8080/"
        },
        "id": "gVa1IfQrE85q",
        "outputId": "182b0f42-7dcb-4703-a89e-4b7917bec1d4"
      },
      "source": [
        "y_pred_nadam5=model_nadam5.predict(x_test_flattened)\n",
        "y_pred_nadamf5=[np.argmax(i) for i in y_pred_nadam5]\n",
        "from keras import metrics \n",
        "from sklearn.metrics import *\n",
        "nadam_acc5=accuracy_score(y_pred_nadamf5,y_test)\n",
        "print(nadam_acc5)"
      ],
      "execution_count": 17,
      "outputs": [
        {
          "output_type": "stream",
          "name": "stdout",
          "text": [
            "0.9467\n"
          ]
        }
      ]
    },
    {
      "cell_type": "code",
      "metadata": {
        "id": "-jY1gZ9gFBtG"
      },
      "source": [
        ""
      ],
      "execution_count": null,
      "outputs": []
    }
  ]
}