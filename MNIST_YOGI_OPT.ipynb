{
  "nbformat": 4,
  "nbformat_minor": 0,
  "metadata": {
    "colab": {
      "name": "MNIST--YOGI--OPT.ipynb",
      "provenance": []
    },
    "kernelspec": {
      "name": "python3",
      "display_name": "Python 3"
    },
    "language_info": {
      "name": "python"
    },
    "accelerator": "GPU"
  },
  "cells": [
    {
      "cell_type": "code",
      "metadata": {
        "id": "HvttJ6hG3BwE"
      },
      "source": [
        "import tensorflow as tf\n",
        "from tensorflow import keras\n",
        "import matplotlib.pyplot as plt\n",
        "%matplotlib inline \n",
        "import numpy as np"
      ],
      "execution_count": 1,
      "outputs": []
    },
    {
      "cell_type": "code",
      "metadata": {
        "colab": {
          "base_uri": "https://localhost:8080/"
        },
        "id": "NTcKMT_Z3I4y",
        "outputId": "1b600e3c-f786-47eb-be0a-8943f57893e1"
      },
      "source": [
        "(x_train,y_train),(x_test,y_test) = keras.datasets.mnist.load_data()"
      ],
      "execution_count": 2,
      "outputs": [
        {
          "output_type": "stream",
          "name": "stdout",
          "text": [
            "Downloading data from https://storage.googleapis.com/tensorflow/tf-keras-datasets/mnist.npz\n",
            "11493376/11490434 [==============================] - 0s 0us/step\n",
            "11501568/11490434 [==============================] - 0s 0us/step\n"
          ]
        }
      ]
    },
    {
      "cell_type": "code",
      "metadata": {
        "id": "ZA_5tlss3N9a"
      },
      "source": [
        "x_train=x_train/255\n",
        "x_test=x_test/255"
      ],
      "execution_count": 3,
      "outputs": []
    },
    {
      "cell_type": "code",
      "metadata": {
        "id": "_-LpbbKi3P6I"
      },
      "source": [
        "x_train_flattened=x_train.reshape(len(x_train),28*28)"
      ],
      "execution_count": 4,
      "outputs": []
    },
    {
      "cell_type": "code",
      "metadata": {
        "id": "MY0DP1Bs3SzY"
      },
      "source": [
        "x_test_flattened=x_test.reshape(len(x_test),28*28)"
      ],
      "execution_count": 5,
      "outputs": []
    },
    {
      "cell_type": "code",
      "metadata": {
        "colab": {
          "base_uri": "https://localhost:8080/"
        },
        "id": "5mgT_Vhv3U6K",
        "outputId": "75e0a5a6-1c7b-416e-94bf-295c44f3df1a"
      },
      "source": [
        "pip install tensorflow-addons"
      ],
      "execution_count": 6,
      "outputs": [
        {
          "output_type": "stream",
          "name": "stdout",
          "text": [
            "Collecting tensorflow-addons\n",
            "  Downloading tensorflow_addons-0.14.0-cp37-cp37m-manylinux_2_12_x86_64.manylinux2010_x86_64.whl (1.1 MB)\n",
            "\u001b[?25l\r\u001b[K     |▎                               | 10 kB 23.1 MB/s eta 0:00:01\r\u001b[K     |▋                               | 20 kB 24.0 MB/s eta 0:00:01\r\u001b[K     |▉                               | 30 kB 13.5 MB/s eta 0:00:01\r\u001b[K     |█▏                              | 40 kB 9.9 MB/s eta 0:00:01\r\u001b[K     |█▌                              | 51 kB 5.5 MB/s eta 0:00:01\r\u001b[K     |█▊                              | 61 kB 6.0 MB/s eta 0:00:01\r\u001b[K     |██                              | 71 kB 6.5 MB/s eta 0:00:01\r\u001b[K     |██▍                             | 81 kB 6.5 MB/s eta 0:00:01\r\u001b[K     |██▋                             | 92 kB 5.0 MB/s eta 0:00:01\r\u001b[K     |███                             | 102 kB 5.5 MB/s eta 0:00:01\r\u001b[K     |███▎                            | 112 kB 5.5 MB/s eta 0:00:01\r\u001b[K     |███▌                            | 122 kB 5.5 MB/s eta 0:00:01\r\u001b[K     |███▉                            | 133 kB 5.5 MB/s eta 0:00:01\r\u001b[K     |████▏                           | 143 kB 5.5 MB/s eta 0:00:01\r\u001b[K     |████▍                           | 153 kB 5.5 MB/s eta 0:00:01\r\u001b[K     |████▊                           | 163 kB 5.5 MB/s eta 0:00:01\r\u001b[K     |█████                           | 174 kB 5.5 MB/s eta 0:00:01\r\u001b[K     |█████▎                          | 184 kB 5.5 MB/s eta 0:00:01\r\u001b[K     |█████▋                          | 194 kB 5.5 MB/s eta 0:00:01\r\u001b[K     |██████                          | 204 kB 5.5 MB/s eta 0:00:01\r\u001b[K     |██████▏                         | 215 kB 5.5 MB/s eta 0:00:01\r\u001b[K     |██████▌                         | 225 kB 5.5 MB/s eta 0:00:01\r\u001b[K     |██████▉                         | 235 kB 5.5 MB/s eta 0:00:01\r\u001b[K     |███████                         | 245 kB 5.5 MB/s eta 0:00:01\r\u001b[K     |███████▍                        | 256 kB 5.5 MB/s eta 0:00:01\r\u001b[K     |███████▊                        | 266 kB 5.5 MB/s eta 0:00:01\r\u001b[K     |████████                        | 276 kB 5.5 MB/s eta 0:00:01\r\u001b[K     |████████▎                       | 286 kB 5.5 MB/s eta 0:00:01\r\u001b[K     |████████▋                       | 296 kB 5.5 MB/s eta 0:00:01\r\u001b[K     |████████▉                       | 307 kB 5.5 MB/s eta 0:00:01\r\u001b[K     |█████████▏                      | 317 kB 5.5 MB/s eta 0:00:01\r\u001b[K     |█████████▌                      | 327 kB 5.5 MB/s eta 0:00:01\r\u001b[K     |█████████▊                      | 337 kB 5.5 MB/s eta 0:00:01\r\u001b[K     |██████████                      | 348 kB 5.5 MB/s eta 0:00:01\r\u001b[K     |██████████▍                     | 358 kB 5.5 MB/s eta 0:00:01\r\u001b[K     |██████████▋                     | 368 kB 5.5 MB/s eta 0:00:01\r\u001b[K     |███████████                     | 378 kB 5.5 MB/s eta 0:00:01\r\u001b[K     |███████████▎                    | 389 kB 5.5 MB/s eta 0:00:01\r\u001b[K     |███████████▌                    | 399 kB 5.5 MB/s eta 0:00:01\r\u001b[K     |███████████▉                    | 409 kB 5.5 MB/s eta 0:00:01\r\u001b[K     |████████████▏                   | 419 kB 5.5 MB/s eta 0:00:01\r\u001b[K     |████████████▍                   | 430 kB 5.5 MB/s eta 0:00:01\r\u001b[K     |████████████▊                   | 440 kB 5.5 MB/s eta 0:00:01\r\u001b[K     |█████████████                   | 450 kB 5.5 MB/s eta 0:00:01\r\u001b[K     |█████████████▎                  | 460 kB 5.5 MB/s eta 0:00:01\r\u001b[K     |█████████████▋                  | 471 kB 5.5 MB/s eta 0:00:01\r\u001b[K     |██████████████                  | 481 kB 5.5 MB/s eta 0:00:01\r\u001b[K     |██████████████▏                 | 491 kB 5.5 MB/s eta 0:00:01\r\u001b[K     |██████████████▌                 | 501 kB 5.5 MB/s eta 0:00:01\r\u001b[K     |██████████████▉                 | 512 kB 5.5 MB/s eta 0:00:01\r\u001b[K     |███████████████                 | 522 kB 5.5 MB/s eta 0:00:01\r\u001b[K     |███████████████▍                | 532 kB 5.5 MB/s eta 0:00:01\r\u001b[K     |███████████████▊                | 542 kB 5.5 MB/s eta 0:00:01\r\u001b[K     |████████████████                | 552 kB 5.5 MB/s eta 0:00:01\r\u001b[K     |████████████████▎               | 563 kB 5.5 MB/s eta 0:00:01\r\u001b[K     |████████████████▋               | 573 kB 5.5 MB/s eta 0:00:01\r\u001b[K     |████████████████▉               | 583 kB 5.5 MB/s eta 0:00:01\r\u001b[K     |█████████████████▏              | 593 kB 5.5 MB/s eta 0:00:01\r\u001b[K     |█████████████████▌              | 604 kB 5.5 MB/s eta 0:00:01\r\u001b[K     |█████████████████▊              | 614 kB 5.5 MB/s eta 0:00:01\r\u001b[K     |██████████████████              | 624 kB 5.5 MB/s eta 0:00:01\r\u001b[K     |██████████████████▍             | 634 kB 5.5 MB/s eta 0:00:01\r\u001b[K     |██████████████████▋             | 645 kB 5.5 MB/s eta 0:00:01\r\u001b[K     |███████████████████             | 655 kB 5.5 MB/s eta 0:00:01\r\u001b[K     |███████████████████▎            | 665 kB 5.5 MB/s eta 0:00:01\r\u001b[K     |███████████████████▌            | 675 kB 5.5 MB/s eta 0:00:01\r\u001b[K     |███████████████████▉            | 686 kB 5.5 MB/s eta 0:00:01\r\u001b[K     |████████████████████▏           | 696 kB 5.5 MB/s eta 0:00:01\r\u001b[K     |████████████████████▍           | 706 kB 5.5 MB/s eta 0:00:01\r\u001b[K     |████████████████████▊           | 716 kB 5.5 MB/s eta 0:00:01\r\u001b[K     |█████████████████████           | 727 kB 5.5 MB/s eta 0:00:01\r\u001b[K     |█████████████████████▎          | 737 kB 5.5 MB/s eta 0:00:01\r\u001b[K     |█████████████████████▋          | 747 kB 5.5 MB/s eta 0:00:01\r\u001b[K     |██████████████████████          | 757 kB 5.5 MB/s eta 0:00:01\r\u001b[K     |██████████████████████▏         | 768 kB 5.5 MB/s eta 0:00:01\r\u001b[K     |██████████████████████▌         | 778 kB 5.5 MB/s eta 0:00:01\r\u001b[K     |██████████████████████▉         | 788 kB 5.5 MB/s eta 0:00:01\r\u001b[K     |███████████████████████         | 798 kB 5.5 MB/s eta 0:00:01\r\u001b[K     |███████████████████████▍        | 808 kB 5.5 MB/s eta 0:00:01\r\u001b[K     |███████████████████████▊        | 819 kB 5.5 MB/s eta 0:00:01\r\u001b[K     |████████████████████████        | 829 kB 5.5 MB/s eta 0:00:01\r\u001b[K     |████████████████████████▎       | 839 kB 5.5 MB/s eta 0:00:01\r\u001b[K     |████████████████████████▋       | 849 kB 5.5 MB/s eta 0:00:01\r\u001b[K     |████████████████████████▉       | 860 kB 5.5 MB/s eta 0:00:01\r\u001b[K     |█████████████████████████▏      | 870 kB 5.5 MB/s eta 0:00:01\r\u001b[K     |█████████████████████████▍      | 880 kB 5.5 MB/s eta 0:00:01\r\u001b[K     |█████████████████████████▊      | 890 kB 5.5 MB/s eta 0:00:01\r\u001b[K     |██████████████████████████      | 901 kB 5.5 MB/s eta 0:00:01\r\u001b[K     |██████████████████████████▎     | 911 kB 5.5 MB/s eta 0:00:01\r\u001b[K     |██████████████████████████▋     | 921 kB 5.5 MB/s eta 0:00:01\r\u001b[K     |███████████████████████████     | 931 kB 5.5 MB/s eta 0:00:01\r\u001b[K     |███████████████████████████▏    | 942 kB 5.5 MB/s eta 0:00:01\r\u001b[K     |███████████████████████████▌    | 952 kB 5.5 MB/s eta 0:00:01\r\u001b[K     |███████████████████████████▉    | 962 kB 5.5 MB/s eta 0:00:01\r\u001b[K     |████████████████████████████    | 972 kB 5.5 MB/s eta 0:00:01\r\u001b[K     |████████████████████████████▍   | 983 kB 5.5 MB/s eta 0:00:01\r\u001b[K     |████████████████████████████▊   | 993 kB 5.5 MB/s eta 0:00:01\r\u001b[K     |█████████████████████████████   | 1.0 MB 5.5 MB/s eta 0:00:01\r\u001b[K     |█████████████████████████████▎  | 1.0 MB 5.5 MB/s eta 0:00:01\r\u001b[K     |█████████████████████████████▋  | 1.0 MB 5.5 MB/s eta 0:00:01\r\u001b[K     |█████████████████████████████▉  | 1.0 MB 5.5 MB/s eta 0:00:01\r\u001b[K     |██████████████████████████████▏ | 1.0 MB 5.5 MB/s eta 0:00:01\r\u001b[K     |██████████████████████████████▌ | 1.1 MB 5.5 MB/s eta 0:00:01\r\u001b[K     |██████████████████████████████▊ | 1.1 MB 5.5 MB/s eta 0:00:01\r\u001b[K     |███████████████████████████████ | 1.1 MB 5.5 MB/s eta 0:00:01\r\u001b[K     |███████████████████████████████▍| 1.1 MB 5.5 MB/s eta 0:00:01\r\u001b[K     |███████████████████████████████▋| 1.1 MB 5.5 MB/s eta 0:00:01\r\u001b[K     |████████████████████████████████| 1.1 MB 5.5 MB/s eta 0:00:01\r\u001b[K     |████████████████████████████████| 1.1 MB 5.5 MB/s \n",
            "\u001b[?25hRequirement already satisfied: typeguard>=2.7 in /usr/local/lib/python3.7/dist-packages (from tensorflow-addons) (2.7.1)\n",
            "Installing collected packages: tensorflow-addons\n",
            "Successfully installed tensorflow-addons-0.14.0\n"
          ]
        }
      ]
    },
    {
      "cell_type": "code",
      "metadata": {
        "id": "gsaFtvaJ2If6"
      },
      "source": [
        "import tensorflow as tf\n",
        "import tensorflow_addons as tfa"
      ],
      "execution_count": 7,
      "outputs": []
    },
    {
      "cell_type": "code",
      "metadata": {
        "colab": {
          "base_uri": "https://localhost:8080/"
        },
        "id": "PEmTk6AN3haf",
        "outputId": "5d3c98e4-d6b2-4b3c-9e03-3c9ca838396a"
      },
      "source": [
        "import tensorflow as tf\n",
        "import tensorflow_addons as tfa\n",
        "model_yogi1=keras.Sequential([\n",
        "             keras.layers.Dense(10,input_shape=(784,),activation='sigmoid') , \n",
        "             keras.layers.Dense(100,input_shape=(784,),activation='sigmoid')  ,\n",
        "             keras.layers.Dense(1000,input_shape=(784,),activation='sigmoid')  ,\n",
        "             keras.layers.Dense(1000,input_shape=(784,),activation='sigmoid')  \n",
        "                \n",
        "])\n",
        "opt=tfa.optimizers.Yogi(learning_rate= 0.01,\n",
        "    beta1= 0.9,\n",
        "    beta2= 0.999,\n",
        "    epsilon= 0.001,\n",
        "    l1_regularization_strength= 0.0,\n",
        "    l2_regularization_strength= 0.0,\n",
        "    initial_accumulator_value= 1e-06,\n",
        "    activation = 'sign',\n",
        "    name= 'Yogi',\n",
        ")\n",
        "model_yogi1.compile(\n",
        "    optimizer=opt,\n",
        "    loss='sparse_categorical_crossentropy',\n",
        "    metrics=['accuracy']\n",
        "\n",
        ")\n",
        "model_yogi1.fit(x_train_flattened,y_train,epochs=5)"
      ],
      "execution_count": 17,
      "outputs": [
        {
          "output_type": "stream",
          "name": "stdout",
          "text": [
            "Epoch 1/5\n",
            "1875/1875 [==============================] - 14s 7ms/step - loss: 0.9280 - accuracy: 0.6976\n",
            "Epoch 2/5\n",
            "1875/1875 [==============================] - 13s 7ms/step - loss: 0.3553 - accuracy: 0.9046\n",
            "Epoch 3/5\n",
            "1875/1875 [==============================] - 13s 7ms/step - loss: 0.3001 - accuracy: 0.9161\n",
            "Epoch 4/5\n",
            "1875/1875 [==============================] - 13s 7ms/step - loss: 0.2684 - accuracy: 0.9240\n",
            "Epoch 5/5\n",
            "1875/1875 [==============================] - 12s 7ms/step - loss: 0.2475 - accuracy: 0.9284\n"
          ]
        },
        {
          "output_type": "execute_result",
          "data": {
            "text/plain": [
              "<keras.callbacks.History at 0x7f7a374d1a10>"
            ]
          },
          "metadata": {},
          "execution_count": 17
        }
      ]
    },
    {
      "cell_type": "code",
      "metadata": {
        "colab": {
          "base_uri": "https://localhost:8080/"
        },
        "id": "HKR1YiIm3lqQ",
        "outputId": "87193973-8080-415f-b0a5-7b995df195cd"
      },
      "source": [
        "model_yogi2=keras.Sequential([\n",
        "             keras.layers.Dense(10,input_shape=(784,),activation='sigmoid') , \n",
        "             keras.layers.Dense(100,input_shape=(784,),activation='sigmoid')  ,\n",
        "             keras.layers.Dense(1000,input_shape=(784,),activation='sigmoid')  ,\n",
        "             keras.layers.Dense(1000,input_shape=(784,),activation='sigmoid')  \n",
        "                \n",
        "])\n",
        "opt=tfa.optimizers.Yogi(learning_rate= 0.01,\n",
        "    beta1= 0.9,\n",
        "    beta2= 0.999,\n",
        "    epsilon= 0.001,\n",
        "    l1_regularization_strength= 0.0,\n",
        "    l2_regularization_strength= 0.0,\n",
        "    initial_accumulator_value= 1e-06,\n",
        "    activation = 'sign',\n",
        "    name= 'Yogi',\n",
        ")\n",
        "model_yogi2.compile(\n",
        "    optimizer=opt,\n",
        "    loss='sparse_categorical_crossentropy',\n",
        "    metrics=['accuracy']\n",
        "\n",
        ")\n",
        "model_yogi2.fit(x_train_flattened,y_train,epochs=20)"
      ],
      "execution_count": 16,
      "outputs": [
        {
          "output_type": "stream",
          "name": "stdout",
          "text": [
            "Epoch 1/20\n",
            "1875/1875 [==============================] - 14s 7ms/step - loss: 0.8898 - accuracy: 0.7101\n",
            "Epoch 2/20\n",
            "1875/1875 [==============================] - 13s 7ms/step - loss: 0.3427 - accuracy: 0.9017\n",
            "Epoch 3/20\n",
            "1875/1875 [==============================] - 13s 7ms/step - loss: 0.2967 - accuracy: 0.9136\n",
            "Epoch 4/20\n",
            "1875/1875 [==============================] - 13s 7ms/step - loss: 0.2691 - accuracy: 0.9212\n",
            "Epoch 5/20\n",
            "1875/1875 [==============================] - 12s 7ms/step - loss: 0.2501 - accuracy: 0.9273\n",
            "Epoch 6/20\n",
            "1875/1875 [==============================] - 13s 7ms/step - loss: 0.2366 - accuracy: 0.9296\n",
            "Epoch 7/20\n",
            "1875/1875 [==============================] - 13s 7ms/step - loss: 0.2221 - accuracy: 0.9342\n",
            "Epoch 8/20\n",
            "1875/1875 [==============================] - 13s 7ms/step - loss: 0.2154 - accuracy: 0.9356\n",
            "Epoch 9/20\n",
            "1875/1875 [==============================] - 12s 7ms/step - loss: 0.2065 - accuracy: 0.9382\n",
            "Epoch 10/20\n",
            "1875/1875 [==============================] - 12s 7ms/step - loss: 0.1995 - accuracy: 0.9399\n",
            "Epoch 11/20\n",
            "1875/1875 [==============================] - 12s 7ms/step - loss: 0.1937 - accuracy: 0.9422\n",
            "Epoch 12/20\n",
            "1875/1875 [==============================] - 12s 7ms/step - loss: 0.1860 - accuracy: 0.9437\n",
            "Epoch 13/20\n",
            "1875/1875 [==============================] - 12s 7ms/step - loss: 0.1835 - accuracy: 0.9445\n",
            "Epoch 14/20\n",
            "1875/1875 [==============================] - 12s 7ms/step - loss: 0.1788 - accuracy: 0.9455\n",
            "Epoch 15/20\n",
            "1875/1875 [==============================] - 12s 7ms/step - loss: 0.1732 - accuracy: 0.9475\n",
            "Epoch 16/20\n",
            "1875/1875 [==============================] - 12s 7ms/step - loss: 0.1717 - accuracy: 0.9473\n",
            "Epoch 17/20\n",
            "1875/1875 [==============================] - 12s 7ms/step - loss: 0.1658 - accuracy: 0.9496\n",
            "Epoch 18/20\n",
            "1875/1875 [==============================] - 12s 7ms/step - loss: 0.1624 - accuracy: 0.9501\n",
            "Epoch 19/20\n",
            "1875/1875 [==============================] - 13s 7ms/step - loss: 0.1606 - accuracy: 0.9503\n",
            "Epoch 20/20\n",
            "1875/1875 [==============================] - 12s 7ms/step - loss: 0.1583 - accuracy: 0.9514\n"
          ]
        },
        {
          "output_type": "execute_result",
          "data": {
            "text/plain": [
              "<keras.callbacks.History at 0x7f7a3774b210>"
            ]
          },
          "metadata": {},
          "execution_count": 16
        }
      ]
    },
    {
      "cell_type": "code",
      "metadata": {
        "id": "5J30LRUK3p47",
        "colab": {
          "base_uri": "https://localhost:8080/"
        },
        "outputId": "7286430e-b6d7-4a4c-e8cd-4a46de25045d"
      },
      "source": [
        "import tensorflow as tf\n",
        "import tensorflow_addons as tfa\n",
        "model_yogi3=keras.Sequential([\n",
        "             keras.layers.Dense(10,input_shape=(784,),activation='sigmoid') , \n",
        "             keras.layers.Dense(100,input_shape=(784,),activation='sigmoid')  ,\n",
        "             keras.layers.Dense(1000,input_shape=(784,),activation='sigmoid')  ,\n",
        "             keras.layers.Dense(1000,input_shape=(784,),activation='sigmoid')  \n",
        "                \n",
        "])\n",
        "opt=tfa.optimizers.Yogi(learning_rate= 0.01,\n",
        "    beta1= 0.9,\n",
        "    beta2= 0.999,\n",
        "    epsilon= 0.001,\n",
        "    l1_regularization_strength= 0.0,\n",
        "    l2_regularization_strength= 0.0,\n",
        "    initial_accumulator_value= 1e-06,\n",
        "    activation = 'sign',\n",
        "    name= 'Yogi',\n",
        ")\n",
        "model_yogi3.compile(\n",
        "    optimizer=opt,\n",
        "    loss='sparse_categorical_crossentropy',\n",
        "    metrics=['accuracy']\n",
        "\n",
        ")\n",
        "model_yogi3.fit(x_train_flattened,y_train,epochs=50)"
      ],
      "execution_count": 8,
      "outputs": [
        {
          "output_type": "stream",
          "name": "stdout",
          "text": [
            "Epoch 1/50\n",
            "1875/1875 [==============================] - 16s 7ms/step - loss: 0.9498 - accuracy: 0.6921\n",
            "Epoch 2/50\n",
            "1875/1875 [==============================] - 13s 7ms/step - loss: 0.3588 - accuracy: 0.8973\n",
            "Epoch 3/50\n",
            "1875/1875 [==============================] - 13s 7ms/step - loss: 0.3021 - accuracy: 0.9137\n",
            "Epoch 4/50\n",
            "1875/1875 [==============================] - 13s 7ms/step - loss: 0.2775 - accuracy: 0.9197\n",
            "Epoch 5/50\n",
            "1875/1875 [==============================] - 12s 7ms/step - loss: 0.2597 - accuracy: 0.9246\n",
            "Epoch 6/50\n",
            "1875/1875 [==============================] - 12s 7ms/step - loss: 0.2455 - accuracy: 0.9287\n",
            "Epoch 7/50\n",
            "1875/1875 [==============================] - 12s 7ms/step - loss: 0.2351 - accuracy: 0.9316\n",
            "Epoch 8/50\n",
            "1875/1875 [==============================] - 12s 7ms/step - loss: 0.2271 - accuracy: 0.9326\n",
            "Epoch 9/50\n",
            "1875/1875 [==============================] - 12s 7ms/step - loss: 0.2189 - accuracy: 0.9358\n",
            "Epoch 10/50\n",
            "1875/1875 [==============================] - 12s 7ms/step - loss: 0.2134 - accuracy: 0.9375\n",
            "Epoch 11/50\n",
            "1875/1875 [==============================] - 12s 7ms/step - loss: 0.2066 - accuracy: 0.9388\n",
            "Epoch 12/50\n",
            "1875/1875 [==============================] - 12s 7ms/step - loss: 0.2027 - accuracy: 0.9401\n",
            "Epoch 13/50\n",
            "1875/1875 [==============================] - 12s 7ms/step - loss: 0.1985 - accuracy: 0.9414\n",
            "Epoch 14/50\n",
            "1875/1875 [==============================] - 12s 7ms/step - loss: 0.1936 - accuracy: 0.9431\n",
            "Epoch 15/50\n",
            "1875/1875 [==============================] - 12s 7ms/step - loss: 0.1894 - accuracy: 0.9434\n",
            "Epoch 16/50\n",
            "1875/1875 [==============================] - 12s 7ms/step - loss: 0.1853 - accuracy: 0.9442\n",
            "Epoch 17/50\n",
            "1875/1875 [==============================] - 12s 7ms/step - loss: 0.1827 - accuracy: 0.9451\n",
            "Epoch 18/50\n",
            "1875/1875 [==============================] - 12s 7ms/step - loss: 0.1792 - accuracy: 0.9460\n",
            "Epoch 19/50\n",
            "1875/1875 [==============================] - 12s 6ms/step - loss: 0.1778 - accuracy: 0.9465\n",
            "Epoch 20/50\n",
            "1875/1875 [==============================] - 12s 6ms/step - loss: 0.1753 - accuracy: 0.9472\n",
            "Epoch 21/50\n",
            "1875/1875 [==============================] - 12s 6ms/step - loss: 0.1717 - accuracy: 0.9482\n",
            "Epoch 22/50\n",
            "1875/1875 [==============================] - 12s 6ms/step - loss: 0.1703 - accuracy: 0.9480\n",
            "Epoch 23/50\n",
            "1875/1875 [==============================] - 12s 6ms/step - loss: 0.1680 - accuracy: 0.9495\n",
            "Epoch 24/50\n",
            "1875/1875 [==============================] - 12s 6ms/step - loss: 0.1646 - accuracy: 0.9505\n",
            "Epoch 25/50\n",
            "1875/1875 [==============================] - 12s 6ms/step - loss: 0.1619 - accuracy: 0.9513\n",
            "Epoch 26/50\n",
            "1875/1875 [==============================] - 12s 7ms/step - loss: 0.1620 - accuracy: 0.9505\n",
            "Epoch 27/50\n",
            "1875/1875 [==============================] - 12s 6ms/step - loss: 0.1587 - accuracy: 0.9512\n",
            "Epoch 28/50\n",
            "1875/1875 [==============================] - 12s 7ms/step - loss: 0.1581 - accuracy: 0.9515\n",
            "Epoch 29/50\n",
            "1875/1875 [==============================] - 12s 6ms/step - loss: 0.1554 - accuracy: 0.9527\n",
            "Epoch 30/50\n",
            "1875/1875 [==============================] - 12s 7ms/step - loss: 0.1536 - accuracy: 0.9523\n",
            "Epoch 31/50\n",
            "1875/1875 [==============================] - 12s 7ms/step - loss: 0.1519 - accuracy: 0.9540\n",
            "Epoch 32/50\n",
            "1875/1875 [==============================] - 12s 6ms/step - loss: 0.1530 - accuracy: 0.9530\n",
            "Epoch 33/50\n",
            "1875/1875 [==============================] - 12s 7ms/step - loss: 0.1484 - accuracy: 0.9548\n",
            "Epoch 34/50\n",
            "1875/1875 [==============================] - 12s 6ms/step - loss: 0.1482 - accuracy: 0.9542\n",
            "Epoch 35/50\n",
            "1875/1875 [==============================] - 12s 6ms/step - loss: 0.1469 - accuracy: 0.9551\n",
            "Epoch 36/50\n",
            "1875/1875 [==============================] - 12s 7ms/step - loss: 0.1443 - accuracy: 0.9552\n",
            "Epoch 37/50\n",
            "1875/1875 [==============================] - 12s 7ms/step - loss: 0.1428 - accuracy: 0.9561\n",
            "Epoch 38/50\n",
            "1875/1875 [==============================] - 12s 6ms/step - loss: 0.1427 - accuracy: 0.9559\n",
            "Epoch 39/50\n",
            "1875/1875 [==============================] - 12s 7ms/step - loss: 0.1401 - accuracy: 0.9564\n",
            "Epoch 40/50\n",
            "1875/1875 [==============================] - 12s 7ms/step - loss: 0.1405 - accuracy: 0.9564\n",
            "Epoch 41/50\n",
            "1875/1875 [==============================] - 12s 7ms/step - loss: 0.1387 - accuracy: 0.9574\n",
            "Epoch 42/50\n",
            "1875/1875 [==============================] - 12s 7ms/step - loss: 0.1370 - accuracy: 0.9581\n",
            "Epoch 43/50\n",
            "1875/1875 [==============================] - 12s 6ms/step - loss: 0.1347 - accuracy: 0.9592\n",
            "Epoch 44/50\n",
            "1875/1875 [==============================] - 12s 7ms/step - loss: 0.1340 - accuracy: 0.9587\n",
            "Epoch 45/50\n",
            "1875/1875 [==============================] - 12s 7ms/step - loss: 0.1342 - accuracy: 0.9586\n",
            "Epoch 46/50\n",
            "1875/1875 [==============================] - 12s 7ms/step - loss: 0.1334 - accuracy: 0.9585\n",
            "Epoch 47/50\n",
            "1875/1875 [==============================] - 12s 7ms/step - loss: 0.1328 - accuracy: 0.9584\n",
            "Epoch 48/50\n",
            "1875/1875 [==============================] - 12s 7ms/step - loss: 0.1307 - accuracy: 0.9593\n",
            "Epoch 49/50\n",
            "1875/1875 [==============================] - 12s 6ms/step - loss: 0.1267 - accuracy: 0.9610\n",
            "Epoch 50/50\n",
            "1875/1875 [==============================] - 12s 7ms/step - loss: 0.1281 - accuracy: 0.9593\n"
          ]
        },
        {
          "output_type": "execute_result",
          "data": {
            "text/plain": [
              "<keras.callbacks.History at 0x7f7ab0048f50>"
            ]
          },
          "metadata": {},
          "execution_count": 8
        }
      ]
    },
    {
      "cell_type": "code",
      "metadata": {
        "id": "rmTs1CSu3s-H",
        "colab": {
          "base_uri": "https://localhost:8080/"
        },
        "outputId": "36b48572-d596-45e8-d505-4c9394de5567"
      },
      "source": [
        "model_yogi4=keras.Sequential([\n",
        "             keras.layers.Dense(10,input_shape=(784,),activation='sigmoid') , \n",
        "             keras.layers.Dense(100,input_shape=(784,),activation='sigmoid')  ,\n",
        "             keras.layers.Dense(1000,input_shape=(784,),activation='sigmoid')  ,\n",
        "             keras.layers.Dense(1000,input_shape=(784,),activation='sigmoid')  \n",
        "                \n",
        "])\n",
        "opt=tfa.optimizers.Yogi(learning_rate= 0.01,\n",
        "    beta1= 0.9,\n",
        "    beta2= 0.999,\n",
        "    epsilon= 0.001,\n",
        "    l1_regularization_strength= 0.0,\n",
        "    l2_regularization_strength= 0.0,\n",
        "    initial_accumulator_value= 1e-06,\n",
        "    activation = 'sign',\n",
        "    name= 'Yogi',\n",
        ")\n",
        "model_yogi4.compile(\n",
        "    optimizer=opt,\n",
        "    loss='sparse_categorical_crossentropy',\n",
        "    metrics=['accuracy']\n",
        "\n",
        ")\n",
        "model_yogi4.fit(x_train_flattened,y_train,epochs=70)"
      ],
      "execution_count": 9,
      "outputs": [
        {
          "output_type": "stream",
          "name": "stdout",
          "text": [
            "Epoch 1/70\n",
            "1875/1875 [==============================] - 14s 7ms/step - loss: 0.9735 - accuracy: 0.6837\n",
            "Epoch 2/70\n",
            "1875/1875 [==============================] - 13s 7ms/step - loss: 0.3707 - accuracy: 0.9024\n",
            "Epoch 3/70\n",
            "1875/1875 [==============================] - 12s 7ms/step - loss: 0.3030 - accuracy: 0.9187\n",
            "Epoch 4/70\n",
            "1875/1875 [==============================] - 12s 7ms/step - loss: 0.2718 - accuracy: 0.9261\n",
            "Epoch 5/70\n",
            "1875/1875 [==============================] - 12s 7ms/step - loss: 0.2492 - accuracy: 0.9312\n",
            "Epoch 6/70\n",
            "1875/1875 [==============================] - 12s 7ms/step - loss: 0.2318 - accuracy: 0.9345\n",
            "Epoch 7/70\n",
            "1875/1875 [==============================] - 12s 7ms/step - loss: 0.2236 - accuracy: 0.9371\n",
            "Epoch 8/70\n",
            "1875/1875 [==============================] - 12s 6ms/step - loss: 0.2166 - accuracy: 0.9386\n",
            "Epoch 9/70\n",
            "1875/1875 [==============================] - 12s 7ms/step - loss: 0.2102 - accuracy: 0.9403\n",
            "Epoch 10/70\n",
            "1875/1875 [==============================] - 12s 7ms/step - loss: 0.2045 - accuracy: 0.9414\n",
            "Epoch 11/70\n",
            "1875/1875 [==============================] - 12s 7ms/step - loss: 0.2016 - accuracy: 0.9420\n",
            "Epoch 12/70\n",
            "1875/1875 [==============================] - 12s 7ms/step - loss: 0.1940 - accuracy: 0.9440\n",
            "Epoch 13/70\n",
            "1875/1875 [==============================] - 12s 7ms/step - loss: 0.1910 - accuracy: 0.9445\n",
            "Epoch 14/70\n",
            "1875/1875 [==============================] - 12s 7ms/step - loss: 0.1877 - accuracy: 0.9447\n",
            "Epoch 15/70\n",
            "1875/1875 [==============================] - 12s 6ms/step - loss: 0.1821 - accuracy: 0.9468\n",
            "Epoch 16/70\n",
            "1875/1875 [==============================] - 12s 7ms/step - loss: 0.1799 - accuracy: 0.9466\n",
            "Epoch 17/70\n",
            "1875/1875 [==============================] - 12s 7ms/step - loss: 0.1776 - accuracy: 0.9472\n",
            "Epoch 18/70\n",
            "1875/1875 [==============================] - 12s 6ms/step - loss: 0.1738 - accuracy: 0.9481\n",
            "Epoch 19/70\n",
            "1875/1875 [==============================] - 12s 7ms/step - loss: 0.1714 - accuracy: 0.9487\n",
            "Epoch 20/70\n",
            "1875/1875 [==============================] - 12s 7ms/step - loss: 0.1685 - accuracy: 0.9499\n",
            "Epoch 21/70\n",
            "1875/1875 [==============================] - 12s 6ms/step - loss: 0.1646 - accuracy: 0.9508\n",
            "Epoch 22/70\n",
            "1875/1875 [==============================] - 12s 7ms/step - loss: 0.1646 - accuracy: 0.9507\n",
            "Epoch 23/70\n",
            "1875/1875 [==============================] - 12s 7ms/step - loss: 0.1621 - accuracy: 0.9521\n",
            "Epoch 24/70\n",
            "1875/1875 [==============================] - 12s 6ms/step - loss: 0.1587 - accuracy: 0.9517\n",
            "Epoch 25/70\n",
            "1875/1875 [==============================] - 12s 6ms/step - loss: 0.1584 - accuracy: 0.9521\n",
            "Epoch 26/70\n",
            "1875/1875 [==============================] - 12s 6ms/step - loss: 0.1574 - accuracy: 0.9526\n",
            "Epoch 27/70\n",
            "1875/1875 [==============================] - 12s 6ms/step - loss: 0.1555 - accuracy: 0.9530\n",
            "Epoch 28/70\n",
            "1875/1875 [==============================] - 12s 7ms/step - loss: 0.1524 - accuracy: 0.9534\n",
            "Epoch 29/70\n",
            "1875/1875 [==============================] - 12s 7ms/step - loss: 0.1516 - accuracy: 0.9531\n",
            "Epoch 30/70\n",
            "1875/1875 [==============================] - 12s 7ms/step - loss: 0.1508 - accuracy: 0.9540\n",
            "Epoch 31/70\n",
            "1875/1875 [==============================] - 12s 7ms/step - loss: 0.1489 - accuracy: 0.9535\n",
            "Epoch 32/70\n",
            "1875/1875 [==============================] - 12s 7ms/step - loss: 0.1475 - accuracy: 0.9545\n",
            "Epoch 33/70\n",
            "1875/1875 [==============================] - 12s 6ms/step - loss: 0.1465 - accuracy: 0.9549\n",
            "Epoch 34/70\n",
            "1875/1875 [==============================] - 12s 7ms/step - loss: 0.1435 - accuracy: 0.9559\n",
            "Epoch 35/70\n",
            "1875/1875 [==============================] - 12s 7ms/step - loss: 0.1420 - accuracy: 0.9571\n",
            "Epoch 36/70\n",
            "1875/1875 [==============================] - 12s 7ms/step - loss: 0.1413 - accuracy: 0.9570\n",
            "Epoch 37/70\n",
            "1875/1875 [==============================] - 12s 6ms/step - loss: 0.1395 - accuracy: 0.9567\n",
            "Epoch 38/70\n",
            "1875/1875 [==============================] - 12s 7ms/step - loss: 0.1392 - accuracy: 0.9572\n",
            "Epoch 39/70\n",
            "1875/1875 [==============================] - 12s 7ms/step - loss: 0.1375 - accuracy: 0.9575\n",
            "Epoch 40/70\n",
            "1875/1875 [==============================] - 12s 7ms/step - loss: 0.1360 - accuracy: 0.9583\n",
            "Epoch 41/70\n",
            "1875/1875 [==============================] - 12s 7ms/step - loss: 0.1353 - accuracy: 0.9579\n",
            "Epoch 42/70\n",
            "1875/1875 [==============================] - 12s 6ms/step - loss: 0.1338 - accuracy: 0.9586\n",
            "Epoch 43/70\n",
            "1875/1875 [==============================] - 12s 7ms/step - loss: 0.1329 - accuracy: 0.9588\n",
            "Epoch 44/70\n",
            "1875/1875 [==============================] - 12s 7ms/step - loss: 0.1321 - accuracy: 0.9592\n",
            "Epoch 45/70\n",
            "1875/1875 [==============================] - 12s 7ms/step - loss: 0.1296 - accuracy: 0.9597\n",
            "Epoch 46/70\n",
            "1875/1875 [==============================] - 12s 6ms/step - loss: 0.1292 - accuracy: 0.9595\n",
            "Epoch 47/70\n",
            "1875/1875 [==============================] - 12s 7ms/step - loss: 0.1280 - accuracy: 0.9609\n",
            "Epoch 48/70\n",
            "1875/1875 [==============================] - 12s 7ms/step - loss: 0.1269 - accuracy: 0.9600\n",
            "Epoch 49/70\n",
            "1875/1875 [==============================] - 12s 7ms/step - loss: 0.1264 - accuracy: 0.9605\n",
            "Epoch 50/70\n",
            "1875/1875 [==============================] - 12s 6ms/step - loss: 0.1246 - accuracy: 0.9613\n",
            "Epoch 51/70\n",
            "1875/1875 [==============================] - 12s 7ms/step - loss: 0.1251 - accuracy: 0.9606\n",
            "Epoch 52/70\n",
            "1875/1875 [==============================] - 12s 6ms/step - loss: 0.1241 - accuracy: 0.9609\n",
            "Epoch 53/70\n",
            "1875/1875 [==============================] - 12s 7ms/step - loss: 0.1231 - accuracy: 0.9611\n",
            "Epoch 54/70\n",
            "1875/1875 [==============================] - 12s 6ms/step - loss: 0.1221 - accuracy: 0.9617\n",
            "Epoch 55/70\n",
            "1875/1875 [==============================] - 12s 7ms/step - loss: 0.1193 - accuracy: 0.9624\n",
            "Epoch 56/70\n",
            "1875/1875 [==============================] - 12s 7ms/step - loss: 0.1204 - accuracy: 0.9619\n",
            "Epoch 57/70\n",
            "1875/1875 [==============================] - 12s 7ms/step - loss: 0.1199 - accuracy: 0.9621\n",
            "Epoch 58/70\n",
            "1875/1875 [==============================] - 12s 7ms/step - loss: 0.1175 - accuracy: 0.9625\n",
            "Epoch 59/70\n",
            "1875/1875 [==============================] - 12s 7ms/step - loss: 0.1175 - accuracy: 0.9628\n",
            "Epoch 60/70\n",
            "1875/1875 [==============================] - 12s 7ms/step - loss: 0.1158 - accuracy: 0.9633\n",
            "Epoch 61/70\n",
            "1875/1875 [==============================] - 12s 6ms/step - loss: 0.1153 - accuracy: 0.9643\n",
            "Epoch 62/70\n",
            "1875/1875 [==============================] - 12s 6ms/step - loss: 0.1147 - accuracy: 0.9639\n",
            "Epoch 63/70\n",
            "1875/1875 [==============================] - 12s 6ms/step - loss: 0.1156 - accuracy: 0.9635\n",
            "Epoch 64/70\n",
            "1875/1875 [==============================] - 12s 7ms/step - loss: 0.1141 - accuracy: 0.9636\n",
            "Epoch 65/70\n",
            "1875/1875 [==============================] - 12s 6ms/step - loss: 0.1124 - accuracy: 0.9641\n",
            "Epoch 66/70\n",
            "1875/1875 [==============================] - 12s 6ms/step - loss: 0.1108 - accuracy: 0.9647\n",
            "Epoch 67/70\n",
            "1875/1875 [==============================] - 12s 6ms/step - loss: 0.1108 - accuracy: 0.9644\n",
            "Epoch 68/70\n",
            "1875/1875 [==============================] - 12s 6ms/step - loss: 0.1103 - accuracy: 0.9648\n",
            "Epoch 69/70\n",
            "1875/1875 [==============================] - 12s 6ms/step - loss: 0.1108 - accuracy: 0.9649\n",
            "Epoch 70/70\n",
            "1875/1875 [==============================] - 12s 6ms/step - loss: 0.1090 - accuracy: 0.9653\n"
          ]
        },
        {
          "output_type": "execute_result",
          "data": {
            "text/plain": [
              "<keras.callbacks.History at 0x7f7a3c310c10>"
            ]
          },
          "metadata": {},
          "execution_count": 9
        }
      ]
    },
    {
      "cell_type": "code",
      "metadata": {
        "id": "JoExuL_B3wNI",
        "colab": {
          "base_uri": "https://localhost:8080/"
        },
        "outputId": "22bdd1fe-0713-4bd5-d8b9-b4522aa19eb4"
      },
      "source": [
        "model_yogi5=keras.Sequential([\n",
        "             keras.layers.Dense(10,input_shape=(784,),activation='sigmoid') , \n",
        "             keras.layers.Dense(100,input_shape=(784,),activation='sigmoid')  ,\n",
        "             keras.layers.Dense(1000,input_shape=(784,),activation='sigmoid')  ,\n",
        "             keras.layers.Dense(1000,input_shape=(784,),activation='sigmoid')  \n",
        "                \n",
        "])\n",
        "opt=tfa.optimizers.Yogi(learning_rate= 0.01,\n",
        "    beta1= 0.9,\n",
        "    beta2= 0.999,\n",
        "    epsilon= 0.001,\n",
        "    l1_regularization_strength= 0.0,\n",
        "    l2_regularization_strength= 0.0,\n",
        "    initial_accumulator_value= 1e-06,\n",
        "    activation = 'sign',\n",
        "    name= 'Yogi',\n",
        ")\n",
        "model_yogi5.compile(\n",
        "    optimizer=opt,\n",
        "    loss='sparse_categorical_crossentropy',\n",
        "    metrics=['accuracy']\n",
        "\n",
        ")\n",
        "model_yogi5.fit(x_train_flattened,y_train,epochs=100)"
      ],
      "execution_count": 10,
      "outputs": [
        {
          "output_type": "stream",
          "name": "stdout",
          "text": [
            "Epoch 1/100\n",
            "1875/1875 [==============================] - 14s 7ms/step - loss: 0.9516 - accuracy: 0.6922\n",
            "Epoch 2/100\n",
            "1875/1875 [==============================] - 12s 7ms/step - loss: 0.3484 - accuracy: 0.9047\n",
            "Epoch 3/100\n",
            "1875/1875 [==============================] - 13s 7ms/step - loss: 0.2937 - accuracy: 0.9187\n",
            "Epoch 4/100\n",
            "1875/1875 [==============================] - 12s 7ms/step - loss: 0.2654 - accuracy: 0.9269\n",
            "Epoch 5/100\n",
            "1875/1875 [==============================] - 12s 7ms/step - loss: 0.2444 - accuracy: 0.9310\n",
            "Epoch 6/100\n",
            "1875/1875 [==============================] - 12s 7ms/step - loss: 0.2313 - accuracy: 0.9346\n",
            "Epoch 7/100\n",
            "1875/1875 [==============================] - 13s 7ms/step - loss: 0.2229 - accuracy: 0.9372\n",
            "Epoch 8/100\n",
            "1875/1875 [==============================] - 12s 7ms/step - loss: 0.2127 - accuracy: 0.9390\n",
            "Epoch 9/100\n",
            "1875/1875 [==============================] - 12s 7ms/step - loss: 0.2053 - accuracy: 0.9421\n",
            "Epoch 10/100\n",
            "1875/1875 [==============================] - 12s 7ms/step - loss: 0.1985 - accuracy: 0.9433\n",
            "Epoch 11/100\n",
            "1875/1875 [==============================] - 12s 6ms/step - loss: 0.1933 - accuracy: 0.9449\n",
            "Epoch 12/100\n",
            "1875/1875 [==============================] - 12s 7ms/step - loss: 0.1872 - accuracy: 0.9463\n",
            "Epoch 13/100\n",
            "1875/1875 [==============================] - 12s 7ms/step - loss: 0.1844 - accuracy: 0.9465\n",
            "Epoch 14/100\n",
            "1875/1875 [==============================] - 12s 7ms/step - loss: 0.1798 - accuracy: 0.9481\n",
            "Epoch 15/100\n",
            "1875/1875 [==============================] - 12s 6ms/step - loss: 0.1775 - accuracy: 0.9484\n",
            "Epoch 16/100\n",
            "1875/1875 [==============================] - 12s 6ms/step - loss: 0.1733 - accuracy: 0.9498\n",
            "Epoch 17/100\n",
            "1875/1875 [==============================] - 12s 6ms/step - loss: 0.1704 - accuracy: 0.9508\n",
            "Epoch 18/100\n",
            "1875/1875 [==============================] - 12s 7ms/step - loss: 0.1680 - accuracy: 0.9503\n",
            "Epoch 19/100\n",
            "1875/1875 [==============================] - 12s 7ms/step - loss: 0.1650 - accuracy: 0.9518\n",
            "Epoch 20/100\n",
            "1875/1875 [==============================] - 12s 6ms/step - loss: 0.1613 - accuracy: 0.9523\n",
            "Epoch 21/100\n",
            "1875/1875 [==============================] - 12s 6ms/step - loss: 0.1592 - accuracy: 0.9536\n",
            "Epoch 22/100\n",
            "1875/1875 [==============================] - 12s 7ms/step - loss: 0.1578 - accuracy: 0.9539\n",
            "Epoch 23/100\n",
            "1875/1875 [==============================] - 12s 7ms/step - loss: 0.1551 - accuracy: 0.9542\n",
            "Epoch 24/100\n",
            "1875/1875 [==============================] - 12s 6ms/step - loss: 0.1533 - accuracy: 0.9545\n",
            "Epoch 25/100\n",
            "1875/1875 [==============================] - 12s 6ms/step - loss: 0.1524 - accuracy: 0.9550\n",
            "Epoch 26/100\n",
            "1875/1875 [==============================] - 12s 7ms/step - loss: 0.1497 - accuracy: 0.9550\n",
            "Epoch 27/100\n",
            "1875/1875 [==============================] - 12s 7ms/step - loss: 0.1481 - accuracy: 0.9562\n",
            "Epoch 28/100\n",
            "1875/1875 [==============================] - 12s 7ms/step - loss: 0.1461 - accuracy: 0.9566\n",
            "Epoch 29/100\n",
            "1875/1875 [==============================] - 12s 7ms/step - loss: 0.1434 - accuracy: 0.9580\n",
            "Epoch 30/100\n",
            "1875/1875 [==============================] - 12s 7ms/step - loss: 0.1433 - accuracy: 0.9580\n",
            "Epoch 31/100\n",
            "1875/1875 [==============================] - 12s 6ms/step - loss: 0.1402 - accuracy: 0.9574\n",
            "Epoch 32/100\n",
            "1875/1875 [==============================] - 12s 7ms/step - loss: 0.1391 - accuracy: 0.9581\n",
            "Epoch 33/100\n",
            "1875/1875 [==============================] - 12s 6ms/step - loss: 0.1375 - accuracy: 0.9599\n",
            "Epoch 34/100\n",
            "1875/1875 [==============================] - 12s 7ms/step - loss: 0.1359 - accuracy: 0.9596\n",
            "Epoch 35/100\n",
            "1875/1875 [==============================] - 12s 6ms/step - loss: 0.1363 - accuracy: 0.9590\n",
            "Epoch 36/100\n",
            "1875/1875 [==============================] - 12s 6ms/step - loss: 0.1348 - accuracy: 0.9598\n",
            "Epoch 37/100\n",
            "1875/1875 [==============================] - 12s 6ms/step - loss: 0.1322 - accuracy: 0.9604\n",
            "Epoch 38/100\n",
            "1875/1875 [==============================] - 12s 7ms/step - loss: 0.1314 - accuracy: 0.9612\n",
            "Epoch 39/100\n",
            "1875/1875 [==============================] - 12s 7ms/step - loss: 0.1298 - accuracy: 0.9614\n",
            "Epoch 40/100\n",
            "1875/1875 [==============================] - 12s 7ms/step - loss: 0.1297 - accuracy: 0.9602\n",
            "Epoch 41/100\n",
            "1875/1875 [==============================] - 12s 7ms/step - loss: 0.1282 - accuracy: 0.9621\n",
            "Epoch 42/100\n",
            "1875/1875 [==============================] - 12s 7ms/step - loss: 0.1268 - accuracy: 0.9619\n",
            "Epoch 43/100\n",
            "1875/1875 [==============================] - 12s 7ms/step - loss: 0.1258 - accuracy: 0.9628\n",
            "Epoch 44/100\n",
            "1875/1875 [==============================] - 12s 7ms/step - loss: 0.1256 - accuracy: 0.9621\n",
            "Epoch 45/100\n",
            "1875/1875 [==============================] - 12s 7ms/step - loss: 0.1216 - accuracy: 0.9639\n",
            "Epoch 46/100\n",
            "1875/1875 [==============================] - 12s 7ms/step - loss: 0.1226 - accuracy: 0.9633\n",
            "Epoch 47/100\n",
            "1875/1875 [==============================] - 12s 7ms/step - loss: 0.1223 - accuracy: 0.9629\n",
            "Epoch 48/100\n",
            "1875/1875 [==============================] - 12s 7ms/step - loss: 0.1206 - accuracy: 0.9636\n",
            "Epoch 49/100\n",
            "1875/1875 [==============================] - 12s 7ms/step - loss: 0.1197 - accuracy: 0.9643\n",
            "Epoch 50/100\n",
            "1875/1875 [==============================] - 12s 7ms/step - loss: 0.1163 - accuracy: 0.9649\n",
            "Epoch 51/100\n",
            "1875/1875 [==============================] - 12s 7ms/step - loss: 0.1176 - accuracy: 0.9642\n",
            "Epoch 52/100\n",
            "1875/1875 [==============================] - 12s 6ms/step - loss: 0.1152 - accuracy: 0.9646\n",
            "Epoch 53/100\n",
            "1875/1875 [==============================] - 12s 7ms/step - loss: 0.1160 - accuracy: 0.9643\n",
            "Epoch 54/100\n",
            "1875/1875 [==============================] - 12s 7ms/step - loss: 0.1147 - accuracy: 0.9653\n",
            "Epoch 55/100\n",
            "1875/1875 [==============================] - 12s 7ms/step - loss: 0.1144 - accuracy: 0.9653\n",
            "Epoch 56/100\n",
            "1875/1875 [==============================] - 12s 7ms/step - loss: 0.1129 - accuracy: 0.9652\n",
            "Epoch 57/100\n",
            "1875/1875 [==============================] - 12s 7ms/step - loss: 0.1122 - accuracy: 0.9662\n",
            "Epoch 58/100\n",
            "1875/1875 [==============================] - 12s 7ms/step - loss: 0.1113 - accuracy: 0.9667\n",
            "Epoch 59/100\n",
            "1875/1875 [==============================] - 12s 7ms/step - loss: 0.1095 - accuracy: 0.9664\n",
            "Epoch 60/100\n",
            "1875/1875 [==============================] - 12s 6ms/step - loss: 0.1081 - accuracy: 0.9665\n",
            "Epoch 61/100\n",
            "1875/1875 [==============================] - 12s 7ms/step - loss: 0.1078 - accuracy: 0.9672\n",
            "Epoch 62/100\n",
            "1875/1875 [==============================] - 12s 7ms/step - loss: 0.1078 - accuracy: 0.9676\n",
            "Epoch 63/100\n",
            "1875/1875 [==============================] - 12s 7ms/step - loss: 0.1071 - accuracy: 0.9680\n",
            "Epoch 64/100\n",
            "1875/1875 [==============================] - 12s 7ms/step - loss: 0.1053 - accuracy: 0.9676\n",
            "Epoch 65/100\n",
            "1875/1875 [==============================] - 12s 7ms/step - loss: 0.1050 - accuracy: 0.9669\n",
            "Epoch 66/100\n",
            "1875/1875 [==============================] - 12s 7ms/step - loss: 0.1052 - accuracy: 0.9677\n",
            "Epoch 67/100\n",
            "1875/1875 [==============================] - 12s 6ms/step - loss: 0.1043 - accuracy: 0.9676\n",
            "Epoch 68/100\n",
            "1875/1875 [==============================] - 12s 7ms/step - loss: 0.1041 - accuracy: 0.9680\n",
            "Epoch 69/100\n",
            "1875/1875 [==============================] - 12s 6ms/step - loss: 0.1048 - accuracy: 0.9674\n",
            "Epoch 70/100\n",
            "1875/1875 [==============================] - 12s 6ms/step - loss: 0.1023 - accuracy: 0.9683\n",
            "Epoch 71/100\n",
            "1875/1875 [==============================] - 12s 7ms/step - loss: 0.1009 - accuracy: 0.9689\n",
            "Epoch 72/100\n",
            "1875/1875 [==============================] - 12s 7ms/step - loss: 0.1002 - accuracy: 0.9690\n",
            "Epoch 73/100\n",
            "1875/1875 [==============================] - 12s 7ms/step - loss: 0.0989 - accuracy: 0.9697\n",
            "Epoch 74/100\n",
            "1875/1875 [==============================] - 12s 6ms/step - loss: 0.0989 - accuracy: 0.9693\n",
            "Epoch 75/100\n",
            "1875/1875 [==============================] - 12s 7ms/step - loss: 0.0983 - accuracy: 0.9703\n",
            "Epoch 76/100\n",
            "1875/1875 [==============================] - 12s 6ms/step - loss: 0.0983 - accuracy: 0.9700\n",
            "Epoch 77/100\n",
            "1875/1875 [==============================] - 12s 6ms/step - loss: 0.0964 - accuracy: 0.9704\n",
            "Epoch 78/100\n",
            "1875/1875 [==============================] - 12s 6ms/step - loss: 0.0975 - accuracy: 0.9695\n",
            "Epoch 79/100\n",
            "1875/1875 [==============================] - 12s 7ms/step - loss: 0.0956 - accuracy: 0.9704\n",
            "Epoch 80/100\n",
            "1875/1875 [==============================] - 12s 6ms/step - loss: 0.0944 - accuracy: 0.9698\n",
            "Epoch 81/100\n",
            "1875/1875 [==============================] - 12s 6ms/step - loss: 0.0948 - accuracy: 0.9711\n",
            "Epoch 82/100\n",
            "1875/1875 [==============================] - 12s 6ms/step - loss: 0.0932 - accuracy: 0.9712\n",
            "Epoch 83/100\n",
            "1875/1875 [==============================] - 12s 6ms/step - loss: 0.0949 - accuracy: 0.9698\n",
            "Epoch 84/100\n",
            "1875/1875 [==============================] - 12s 6ms/step - loss: 0.0916 - accuracy: 0.9716\n",
            "Epoch 85/100\n",
            "1875/1875 [==============================] - 12s 6ms/step - loss: 0.0912 - accuracy: 0.9714\n",
            "Epoch 86/100\n",
            "1875/1875 [==============================] - 12s 7ms/step - loss: 0.0917 - accuracy: 0.9714\n",
            "Epoch 87/100\n",
            "1875/1875 [==============================] - 12s 6ms/step - loss: 0.0918 - accuracy: 0.9715\n",
            "Epoch 88/100\n",
            "1875/1875 [==============================] - 12s 6ms/step - loss: 0.0925 - accuracy: 0.9715\n",
            "Epoch 89/100\n",
            "1875/1875 [==============================] - 12s 7ms/step - loss: 0.0900 - accuracy: 0.9719\n",
            "Epoch 90/100\n",
            "1875/1875 [==============================] - 12s 7ms/step - loss: 0.0895 - accuracy: 0.9720\n",
            "Epoch 91/100\n",
            "1875/1875 [==============================] - 12s 6ms/step - loss: 0.0897 - accuracy: 0.9722\n",
            "Epoch 92/100\n",
            "1875/1875 [==============================] - 12s 6ms/step - loss: 0.0883 - accuracy: 0.9723\n",
            "Epoch 93/100\n",
            "1875/1875 [==============================] - 12s 6ms/step - loss: 0.0872 - accuracy: 0.9727\n",
            "Epoch 94/100\n",
            "1875/1875 [==============================] - 12s 7ms/step - loss: 0.0868 - accuracy: 0.9729\n",
            "Epoch 95/100\n",
            "1875/1875 [==============================] - 12s 7ms/step - loss: 0.0858 - accuracy: 0.9732\n",
            "Epoch 96/100\n",
            "1875/1875 [==============================] - 12s 6ms/step - loss: 0.0862 - accuracy: 0.9727\n",
            "Epoch 97/100\n",
            "1875/1875 [==============================] - 12s 6ms/step - loss: 0.0849 - accuracy: 0.9734\n",
            "Epoch 98/100\n",
            "1875/1875 [==============================] - 12s 6ms/step - loss: 0.0845 - accuracy: 0.9736\n",
            "Epoch 99/100\n",
            "1875/1875 [==============================] - 12s 6ms/step - loss: 0.0849 - accuracy: 0.9738\n",
            "Epoch 100/100\n",
            "1875/1875 [==============================] - 12s 6ms/step - loss: 0.0850 - accuracy: 0.9736\n"
          ]
        },
        {
          "output_type": "execute_result",
          "data": {
            "text/plain": [
              "<keras.callbacks.History at 0x7f7a3c0bc310>"
            ]
          },
          "metadata": {},
          "execution_count": 10
        }
      ]
    },
    {
      "cell_type": "code",
      "metadata": {
        "id": "T0l6EZKq3zEc",
        "colab": {
          "base_uri": "https://localhost:8080/"
        },
        "outputId": "4ec53d38-4972-46dc-b993-bacced5657c4"
      },
      "source": [
        "y_pred_yogi1=model_yogi1.predict(x_test_flattened)\n",
        "y_pred_yogif1=[np.argmax(i) for i in y_pred_yogi1]\n",
        "from keras import metrics \n",
        "from sklearn.metrics import *\n",
        "yogi_acc1=accuracy_score(y_pred_yogif1,y_test)\n",
        "print(yogi_acc1)"
      ],
      "execution_count": 18,
      "outputs": [
        {
          "output_type": "stream",
          "name": "stdout",
          "text": [
            "0.9281\n"
          ]
        }
      ]
    },
    {
      "cell_type": "code",
      "metadata": {
        "id": "fKBjEUmg32sZ",
        "colab": {
          "base_uri": "https://localhost:8080/"
        },
        "outputId": "2a2479bf-cbf2-4a27-d376-1e0f5f27435a"
      },
      "source": [
        "y_pred_yogi2=model_yogi2.predict(x_test_flattened)\n",
        "y_pred_yogif2=[np.argmax(i) for i in y_pred_yogi2]\n",
        "from keras import metrics \n",
        "from sklearn.metrics import *\n",
        "yogi_acc2=accuracy_score(y_pred_yogif2,y_test)\n",
        "print(yogi_acc2)"
      ],
      "execution_count": 19,
      "outputs": [
        {
          "output_type": "stream",
          "name": "stdout",
          "text": [
            "0.931\n"
          ]
        }
      ]
    },
    {
      "cell_type": "code",
      "metadata": {
        "id": "LyNln9Mx35Ts",
        "colab": {
          "base_uri": "https://localhost:8080/"
        },
        "outputId": "701155ae-2b43-499d-ce4a-8ee1dff5d48a"
      },
      "source": [
        "y_pred_yogi3=model_yogi3.predict(x_test_flattened)\n",
        "y_pred_yogif3=[np.argmax(i) for i in y_pred_yogi3]\n",
        "from keras import metrics \n",
        "from sklearn.metrics import *\n",
        "yogi_acc3=accuracy_score(y_pred_yogif3,y_test)\n",
        "print(yogi_acc3)"
      ],
      "execution_count": 15,
      "outputs": [
        {
          "output_type": "stream",
          "name": "stdout",
          "text": [
            "0.9334\n"
          ]
        }
      ]
    },
    {
      "cell_type": "code",
      "metadata": {
        "id": "9raoORZi38Xe",
        "colab": {
          "base_uri": "https://localhost:8080/"
        },
        "outputId": "e26d4006-fa6d-4684-f203-a5014e6b52b5"
      },
      "source": [
        "y_pred_yogi4=model_yogi4.predict(x_test_flattened)\n",
        "y_pred_yogif4=[np.argmax(i) for i in y_pred_yogi4]\n",
        "from keras import metrics \n",
        "from sklearn.metrics import *\n",
        "yogi_acc4=accuracy_score(y_pred_yogif4,y_test)\n",
        "print(yogi_acc4)"
      ],
      "execution_count": 14,
      "outputs": [
        {
          "output_type": "stream",
          "name": "stdout",
          "text": [
            "0.8975\n"
          ]
        }
      ]
    },
    {
      "cell_type": "code",
      "metadata": {
        "id": "hRAE72nj3-qt",
        "colab": {
          "base_uri": "https://localhost:8080/"
        },
        "outputId": "4b338249-7ed3-4be1-a932-fd3152ecc0c9"
      },
      "source": [
        "y_pred_yogi5=model_yogi5.predict(x_test_flattened)\n",
        "y_pred_yogif5=[np.argmax(i) for i in y_pred_yogi5]\n",
        "from keras import metrics \n",
        "from sklearn.metrics import *\n",
        "yogi_acc5=accuracy_score(y_pred_yogif5,y_test)\n",
        "print(yogi_acc5)"
      ],
      "execution_count": 13,
      "outputs": [
        {
          "output_type": "stream",
          "name": "stdout",
          "text": [
            "0.8999\n"
          ]
        }
      ]
    },
    {
      "cell_type": "code",
      "metadata": {
        "id": "yk2BeppL4A1h"
      },
      "source": [
        ""
      ],
      "execution_count": null,
      "outputs": []
    }
  ]
}