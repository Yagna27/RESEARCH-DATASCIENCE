{
  "nbformat": 4,
  "nbformat_minor": 0,
  "metadata": {
    "colab": {
      "name": "cifar10 Rmsprop  optimizer.ipynb",
      "provenance": [],
      "collapsed_sections": []
    },
    "kernelspec": {
      "name": "python3",
      "display_name": "Python 3"
    },
    "language_info": {
      "name": "python"
    },
    "accelerator": "GPU"
  },
  "cells": [
    {
      "cell_type": "code",
      "source": [
        "import tensorflow as tf\n",
        "from tensorflow.keras import datasets , layers ,models\n",
        "import matplotlib.pyplot as plt\n",
        "import numpy as np\n",
        "import pandas as pd\n",
        "import keras"
      ],
      "metadata": {
        "id": "r9mEBdS3bPh6"
      },
      "execution_count": 52,
      "outputs": []
    },
    {
      "cell_type": "code",
      "source": [
        "(x_train,y_train),(x_test,y_test)=datasets.cifar10.load_data()"
      ],
      "metadata": {
        "id": "KARkqeKbbPqa"
      },
      "execution_count": 53,
      "outputs": []
    },
    {
      "cell_type": "code",
      "source": [
        "x_train.shape"
      ],
      "metadata": {
        "colab": {
          "base_uri": "https://localhost:8080/"
        },
        "id": "5O5geXzubP0i",
        "outputId": "4c7c37ba-50f1-496f-bc96-b50065058d1c"
      },
      "execution_count": 54,
      "outputs": [
        {
          "output_type": "execute_result",
          "data": {
            "text/plain": [
              "(50000, 32, 32, 3)"
            ]
          },
          "metadata": {},
          "execution_count": 54
        }
      ]
    },
    {
      "cell_type": "code",
      "source": [
        "x_test.shape"
      ],
      "metadata": {
        "colab": {
          "base_uri": "https://localhost:8080/"
        },
        "id": "13s9Nx6HcMt9",
        "outputId": "4c125d16-e56d-4681-9fee-e9e58a95dbb8"
      },
      "execution_count": 55,
      "outputs": [
        {
          "output_type": "execute_result",
          "data": {
            "text/plain": [
              "(10000, 32, 32, 3)"
            ]
          },
          "metadata": {},
          "execution_count": 55
        }
      ]
    },
    {
      "cell_type": "code",
      "source": [
        "plt.imshow(x_train[1])"
      ],
      "metadata": {
        "colab": {
          "base_uri": "https://localhost:8080/",
          "height": 283
        },
        "id": "HxebsSUJcPp8",
        "outputId": "15a0dbe4-1f44-48a7-f52d-0cb0c6e62c49"
      },
      "execution_count": 56,
      "outputs": [
        {
          "output_type": "execute_result",
          "data": {
            "text/plain": [
              "<matplotlib.image.AxesImage at 0x7f265013a0d0>"
            ]
          },
          "metadata": {},
          "execution_count": 56
        },
        {
          "output_type": "display_data",
          "data": {
            "image/png": "[encoded data removed]",
            "text/plain": [
              "<Figure size 432x288 with 1 Axes>"
            ]
          },
          "metadata": {
            "needs_background": "light"
          }
        }
      ]
    },
    {
      "cell_type": "code",
      "source": [
        "classes = [ \"airplane\" , \"automobile\" ,\"bird\", \"cat\", \"deer\", \"dog\" ,\"frog\" ,\"horse\" ,\"ship\" ,\"truck\"]"
      ],
      "metadata": {
        "id": "h4_ibMD4cZbu"
      },
      "execution_count": 57,
      "outputs": []
    },
    {
      "cell_type": "code",
      "source": [
        " y_train.shape"
      ],
      "metadata": {
        "colab": {
          "base_uri": "https://localhost:8080/"
        },
        "id": "jYkE-Hk3gupT",
        "outputId": "3d0c5e99-0cef-4e3e-8d95-35d160dff77b"
      },
      "execution_count": 58,
      "outputs": [
        {
          "output_type": "execute_result",
          "data": {
            "text/plain": [
              "(50000, 1)"
            ]
          },
          "metadata": {},
          "execution_count": 58
        }
      ]
    },
    {
      "cell_type": "code",
      "source": [
        "y_train[:5]"
      ],
      "metadata": {
        "colab": {
          "base_uri": "https://localhost:8080/"
        },
        "id": "jO_tq21_g4pl",
        "outputId": "84e88e8d-c4c3-4ba5-e546-24413f89e0b8"
      },
      "execution_count": 59,
      "outputs": [
        {
          "output_type": "execute_result",
          "data": {
            "text/plain": [
              "array([[6],\n",
              "       [9],\n",
              "       [9],\n",
              "       [4],\n",
              "       [1]], dtype=uint8)"
            ]
          },
          "metadata": {},
          "execution_count": 59
        }
      ]
    },
    {
      "cell_type": "code",
      "source": [
        "y_train=y_train.reshape(-1,)\n",
        "y_train"
      ],
      "metadata": {
        "colab": {
          "base_uri": "https://localhost:8080/"
        },
        "id": "Jlzo-E50g7D6",
        "outputId": "53eb32c8-4b0a-4427-c538-2d0d258ec608"
      },
      "execution_count": 60,
      "outputs": [
        {
          "output_type": "execute_result",
          "data": {
            "text/plain": [
              "array([6, 9, 9, ..., 9, 1, 1], dtype=uint8)"
            ]
          },
          "metadata": {},
          "execution_count": 60
        }
      ]
    },
    {
      "cell_type": "code",
      "source": [
        "classes[9]"
      ],
      "metadata": {
        "colab": {
          "base_uri": "https://localhost:8080/",
          "height": 35
        },
        "id": "vPUSMWB4hWi3",
        "outputId": "8ceee150-365e-4c12-bdee-9211eab683c8"
      },
      "execution_count": 61,
      "outputs": [
        {
          "output_type": "execute_result",
          "data": {
            "application/vnd.google.colaboratory.intrinsic+json": {
              "type": "string"
            },
            "text/plain": [
              "'truck'"
            ]
          },
          "metadata": {},
          "execution_count": 61
        }
      ]
    },
    {
      "cell_type": "code",
      "source": [
        "def plot_sample(X,y,index):\n",
        "  plt.figure(figsize=(15,2))\n",
        "  plt.imshow(X[index])\n",
        "  plt.xlabel(classes[y[index]])"
      ],
      "metadata": {
        "id": "R-GDMyu4hdeO"
      },
      "execution_count": 62,
      "outputs": []
    },
    {
      "cell_type": "code",
      "source": [
        "plot_sample(x_train,y_train,1)"
      ],
      "metadata": {
        "colab": {
          "base_uri": "https://localhost:8080/",
          "height": 173
        },
        "id": "56it8GN6h7RB",
        "outputId": "434537b3-4f4e-4fb3-811e-412177f096a2"
      },
      "execution_count": 63,
      "outputs": [
        {
          "output_type": "display_data",
          "data": {
            "image/png": "[encoded data removed]",
            "text/plain": [
              "<Figure size 1080x144 with 1 Axes>"
            ]
          },
          "metadata": {
            "needs_background": "light"
          }
        }
      ]
    },
    {
      "cell_type": "code",
      "source": [
        "x_train =x_train/255\n",
        "x_test = x_test/255\n"
      ],
      "metadata": {
        "id": "qZKRES41iEDo"
      },
      "execution_count": 64,
      "outputs": []
    },
    {
      "cell_type": "code",
      "source": [
        "print(x_train.shape)\n",
        "print(y_train.shape)"
      ],
      "metadata": {
        "colab": {
          "base_uri": "https://localhost:8080/"
        },
        "id": "YE-nv0S7pEg-",
        "outputId": "40635342-7a98-458d-abda-9c6e8ecfae1f"
      },
      "execution_count": 65,
      "outputs": [
        {
          "output_type": "stream",
          "name": "stdout",
          "text": [
            "(50000, 32, 32, 3)\n",
            "(50000,)\n"
          ]
        }
      ]
    },
    {
      "cell_type": "code",
      "source": [
        "model = keras.Sequential(\n",
        "    [\n",
        "     layers.Conv2D(filters=64,kernel_size=(3,3), activation ='relu' ,input_shape=(32,32,3)),\n",
        "     layers.MaxPool2D((2,2)),\n",
        "     layers.Conv2D(filters=32,kernel_size=(3,3), activation ='relu'),\n",
        "     layers.MaxPool2D((2,2)),\n",
        "     layers.Conv2D(filters=32,kernel_size=(3,3), activation ='relu'),\n",
        "     layers.MaxPool2D((2,2)),\n",
        "     keras.layers.Flatten(),\n",
        "     keras.layers.Dense(32,activation =\"relu\"),\n",
        "     keras.layers.Dense(10 ,activation =\"softmax\"),\n",
        "     \n",
        "    ]\n",
        ")\n",
        "\n",
        "model.compile(optimizer = \"RMSprop\",\n",
        "               loss=\"sparse_categorical_crossentropy\",\n",
        "               metrics=[\"accuracy\"])\n",
        "model.fit(x_train,y_train, epochs=5)"
      ],
      "metadata": {
        "colab": {
          "base_uri": "https://localhost:8080/"
        },
        "id": "roKuRHDbiPxj",
        "outputId": "8ba4df53-f261-485b-b8e6-fb02212798c5"
      },
      "execution_count": 66,
      "outputs": [
        {
          "output_type": "stream",
          "name": "stdout",
          "text": [
            "Epoch 1/5\n",
            "1563/1563 [==============================] - 8s 5ms/step - loss: 1.7407 - accuracy: 0.3672\n",
            "Epoch 2/5\n",
            "1563/1563 [==============================] - 7s 5ms/step - loss: 1.3656 - accuracy: 0.5106\n",
            "Epoch 3/5\n",
            "1563/1563 [==============================] - 7s 5ms/step - loss: 1.2082 - accuracy: 0.5729\n",
            "Epoch 4/5\n",
            "1563/1563 [==============================] - 7s 5ms/step - loss: 1.1102 - accuracy: 0.6084\n",
            "Epoch 5/5\n",
            "1563/1563 [==============================] - 7s 5ms/step - loss: 1.0403 - accuracy: 0.6350\n"
          ]
        },
        {
          "output_type": "execute_result",
          "data": {
            "text/plain": [
              "<keras.callbacks.History at 0x7f26501292d0>"
            ]
          },
          "metadata": {},
          "execution_count": 66
        }
      ]
    },
    {
      "cell_type": "code",
      "source": [
        "from sklearn.metrics import confusion_matrix , classification_report\n",
        "import numpy as np \n",
        "y_pred = model.predict(x_test)\n",
        "y_pred_classes = [np.argmax(element) for element in y_pred]\n",
        "print(\"classification report: \\n\" , classification_report(y_test, y_pred_classes))"
      ],
      "metadata": {
        "colab": {
          "base_uri": "https://localhost:8080/"
        },
        "id": "t_Se6bS2lsbN",
        "outputId": "9b589606-5301-401d-a785-64c780522289"
      },
      "execution_count": 67,
      "outputs": [
        {
          "output_type": "stream",
          "name": "stdout",
          "text": [
            "classification report: \n",
            "               precision    recall  f1-score   support\n",
            "\n",
            "           0       0.77      0.58      0.66      1000\n",
            "           1       0.80      0.75      0.77      1000\n",
            "           2       0.47      0.55      0.51      1000\n",
            "           3       0.41      0.51      0.46      1000\n",
            "           4       0.62      0.51      0.56      1000\n",
            "           5       0.53      0.52      0.52      1000\n",
            "           6       0.53      0.86      0.65      1000\n",
            "           7       0.82      0.56      0.67      1000\n",
            "           8       0.82      0.69      0.75      1000\n",
            "           9       0.76      0.72      0.74      1000\n",
            "\n",
            "    accuracy                           0.63     10000\n",
            "   macro avg       0.65      0.63      0.63     10000\n",
            "weighted avg       0.65      0.63      0.63     10000\n",
            "\n"
          ]
        }
      ]
    },
    {
      "cell_type": "code",
      "source": [
        "model.evaluate(x_test,y_test)"
      ],
      "metadata": {
        "colab": {
          "base_uri": "https://localhost:8080/"
        },
        "id": "pYBdWVdbqGBp",
        "outputId": "7519a1fb-94be-473c-b668-70d801062f09"
      },
      "execution_count": 68,
      "outputs": [
        {
          "output_type": "stream",
          "name": "stdout",
          "text": [
            "313/313 [==============================] - 1s 3ms/step - loss: 1.0780 - accuracy: 0.6252\n"
          ]
        },
        {
          "output_type": "execute_result",
          "data": {
            "text/plain": [
              "[1.078021764755249, 0.6251999735832214]"
            ]
          },
          "metadata": {},
          "execution_count": 68
        }
      ]
    },
    {
      "cell_type": "code",
      "source": [
        "model.fit(x_train,y_train, epochs=10)"
      ],
      "metadata": {
        "colab": {
          "base_uri": "https://localhost:8080/"
        },
        "id": "OfvqBz-0qPOd",
        "outputId": "b17c837c-e984-4da0-c4d9-68ffd1899a20"
      },
      "execution_count": 69,
      "outputs": [
        {
          "output_type": "stream",
          "name": "stdout",
          "text": [
            "Epoch 1/10\n",
            "1563/1563 [==============================] - 7s 5ms/step - loss: 0.9886 - accuracy: 0.6568\n",
            "Epoch 2/10\n",
            "1563/1563 [==============================] - 7s 5ms/step - loss: 0.9486 - accuracy: 0.6679\n",
            "Epoch 3/10\n",
            "1563/1563 [==============================] - 7s 5ms/step - loss: 0.9138 - accuracy: 0.6842\n",
            "Epoch 4/10\n",
            "1563/1563 [==============================] - 7s 5ms/step - loss: 0.8831 - accuracy: 0.6933\n",
            "Epoch 5/10\n",
            "1563/1563 [==============================] - 7s 5ms/step - loss: 0.8622 - accuracy: 0.7008\n",
            "Epoch 6/10\n",
            "1563/1563 [==============================] - 7s 5ms/step - loss: 0.8370 - accuracy: 0.7104\n",
            "Epoch 7/10\n",
            "1563/1563 [==============================] - 7s 5ms/step - loss: 0.8192 - accuracy: 0.7155\n",
            "Epoch 8/10\n",
            "1563/1563 [==============================] - 7s 5ms/step - loss: 0.7989 - accuracy: 0.7224\n",
            "Epoch 9/10\n",
            "1563/1563 [==============================] - 7s 5ms/step - loss: 0.7874 - accuracy: 0.7267\n",
            "Epoch 10/10\n",
            "1563/1563 [==============================] - 7s 5ms/step - loss: 0.7720 - accuracy: 0.7323\n"
          ]
        },
        {
          "output_type": "execute_result",
          "data": {
            "text/plain": [
              "<keras.callbacks.History at 0x7f2650220e10>"
            ]
          },
          "metadata": {},
          "execution_count": 69
        }
      ]
    },
    {
      "cell_type": "code",
      "source": [
        "model.evaluate(x_test,y_test)"
      ],
      "metadata": {
        "colab": {
          "base_uri": "https://localhost:8080/"
        },
        "id": "JjscndYvrLSv",
        "outputId": "5ec6e62c-c613-435a-b766-35ad4b53538e"
      },
      "execution_count": 79,
      "outputs": [
        {
          "output_type": "stream",
          "name": "stdout",
          "text": [
            "313/313 [==============================] - 1s 3ms/step - loss: 1.6522 - accuracy: 0.6048\n"
          ]
        },
        {
          "output_type": "execute_result",
          "data": {
            "text/plain": [
              "[1.6521679162979126, 0.6047999858856201]"
            ]
          },
          "metadata": {},
          "execution_count": 79
        }
      ]
    },
    {
      "cell_type": "code",
      "source": [
        "model.fit(x_train,y_train, epochs=20)"
      ],
      "metadata": {
        "colab": {
          "base_uri": "https://localhost:8080/"
        },
        "id": "UIJdm7PVrQRb",
        "outputId": "805732aa-facf-4a50-e857-fa781a03cfbc"
      },
      "execution_count": 80,
      "outputs": [
        {
          "output_type": "stream",
          "name": "stdout",
          "text": [
            "Epoch 1/20\n",
            "1563/1563 [==============================] - 7s 5ms/step - loss: 0.6922 - accuracy: 0.7788\n",
            "Epoch 2/20\n",
            "1563/1563 [==============================] - 7s 4ms/step - loss: 0.7136 - accuracy: 0.7787\n",
            "Epoch 3/20\n",
            "1563/1563 [==============================] - 7s 4ms/step - loss: 0.7194 - accuracy: 0.7776\n",
            "Epoch 4/20\n",
            "1563/1563 [==============================] - 7s 4ms/step - loss: 0.6802 - accuracy: 0.7822\n",
            "Epoch 5/20\n",
            "1563/1563 [==============================] - 7s 4ms/step - loss: 0.6727 - accuracy: 0.7791\n",
            "Epoch 6/20\n",
            "1563/1563 [==============================] - 7s 4ms/step - loss: 0.6852 - accuracy: 0.7790\n",
            "Epoch 7/20\n",
            "1563/1563 [==============================] - 7s 4ms/step - loss: 0.6765 - accuracy: 0.7800\n",
            "Epoch 8/20\n",
            "1563/1563 [==============================] - 7s 4ms/step - loss: 0.6906 - accuracy: 0.7772\n",
            "Epoch 9/20\n",
            "1563/1563 [==============================] - 7s 4ms/step - loss: 0.6792 - accuracy: 0.7799\n",
            "Epoch 10/20\n",
            "1563/1563 [==============================] - 7s 4ms/step - loss: 0.7053 - accuracy: 0.7771\n",
            "Epoch 11/20\n",
            "1563/1563 [==============================] - 7s 4ms/step - loss: 0.7347 - accuracy: 0.7724\n",
            "Epoch 12/20\n",
            "1563/1563 [==============================] - 7s 5ms/step - loss: 0.6866 - accuracy: 0.7766\n",
            "Epoch 13/20\n",
            "1563/1563 [==============================] - 7s 5ms/step - loss: 0.6870 - accuracy: 0.7814\n",
            "Epoch 14/20\n",
            "1563/1563 [==============================] - 7s 4ms/step - loss: 0.7147 - accuracy: 0.7760\n",
            "Epoch 15/20\n",
            "1563/1563 [==============================] - 7s 5ms/step - loss: 0.6800 - accuracy: 0.7780\n",
            "Epoch 16/20\n",
            "1563/1563 [==============================] - 7s 4ms/step - loss: 0.7069 - accuracy: 0.7717\n",
            "Epoch 17/20\n",
            "1563/1563 [==============================] - 7s 4ms/step - loss: 0.6972 - accuracy: 0.7773\n",
            "Epoch 18/20\n",
            "1563/1563 [==============================] - 7s 4ms/step - loss: 0.6992 - accuracy: 0.7752\n",
            "Epoch 19/20\n",
            "1563/1563 [==============================] - 7s 4ms/step - loss: 0.7160 - accuracy: 0.7756\n",
            "Epoch 20/20\n",
            "1563/1563 [==============================] - 7s 5ms/step - loss: 0.6813 - accuracy: 0.7781\n"
          ]
        },
        {
          "output_type": "execute_result",
          "data": {
            "text/plain": [
              "<keras.callbacks.History at 0x7f25e211b3d0>"
            ]
          },
          "metadata": {},
          "execution_count": 80
        }
      ]
    },
    {
      "cell_type": "code",
      "source": [
        "model.evaluate(x_test,y_test)"
      ],
      "metadata": {
        "colab": {
          "base_uri": "https://localhost:8080/"
        },
        "id": "DvQj8IbfrUMW",
        "outputId": "679d0082-759d-4cc9-95aa-b30e82bc23da"
      },
      "execution_count": 81,
      "outputs": [
        {
          "output_type": "stream",
          "name": "stdout",
          "text": [
            "313/313 [==============================] - 1s 3ms/step - loss: 1.2335 - accuracy: 0.6575\n"
          ]
        },
        {
          "output_type": "execute_result",
          "data": {
            "text/plain": [
              "[1.2334799766540527, 0.6575000286102295]"
            ]
          },
          "metadata": {},
          "execution_count": 81
        }
      ]
    },
    {
      "cell_type": "code",
      "source": [
        "model.fit(x_train,y_train, epochs=50)"
      ],
      "metadata": {
        "colab": {
          "base_uri": "https://localhost:8080/"
        },
        "id": "x-wKGPgwrYpb",
        "outputId": "b902feae-01d6-4a45-8017-e9688c3273b7"
      },
      "execution_count": 82,
      "outputs": [
        {
          "output_type": "stream",
          "name": "stdout",
          "text": [
            "Epoch 1/50\n",
            "1563/1563 [==============================] - 7s 5ms/step - loss: 0.6748 - accuracy: 0.7815\n",
            "Epoch 2/50\n",
            "1563/1563 [==============================] - 7s 4ms/step - loss: 0.6963 - accuracy: 0.7745\n",
            "Epoch 3/50\n",
            "1563/1563 [==============================] - 7s 4ms/step - loss: 0.7229 - accuracy: 0.7754\n",
            "Epoch 4/50\n",
            "1563/1563 [==============================] - 7s 4ms/step - loss: 0.7132 - accuracy: 0.7728\n",
            "Epoch 5/50\n",
            "1563/1563 [==============================] - 7s 4ms/step - loss: 0.7085 - accuracy: 0.7763\n",
            "Epoch 6/50\n",
            "1563/1563 [==============================] - 7s 4ms/step - loss: 0.6867 - accuracy: 0.7762\n",
            "Epoch 7/50\n",
            "1563/1563 [==============================] - 7s 4ms/step - loss: 0.6876 - accuracy: 0.7800\n",
            "Epoch 8/50\n",
            "1563/1563 [==============================] - 7s 4ms/step - loss: 0.6890 - accuracy: 0.7763\n",
            "Epoch 9/50\n",
            "1563/1563 [==============================] - 7s 4ms/step - loss: 0.7144 - accuracy: 0.7724\n",
            "Epoch 10/50\n",
            "1563/1563 [==============================] - 7s 4ms/step - loss: 0.7025 - accuracy: 0.7778\n",
            "Epoch 11/50\n",
            "1563/1563 [==============================] - 7s 4ms/step - loss: 0.7175 - accuracy: 0.7758\n",
            "Epoch 12/50\n",
            "1563/1563 [==============================] - 7s 4ms/step - loss: 0.7044 - accuracy: 0.7776\n",
            "Epoch 13/50\n",
            "1563/1563 [==============================] - 7s 4ms/step - loss: 0.6895 - accuracy: 0.7760\n",
            "Epoch 14/50\n",
            "1563/1563 [==============================] - 7s 4ms/step - loss: 0.6948 - accuracy: 0.7754\n",
            "Epoch 15/50\n",
            "1563/1563 [==============================] - 7s 4ms/step - loss: 0.7226 - accuracy: 0.7729\n",
            "Epoch 16/50\n",
            "1563/1563 [==============================] - 7s 4ms/step - loss: 0.7052 - accuracy: 0.7729\n",
            "Epoch 17/50\n",
            "1563/1563 [==============================] - 7s 4ms/step - loss: 0.6974 - accuracy: 0.7752\n",
            "Epoch 18/50\n",
            "1563/1563 [==============================] - 7s 4ms/step - loss: 0.7059 - accuracy: 0.7739\n",
            "Epoch 19/50\n",
            "1563/1563 [==============================] - 7s 4ms/step - loss: 0.7055 - accuracy: 0.7747\n",
            "Epoch 20/50\n",
            "1563/1563 [==============================] - 7s 4ms/step - loss: 0.7305 - accuracy: 0.7761\n",
            "Epoch 21/50\n",
            "1563/1563 [==============================] - 7s 4ms/step - loss: 0.6863 - accuracy: 0.7787\n",
            "Epoch 22/50\n",
            "1563/1563 [==============================] - 7s 4ms/step - loss: 0.6814 - accuracy: 0.7762\n",
            "Epoch 23/50\n",
            "1563/1563 [==============================] - 7s 4ms/step - loss: 0.7107 - accuracy: 0.7724\n",
            "Epoch 24/50\n",
            "1563/1563 [==============================] - 7s 4ms/step - loss: 0.7163 - accuracy: 0.7712\n",
            "Epoch 25/50\n",
            "1563/1563 [==============================] - 7s 4ms/step - loss: 0.7331 - accuracy: 0.7725\n",
            "Epoch 26/50\n",
            "1563/1563 [==============================] - 7s 4ms/step - loss: 0.7432 - accuracy: 0.7701\n",
            "Epoch 27/50\n",
            "1563/1563 [==============================] - 7s 4ms/step - loss: 0.7233 - accuracy: 0.7702\n",
            "Epoch 28/50\n",
            "1563/1563 [==============================] - 7s 4ms/step - loss: 0.6947 - accuracy: 0.7737\n",
            "Epoch 29/50\n",
            "1563/1563 [==============================] - 7s 4ms/step - loss: 0.7033 - accuracy: 0.7719\n",
            "Epoch 30/50\n",
            "1563/1563 [==============================] - 7s 4ms/step - loss: 0.7314 - accuracy: 0.7715\n",
            "Epoch 31/50\n",
            "1563/1563 [==============================] - 7s 4ms/step - loss: 0.7315 - accuracy: 0.7678\n",
            "Epoch 32/50\n",
            "1563/1563 [==============================] - 7s 5ms/step - loss: 0.8076 - accuracy: 0.7701\n",
            "Epoch 33/50\n",
            "1563/1563 [==============================] - 7s 4ms/step - loss: 0.7254 - accuracy: 0.7684\n",
            "Epoch 34/50\n",
            "1563/1563 [==============================] - 7s 4ms/step - loss: 0.7435 - accuracy: 0.7745\n",
            "Epoch 35/50\n",
            "1563/1563 [==============================] - 7s 4ms/step - loss: 0.7157 - accuracy: 0.7700\n",
            "Epoch 36/50\n",
            "1563/1563 [==============================] - 7s 5ms/step - loss: 0.7516 - accuracy: 0.7679\n",
            "Epoch 37/50\n",
            "1563/1563 [==============================] - 7s 5ms/step - loss: 0.8389 - accuracy: 0.7675\n",
            "Epoch 38/50\n",
            "1563/1563 [==============================] - 7s 4ms/step - loss: 0.7054 - accuracy: 0.7684\n",
            "Epoch 39/50\n",
            "1563/1563 [==============================] - 7s 4ms/step - loss: 0.6937 - accuracy: 0.7756\n",
            "Epoch 40/50\n",
            "1563/1563 [==============================] - 7s 4ms/step - loss: 0.7015 - accuracy: 0.7717\n",
            "Epoch 41/50\n",
            "1563/1563 [==============================] - 7s 4ms/step - loss: 0.7009 - accuracy: 0.7724\n",
            "Epoch 42/50\n",
            "1563/1563 [==============================] - 7s 5ms/step - loss: 0.7176 - accuracy: 0.7704\n",
            "Epoch 43/50\n",
            "1563/1563 [==============================] - 7s 4ms/step - loss: 0.7248 - accuracy: 0.7673\n",
            "Epoch 44/50\n",
            "1563/1563 [==============================] - 7s 4ms/step - loss: 0.7193 - accuracy: 0.7673\n",
            "Epoch 45/50\n",
            "1563/1563 [==============================] - 7s 4ms/step - loss: 0.7584 - accuracy: 0.7652\n",
            "Epoch 46/50\n",
            "1563/1563 [==============================] - 7s 4ms/step - loss: 0.7466 - accuracy: 0.7673\n",
            "Epoch 47/50\n",
            "1563/1563 [==============================] - 7s 4ms/step - loss: 0.7065 - accuracy: 0.7702\n",
            "Epoch 48/50\n",
            "1563/1563 [==============================] - 7s 4ms/step - loss: 0.7082 - accuracy: 0.7700\n",
            "Epoch 49/50\n",
            "1563/1563 [==============================] - 7s 4ms/step - loss: 0.7417 - accuracy: 0.7611\n",
            "Epoch 50/50\n",
            "1563/1563 [==============================] - 7s 4ms/step - loss: 0.7101 - accuracy: 0.7679\n"
          ]
        },
        {
          "output_type": "execute_result",
          "data": {
            "text/plain": [
              "<keras.callbacks.History at 0x7f25e2153b50>"
            ]
          },
          "metadata": {},
          "execution_count": 82
        }
      ]
    },
    {
      "cell_type": "code",
      "source": [
        "model.evaluate(x_test,y_test)"
      ],
      "metadata": {
        "colab": {
          "base_uri": "https://localhost:8080/"
        },
        "id": "NNDsDSesriGs",
        "outputId": "5fc70c7d-1ee9-45bc-bd7c-ee020492af20"
      },
      "execution_count": 83,
      "outputs": [
        {
          "output_type": "stream",
          "name": "stdout",
          "text": [
            "313/313 [==============================] - 1s 3ms/step - loss: 1.3385 - accuracy: 0.6701\n"
          ]
        },
        {
          "output_type": "execute_result",
          "data": {
            "text/plain": [
              "[1.3384828567504883, 0.6700999736785889]"
            ]
          },
          "metadata": {},
          "execution_count": 83
        }
      ]
    },
    {
      "cell_type": "code",
      "source": [
        "model.fit(x_train,y_train, epochs=70)"
      ],
      "metadata": {
        "colab": {
          "base_uri": "https://localhost:8080/"
        },
        "id": "yYAC5gvSrkB2",
        "outputId": "ed2042a0-5e87-4c71-ce0b-a9d9f585c990"
      },
      "execution_count": 84,
      "outputs": [
        {
          "output_type": "stream",
          "name": "stdout",
          "text": [
            "Epoch 1/70\n",
            "1563/1563 [==============================] - 7s 5ms/step - loss: 0.7332 - accuracy: 0.7706\n",
            "Epoch 2/70\n",
            "1563/1563 [==============================] - 7s 4ms/step - loss: 0.7222 - accuracy: 0.7669\n",
            "Epoch 3/70\n",
            "1563/1563 [==============================] - 7s 4ms/step - loss: 0.7149 - accuracy: 0.7694\n",
            "Epoch 4/70\n",
            "1563/1563 [==============================] - 7s 4ms/step - loss: 0.7356 - accuracy: 0.7656\n",
            "Epoch 5/70\n",
            "1563/1563 [==============================] - 7s 4ms/step - loss: 0.7291 - accuracy: 0.7660\n",
            "Epoch 6/70\n",
            "1563/1563 [==============================] - 7s 4ms/step - loss: 0.7347 - accuracy: 0.7670\n",
            "Epoch 7/70\n",
            "1563/1563 [==============================] - 7s 4ms/step - loss: 0.7213 - accuracy: 0.7689\n",
            "Epoch 8/70\n",
            "1563/1563 [==============================] - 7s 4ms/step - loss: 0.7537 - accuracy: 0.7668\n",
            "Epoch 9/70\n",
            "1563/1563 [==============================] - 7s 4ms/step - loss: 0.7233 - accuracy: 0.7665\n",
            "Epoch 10/70\n",
            "1563/1563 [==============================] - 7s 5ms/step - loss: 0.7230 - accuracy: 0.7685\n",
            "Epoch 11/70\n",
            "1563/1563 [==============================] - 7s 5ms/step - loss: 0.7152 - accuracy: 0.7665\n",
            "Epoch 12/70\n",
            "1563/1563 [==============================] - 7s 4ms/step - loss: 0.7496 - accuracy: 0.7632\n",
            "Epoch 13/70\n",
            "1563/1563 [==============================] - 7s 4ms/step - loss: 0.9255 - accuracy: 0.7661\n",
            "Epoch 14/70\n",
            "1563/1563 [==============================] - 7s 4ms/step - loss: 0.7540 - accuracy: 0.7661\n",
            "Epoch 15/70\n",
            "1563/1563 [==============================] - 7s 4ms/step - loss: 0.7172 - accuracy: 0.7676\n",
            "Epoch 16/70\n",
            "1563/1563 [==============================] - 7s 4ms/step - loss: 0.7711 - accuracy: 0.7669\n",
            "Epoch 17/70\n",
            "1563/1563 [==============================] - 7s 4ms/step - loss: 0.7179 - accuracy: 0.7705\n",
            "Epoch 18/70\n",
            "1563/1563 [==============================] - 7s 4ms/step - loss: 0.7215 - accuracy: 0.7689\n",
            "Epoch 19/70\n",
            "1563/1563 [==============================] - 7s 4ms/step - loss: 0.7472 - accuracy: 0.7744\n",
            "Epoch 20/70\n",
            "1563/1563 [==============================] - 7s 4ms/step - loss: 0.7105 - accuracy: 0.7697\n",
            "Epoch 21/70\n",
            "1563/1563 [==============================] - 7s 4ms/step - loss: 0.7379 - accuracy: 0.7635\n",
            "Epoch 22/70\n",
            "1563/1563 [==============================] - 7s 4ms/step - loss: 0.7249 - accuracy: 0.7675\n",
            "Epoch 23/70\n",
            "1563/1563 [==============================] - 7s 4ms/step - loss: 0.7637 - accuracy: 0.7656\n",
            "Epoch 24/70\n",
            "1563/1563 [==============================] - 7s 4ms/step - loss: 0.7657 - accuracy: 0.7642\n",
            "Epoch 25/70\n",
            "1563/1563 [==============================] - 7s 4ms/step - loss: 0.7378 - accuracy: 0.7639\n",
            "Epoch 26/70\n",
            "1563/1563 [==============================] - 7s 4ms/step - loss: 0.7280 - accuracy: 0.7633\n",
            "Epoch 27/70\n",
            "1563/1563 [==============================] - 7s 4ms/step - loss: 0.7164 - accuracy: 0.7662\n",
            "Epoch 28/70\n",
            "1563/1563 [==============================] - 7s 4ms/step - loss: 0.7246 - accuracy: 0.7644\n",
            "Epoch 29/70\n",
            "1563/1563 [==============================] - 7s 4ms/step - loss: 0.6982 - accuracy: 0.7726\n",
            "Epoch 30/70\n",
            "1563/1563 [==============================] - 7s 5ms/step - loss: 0.7218 - accuracy: 0.7692\n",
            "Epoch 31/70\n",
            "1563/1563 [==============================] - 7s 5ms/step - loss: 0.7489 - accuracy: 0.7675\n",
            "Epoch 32/70\n",
            "1563/1563 [==============================] - 7s 4ms/step - loss: 0.7472 - accuracy: 0.7656\n",
            "Epoch 33/70\n",
            "1563/1563 [==============================] - 7s 4ms/step - loss: 0.7433 - accuracy: 0.7705\n",
            "Epoch 34/70\n",
            "1563/1563 [==============================] - 7s 4ms/step - loss: 0.7725 - accuracy: 0.7659\n",
            "Epoch 35/70\n",
            "1563/1563 [==============================] - 7s 4ms/step - loss: 0.7452 - accuracy: 0.7694\n",
            "Epoch 36/70\n",
            "1563/1563 [==============================] - 7s 4ms/step - loss: 0.7449 - accuracy: 0.7650\n",
            "Epoch 37/70\n",
            "1563/1563 [==============================] - 7s 4ms/step - loss: 0.7337 - accuracy: 0.7640\n",
            "Epoch 38/70\n",
            "1563/1563 [==============================] - 7s 4ms/step - loss: 0.7665 - accuracy: 0.7689\n",
            "Epoch 39/70\n",
            "1563/1563 [==============================] - 7s 4ms/step - loss: 0.8261 - accuracy: 0.7691\n",
            "Epoch 40/70\n",
            "1563/1563 [==============================] - 7s 4ms/step - loss: 0.7570 - accuracy: 0.7673\n",
            "Epoch 41/70\n",
            "1563/1563 [==============================] - 7s 4ms/step - loss: 0.7248 - accuracy: 0.7657\n",
            "Epoch 42/70\n",
            "1563/1563 [==============================] - 7s 4ms/step - loss: 0.7380 - accuracy: 0.7660\n",
            "Epoch 43/70\n",
            "1563/1563 [==============================] - 7s 5ms/step - loss: 0.8048 - accuracy: 0.7693\n",
            "Epoch 44/70\n",
            "1563/1563 [==============================] - 7s 4ms/step - loss: 0.7429 - accuracy: 0.7666\n",
            "Epoch 45/70\n",
            "1563/1563 [==============================] - 7s 4ms/step - loss: 0.7574 - accuracy: 0.7683\n",
            "Epoch 46/70\n",
            "1563/1563 [==============================] - 7s 5ms/step - loss: 0.6960 - accuracy: 0.7730\n",
            "Epoch 47/70\n",
            "1563/1563 [==============================] - 7s 4ms/step - loss: 0.7163 - accuracy: 0.7685\n",
            "Epoch 48/70\n",
            "1563/1563 [==============================] - 7s 4ms/step - loss: 0.7174 - accuracy: 0.7682\n",
            "Epoch 49/70\n",
            "1563/1563 [==============================] - 7s 4ms/step - loss: 0.7222 - accuracy: 0.7661\n",
            "Epoch 50/70\n",
            "1563/1563 [==============================] - 7s 4ms/step - loss: 0.7361 - accuracy: 0.7660\n",
            "Epoch 51/70\n",
            "1563/1563 [==============================] - 7s 4ms/step - loss: 0.7347 - accuracy: 0.7649\n",
            "Epoch 52/70\n",
            "1563/1563 [==============================] - 7s 4ms/step - loss: 0.7235 - accuracy: 0.7683\n",
            "Epoch 53/70\n",
            "1563/1563 [==============================] - 7s 4ms/step - loss: 0.7526 - accuracy: 0.7669\n",
            "Epoch 54/70\n",
            "1563/1563 [==============================] - 7s 4ms/step - loss: 0.7264 - accuracy: 0.7676\n",
            "Epoch 55/70\n",
            "1563/1563 [==============================] - 7s 4ms/step - loss: 0.7500 - accuracy: 0.7631\n",
            "Epoch 56/70\n",
            "1563/1563 [==============================] - 7s 4ms/step - loss: 0.7332 - accuracy: 0.7659\n",
            "Epoch 57/70\n",
            "1563/1563 [==============================] - 7s 4ms/step - loss: 0.7382 - accuracy: 0.7638\n",
            "Epoch 58/70\n",
            "1563/1563 [==============================] - 7s 5ms/step - loss: 0.7352 - accuracy: 0.7653\n",
            "Epoch 59/70\n",
            "1563/1563 [==============================] - 7s 4ms/step - loss: 0.7791 - accuracy: 0.7643\n",
            "Epoch 60/70\n",
            "1563/1563 [==============================] - 7s 4ms/step - loss: 0.7199 - accuracy: 0.7688\n",
            "Epoch 61/70\n",
            "1563/1563 [==============================] - 7s 4ms/step - loss: 0.7233 - accuracy: 0.7671\n",
            "Epoch 62/70\n",
            "1563/1563 [==============================] - 7s 4ms/step - loss: 0.7070 - accuracy: 0.7727\n",
            "Epoch 63/70\n",
            "1563/1563 [==============================] - 7s 4ms/step - loss: 0.7155 - accuracy: 0.7686\n",
            "Epoch 64/70\n",
            "1563/1563 [==============================] - 7s 4ms/step - loss: 0.7316 - accuracy: 0.7684\n",
            "Epoch 65/70\n",
            "1563/1563 [==============================] - 7s 4ms/step - loss: 0.9107 - accuracy: 0.7661\n",
            "Epoch 66/70\n",
            "1563/1563 [==============================] - 7s 4ms/step - loss: 0.7206 - accuracy: 0.7672\n",
            "Epoch 67/70\n",
            "1563/1563 [==============================] - 7s 5ms/step - loss: 0.7210 - accuracy: 0.7663\n",
            "Epoch 68/70\n",
            "1563/1563 [==============================] - 7s 5ms/step - loss: 0.7870 - accuracy: 0.7679\n",
            "Epoch 69/70\n",
            "1563/1563 [==============================] - 7s 4ms/step - loss: 0.8099 - accuracy: 0.7692\n",
            "Epoch 70/70\n",
            "1563/1563 [==============================] - 7s 4ms/step - loss: 0.7495 - accuracy: 0.7712\n"
          ]
        },
        {
          "output_type": "execute_result",
          "data": {
            "text/plain": [
              "<keras.callbacks.History at 0x7f25e20e2390>"
            ]
          },
          "metadata": {},
          "execution_count": 84
        }
      ]
    },
    {
      "cell_type": "code",
      "source": [
        "model.evaluate(x_test,y_test)"
      ],
      "metadata": {
        "colab": {
          "base_uri": "https://localhost:8080/"
        },
        "id": "ZsC2xU6ur0PU",
        "outputId": "8651fac2-c2fd-472c-f0b4-c62018a4b075"
      },
      "execution_count": 85,
      "outputs": [
        {
          "output_type": "stream",
          "name": "stdout",
          "text": [
            "313/313 [==============================] - 1s 3ms/step - loss: 1.4537 - accuracy: 0.6455\n"
          ]
        },
        {
          "output_type": "execute_result",
          "data": {
            "text/plain": [
              "[1.4536737203598022, 0.6455000042915344]"
            ]
          },
          "metadata": {},
          "execution_count": 85
        }
      ]
    },
    {
      "cell_type": "code",
      "source": [
        "model.fit(x_train,y_train, epochs=100)"
      ],
      "metadata": {
        "colab": {
          "base_uri": "https://localhost:8080/"
        },
        "id": "FyJo8TXxxsMt",
        "outputId": "d2b964f1-f5f7-4c9d-fad3-59aac0f527cb"
      },
      "execution_count": 86,
      "outputs": [
        {
          "output_type": "stream",
          "name": "stdout",
          "text": [
            "Epoch 1/100\n",
            "1563/1563 [==============================] - 7s 4ms/step - loss: 0.7147 - accuracy: 0.7680\n",
            "Epoch 2/100\n",
            "1563/1563 [==============================] - 7s 4ms/step - loss: 0.7259 - accuracy: 0.7699\n",
            "Epoch 3/100\n",
            "1563/1563 [==============================] - 7s 4ms/step - loss: 0.7212 - accuracy: 0.7690\n",
            "Epoch 4/100\n",
            "1563/1563 [==============================] - 7s 4ms/step - loss: 0.7990 - accuracy: 0.7694\n",
            "Epoch 5/100\n",
            "1563/1563 [==============================] - 7s 5ms/step - loss: 0.7884 - accuracy: 0.7665\n",
            "Epoch 6/100\n",
            "1563/1563 [==============================] - 7s 5ms/step - loss: 0.7115 - accuracy: 0.7706\n",
            "Epoch 7/100\n",
            "1563/1563 [==============================] - 7s 4ms/step - loss: 0.7086 - accuracy: 0.7674\n",
            "Epoch 8/100\n",
            "1563/1563 [==============================] - 7s 5ms/step - loss: 0.7240 - accuracy: 0.7718\n",
            "Epoch 9/100\n",
            "1563/1563 [==============================] - 7s 4ms/step - loss: 0.7399 - accuracy: 0.7710\n",
            "Epoch 10/100\n",
            "1563/1563 [==============================] - 7s 4ms/step - loss: 0.7092 - accuracy: 0.7705\n",
            "Epoch 11/100\n",
            "1563/1563 [==============================] - 7s 4ms/step - loss: 0.7602 - accuracy: 0.7723\n",
            "Epoch 12/100\n",
            "1563/1563 [==============================] - 7s 4ms/step - loss: 0.6891 - accuracy: 0.7728\n",
            "Epoch 13/100\n",
            "1563/1563 [==============================] - 7s 4ms/step - loss: 0.7033 - accuracy: 0.7730\n",
            "Epoch 14/100\n",
            "1563/1563 [==============================] - 7s 4ms/step - loss: 0.7095 - accuracy: 0.7706\n",
            "Epoch 15/100\n",
            "1563/1563 [==============================] - 7s 5ms/step - loss: 0.7382 - accuracy: 0.7686\n",
            "Epoch 16/100\n",
            "1563/1563 [==============================] - 7s 5ms/step - loss: 0.7125 - accuracy: 0.7690\n",
            "Epoch 17/100\n",
            "1563/1563 [==============================] - 7s 4ms/step - loss: 0.7200 - accuracy: 0.7696\n",
            "Epoch 18/100\n",
            "1563/1563 [==============================] - 7s 4ms/step - loss: 0.7862 - accuracy: 0.7660\n",
            "Epoch 19/100\n",
            "1563/1563 [==============================] - 7s 4ms/step - loss: 0.7270 - accuracy: 0.7699\n",
            "Epoch 20/100\n",
            "1563/1563 [==============================] - 7s 4ms/step - loss: 0.7155 - accuracy: 0.7688\n",
            "Epoch 21/100\n",
            "1563/1563 [==============================] - 7s 4ms/step - loss: 0.7340 - accuracy: 0.7657\n",
            "Epoch 22/100\n",
            "1563/1563 [==============================] - 7s 4ms/step - loss: 0.7594 - accuracy: 0.7675\n",
            "Epoch 23/100\n",
            "1563/1563 [==============================] - 7s 5ms/step - loss: 0.8165 - accuracy: 0.7612\n",
            "Epoch 24/100\n",
            "1563/1563 [==============================] - 7s 5ms/step - loss: 0.7991 - accuracy: 0.7649\n",
            "Epoch 25/100\n",
            "1563/1563 [==============================] - 7s 4ms/step - loss: 0.7699 - accuracy: 0.7592\n",
            "Epoch 26/100\n",
            "1563/1563 [==============================] - 7s 4ms/step - loss: 0.7562 - accuracy: 0.7624\n",
            "Epoch 27/100\n",
            "1563/1563 [==============================] - 7s 4ms/step - loss: 0.8846 - accuracy: 0.7567\n",
            "Epoch 28/100\n",
            "1563/1563 [==============================] - 7s 4ms/step - loss: 0.7672 - accuracy: 0.7638\n",
            "Epoch 29/100\n",
            "1563/1563 [==============================] - 7s 4ms/step - loss: 0.9451 - accuracy: 0.7561\n",
            "Epoch 30/100\n",
            "1563/1563 [==============================] - 7s 4ms/step - loss: 0.7595 - accuracy: 0.7619\n",
            "Epoch 31/100\n",
            "1563/1563 [==============================] - 7s 4ms/step - loss: 0.7640 - accuracy: 0.7531\n",
            "Epoch 32/100\n",
            "1563/1563 [==============================] - 7s 4ms/step - loss: 0.7645 - accuracy: 0.7525\n",
            "Epoch 33/100\n",
            "1563/1563 [==============================] - 7s 4ms/step - loss: 0.7511 - accuracy: 0.7584\n",
            "Epoch 34/100\n",
            "1563/1563 [==============================] - 7s 4ms/step - loss: 0.7727 - accuracy: 0.7535\n",
            "Epoch 35/100\n",
            "1563/1563 [==============================] - 7s 4ms/step - loss: 0.9439 - accuracy: 0.7509\n",
            "Epoch 36/100\n",
            "1563/1563 [==============================] - 7s 4ms/step - loss: 0.8874 - accuracy: 0.7501\n",
            "Epoch 37/100\n",
            "1563/1563 [==============================] - 7s 4ms/step - loss: 0.9019 - accuracy: 0.7469\n",
            "Epoch 38/100\n",
            "1563/1563 [==============================] - 7s 5ms/step - loss: 0.7954 - accuracy: 0.7476\n",
            "Epoch 39/100\n",
            "1563/1563 [==============================] - 7s 4ms/step - loss: 0.7994 - accuracy: 0.7461\n",
            "Epoch 40/100\n",
            "1563/1563 [==============================] - 7s 4ms/step - loss: 0.8227 - accuracy: 0.7481\n",
            "Epoch 41/100\n",
            "1563/1563 [==============================] - 7s 5ms/step - loss: 1.0736 - accuracy: 0.7429\n",
            "Epoch 42/100\n",
            "1563/1563 [==============================] - 7s 5ms/step - loss: 0.9250 - accuracy: 0.7445\n",
            "Epoch 43/100\n",
            "1563/1563 [==============================] - 7s 5ms/step - loss: 0.9690 - accuracy: 0.7394\n",
            "Epoch 44/100\n",
            "1563/1563 [==============================] - 7s 5ms/step - loss: 0.8285 - accuracy: 0.7440\n",
            "Epoch 45/100\n",
            "1563/1563 [==============================] - 7s 5ms/step - loss: 0.8023 - accuracy: 0.7456\n",
            "Epoch 46/100\n",
            "1563/1563 [==============================] - 7s 5ms/step - loss: 0.9901 - accuracy: 0.7388\n",
            "Epoch 47/100\n",
            "1563/1563 [==============================] - 7s 5ms/step - loss: 0.8402 - accuracy: 0.7425\n",
            "Epoch 48/100\n",
            "1563/1563 [==============================] - 7s 5ms/step - loss: 0.8333 - accuracy: 0.7367\n",
            "Epoch 49/100\n",
            "1563/1563 [==============================] - 7s 5ms/step - loss: 0.9926 - accuracy: 0.7399\n",
            "Epoch 50/100\n",
            "1563/1563 [==============================] - 7s 5ms/step - loss: 0.8690 - accuracy: 0.7421\n",
            "Epoch 51/100\n",
            "1563/1563 [==============================] - 7s 5ms/step - loss: 0.8206 - accuracy: 0.7394\n",
            "Epoch 52/100\n",
            "1563/1563 [==============================] - 7s 5ms/step - loss: 0.8316 - accuracy: 0.7381\n",
            "Epoch 53/100\n",
            "1563/1563 [==============================] - 7s 5ms/step - loss: 0.8666 - accuracy: 0.7398\n",
            "Epoch 54/100\n",
            "1563/1563 [==============================] - 7s 5ms/step - loss: 0.8968 - accuracy: 0.7316\n",
            "Epoch 55/100\n",
            "1563/1563 [==============================] - 7s 4ms/step - loss: 0.9281 - accuracy: 0.7388\n",
            "Epoch 56/100\n",
            "1563/1563 [==============================] - 7s 5ms/step - loss: 0.8586 - accuracy: 0.7423\n",
            "Epoch 57/100\n",
            "1563/1563 [==============================] - 7s 4ms/step - loss: 1.1751 - accuracy: 0.7471\n",
            "Epoch 58/100\n",
            "1563/1563 [==============================] - 7s 4ms/step - loss: 0.8565 - accuracy: 0.7382\n",
            "Epoch 59/100\n",
            "1563/1563 [==============================] - 7s 4ms/step - loss: 0.8436 - accuracy: 0.7366\n",
            "Epoch 60/100\n",
            "1563/1563 [==============================] - 7s 5ms/step - loss: 0.8678 - accuracy: 0.7382\n",
            "Epoch 61/100\n",
            "1563/1563 [==============================] - 7s 4ms/step - loss: 0.9669 - accuracy: 0.7379\n",
            "Epoch 62/100\n",
            "1563/1563 [==============================] - 7s 5ms/step - loss: 0.8529 - accuracy: 0.7388\n",
            "Epoch 63/100\n",
            "1563/1563 [==============================] - 7s 4ms/step - loss: 0.9761 - accuracy: 0.7386\n",
            "Epoch 64/100\n",
            "1563/1563 [==============================] - 7s 5ms/step - loss: 0.8137 - accuracy: 0.7455\n",
            "Epoch 65/100\n",
            "1563/1563 [==============================] - 7s 5ms/step - loss: 0.9499 - accuracy: 0.7375\n",
            "Epoch 66/100\n",
            "1563/1563 [==============================] - 7s 5ms/step - loss: 0.8176 - accuracy: 0.7415\n",
            "Epoch 67/100\n",
            "1563/1563 [==============================] - 7s 5ms/step - loss: 0.8985 - accuracy: 0.7414\n",
            "Epoch 68/100\n",
            "1563/1563 [==============================] - 7s 5ms/step - loss: 0.8089 - accuracy: 0.7421\n",
            "Epoch 69/100\n",
            "1563/1563 [==============================] - 7s 4ms/step - loss: 1.0856 - accuracy: 0.7361\n",
            "Epoch 70/100\n",
            "1563/1563 [==============================] - 7s 5ms/step - loss: 0.8104 - accuracy: 0.7401\n",
            "Epoch 71/100\n",
            "1563/1563 [==============================] - 7s 5ms/step - loss: 0.8594 - accuracy: 0.7413\n",
            "Epoch 72/100\n",
            "1563/1563 [==============================] - 7s 5ms/step - loss: 0.9029 - accuracy: 0.7400\n",
            "Epoch 73/100\n",
            "1563/1563 [==============================] - 7s 4ms/step - loss: 0.8030 - accuracy: 0.7400\n",
            "Epoch 74/100\n",
            "1563/1563 [==============================] - 7s 5ms/step - loss: 0.8438 - accuracy: 0.7438\n",
            "Epoch 75/100\n",
            "1563/1563 [==============================] - 7s 5ms/step - loss: 0.9036 - accuracy: 0.7367\n",
            "Epoch 76/100\n",
            "1563/1563 [==============================] - 7s 5ms/step - loss: 0.8244 - accuracy: 0.7370\n",
            "Epoch 77/100\n",
            "1563/1563 [==============================] - 7s 5ms/step - loss: 0.8449 - accuracy: 0.7421\n",
            "Epoch 78/100\n",
            "1563/1563 [==============================] - 7s 5ms/step - loss: 0.8385 - accuracy: 0.7371\n",
            "Epoch 79/100\n",
            "1563/1563 [==============================] - 7s 4ms/step - loss: 0.8879 - accuracy: 0.7330\n",
            "Epoch 80/100\n",
            "1563/1563 [==============================] - 7s 4ms/step - loss: 1.0508 - accuracy: 0.7287\n",
            "Epoch 81/100\n",
            "1563/1563 [==============================] - 7s 5ms/step - loss: 0.9574 - accuracy: 0.7319\n",
            "Epoch 82/100\n",
            "1563/1563 [==============================] - 7s 4ms/step - loss: 0.9088 - accuracy: 0.7271\n",
            "Epoch 83/100\n",
            "1563/1563 [==============================] - 7s 5ms/step - loss: 0.8884 - accuracy: 0.7262\n",
            "Epoch 84/100\n",
            "1563/1563 [==============================] - 7s 5ms/step - loss: 1.0163 - accuracy: 0.7244\n",
            "Epoch 85/100\n",
            "1563/1563 [==============================] - 7s 4ms/step - loss: 0.8694 - accuracy: 0.7296\n",
            "Epoch 86/100\n",
            "1563/1563 [==============================] - 7s 4ms/step - loss: 1.1277 - accuracy: 0.7281\n",
            "Epoch 87/100\n",
            "1563/1563 [==============================] - 7s 5ms/step - loss: 0.9821 - accuracy: 0.7255\n",
            "Epoch 88/100\n",
            "1563/1563 [==============================] - 7s 5ms/step - loss: 1.0178 - accuracy: 0.7252\n",
            "Epoch 89/100\n",
            "1563/1563 [==============================] - 7s 5ms/step - loss: 0.8516 - accuracy: 0.7292\n",
            "Epoch 90/100\n",
            "1563/1563 [==============================] - 7s 5ms/step - loss: 0.9966 - accuracy: 0.7217\n",
            "Epoch 91/100\n",
            "1563/1563 [==============================] - 7s 5ms/step - loss: 0.9561 - accuracy: 0.7299\n",
            "Epoch 92/100\n",
            "1563/1563 [==============================] - 7s 5ms/step - loss: 0.8586 - accuracy: 0.7317\n",
            "Epoch 93/100\n",
            "1563/1563 [==============================] - 7s 5ms/step - loss: 0.8570 - accuracy: 0.7296\n",
            "Epoch 94/100\n",
            "1563/1563 [==============================] - 7s 4ms/step - loss: 0.9076 - accuracy: 0.7282\n",
            "Epoch 95/100\n",
            "1563/1563 [==============================] - 7s 5ms/step - loss: 0.8724 - accuracy: 0.7318\n",
            "Epoch 96/100\n",
            "1563/1563 [==============================] - 7s 5ms/step - loss: 0.8888 - accuracy: 0.7307\n",
            "Epoch 97/100\n",
            "1563/1563 [==============================] - 7s 5ms/step - loss: 0.9278 - accuracy: 0.7319\n",
            "Epoch 98/100\n",
            "1563/1563 [==============================] - 7s 4ms/step - loss: 0.8975 - accuracy: 0.7308\n",
            "Epoch 99/100\n",
            "1563/1563 [==============================] - 7s 5ms/step - loss: 0.9243 - accuracy: 0.7327\n",
            "Epoch 100/100\n",
            "1563/1563 [==============================] - 7s 5ms/step - loss: 0.8642 - accuracy: 0.7325\n"
          ]
        },
        {
          "output_type": "execute_result",
          "data": {
            "text/plain": [
              "<keras.callbacks.History at 0x7f25e2045cd0>"
            ]
          },
          "metadata": {},
          "execution_count": 86
        }
      ]
    },
    {
      "cell_type": "code",
      "source": [
        "model.evaluate(x_test,y_test)"
      ],
      "metadata": {
        "colab": {
          "base_uri": "https://localhost:8080/"
        },
        "id": "TizodTtPx0AM",
        "outputId": "988d1979-939a-4a78-d1d1-d4cdc7cd5bb5"
      },
      "execution_count": 87,
      "outputs": [
        {
          "output_type": "stream",
          "name": "stdout",
          "text": [
            "313/313 [==============================] - 1s 3ms/step - loss: 1.7876 - accuracy: 0.6364\n"
          ]
        },
        {
          "output_type": "execute_result",
          "data": {
            "text/plain": [
              "[1.7875587940216064, 0.6363999843597412]"
            ]
          },
          "metadata": {},
          "execution_count": 87
        }
      ]
    },
    {
      "cell_type": "code",
      "source": [
        ""
      ],
      "metadata": {
        "id": "fb3KuIePx2U7"
      },
      "execution_count": 78,
      "outputs": []
    }
  ]
}