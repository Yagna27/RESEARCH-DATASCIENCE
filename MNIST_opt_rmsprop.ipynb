{
  "nbformat": 4,
  "nbformat_minor": 0,
  "metadata": {
    "colab": {
      "name": "MNIST --opt--rmsprop.ipynb",
      "provenance": [],
      "collapsed_sections": []
    },
    "kernelspec": {
      "name": "python3",
      "display_name": "Python 3"
    },
    "language_info": {
      "name": "python"
    },
    "accelerator": "GPU"
  },
  "cells": [
    {
      "cell_type": "code",
      "metadata": {
        "id": "GyfsEerWAcS9"
      },
      "source": [
        "import tensorflow as tf\n",
        "from tensorflow import keras\n",
        "import matplotlib.pyplot as plt\n",
        "%matplotlib inline \n",
        "import numpy as np"
      ],
      "execution_count": 1,
      "outputs": []
    },
    {
      "cell_type": "code",
      "metadata": {
        "colab": {
          "base_uri": "https://localhost:8080/"
        },
        "id": "gJPRmTt3AkzF",
        "outputId": "3f9cb40d-320b-4980-9900-1317a9474d97"
      },
      "source": [
        "(x_train,y_train),(x_test,y_test) = keras.datasets.mnist.load_data()"
      ],
      "execution_count": 2,
      "outputs": [
        {
          "output_type": "stream",
          "name": "stdout",
          "text": [
            "Downloading data from https://storage.googleapis.com/tensorflow/tf-keras-datasets/mnist.npz\n",
            "11493376/11490434 [==============================] - 0s 0us/step\n",
            "11501568/11490434 [==============================] - 0s 0us/step\n"
          ]
        }
      ]
    },
    {
      "cell_type": "code",
      "metadata": {
        "id": "EgkZ_0UXAnVS"
      },
      "source": [
        "x_train=x_train/255\n",
        "x_test=x_test/255"
      ],
      "execution_count": 3,
      "outputs": []
    },
    {
      "cell_type": "code",
      "metadata": {
        "colab": {
          "base_uri": "https://localhost:8080/",
          "height": 292
        },
        "id": "__BnV3-eA3o5",
        "outputId": "e2b75ba0-4995-4c3a-833c-187455e64368"
      },
      "source": [
        "plt.matshow(x_train[1])"
      ],
      "execution_count": 4,
      "outputs": [
        {
          "output_type": "execute_result",
          "data": {
            "text/plain": [
              "<matplotlib.image.AxesImage at 0x7feb43dfffd0>"
            ]
          },
          "metadata": {},
          "execution_count": 4
        },
        {
          "output_type": "display_data",
          "data": {
            "image/png": "[encoded data removed]",
            "text/plain": [
              "<Figure size 288x288 with 1 Axes>"
            ]
          },
          "metadata": {
            "needs_background": "light"
          }
        }
      ]
    },
    {
      "cell_type": "code",
      "metadata": {
        "id": "Eh7NnrzaBAvH"
      },
      "source": [
        "x_train_flattened=x_train.reshape(len(x_train),28*28)"
      ],
      "execution_count": 5,
      "outputs": []
    },
    {
      "cell_type": "code",
      "metadata": {
        "id": "I6mxY-mdBHOQ"
      },
      "source": [
        "x_test_flattened=x_test.reshape(len(x_test),28*28)"
      ],
      "execution_count": 6,
      "outputs": []
    },
    {
      "cell_type": "code",
      "metadata": {
        "colab": {
          "base_uri": "https://localhost:8080/"
        },
        "id": "UAU4Qh9DBKMJ",
        "outputId": "18981274-fb36-457c-bcf6-4816f94b2aaa"
      },
      "source": [
        "model_rmsprop1=keras.Sequential([\n",
        "             keras.layers.Dense(10,input_shape=(784,),activation='sigmoid') , \n",
        "             keras.layers.Dense(100,input_shape=(784,),activation='sigmoid')  ,\n",
        "             keras.layers.Dense(1000,input_shape=(784,),activation='sigmoid')  ,\n",
        "             keras.layers.Dense(1000,input_shape=(784,),activation='sigmoid')  \n",
        "                \n",
        "])\n",
        "model_rmsprop1.compile(\n",
        "    optimizer='RMSprop',\n",
        "    loss='sparse_categorical_crossentropy',\n",
        "    metrics=['accuracy']\n",
        "\n",
        ")\n",
        "model_rmsprop1.fit(x_train_flattened,y_train,epochs=5)"
      ],
      "execution_count": 7,
      "outputs": [
        {
          "output_type": "stream",
          "name": "stdout",
          "text": [
            "Epoch 1/5\n",
            "1875/1875 [==============================] - 12s 5ms/step - loss: 1.0052 - accuracy: 0.6502\n",
            "Epoch 2/5\n",
            "1875/1875 [==============================] - 10s 5ms/step - loss: 0.4340 - accuracy: 0.8731\n",
            "Epoch 3/5\n",
            "1875/1875 [==============================] - 10s 5ms/step - loss: 0.3402 - accuracy: 0.9042\n",
            "Epoch 4/5\n",
            "1875/1875 [==============================] - 10s 5ms/step - loss: 0.3038 - accuracy: 0.9149\n",
            "Epoch 5/5\n",
            "1875/1875 [==============================] - 10s 5ms/step - loss: 0.2797 - accuracy: 0.9212\n"
          ]
        },
        {
          "output_type": "execute_result",
          "data": {
            "text/plain": [
              "<keras.callbacks.History at 0x7feb40657d10>"
            ]
          },
          "metadata": {},
          "execution_count": 7
        }
      ]
    },
    {
      "cell_type": "code",
      "metadata": {
        "colab": {
          "base_uri": "https://localhost:8080/"
        },
        "id": "DnBAVbi4Bm02",
        "outputId": "0f884573-743d-4e65-be5a-16f08f7ce06e"
      },
      "source": [
        "model_rmsprop2=keras.Sequential([\n",
        "             keras.layers.Dense(10,input_shape=(784,),activation='sigmoid') , \n",
        "             keras.layers.Dense(100,input_shape=(784,),activation='sigmoid')  ,\n",
        "             keras.layers.Dense(1000,input_shape=(784,),activation='sigmoid')  ,\n",
        "             keras.layers.Dense(1000,input_shape=(784,),activation='sigmoid')  \n",
        "                \n",
        "])\n",
        "model_rmsprop2.compile(\n",
        "    optimizer='RMSprop',\n",
        "    loss='sparse_categorical_crossentropy',\n",
        "    metrics=['accuracy']\n",
        "\n",
        ")\n",
        "model_rmsprop2.fit(x_train_flattened,y_train,epochs=20)"
      ],
      "execution_count": 8,
      "outputs": [
        {
          "output_type": "stream",
          "name": "stdout",
          "text": [
            "Epoch 1/20\n",
            "1875/1875 [==============================] - 10s 5ms/step - loss: 1.1264 - accuracy: 0.5722\n",
            "Epoch 2/20\n",
            "1875/1875 [==============================] - 10s 5ms/step - loss: 0.5512 - accuracy: 0.8316\n",
            "Epoch 3/20\n",
            "1875/1875 [==============================] - 10s 5ms/step - loss: 0.4024 - accuracy: 0.8828\n",
            "Epoch 4/20\n",
            "1875/1875 [==============================] - 10s 5ms/step - loss: 0.3360 - accuracy: 0.9027\n",
            "Epoch 5/20\n",
            "1875/1875 [==============================] - 10s 5ms/step - loss: 0.3030 - accuracy: 0.9120\n",
            "Epoch 6/20\n",
            "1875/1875 [==============================] - 9s 5ms/step - loss: 0.2831 - accuracy: 0.9174\n",
            "Epoch 7/20\n",
            "1875/1875 [==============================] - 10s 5ms/step - loss: 0.2697 - accuracy: 0.9206\n",
            "Epoch 8/20\n",
            "1875/1875 [==============================] - 9s 5ms/step - loss: 0.2600 - accuracy: 0.9238\n",
            "Epoch 9/20\n",
            "1875/1875 [==============================] - 9s 5ms/step - loss: 0.2505 - accuracy: 0.9272\n",
            "Epoch 10/20\n",
            "1875/1875 [==============================] - 10s 5ms/step - loss: 0.2440 - accuracy: 0.9288\n",
            "Epoch 11/20\n",
            "1875/1875 [==============================] - 9s 5ms/step - loss: 0.2369 - accuracy: 0.9309\n",
            "Epoch 12/20\n",
            "1875/1875 [==============================] - 10s 5ms/step - loss: 0.2315 - accuracy: 0.9317\n",
            "Epoch 13/20\n",
            "1875/1875 [==============================] - 10s 5ms/step - loss: 0.2280 - accuracy: 0.9340\n",
            "Epoch 14/20\n",
            "1875/1875 [==============================] - 10s 5ms/step - loss: 0.2229 - accuracy: 0.9349\n",
            "Epoch 15/20\n",
            "1875/1875 [==============================] - 10s 5ms/step - loss: 0.2200 - accuracy: 0.9363\n",
            "Epoch 16/20\n",
            "1875/1875 [==============================] - 10s 5ms/step - loss: 0.2169 - accuracy: 0.9367\n",
            "Epoch 17/20\n",
            "1875/1875 [==============================] - 10s 5ms/step - loss: 0.2131 - accuracy: 0.9382\n",
            "Epoch 18/20\n",
            "1875/1875 [==============================] - 10s 5ms/step - loss: 0.2107 - accuracy: 0.9388\n",
            "Epoch 19/20\n",
            "1875/1875 [==============================] - 10s 5ms/step - loss: 0.2086 - accuracy: 0.9395\n",
            "Epoch 20/20\n",
            "1875/1875 [==============================] - 10s 5ms/step - loss: 0.2076 - accuracy: 0.9401\n"
          ]
        },
        {
          "output_type": "execute_result",
          "data": {
            "text/plain": [
              "<keras.callbacks.History at 0x7feb402e9e10>"
            ]
          },
          "metadata": {},
          "execution_count": 8
        }
      ]
    },
    {
      "cell_type": "code",
      "metadata": {
        "colab": {
          "base_uri": "https://localhost:8080/"
        },
        "id": "uAGEvv8LBxFN",
        "outputId": "a12c3202-37ec-496f-88c9-92f9b46678b9"
      },
      "source": [
        "model_rmsprop3=keras.Sequential([\n",
        "             keras.layers.Dense(10,input_shape=(784,),activation='sigmoid') , \n",
        "             keras.layers.Dense(100,input_shape=(784,),activation='sigmoid')  ,\n",
        "             keras.layers.Dense(1000,input_shape=(784,),activation='sigmoid')  ,\n",
        "             keras.layers.Dense(1000,input_shape=(784,),activation='sigmoid')  \n",
        "                \n",
        "])\n",
        "model_rmsprop3.compile(\n",
        "    optimizer='RMSprop',\n",
        "    loss='sparse_categorical_crossentropy',\n",
        "    metrics=['accuracy']\n",
        "\n",
        ")\n",
        "model_rmsprop3.fit(x_train_flattened,y_train,epochs=50)"
      ],
      "execution_count": 9,
      "outputs": [
        {
          "output_type": "stream",
          "name": "stdout",
          "text": [
            "Epoch 1/50\n",
            "1875/1875 [==============================] - 10s 5ms/step - loss: 0.9533 - accuracy: 0.6761\n",
            "Epoch 2/50\n",
            "1875/1875 [==============================] - 10s 5ms/step - loss: 0.4579 - accuracy: 0.8757\n",
            "Epoch 3/50\n",
            "1875/1875 [==============================] - 10s 5ms/step - loss: 0.3815 - accuracy: 0.8949\n",
            "Epoch 4/50\n",
            "1875/1875 [==============================] - 10s 5ms/step - loss: 0.3292 - accuracy: 0.9079\n",
            "Epoch 5/50\n",
            "1875/1875 [==============================] - 10s 5ms/step - loss: 0.2870 - accuracy: 0.9197\n",
            "Epoch 6/50\n",
            "1875/1875 [==============================] - 10s 5ms/step - loss: 0.2622 - accuracy: 0.9255\n",
            "Epoch 7/50\n",
            "1875/1875 [==============================] - 10s 5ms/step - loss: 0.2461 - accuracy: 0.9297\n",
            "Epoch 8/50\n",
            "1875/1875 [==============================] - 10s 5ms/step - loss: 0.2333 - accuracy: 0.9327\n",
            "Epoch 9/50\n",
            "1875/1875 [==============================] - 10s 5ms/step - loss: 0.2252 - accuracy: 0.9344\n",
            "Epoch 10/50\n",
            "1875/1875 [==============================] - 9s 5ms/step - loss: 0.2168 - accuracy: 0.9375\n",
            "Epoch 11/50\n",
            "1875/1875 [==============================] - 10s 5ms/step - loss: 0.2099 - accuracy: 0.9392\n",
            "Epoch 12/50\n",
            "1875/1875 [==============================] - 10s 5ms/step - loss: 0.2051 - accuracy: 0.9403\n",
            "Epoch 13/50\n",
            "1875/1875 [==============================] - 10s 5ms/step - loss: 0.1997 - accuracy: 0.9423\n",
            "Epoch 14/50\n",
            "1875/1875 [==============================] - 10s 5ms/step - loss: 0.1963 - accuracy: 0.9428\n",
            "Epoch 15/50\n",
            "1875/1875 [==============================] - 10s 5ms/step - loss: 0.1932 - accuracy: 0.9445\n",
            "Epoch 16/50\n",
            "1875/1875 [==============================] - 10s 5ms/step - loss: 0.1904 - accuracy: 0.9445\n",
            "Epoch 17/50\n",
            "1875/1875 [==============================] - 10s 5ms/step - loss: 0.1902 - accuracy: 0.9445\n",
            "Epoch 18/50\n",
            "1875/1875 [==============================] - 10s 5ms/step - loss: 0.1883 - accuracy: 0.9456\n",
            "Epoch 19/50\n",
            "1875/1875 [==============================] - 10s 5ms/step - loss: 0.1880 - accuracy: 0.9459\n",
            "Epoch 20/50\n",
            "1875/1875 [==============================] - 10s 5ms/step - loss: 0.1852 - accuracy: 0.9470\n",
            "Epoch 21/50\n",
            "1875/1875 [==============================] - 10s 5ms/step - loss: 0.1844 - accuracy: 0.9477\n",
            "Epoch 22/50\n",
            "1875/1875 [==============================] - 10s 5ms/step - loss: 0.1829 - accuracy: 0.9464\n",
            "Epoch 23/50\n",
            "1875/1875 [==============================] - 10s 5ms/step - loss: 0.1823 - accuracy: 0.9474\n",
            "Epoch 24/50\n",
            "1875/1875 [==============================] - 10s 5ms/step - loss: 0.1818 - accuracy: 0.9469\n",
            "Epoch 25/50\n",
            "1875/1875 [==============================] - 10s 5ms/step - loss: 0.1817 - accuracy: 0.9480\n",
            "Epoch 26/50\n",
            "1875/1875 [==============================] - 10s 5ms/step - loss: 0.1814 - accuracy: 0.9478\n",
            "Epoch 27/50\n",
            "1875/1875 [==============================] - 10s 5ms/step - loss: 0.1806 - accuracy: 0.9481\n",
            "Epoch 28/50\n",
            "1875/1875 [==============================] - 10s 5ms/step - loss: 0.1804 - accuracy: 0.9473\n",
            "Epoch 29/50\n",
            "1875/1875 [==============================] - 10s 5ms/step - loss: 0.1795 - accuracy: 0.9495\n",
            "Epoch 30/50\n",
            "1875/1875 [==============================] - 10s 5ms/step - loss: 0.1789 - accuracy: 0.9488\n",
            "Epoch 31/50\n",
            "1875/1875 [==============================] - 10s 5ms/step - loss: 0.1791 - accuracy: 0.9489\n",
            "Epoch 32/50\n",
            "1875/1875 [==============================] - 10s 5ms/step - loss: 0.1778 - accuracy: 0.9488\n",
            "Epoch 33/50\n",
            "1875/1875 [==============================] - 10s 5ms/step - loss: 0.1782 - accuracy: 0.9487\n",
            "Epoch 34/50\n",
            "1875/1875 [==============================] - 10s 5ms/step - loss: 0.1772 - accuracy: 0.9495\n",
            "Epoch 35/50\n",
            "1875/1875 [==============================] - 10s 5ms/step - loss: 0.1761 - accuracy: 0.9501\n",
            "Epoch 36/50\n",
            "1875/1875 [==============================] - 10s 5ms/step - loss: 0.1766 - accuracy: 0.9499\n",
            "Epoch 37/50\n",
            "1875/1875 [==============================] - 10s 5ms/step - loss: 0.1761 - accuracy: 0.9506\n",
            "Epoch 38/50\n",
            "1875/1875 [==============================] - 10s 5ms/step - loss: 0.1755 - accuracy: 0.9505\n",
            "Epoch 39/50\n",
            "1875/1875 [==============================] - 10s 5ms/step - loss: 0.1756 - accuracy: 0.9503\n",
            "Epoch 40/50\n",
            "1875/1875 [==============================] - 10s 5ms/step - loss: 0.1749 - accuracy: 0.9515\n",
            "Epoch 41/50\n",
            "1875/1875 [==============================] - 10s 5ms/step - loss: 0.1745 - accuracy: 0.9506\n",
            "Epoch 42/50\n",
            "1875/1875 [==============================] - 10s 5ms/step - loss: 0.1732 - accuracy: 0.9513\n",
            "Epoch 43/50\n",
            "1875/1875 [==============================] - 10s 5ms/step - loss: 0.1731 - accuracy: 0.9509\n",
            "Epoch 44/50\n",
            "1875/1875 [==============================] - 10s 5ms/step - loss: 0.1729 - accuracy: 0.9508\n",
            "Epoch 45/50\n",
            "1875/1875 [==============================] - 10s 5ms/step - loss: 0.1723 - accuracy: 0.9507\n",
            "Epoch 46/50\n",
            "1875/1875 [==============================] - 10s 5ms/step - loss: 0.1716 - accuracy: 0.9520\n",
            "Epoch 47/50\n",
            "1875/1875 [==============================] - 10s 5ms/step - loss: 0.1713 - accuracy: 0.9513\n",
            "Epoch 48/50\n",
            "1875/1875 [==============================] - 10s 5ms/step - loss: 0.1708 - accuracy: 0.9524\n",
            "Epoch 49/50\n",
            "1875/1875 [==============================] - 10s 5ms/step - loss: 0.1709 - accuracy: 0.9518\n",
            "Epoch 50/50\n",
            "1875/1875 [==============================] - 10s 5ms/step - loss: 0.1701 - accuracy: 0.9524\n"
          ]
        },
        {
          "output_type": "execute_result",
          "data": {
            "text/plain": [
              "<keras.callbacks.History at 0x7feb40168410>"
            ]
          },
          "metadata": {},
          "execution_count": 9
        }
      ]
    },
    {
      "cell_type": "code",
      "metadata": {
        "colab": {
          "base_uri": "https://localhost:8080/"
        },
        "id": "4GoePVizB1S-",
        "outputId": "23ca69bc-75b8-4f21-a194-c70f28fc2e25"
      },
      "source": [
        "model_rmsprop4=keras.Sequential([\n",
        "             keras.layers.Dense(10,input_shape=(784,),activation='sigmoid') , \n",
        "             keras.layers.Dense(100,input_shape=(784,),activation='sigmoid')  ,\n",
        "             keras.layers.Dense(1000,input_shape=(784,),activation='sigmoid')  ,\n",
        "             keras.layers.Dense(1000,input_shape=(784,),activation='sigmoid')  \n",
        "                \n",
        "])\n",
        "model_rmsprop4.compile(\n",
        "    optimizer='RMSprop',\n",
        "    loss='sparse_categorical_crossentropy',\n",
        "    metrics=['accuracy']\n",
        "\n",
        ")\n",
        "model_rmsprop4.fit(x_train_flattened,y_train,epochs=70)"
      ],
      "execution_count": 10,
      "outputs": [
        {
          "output_type": "stream",
          "name": "stdout",
          "text": [
            "Epoch 1/70\n",
            "1875/1875 [==============================] - 10s 5ms/step - loss: 0.9411 - accuracy: 0.6814\n",
            "Epoch 2/70\n",
            "1875/1875 [==============================] - 10s 5ms/step - loss: 0.4406 - accuracy: 0.8774\n",
            "Epoch 3/70\n",
            "1875/1875 [==============================] - 10s 5ms/step - loss: 0.3366 - accuracy: 0.9043\n",
            "Epoch 4/70\n",
            "1875/1875 [==============================] - 9s 5ms/step - loss: 0.2955 - accuracy: 0.9153\n",
            "Epoch 5/70\n",
            "1875/1875 [==============================] - 10s 5ms/step - loss: 0.2720 - accuracy: 0.9209\n",
            "Epoch 6/70\n",
            "1875/1875 [==============================] - 9s 5ms/step - loss: 0.2573 - accuracy: 0.9255\n",
            "Epoch 7/70\n",
            "1875/1875 [==============================] - 10s 5ms/step - loss: 0.2446 - accuracy: 0.9292\n",
            "Epoch 8/70\n",
            "1875/1875 [==============================] - 10s 5ms/step - loss: 0.2348 - accuracy: 0.9315\n",
            "Epoch 9/70\n",
            "1875/1875 [==============================] - 9s 5ms/step - loss: 0.2266 - accuracy: 0.9337\n",
            "Epoch 10/70\n",
            "1875/1875 [==============================] - 9s 5ms/step - loss: 0.2217 - accuracy: 0.9352\n",
            "Epoch 11/70\n",
            "1875/1875 [==============================] - 9s 5ms/step - loss: 0.2169 - accuracy: 0.9364\n",
            "Epoch 12/70\n",
            "1875/1875 [==============================] - 9s 5ms/step - loss: 0.2124 - accuracy: 0.9380\n",
            "Epoch 13/70\n",
            "1875/1875 [==============================] - 9s 5ms/step - loss: 0.2096 - accuracy: 0.9387\n",
            "Epoch 14/70\n",
            "1875/1875 [==============================] - 9s 5ms/step - loss: 0.2066 - accuracy: 0.9395\n",
            "Epoch 15/70\n",
            "1875/1875 [==============================] - 9s 5ms/step - loss: 0.2041 - accuracy: 0.9402\n",
            "Epoch 16/70\n",
            "1875/1875 [==============================] - 9s 5ms/step - loss: 0.2022 - accuracy: 0.9404\n",
            "Epoch 17/70\n",
            "1875/1875 [==============================] - 10s 5ms/step - loss: 0.2000 - accuracy: 0.9415\n",
            "Epoch 18/70\n",
            "1875/1875 [==============================] - 9s 5ms/step - loss: 0.1992 - accuracy: 0.9417\n",
            "Epoch 19/70\n",
            "1875/1875 [==============================] - 9s 5ms/step - loss: 0.1972 - accuracy: 0.9424\n",
            "Epoch 20/70\n",
            "1875/1875 [==============================] - 9s 5ms/step - loss: 0.1957 - accuracy: 0.9424\n",
            "Epoch 21/70\n",
            "1875/1875 [==============================] - 10s 5ms/step - loss: 0.1950 - accuracy: 0.9430\n",
            "Epoch 22/70\n",
            "1875/1875 [==============================] - 9s 5ms/step - loss: 0.1933 - accuracy: 0.9430\n",
            "Epoch 23/70\n",
            "1875/1875 [==============================] - 10s 5ms/step - loss: 0.1928 - accuracy: 0.9429\n",
            "Epoch 24/70\n",
            "1875/1875 [==============================] - 9s 5ms/step - loss: 0.1915 - accuracy: 0.9436\n",
            "Epoch 25/70\n",
            "1875/1875 [==============================] - 9s 5ms/step - loss: 0.1910 - accuracy: 0.9441\n",
            "Epoch 26/70\n",
            "1875/1875 [==============================] - 9s 5ms/step - loss: 0.1897 - accuracy: 0.9437\n",
            "Epoch 27/70\n",
            "1875/1875 [==============================] - 9s 5ms/step - loss: 0.1888 - accuracy: 0.9453\n",
            "Epoch 28/70\n",
            "1875/1875 [==============================] - 9s 5ms/step - loss: 0.1876 - accuracy: 0.9437\n",
            "Epoch 29/70\n",
            "1875/1875 [==============================] - 9s 5ms/step - loss: 0.1871 - accuracy: 0.9448\n",
            "Epoch 30/70\n",
            "1875/1875 [==============================] - 9s 5ms/step - loss: 0.1869 - accuracy: 0.9451\n",
            "Epoch 31/70\n",
            "1875/1875 [==============================] - 9s 5ms/step - loss: 0.1858 - accuracy: 0.9461\n",
            "Epoch 32/70\n",
            "1875/1875 [==============================] - 9s 5ms/step - loss: 0.1852 - accuracy: 0.9459\n",
            "Epoch 33/70\n",
            "1875/1875 [==============================] - 9s 5ms/step - loss: 0.1841 - accuracy: 0.9464\n",
            "Epoch 34/70\n",
            "1875/1875 [==============================] - 9s 5ms/step - loss: 0.1841 - accuracy: 0.9459\n",
            "Epoch 35/70\n",
            "1875/1875 [==============================] - 9s 5ms/step - loss: 0.1830 - accuracy: 0.9466\n",
            "Epoch 36/70\n",
            "1875/1875 [==============================] - 9s 5ms/step - loss: 0.1825 - accuracy: 0.9470\n",
            "Epoch 37/70\n",
            "1875/1875 [==============================] - 9s 5ms/step - loss: 0.1810 - accuracy: 0.9473\n",
            "Epoch 38/70\n",
            "1875/1875 [==============================] - 9s 5ms/step - loss: 0.1811 - accuracy: 0.9479\n",
            "Epoch 39/70\n",
            "1875/1875 [==============================] - 9s 5ms/step - loss: 0.1798 - accuracy: 0.9469\n",
            "Epoch 40/70\n",
            "1875/1875 [==============================] - 9s 5ms/step - loss: 0.1797 - accuracy: 0.9468\n",
            "Epoch 41/70\n",
            "1875/1875 [==============================] - 9s 5ms/step - loss: 0.1780 - accuracy: 0.9483\n",
            "Epoch 42/70\n",
            "1875/1875 [==============================] - 9s 5ms/step - loss: 0.1782 - accuracy: 0.9483\n",
            "Epoch 43/70\n",
            "1875/1875 [==============================] - 9s 5ms/step - loss: 0.1764 - accuracy: 0.9488\n",
            "Epoch 44/70\n",
            "1875/1875 [==============================] - 9s 5ms/step - loss: 0.1779 - accuracy: 0.9482\n",
            "Epoch 45/70\n",
            "1875/1875 [==============================] - 9s 5ms/step - loss: 0.1766 - accuracy: 0.9477\n",
            "Epoch 46/70\n",
            "1875/1875 [==============================] - 9s 5ms/step - loss: 0.1765 - accuracy: 0.9488\n",
            "Epoch 47/70\n",
            "1875/1875 [==============================] - 9s 5ms/step - loss: 0.1759 - accuracy: 0.9490\n",
            "Epoch 48/70\n",
            "1875/1875 [==============================] - 9s 5ms/step - loss: 0.1751 - accuracy: 0.9490\n",
            "Epoch 49/70\n",
            "1875/1875 [==============================] - 9s 5ms/step - loss: 0.1741 - accuracy: 0.9489\n",
            "Epoch 50/70\n",
            "1875/1875 [==============================] - 9s 5ms/step - loss: 0.1749 - accuracy: 0.9488\n",
            "Epoch 51/70\n",
            "1875/1875 [==============================] - 9s 5ms/step - loss: 0.1744 - accuracy: 0.9493\n",
            "Epoch 52/70\n",
            "1875/1875 [==============================] - 9s 5ms/step - loss: 0.1741 - accuracy: 0.9496\n",
            "Epoch 53/70\n",
            "1875/1875 [==============================] - 9s 5ms/step - loss: 0.1723 - accuracy: 0.9496\n",
            "Epoch 54/70\n",
            "1875/1875 [==============================] - 9s 5ms/step - loss: 0.1743 - accuracy: 0.9487\n",
            "Epoch 55/70\n",
            "1875/1875 [==============================] - 9s 5ms/step - loss: 0.1729 - accuracy: 0.9501\n",
            "Epoch 56/70\n",
            "1875/1875 [==============================] - 9s 5ms/step - loss: 0.1725 - accuracy: 0.9499\n",
            "Epoch 57/70\n",
            "1875/1875 [==============================] - 9s 5ms/step - loss: 0.1721 - accuracy: 0.9496\n",
            "Epoch 58/70\n",
            "1875/1875 [==============================] - 9s 5ms/step - loss: 0.1722 - accuracy: 0.9500\n",
            "Epoch 59/70\n",
            "1875/1875 [==============================] - 9s 5ms/step - loss: 0.1707 - accuracy: 0.9500\n",
            "Epoch 60/70\n",
            "1875/1875 [==============================] - 9s 5ms/step - loss: 0.1716 - accuracy: 0.9503\n",
            "Epoch 61/70\n",
            "1875/1875 [==============================] - 9s 5ms/step - loss: 0.1713 - accuracy: 0.9503\n",
            "Epoch 62/70\n",
            "1875/1875 [==============================] - 9s 5ms/step - loss: 0.1705 - accuracy: 0.9504\n",
            "Epoch 63/70\n",
            "1875/1875 [==============================] - 9s 5ms/step - loss: 0.1709 - accuracy: 0.9509\n",
            "Epoch 64/70\n",
            "1875/1875 [==============================] - 9s 5ms/step - loss: 0.1709 - accuracy: 0.9506\n",
            "Epoch 65/70\n",
            "1875/1875 [==============================] - 9s 5ms/step - loss: 0.1698 - accuracy: 0.9511\n",
            "Epoch 66/70\n",
            "1875/1875 [==============================] - 10s 5ms/step - loss: 0.1705 - accuracy: 0.9502\n",
            "Epoch 67/70\n",
            "1875/1875 [==============================] - 9s 5ms/step - loss: 0.1700 - accuracy: 0.9506\n",
            "Epoch 68/70\n",
            "1875/1875 [==============================] - 10s 5ms/step - loss: 0.1709 - accuracy: 0.9512\n",
            "Epoch 69/70\n",
            "1875/1875 [==============================] - 10s 5ms/step - loss: 0.1697 - accuracy: 0.9505\n",
            "Epoch 70/70\n",
            "1875/1875 [==============================] - 10s 5ms/step - loss: 0.1699 - accuracy: 0.9507\n"
          ]
        },
        {
          "output_type": "execute_result",
          "data": {
            "text/plain": [
              "<keras.callbacks.History at 0x7feaf8307990>"
            ]
          },
          "metadata": {},
          "execution_count": 10
        }
      ]
    },
    {
      "cell_type": "code",
      "metadata": {
        "colab": {
          "base_uri": "https://localhost:8080/"
        },
        "id": "ER8_Xj5XB5lw",
        "outputId": "a5383bb2-6f06-4d85-c556-9199ad7d7c4b"
      },
      "source": [
        "model_rmsprop5=keras.Sequential([\n",
        "             keras.layers.Dense(10,input_shape=(784,),activation='sigmoid') , \n",
        "             keras.layers.Dense(100,input_shape=(784,),activation='sigmoid')  ,\n",
        "             keras.layers.Dense(1000,input_shape=(784,),activation='sigmoid')  ,\n",
        "             keras.layers.Dense(1000,input_shape=(784,),activation='sigmoid')  \n",
        "                \n",
        "])\n",
        "model_rmsprop5.compile(\n",
        "    optimizer='RMSprop',\n",
        "    loss='sparse_categorical_crossentropy',\n",
        "    metrics=['accuracy']\n",
        "\n",
        ")\n",
        "model_rmsprop5.fit(x_train_flattened,y_train,epochs=100)"
      ],
      "execution_count": 11,
      "outputs": [
        {
          "output_type": "stream",
          "name": "stdout",
          "text": [
            "Epoch 1/100\n",
            "1875/1875 [==============================] - 11s 5ms/step - loss: 0.9604 - accuracy: 0.6702\n",
            "Epoch 2/100\n",
            "1875/1875 [==============================] - 10s 5ms/step - loss: 0.4170 - accuracy: 0.8798\n",
            "Epoch 3/100\n",
            "1875/1875 [==============================] - 10s 5ms/step - loss: 0.3241 - accuracy: 0.9057\n",
            "Epoch 4/100\n",
            "1875/1875 [==============================] - 10s 5ms/step - loss: 0.2872 - accuracy: 0.9158\n",
            "Epoch 5/100\n",
            "1875/1875 [==============================] - 10s 5ms/step - loss: 0.2680 - accuracy: 0.9215\n",
            "Epoch 6/100\n",
            "1875/1875 [==============================] - 10s 5ms/step - loss: 0.2531 - accuracy: 0.9253\n",
            "Epoch 7/100\n",
            "1875/1875 [==============================] - 10s 5ms/step - loss: 0.2419 - accuracy: 0.9286\n",
            "Epoch 8/100\n",
            "1875/1875 [==============================] - 10s 5ms/step - loss: 0.2328 - accuracy: 0.9325\n",
            "Epoch 9/100\n",
            "1875/1875 [==============================] - 9s 5ms/step - loss: 0.2243 - accuracy: 0.9336\n",
            "Epoch 10/100\n",
            "1875/1875 [==============================] - 9s 5ms/step - loss: 0.2173 - accuracy: 0.9359\n",
            "Epoch 11/100\n",
            "1875/1875 [==============================] - 9s 5ms/step - loss: 0.2131 - accuracy: 0.9374\n",
            "Epoch 12/100\n",
            "1875/1875 [==============================] - 9s 5ms/step - loss: 0.2073 - accuracy: 0.9388\n",
            "Epoch 13/100\n",
            "1875/1875 [==============================] - 9s 5ms/step - loss: 0.2025 - accuracy: 0.9401\n",
            "Epoch 14/100\n",
            "1875/1875 [==============================] - 10s 5ms/step - loss: 0.1995 - accuracy: 0.9413\n",
            "Epoch 15/100\n",
            "1875/1875 [==============================] - 10s 5ms/step - loss: 0.1965 - accuracy: 0.9423\n",
            "Epoch 16/100\n",
            "1875/1875 [==============================] - 9s 5ms/step - loss: 0.1944 - accuracy: 0.9426\n",
            "Epoch 17/100\n",
            "1875/1875 [==============================] - 10s 5ms/step - loss: 0.1921 - accuracy: 0.9431\n",
            "Epoch 18/100\n",
            "1875/1875 [==============================] - 10s 5ms/step - loss: 0.1905 - accuracy: 0.9438\n",
            "Epoch 19/100\n",
            "1875/1875 [==============================] - 10s 5ms/step - loss: 0.1883 - accuracy: 0.9441\n",
            "Epoch 20/100\n",
            "1875/1875 [==============================] - 9s 5ms/step - loss: 0.1878 - accuracy: 0.9446\n",
            "Epoch 21/100\n",
            "1875/1875 [==============================] - 10s 5ms/step - loss: 0.1872 - accuracy: 0.9450\n",
            "Epoch 22/100\n",
            "1875/1875 [==============================] - 9s 5ms/step - loss: 0.1853 - accuracy: 0.9456\n",
            "Epoch 23/100\n",
            "1875/1875 [==============================] - 9s 5ms/step - loss: 0.1858 - accuracy: 0.9454\n",
            "Epoch 24/100\n",
            "1875/1875 [==============================] - 9s 5ms/step - loss: 0.1847 - accuracy: 0.9464\n",
            "Epoch 25/100\n",
            "1875/1875 [==============================] - 9s 5ms/step - loss: 0.1843 - accuracy: 0.9465\n",
            "Epoch 26/100\n",
            "1875/1875 [==============================] - 10s 5ms/step - loss: 0.1835 - accuracy: 0.9467\n",
            "Epoch 27/100\n",
            "1875/1875 [==============================] - 10s 5ms/step - loss: 0.1837 - accuracy: 0.9461\n",
            "Epoch 28/100\n",
            "1875/1875 [==============================] - 10s 5ms/step - loss: 0.1821 - accuracy: 0.9469\n",
            "Epoch 29/100\n",
            "1875/1875 [==============================] - 10s 5ms/step - loss: 0.1817 - accuracy: 0.9477\n",
            "Epoch 30/100\n",
            "1875/1875 [==============================] - 10s 5ms/step - loss: 0.1814 - accuracy: 0.9472\n",
            "Epoch 31/100\n",
            "1875/1875 [==============================] - 10s 5ms/step - loss: 0.1813 - accuracy: 0.9473\n",
            "Epoch 32/100\n",
            "1875/1875 [==============================] - 10s 5ms/step - loss: 0.1798 - accuracy: 0.9476\n",
            "Epoch 33/100\n",
            "1875/1875 [==============================] - 10s 5ms/step - loss: 0.1801 - accuracy: 0.9470\n",
            "Epoch 34/100\n",
            "1875/1875 [==============================] - 10s 5ms/step - loss: 0.1795 - accuracy: 0.9476\n",
            "Epoch 35/100\n",
            "1875/1875 [==============================] - 10s 5ms/step - loss: 0.1792 - accuracy: 0.9478\n",
            "Epoch 36/100\n",
            "1875/1875 [==============================] - 10s 5ms/step - loss: 0.1782 - accuracy: 0.9479\n",
            "Epoch 37/100\n",
            "1875/1875 [==============================] - 10s 5ms/step - loss: 0.1783 - accuracy: 0.9485\n",
            "Epoch 38/100\n",
            "1875/1875 [==============================] - 10s 5ms/step - loss: 0.1776 - accuracy: 0.9475\n",
            "Epoch 39/100\n",
            "1875/1875 [==============================] - 10s 5ms/step - loss: 0.1771 - accuracy: 0.9477\n",
            "Epoch 40/100\n",
            "1875/1875 [==============================] - 10s 5ms/step - loss: 0.1770 - accuracy: 0.9491\n",
            "Epoch 41/100\n",
            "1875/1875 [==============================] - 10s 5ms/step - loss: 0.1759 - accuracy: 0.9492\n",
            "Epoch 42/100\n",
            "1875/1875 [==============================] - 10s 5ms/step - loss: 0.1762 - accuracy: 0.9488\n",
            "Epoch 43/100\n",
            "1875/1875 [==============================] - 10s 5ms/step - loss: 0.1751 - accuracy: 0.9491\n",
            "Epoch 44/100\n",
            "1875/1875 [==============================] - 10s 5ms/step - loss: 0.1754 - accuracy: 0.9495\n",
            "Epoch 45/100\n",
            "1875/1875 [==============================] - 9s 5ms/step - loss: 0.1741 - accuracy: 0.9492\n",
            "Epoch 46/100\n",
            "1875/1875 [==============================] - 10s 5ms/step - loss: 0.1739 - accuracy: 0.9493\n",
            "Epoch 47/100\n",
            "1875/1875 [==============================] - 10s 5ms/step - loss: 0.1742 - accuracy: 0.9497\n",
            "Epoch 48/100\n",
            "1875/1875 [==============================] - 10s 5ms/step - loss: 0.1733 - accuracy: 0.9496\n",
            "Epoch 49/100\n",
            "1875/1875 [==============================] - 9s 5ms/step - loss: 0.1737 - accuracy: 0.9491\n",
            "Epoch 50/100\n",
            "1875/1875 [==============================] - 10s 5ms/step - loss: 0.1728 - accuracy: 0.9500\n",
            "Epoch 51/100\n",
            "1875/1875 [==============================] - 10s 5ms/step - loss: 0.1731 - accuracy: 0.9496\n",
            "Epoch 52/100\n",
            "1875/1875 [==============================] - 10s 5ms/step - loss: 0.1723 - accuracy: 0.9501\n",
            "Epoch 53/100\n",
            "1875/1875 [==============================] - 10s 5ms/step - loss: 0.1712 - accuracy: 0.9505\n",
            "Epoch 54/100\n",
            "1875/1875 [==============================] - 10s 5ms/step - loss: 0.1720 - accuracy: 0.9496\n",
            "Epoch 55/100\n",
            "1875/1875 [==============================] - 10s 5ms/step - loss: 0.1709 - accuracy: 0.9507\n",
            "Epoch 56/100\n",
            "1875/1875 [==============================] - 10s 5ms/step - loss: 0.1706 - accuracy: 0.9507\n",
            "Epoch 57/100\n",
            "1875/1875 [==============================] - 10s 5ms/step - loss: 0.1705 - accuracy: 0.9506\n",
            "Epoch 58/100\n",
            "1875/1875 [==============================] - 10s 5ms/step - loss: 0.1700 - accuracy: 0.9510\n",
            "Epoch 59/100\n",
            "1875/1875 [==============================] - 10s 5ms/step - loss: 0.1698 - accuracy: 0.9505\n",
            "Epoch 60/100\n",
            "1875/1875 [==============================] - 10s 5ms/step - loss: 0.1697 - accuracy: 0.9507\n",
            "Epoch 61/100\n",
            "1875/1875 [==============================] - 10s 5ms/step - loss: 0.1688 - accuracy: 0.9510\n",
            "Epoch 62/100\n",
            "1875/1875 [==============================] - 10s 5ms/step - loss: 0.1693 - accuracy: 0.9504\n",
            "Epoch 63/100\n",
            "1875/1875 [==============================] - 10s 5ms/step - loss: 0.1686 - accuracy: 0.9511\n",
            "Epoch 64/100\n",
            "1875/1875 [==============================] - 10s 5ms/step - loss: 0.1687 - accuracy: 0.9516\n",
            "Epoch 65/100\n",
            "1875/1875 [==============================] - 10s 5ms/step - loss: 0.1686 - accuracy: 0.9511\n",
            "Epoch 66/100\n",
            "1875/1875 [==============================] - 10s 5ms/step - loss: 0.1678 - accuracy: 0.9514\n",
            "Epoch 67/100\n",
            "1875/1875 [==============================] - 10s 5ms/step - loss: 0.1667 - accuracy: 0.9514\n",
            "Epoch 68/100\n",
            "1875/1875 [==============================] - 10s 5ms/step - loss: 0.1671 - accuracy: 0.9509\n",
            "Epoch 69/100\n",
            "1875/1875 [==============================] - 10s 5ms/step - loss: 0.1661 - accuracy: 0.9523\n",
            "Epoch 70/100\n",
            "1875/1875 [==============================] - 10s 5ms/step - loss: 0.1658 - accuracy: 0.9522\n",
            "Epoch 71/100\n",
            "1875/1875 [==============================] - 10s 5ms/step - loss: 0.1661 - accuracy: 0.9518\n",
            "Epoch 72/100\n",
            "1875/1875 [==============================] - 10s 5ms/step - loss: 0.1660 - accuracy: 0.9523\n",
            "Epoch 73/100\n",
            "1875/1875 [==============================] - 10s 5ms/step - loss: 0.1651 - accuracy: 0.9521\n",
            "Epoch 74/100\n",
            "1875/1875 [==============================] - 10s 5ms/step - loss: 0.1647 - accuracy: 0.9530\n",
            "Epoch 75/100\n",
            "1875/1875 [==============================] - 10s 5ms/step - loss: 0.1642 - accuracy: 0.9536\n",
            "Epoch 76/100\n",
            "1875/1875 [==============================] - 10s 5ms/step - loss: 0.1650 - accuracy: 0.9530\n",
            "Epoch 77/100\n",
            "1875/1875 [==============================] - 10s 5ms/step - loss: 0.1635 - accuracy: 0.9522\n",
            "Epoch 78/100\n",
            "1875/1875 [==============================] - 10s 5ms/step - loss: 0.1639 - accuracy: 0.9527\n",
            "Epoch 79/100\n",
            "1875/1875 [==============================] - 10s 5ms/step - loss: 0.1630 - accuracy: 0.9528\n",
            "Epoch 80/100\n",
            "1875/1875 [==============================] - 10s 5ms/step - loss: 0.1637 - accuracy: 0.9531\n",
            "Epoch 81/100\n",
            "1875/1875 [==============================] - 10s 5ms/step - loss: 0.1636 - accuracy: 0.9531\n",
            "Epoch 82/100\n",
            "1875/1875 [==============================] - 10s 5ms/step - loss: 0.1639 - accuracy: 0.9531\n",
            "Epoch 83/100\n",
            "1875/1875 [==============================] - 10s 5ms/step - loss: 0.1633 - accuracy: 0.9530\n",
            "Epoch 84/100\n",
            "1875/1875 [==============================] - 10s 5ms/step - loss: 0.1632 - accuracy: 0.9522\n",
            "Epoch 85/100\n",
            "1875/1875 [==============================] - 10s 5ms/step - loss: 0.1618 - accuracy: 0.9530\n",
            "Epoch 86/100\n",
            "1875/1875 [==============================] - 10s 5ms/step - loss: 0.1628 - accuracy: 0.9535\n",
            "Epoch 87/100\n",
            "1875/1875 [==============================] - 10s 5ms/step - loss: 0.1618 - accuracy: 0.9541\n",
            "Epoch 88/100\n",
            "1875/1875 [==============================] - 10s 5ms/step - loss: 0.1619 - accuracy: 0.9536\n",
            "Epoch 89/100\n",
            "1875/1875 [==============================] - 10s 5ms/step - loss: 0.1625 - accuracy: 0.9541\n",
            "Epoch 90/100\n",
            "1875/1875 [==============================] - 10s 5ms/step - loss: 0.1621 - accuracy: 0.9535\n",
            "Epoch 91/100\n",
            "1875/1875 [==============================] - 10s 5ms/step - loss: 0.1616 - accuracy: 0.9546\n",
            "Epoch 92/100\n",
            "1875/1875 [==============================] - 10s 5ms/step - loss: 0.1602 - accuracy: 0.9530\n",
            "Epoch 93/100\n",
            "1875/1875 [==============================] - 10s 5ms/step - loss: 0.1614 - accuracy: 0.9545\n",
            "Epoch 94/100\n",
            "1875/1875 [==============================] - 10s 5ms/step - loss: 0.1597 - accuracy: 0.9546\n",
            "Epoch 95/100\n",
            "1875/1875 [==============================] - 10s 5ms/step - loss: 0.1603 - accuracy: 0.9540\n",
            "Epoch 96/100\n",
            "1875/1875 [==============================] - 10s 5ms/step - loss: 0.1603 - accuracy: 0.9543\n",
            "Epoch 97/100\n",
            "1875/1875 [==============================] - 10s 5ms/step - loss: 0.1600 - accuracy: 0.9538\n",
            "Epoch 98/100\n",
            "1875/1875 [==============================] - 10s 5ms/step - loss: 0.1600 - accuracy: 0.9548\n",
            "Epoch 99/100\n",
            "1875/1875 [==============================] - 10s 5ms/step - loss: 0.1595 - accuracy: 0.9544\n",
            "Epoch 100/100\n",
            "1875/1875 [==============================] - 10s 5ms/step - loss: 0.1595 - accuracy: 0.9547\n"
          ]
        },
        {
          "output_type": "execute_result",
          "data": {
            "text/plain": [
              "<keras.callbacks.History at 0x7feaf818f050>"
            ]
          },
          "metadata": {},
          "execution_count": 11
        }
      ]
    },
    {
      "cell_type": "code",
      "metadata": {
        "colab": {
          "base_uri": "https://localhost:8080/"
        },
        "id": "Jhc6yzJoCC7n",
        "outputId": "5c597c47-c451-41c1-9cd3-1a6f9f714dc7"
      },
      "source": [
        "y_pred_rms1=model_rmsprop1.predict(x_test_flattened)\n",
        "y_pred_rmsf1=[np.argmax(i) for i in y_pred_rms1]\n",
        "from keras import metrics \n",
        "from sklearn.metrics import *\n",
        "rmsprop_acc1=accuracy_score(y_pred_rmsf1,y_test)\n",
        "print(rmsprop_acc1)"
      ],
      "execution_count": 13,
      "outputs": [
        {
          "output_type": "stream",
          "name": "stdout",
          "text": [
            "0.9226\n"
          ]
        }
      ]
    },
    {
      "cell_type": "code",
      "metadata": {
        "colab": {
          "base_uri": "https://localhost:8080/"
        },
        "id": "zrJyIXyZFWz5",
        "outputId": "fe90ee5c-ecdc-4537-c217-0f8f1a7d2534"
      },
      "source": [
        "y_pred_rms2=model_rmsprop2.predict(x_test_flattened)\n",
        "y_pred_rmsf2=[np.argmax(i) for i in y_pred_rms2]\n",
        "from keras import metrics \n",
        "from sklearn.metrics import *\n",
        "rmsprop_acc2=accuracy_score(y_pred_rmsf2,y_test)\n",
        "print(rmsprop_acc2)"
      ],
      "execution_count": 14,
      "outputs": [
        {
          "output_type": "stream",
          "name": "stdout",
          "text": [
            "0.9334\n"
          ]
        }
      ]
    },
    {
      "cell_type": "code",
      "metadata": {
        "colab": {
          "base_uri": "https://localhost:8080/"
        },
        "id": "-Cj6TrJvNy1D",
        "outputId": "e9496d69-29e9-403c-c8b4-43b983a72520"
      },
      "source": [
        "y_pred_rms3=model_rmsprop3.predict(x_test_flattened)\n",
        "y_pred_rmsf3=[np.argmax(i) for i in y_pred_rms3]\n",
        "from keras import metrics \n",
        "from sklearn.metrics import *\n",
        "rmsprop_acc3=accuracy_score(y_pred_rmsf3,y_test)\n",
        "print(rmsprop_acc3)"
      ],
      "execution_count": 15,
      "outputs": [
        {
          "output_type": "stream",
          "name": "stdout",
          "text": [
            "0.9441\n"
          ]
        }
      ]
    },
    {
      "cell_type": "code",
      "metadata": {
        "colab": {
          "base_uri": "https://localhost:8080/"
        },
        "id": "nV8hTty1OTW-",
        "outputId": "fd8075a9-a7d2-4d6e-fe9a-e65744d8d019"
      },
      "source": [
        "y_pred_rms4=model_rmsprop4.predict(x_test_flattened)\n",
        "y_pred_rmsf4=[np.argmax(i) for i in y_pred_rms4]\n",
        "from keras import metrics \n",
        "from sklearn.metrics import *\n",
        "rmsprop_acc4=accuracy_score(y_pred_rmsf4,y_test)\n",
        "print(rmsprop_acc4)"
      ],
      "execution_count": 16,
      "outputs": [
        {
          "output_type": "stream",
          "name": "stdout",
          "text": [
            "0.9411\n"
          ]
        }
      ]
    },
    {
      "cell_type": "code",
      "metadata": {
        "colab": {
          "base_uri": "https://localhost:8080/"
        },
        "id": "xrsoxzt9QE7Q",
        "outputId": "dc048416-13a8-4c9c-d0df-87c79598e8a6"
      },
      "source": [
        "y_pred_rms5=model_rmsprop5.predict(x_test_flattened)\n",
        "y_pred_rmsf5=[np.argmax(i) for i in y_pred_rms5]\n",
        "from keras import metrics \n",
        "from sklearn.metrics import *\n",
        "rmsprop_acc5=accuracy_score(y_pred_rmsf5,y_test)\n",
        "print(rmsprop_acc5)"
      ],
      "execution_count": 17,
      "outputs": [
        {
          "output_type": "stream",
          "name": "stdout",
          "text": [
            "0.9439\n"
          ]
        }
      ]
    },
    {
      "cell_type": "code",
      "metadata": {
        "id": "Fi-XvqG0QOr4"
      },
      "source": [
        ""
      ],
      "execution_count": null,
      "outputs": []
    }
  ]
}