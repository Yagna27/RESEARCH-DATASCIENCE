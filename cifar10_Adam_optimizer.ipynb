{
  "nbformat": 4,
  "nbformat_minor": 0,
  "metadata": {
    "colab": {
      "name": "cifar10 Adam  optimizer.ipynb",
      "provenance": [],
      "collapsed_sections": []
    },
    "kernelspec": {
      "name": "python3",
      "display_name": "Python 3"
    },
    "language_info": {
      "name": "python"
    },
    "accelerator": "GPU"
  },
  "cells": [
    {
      "cell_type": "code",
      "source": [
        "import tensorflow as tf\n",
        "from tensorflow.keras import datasets , layers ,models\n",
        "import matplotlib.pyplot as plt\n",
        "import numpy as np\n",
        "import pandas as pd\n",
        "import keras"
      ],
      "metadata": {
        "id": "r9mEBdS3bPh6"
      },
      "execution_count": 22,
      "outputs": []
    },
    {
      "cell_type": "code",
      "source": [
        "(x_train,y_train),(x_test,y_test)=datasets.cifar10.load_data()"
      ],
      "metadata": {
        "id": "KARkqeKbbPqa"
      },
      "execution_count": 23,
      "outputs": []
    },
    {
      "cell_type": "code",
      "source": [
        "x_train.shape"
      ],
      "metadata": {
        "colab": {
          "base_uri": "https://localhost:8080/"
        },
        "id": "5O5geXzubP0i",
        "outputId": "0fa43022-9c3a-4cb5-efe2-98d3fcab1648"
      },
      "execution_count": 24,
      "outputs": [
        {
          "output_type": "execute_result",
          "data": {
            "text/plain": [
              "(50000, 32, 32, 3)"
            ]
          },
          "metadata": {},
          "execution_count": 24
        }
      ]
    },
    {
      "cell_type": "code",
      "source": [
        "x_test.shape"
      ],
      "metadata": {
        "colab": {
          "base_uri": "https://localhost:8080/"
        },
        "id": "13s9Nx6HcMt9",
        "outputId": "6142d587-53a0-479b-a413-a42c630edc1d"
      },
      "execution_count": 25,
      "outputs": [
        {
          "output_type": "execute_result",
          "data": {
            "text/plain": [
              "(10000, 32, 32, 3)"
            ]
          },
          "metadata": {},
          "execution_count": 25
        }
      ]
    },
    {
      "cell_type": "code",
      "source": [
        "plt.imshow(x_train[1])"
      ],
      "metadata": {
        "colab": {
          "base_uri": "https://localhost:8080/",
          "height": 283
        },
        "id": "HxebsSUJcPp8",
        "outputId": "f61839f8-d02e-40f6-bf3c-f188f2eda805"
      },
      "execution_count": 26,
      "outputs": [
        {
          "output_type": "execute_result",
          "data": {
            "text/plain": [
              "<matplotlib.image.AxesImage at 0x7f26505d4690>"
            ]
          },
          "metadata": {},
          "execution_count": 26
        },
        {
          "output_type": "display_data",
          "data": {
            "image/png": "[encoded data removed]",
            "text/plain": [
              "<Figure size 432x288 with 1 Axes>"
            ]
          },
          "metadata": {
            "needs_background": "light"
          }
        }
      ]
    },
    {
      "cell_type": "code",
      "source": [
        "classes = [ \"airplane\" , \"automobile\" ,\"bird\", \"cat\", \"deer\", \"dog\" ,\"frog\" ,\"horse\" ,\"ship\" ,\"truck\"]"
      ],
      "metadata": {
        "id": "h4_ibMD4cZbu"
      },
      "execution_count": 27,
      "outputs": []
    },
    {
      "cell_type": "code",
      "source": [
        " y_train.shape"
      ],
      "metadata": {
        "colab": {
          "base_uri": "https://localhost:8080/"
        },
        "id": "jYkE-Hk3gupT",
        "outputId": "7a11f733-93a0-4af7-81ba-3848893769c5"
      },
      "execution_count": 28,
      "outputs": [
        {
          "output_type": "execute_result",
          "data": {
            "text/plain": [
              "(50000, 1)"
            ]
          },
          "metadata": {},
          "execution_count": 28
        }
      ]
    },
    {
      "cell_type": "code",
      "source": [
        "y_train[:5]"
      ],
      "metadata": {
        "colab": {
          "base_uri": "https://localhost:8080/"
        },
        "id": "jO_tq21_g4pl",
        "outputId": "c68f8e22-8407-496f-ddf9-ede126d59ff2"
      },
      "execution_count": 29,
      "outputs": [
        {
          "output_type": "execute_result",
          "data": {
            "text/plain": [
              "array([[6],\n",
              "       [9],\n",
              "       [9],\n",
              "       [4],\n",
              "       [1]], dtype=uint8)"
            ]
          },
          "metadata": {},
          "execution_count": 29
        }
      ]
    },
    {
      "cell_type": "code",
      "source": [
        "y_train=y_train.reshape(-1,)\n",
        "y_train"
      ],
      "metadata": {
        "colab": {
          "base_uri": "https://localhost:8080/"
        },
        "id": "Jlzo-E50g7D6",
        "outputId": "8098cf20-c5b9-45cb-f19e-b26cf615442e"
      },
      "execution_count": 30,
      "outputs": [
        {
          "output_type": "execute_result",
          "data": {
            "text/plain": [
              "array([6, 9, 9, ..., 9, 1, 1], dtype=uint8)"
            ]
          },
          "metadata": {},
          "execution_count": 30
        }
      ]
    },
    {
      "cell_type": "code",
      "source": [
        "classes[9]"
      ],
      "metadata": {
        "colab": {
          "base_uri": "https://localhost:8080/",
          "height": 35
        },
        "id": "vPUSMWB4hWi3",
        "outputId": "9741c38f-2072-47b0-cbda-039f299bd0c7"
      },
      "execution_count": 31,
      "outputs": [
        {
          "output_type": "execute_result",
          "data": {
            "application/vnd.google.colaboratory.intrinsic+json": {
              "type": "string"
            },
            "text/plain": [
              "'truck'"
            ]
          },
          "metadata": {},
          "execution_count": 31
        }
      ]
    },
    {
      "cell_type": "code",
      "source": [
        "def plot_sample(X,y,index):\n",
        "  plt.figure(figsize=(15,2))\n",
        "  plt.imshow(X[index])\n",
        "  plt.xlabel(classes[y[index]])"
      ],
      "metadata": {
        "id": "R-GDMyu4hdeO"
      },
      "execution_count": 32,
      "outputs": []
    },
    {
      "cell_type": "code",
      "source": [
        "plot_sample(x_train,y_train,1)"
      ],
      "metadata": {
        "colab": {
          "base_uri": "https://localhost:8080/",
          "height": 173
        },
        "id": "56it8GN6h7RB",
        "outputId": "7db3d693-9036-4239-ea03-aafab4fbed5a"
      },
      "execution_count": 33,
      "outputs": [
        {
          "output_type": "display_data",
          "data": {
            "image/png": "[encoded data removed]",
            "text/plain": [
              "<Figure size 1080x144 with 1 Axes>"
            ]
          },
          "metadata": {
            "needs_background": "light"
          }
        }
      ]
    },
    {
      "cell_type": "code",
      "source": [
        "x_train =x_train/255\n",
        "x_test = x_test/255\n"
      ],
      "metadata": {
        "id": "qZKRES41iEDo"
      },
      "execution_count": 34,
      "outputs": []
    },
    {
      "cell_type": "code",
      "source": [
        "print(x_train.shape)\n",
        "print(y_train.shape)"
      ],
      "metadata": {
        "colab": {
          "base_uri": "https://localhost:8080/"
        },
        "id": "YE-nv0S7pEg-",
        "outputId": "0b30a72b-c9a8-4eb8-d01a-c6680c0268fb"
      },
      "execution_count": 35,
      "outputs": [
        {
          "output_type": "stream",
          "name": "stdout",
          "text": [
            "(50000, 32, 32, 3)\n",
            "(50000,)\n"
          ]
        }
      ]
    },
    {
      "cell_type": "code",
      "source": [
        "model = keras.Sequential(\n",
        "    [\n",
        "     layers.Conv2D(filters=64,kernel_size=(3,3), activation ='relu' ,input_shape=(32,32,3)),\n",
        "     layers.MaxPool2D((2,2)),\n",
        "     layers.Conv2D(filters=32,kernel_size=(3,3), activation ='relu'),\n",
        "     layers.MaxPool2D((2,2)),\n",
        "     layers.Conv2D(filters=32,kernel_size=(3,3), activation ='relu'),\n",
        "     layers.MaxPool2D((2,2)),\n",
        "     keras.layers.Flatten(),\n",
        "     keras.layers.Dense(32,activation =\"relu\"),\n",
        "     keras.layers.Dense(10 ,activation =\"softmax\"),\n",
        "     \n",
        "    ]\n",
        ")\n",
        "\n",
        "model.compile(optimizer = \"adam\",\n",
        "               loss=\"sparse_categorical_crossentropy\",\n",
        "               metrics=[\"accuracy\"])\n",
        "model.fit(x_train,y_train, epochs=5)"
      ],
      "metadata": {
        "colab": {
          "base_uri": "https://localhost:8080/"
        },
        "id": "roKuRHDbiPxj",
        "outputId": "92d0ebbb-f406-4be4-87c4-5b16716bd30c"
      },
      "execution_count": 36,
      "outputs": [
        {
          "output_type": "stream",
          "name": "stdout",
          "text": [
            "Epoch 1/5\n",
            "1563/1563 [==============================] - 18s 5ms/step - loss: 1.6642 - accuracy: 0.3869\n",
            "Epoch 2/5\n",
            "1563/1563 [==============================] - 7s 4ms/step - loss: 1.3460 - accuracy: 0.5134\n",
            "Epoch 3/5\n",
            "1563/1563 [==============================] - 7s 4ms/step - loss: 1.2278 - accuracy: 0.5592\n",
            "Epoch 4/5\n",
            "1563/1563 [==============================] - 7s 5ms/step - loss: 1.1486 - accuracy: 0.5906\n",
            "Epoch 5/5\n",
            "1563/1563 [==============================] - 7s 5ms/step - loss: 1.0881 - accuracy: 0.6156\n"
          ]
        },
        {
          "output_type": "execute_result",
          "data": {
            "text/plain": [
              "<keras.callbacks.History at 0x7f2650475410>"
            ]
          },
          "metadata": {},
          "execution_count": 36
        }
      ]
    },
    {
      "cell_type": "code",
      "source": [
        "from sklearn.metrics import confusion_matrix , classification_report\n",
        "import numpy as np \n",
        "y_pred = model.predict(x_test)\n",
        "y_pred_classes = [np.argmax(element) for element in y_pred]\n",
        "print(\"classification report: \\n\" , classification_report(y_test, y_pred_classes))"
      ],
      "metadata": {
        "colab": {
          "base_uri": "https://localhost:8080/"
        },
        "id": "t_Se6bS2lsbN",
        "outputId": "3f97f78b-a818-43a0-c8d0-d52e67606bac"
      },
      "execution_count": 37,
      "outputs": [
        {
          "output_type": "stream",
          "name": "stdout",
          "text": [
            "classification report: \n",
            "               precision    recall  f1-score   support\n",
            "\n",
            "           0       0.60      0.72      0.65      1000\n",
            "           1       0.75      0.76      0.75      1000\n",
            "           2       0.54      0.41      0.46      1000\n",
            "           3       0.45      0.30      0.36      1000\n",
            "           4       0.44      0.65      0.52      1000\n",
            "           5       0.48      0.60      0.53      1000\n",
            "           6       0.86      0.47      0.61      1000\n",
            "           7       0.54      0.77      0.64      1000\n",
            "           8       0.86      0.50      0.63      1000\n",
            "           9       0.67      0.74      0.71      1000\n",
            "\n",
            "    accuracy                           0.59     10000\n",
            "   macro avg       0.62      0.59      0.59     10000\n",
            "weighted avg       0.62      0.59      0.59     10000\n",
            "\n"
          ]
        }
      ]
    },
    {
      "cell_type": "code",
      "source": [
        "model.evaluate(x_test,y_test)"
      ],
      "metadata": {
        "colab": {
          "base_uri": "https://localhost:8080/"
        },
        "id": "pYBdWVdbqGBp",
        "outputId": "75626d9c-4b90-42ed-9e80-7497e276c021"
      },
      "execution_count": 38,
      "outputs": [
        {
          "output_type": "stream",
          "name": "stdout",
          "text": [
            "313/313 [==============================] - 1s 3ms/step - loss: 1.1619 - accuracy: 0.5911\n"
          ]
        },
        {
          "output_type": "execute_result",
          "data": {
            "text/plain": [
              "[1.1619246006011963, 0.5910999774932861]"
            ]
          },
          "metadata": {},
          "execution_count": 38
        }
      ]
    },
    {
      "cell_type": "code",
      "source": [
        "model.fit(x_train,y_train, epochs=10)"
      ],
      "metadata": {
        "colab": {
          "base_uri": "https://localhost:8080/"
        },
        "id": "OfvqBz-0qPOd",
        "outputId": "aa3195f4-f1df-4484-a8d8-d24f5e01d956"
      },
      "execution_count": 39,
      "outputs": [
        {
          "output_type": "stream",
          "name": "stdout",
          "text": [
            "Epoch 1/10\n",
            "1563/1563 [==============================] - 7s 4ms/step - loss: 1.0374 - accuracy: 0.6335\n",
            "Epoch 2/10\n",
            "1563/1563 [==============================] - 7s 4ms/step - loss: 1.0020 - accuracy: 0.6478\n",
            "Epoch 3/10\n",
            "1563/1563 [==============================] - 7s 5ms/step - loss: 0.9684 - accuracy: 0.6606\n",
            "Epoch 4/10\n",
            "1563/1563 [==============================] - 7s 5ms/step - loss: 0.9420 - accuracy: 0.6706\n",
            "Epoch 5/10\n",
            "1563/1563 [==============================] - 7s 4ms/step - loss: 0.9171 - accuracy: 0.6787\n",
            "Epoch 6/10\n",
            "1563/1563 [==============================] - 7s 4ms/step - loss: 0.8971 - accuracy: 0.6845\n",
            "Epoch 7/10\n",
            "1563/1563 [==============================] - 7s 5ms/step - loss: 0.8789 - accuracy: 0.6927\n",
            "Epoch 8/10\n",
            "1563/1563 [==============================] - 7s 4ms/step - loss: 0.8559 - accuracy: 0.7006\n",
            "Epoch 9/10\n",
            "1563/1563 [==============================] - 7s 4ms/step - loss: 0.8464 - accuracy: 0.7037\n",
            "Epoch 10/10\n",
            "1563/1563 [==============================] - 7s 4ms/step - loss: 0.8309 - accuracy: 0.7104\n"
          ]
        },
        {
          "output_type": "execute_result",
          "data": {
            "text/plain": [
              "<keras.callbacks.History at 0x7f26505f2990>"
            ]
          },
          "metadata": {},
          "execution_count": 39
        }
      ]
    },
    {
      "cell_type": "code",
      "source": [
        "model.evaluate(x_test,y_test)"
      ],
      "metadata": {
        "colab": {
          "base_uri": "https://localhost:8080/"
        },
        "id": "JjscndYvrLSv",
        "outputId": "6e571a92-77ce-40bb-c434-a97b742e138a"
      },
      "execution_count": 40,
      "outputs": [
        {
          "output_type": "stream",
          "name": "stdout",
          "text": [
            "313/313 [==============================] - 1s 3ms/step - loss: 0.9453 - accuracy: 0.6710\n"
          ]
        },
        {
          "output_type": "execute_result",
          "data": {
            "text/plain": [
              "[0.9452818632125854, 0.6710000038146973]"
            ]
          },
          "metadata": {},
          "execution_count": 40
        }
      ]
    },
    {
      "cell_type": "code",
      "source": [
        "model.fit(x_train,y_train, epochs=20)"
      ],
      "metadata": {
        "colab": {
          "base_uri": "https://localhost:8080/"
        },
        "id": "UIJdm7PVrQRb",
        "outputId": "ff4c9f92-9df9-4da9-e6e8-15d092400043"
      },
      "execution_count": 41,
      "outputs": [
        {
          "output_type": "stream",
          "name": "stdout",
          "text": [
            "Epoch 1/20\n",
            "1563/1563 [==============================] - 7s 5ms/step - loss: 0.8136 - accuracy: 0.7134\n",
            "Epoch 2/20\n",
            "1563/1563 [==============================] - 7s 5ms/step - loss: 0.8063 - accuracy: 0.7177\n",
            "Epoch 3/20\n",
            "1563/1563 [==============================] - 7s 4ms/step - loss: 0.7903 - accuracy: 0.7238\n",
            "Epoch 4/20\n",
            "1563/1563 [==============================] - 7s 4ms/step - loss: 0.7783 - accuracy: 0.7279\n",
            "Epoch 5/20\n",
            "1563/1563 [==============================] - 7s 5ms/step - loss: 0.7667 - accuracy: 0.7303\n",
            "Epoch 6/20\n",
            "1563/1563 [==============================] - 7s 5ms/step - loss: 0.7617 - accuracy: 0.7324\n",
            "Epoch 7/20\n",
            "1563/1563 [==============================] - 7s 5ms/step - loss: 0.7490 - accuracy: 0.7361\n",
            "Epoch 8/20\n",
            "1563/1563 [==============================] - 7s 4ms/step - loss: 0.7428 - accuracy: 0.7396\n",
            "Epoch 9/20\n",
            "1563/1563 [==============================] - 7s 5ms/step - loss: 0.7287 - accuracy: 0.7428\n",
            "Epoch 10/20\n",
            "1563/1563 [==============================] - 7s 4ms/step - loss: 0.7233 - accuracy: 0.7440\n",
            "Epoch 11/20\n",
            "1563/1563 [==============================] - 7s 5ms/step - loss: 0.7139 - accuracy: 0.7490\n",
            "Epoch 12/20\n",
            "1563/1563 [==============================] - 7s 5ms/step - loss: 0.7087 - accuracy: 0.7521\n",
            "Epoch 13/20\n",
            "1563/1563 [==============================] - 7s 5ms/step - loss: 0.7025 - accuracy: 0.7533\n",
            "Epoch 14/20\n",
            "1563/1563 [==============================] - 7s 5ms/step - loss: 0.6920 - accuracy: 0.7585\n",
            "Epoch 15/20\n",
            "1563/1563 [==============================] - 7s 4ms/step - loss: 0.6824 - accuracy: 0.7601\n",
            "Epoch 16/20\n",
            "1563/1563 [==============================] - 7s 4ms/step - loss: 0.6783 - accuracy: 0.7630\n",
            "Epoch 17/20\n",
            "1563/1563 [==============================] - 7s 4ms/step - loss: 0.6722 - accuracy: 0.7645\n",
            "Epoch 18/20\n",
            "1563/1563 [==============================] - 7s 4ms/step - loss: 0.6653 - accuracy: 0.7663\n",
            "Epoch 19/20\n",
            "1563/1563 [==============================] - 7s 4ms/step - loss: 0.6572 - accuracy: 0.7692\n",
            "Epoch 20/20\n",
            "1563/1563 [==============================] - 7s 4ms/step - loss: 0.6488 - accuracy: 0.7709\n"
          ]
        },
        {
          "output_type": "execute_result",
          "data": {
            "text/plain": [
              "<keras.callbacks.History at 0x7f265043ff90>"
            ]
          },
          "metadata": {},
          "execution_count": 41
        }
      ]
    },
    {
      "cell_type": "code",
      "source": [
        "model.evaluate(x_test,y_test)"
      ],
      "metadata": {
        "colab": {
          "base_uri": "https://localhost:8080/"
        },
        "id": "DvQj8IbfrUMW",
        "outputId": "b34ef1a5-da9a-4810-8db3-85480bf718ba"
      },
      "execution_count": 42,
      "outputs": [
        {
          "output_type": "stream",
          "name": "stdout",
          "text": [
            "313/313 [==============================] - 1s 3ms/step - loss: 0.9063 - accuracy: 0.6947\n"
          ]
        },
        {
          "output_type": "execute_result",
          "data": {
            "text/plain": [
              "[0.9062859416007996, 0.6947000026702881]"
            ]
          },
          "metadata": {},
          "execution_count": 42
        }
      ]
    },
    {
      "cell_type": "code",
      "source": [
        "model.fit(x_train,y_train, epochs=50)"
      ],
      "metadata": {
        "colab": {
          "base_uri": "https://localhost:8080/"
        },
        "id": "x-wKGPgwrYpb",
        "outputId": "6b4b5e04-e9b3-445a-d3bc-d95efcfaac3f"
      },
      "execution_count": 43,
      "outputs": [
        {
          "output_type": "stream",
          "name": "stdout",
          "text": [
            "Epoch 1/50\n",
            "1563/1563 [==============================] - 7s 4ms/step - loss: 0.6419 - accuracy: 0.7753\n",
            "Epoch 2/50\n",
            "1563/1563 [==============================] - 7s 4ms/step - loss: 0.6346 - accuracy: 0.7769\n",
            "Epoch 3/50\n",
            "1563/1563 [==============================] - 7s 4ms/step - loss: 0.6321 - accuracy: 0.7777\n",
            "Epoch 4/50\n",
            "1563/1563 [==============================] - 7s 4ms/step - loss: 0.6243 - accuracy: 0.7812\n",
            "Epoch 5/50\n",
            "1563/1563 [==============================] - 7s 4ms/step - loss: 0.6222 - accuracy: 0.7819\n",
            "Epoch 6/50\n",
            "1563/1563 [==============================] - 7s 4ms/step - loss: 0.6103 - accuracy: 0.7853\n",
            "Epoch 7/50\n",
            "1563/1563 [==============================] - 7s 4ms/step - loss: 0.6076 - accuracy: 0.7865\n",
            "Epoch 8/50\n",
            "1563/1563 [==============================] - 7s 5ms/step - loss: 0.6022 - accuracy: 0.7896\n",
            "Epoch 9/50\n",
            "1563/1563 [==============================] - 7s 4ms/step - loss: 0.5998 - accuracy: 0.7896\n",
            "Epoch 10/50\n",
            "1563/1563 [==============================] - 7s 4ms/step - loss: 0.5946 - accuracy: 0.7893\n",
            "Epoch 11/50\n",
            "1563/1563 [==============================] - 7s 4ms/step - loss: 0.5879 - accuracy: 0.7917\n",
            "Epoch 12/50\n",
            "1563/1563 [==============================] - 7s 5ms/step - loss: 0.5847 - accuracy: 0.7936\n",
            "Epoch 13/50\n",
            "1563/1563 [==============================] - 7s 4ms/step - loss: 0.5780 - accuracy: 0.7961\n",
            "Epoch 14/50\n",
            "1563/1563 [==============================] - 7s 4ms/step - loss: 0.5749 - accuracy: 0.7944\n",
            "Epoch 15/50\n",
            "1563/1563 [==============================] - 7s 4ms/step - loss: 0.5711 - accuracy: 0.8002\n",
            "Epoch 16/50\n",
            "1563/1563 [==============================] - 7s 4ms/step - loss: 0.5635 - accuracy: 0.8004\n",
            "Epoch 17/50\n",
            "1563/1563 [==============================] - 7s 4ms/step - loss: 0.5600 - accuracy: 0.8023\n",
            "Epoch 18/50\n",
            "1563/1563 [==============================] - 7s 4ms/step - loss: 0.5581 - accuracy: 0.8038\n",
            "Epoch 19/50\n",
            "1563/1563 [==============================] - 7s 4ms/step - loss: 0.5526 - accuracy: 0.8059\n",
            "Epoch 20/50\n",
            "1563/1563 [==============================] - 7s 4ms/step - loss: 0.5527 - accuracy: 0.8035\n",
            "Epoch 21/50\n",
            "1563/1563 [==============================] - 7s 4ms/step - loss: 0.5423 - accuracy: 0.8077\n",
            "Epoch 22/50\n",
            "1563/1563 [==============================] - 7s 4ms/step - loss: 0.5403 - accuracy: 0.8065\n",
            "Epoch 23/50\n",
            "1563/1563 [==============================] - 7s 4ms/step - loss: 0.5403 - accuracy: 0.8076\n",
            "Epoch 24/50\n",
            "1563/1563 [==============================] - 7s 4ms/step - loss: 0.5324 - accuracy: 0.8107\n",
            "Epoch 25/50\n",
            "1563/1563 [==============================] - 7s 4ms/step - loss: 0.5285 - accuracy: 0.8112\n",
            "Epoch 26/50\n",
            "1563/1563 [==============================] - 7s 4ms/step - loss: 0.5227 - accuracy: 0.8135\n",
            "Epoch 27/50\n",
            "1563/1563 [==============================] - 7s 5ms/step - loss: 0.5256 - accuracy: 0.8132\n",
            "Epoch 28/50\n",
            "1563/1563 [==============================] - 7s 4ms/step - loss: 0.5137 - accuracy: 0.8166\n",
            "Epoch 29/50\n",
            "1563/1563 [==============================] - 7s 5ms/step - loss: 0.5128 - accuracy: 0.8181\n",
            "Epoch 30/50\n",
            "1563/1563 [==============================] - 7s 4ms/step - loss: 0.5103 - accuracy: 0.8182\n",
            "Epoch 31/50\n",
            "1563/1563 [==============================] - 7s 4ms/step - loss: 0.5056 - accuracy: 0.8202\n",
            "Epoch 32/50\n",
            "1563/1563 [==============================] - 7s 5ms/step - loss: 0.5000 - accuracy: 0.8226\n",
            "Epoch 33/50\n",
            "1563/1563 [==============================] - 7s 4ms/step - loss: 0.5010 - accuracy: 0.8212\n",
            "Epoch 34/50\n",
            "1563/1563 [==============================] - 7s 4ms/step - loss: 0.4947 - accuracy: 0.8223\n",
            "Epoch 35/50\n",
            "1563/1563 [==============================] - 7s 5ms/step - loss: 0.4887 - accuracy: 0.8262\n",
            "Epoch 36/50\n",
            "1563/1563 [==============================] - 7s 5ms/step - loss: 0.4844 - accuracy: 0.8270\n",
            "Epoch 37/50\n",
            "1563/1563 [==============================] - 7s 4ms/step - loss: 0.4905 - accuracy: 0.8243\n",
            "Epoch 38/50\n",
            "1563/1563 [==============================] - 7s 4ms/step - loss: 0.4790 - accuracy: 0.8280\n",
            "Epoch 39/50\n",
            "1563/1563 [==============================] - 7s 4ms/step - loss: 0.4794 - accuracy: 0.8275\n",
            "Epoch 40/50\n",
            "1563/1563 [==============================] - 7s 4ms/step - loss: 0.4761 - accuracy: 0.8302\n",
            "Epoch 41/50\n",
            "1563/1563 [==============================] - 7s 4ms/step - loss: 0.4736 - accuracy: 0.8289\n",
            "Epoch 42/50\n",
            "1563/1563 [==============================] - 7s 4ms/step - loss: 0.4682 - accuracy: 0.8326\n",
            "Epoch 43/50\n",
            "1563/1563 [==============================] - 7s 4ms/step - loss: 0.4703 - accuracy: 0.8317\n",
            "Epoch 44/50\n",
            "1563/1563 [==============================] - 7s 4ms/step - loss: 0.4635 - accuracy: 0.8340\n",
            "Epoch 45/50\n",
            "1563/1563 [==============================] - 7s 4ms/step - loss: 0.4637 - accuracy: 0.8337\n",
            "Epoch 46/50\n",
            "1563/1563 [==============================] - 7s 4ms/step - loss: 0.4650 - accuracy: 0.8333\n",
            "Epoch 47/50\n",
            "1563/1563 [==============================] - 7s 4ms/step - loss: 0.4549 - accuracy: 0.8352\n",
            "Epoch 48/50\n",
            "1563/1563 [==============================] - 7s 4ms/step - loss: 0.4557 - accuracy: 0.8352\n",
            "Epoch 49/50\n",
            "1563/1563 [==============================] - 7s 5ms/step - loss: 0.4486 - accuracy: 0.8378\n",
            "Epoch 50/50\n",
            "1563/1563 [==============================] - 7s 5ms/step - loss: 0.4469 - accuracy: 0.8385\n"
          ]
        },
        {
          "output_type": "execute_result",
          "data": {
            "text/plain": [
              "<keras.callbacks.History at 0x7f2650446290>"
            ]
          },
          "metadata": {},
          "execution_count": 43
        }
      ]
    },
    {
      "cell_type": "code",
      "source": [
        "model.evaluate(x_test,y_test)"
      ],
      "metadata": {
        "colab": {
          "base_uri": "https://localhost:8080/"
        },
        "id": "NNDsDSesriGs",
        "outputId": "b6ec730e-129c-464d-fdd8-34967278b896"
      },
      "execution_count": 44,
      "outputs": [
        {
          "output_type": "stream",
          "name": "stdout",
          "text": [
            "313/313 [==============================] - 1s 3ms/step - loss: 1.1321 - accuracy: 0.6821\n"
          ]
        },
        {
          "output_type": "execute_result",
          "data": {
            "text/plain": [
              "[1.1321446895599365, 0.6820999979972839]"
            ]
          },
          "metadata": {},
          "execution_count": 44
        }
      ]
    },
    {
      "cell_type": "code",
      "source": [
        "model.fit(x_train,y_train, epochs=70)"
      ],
      "metadata": {
        "colab": {
          "base_uri": "https://localhost:8080/"
        },
        "id": "yYAC5gvSrkB2",
        "outputId": "0fb65ffd-0241-4725-9caf-4dc1c350b171"
      },
      "execution_count": 45,
      "outputs": [
        {
          "output_type": "stream",
          "name": "stdout",
          "text": [
            "Epoch 1/70\n",
            "1563/1563 [==============================] - 7s 5ms/step - loss: 0.4457 - accuracy: 0.8399\n",
            "Epoch 2/70\n",
            "1563/1563 [==============================] - 7s 4ms/step - loss: 0.4420 - accuracy: 0.8397\n",
            "Epoch 3/70\n",
            "1563/1563 [==============================] - 7s 4ms/step - loss: 0.4434 - accuracy: 0.8418\n",
            "Epoch 4/70\n",
            "1563/1563 [==============================] - 7s 5ms/step - loss: 0.4368 - accuracy: 0.8420\n",
            "Epoch 5/70\n",
            "1563/1563 [==============================] - 7s 5ms/step - loss: 0.4354 - accuracy: 0.8437\n",
            "Epoch 6/70\n",
            "1563/1563 [==============================] - 7s 5ms/step - loss: 0.4373 - accuracy: 0.8412\n",
            "Epoch 7/70\n",
            "1563/1563 [==============================] - 7s 5ms/step - loss: 0.4284 - accuracy: 0.8457\n",
            "Epoch 8/70\n",
            "1563/1563 [==============================] - 7s 4ms/step - loss: 0.4319 - accuracy: 0.8438\n",
            "Epoch 9/70\n",
            "1563/1563 [==============================] - 7s 5ms/step - loss: 0.4244 - accuracy: 0.8465\n",
            "Epoch 10/70\n",
            "1563/1563 [==============================] - 7s 5ms/step - loss: 0.4234 - accuracy: 0.8470\n",
            "Epoch 11/70\n",
            "1563/1563 [==============================] - 7s 5ms/step - loss: 0.4231 - accuracy: 0.8464\n",
            "Epoch 12/70\n",
            "1563/1563 [==============================] - 7s 5ms/step - loss: 0.4198 - accuracy: 0.8486\n",
            "Epoch 13/70\n",
            "1563/1563 [==============================] - 7s 5ms/step - loss: 0.4168 - accuracy: 0.8507\n",
            "Epoch 14/70\n",
            "1563/1563 [==============================] - 7s 5ms/step - loss: 0.4147 - accuracy: 0.8479\n",
            "Epoch 15/70\n",
            "1563/1563 [==============================] - 7s 5ms/step - loss: 0.4123 - accuracy: 0.8502\n",
            "Epoch 16/70\n",
            "1563/1563 [==============================] - 7s 5ms/step - loss: 0.4110 - accuracy: 0.8518\n",
            "Epoch 17/70\n",
            "1563/1563 [==============================] - 7s 5ms/step - loss: 0.4079 - accuracy: 0.8534\n",
            "Epoch 18/70\n",
            "1563/1563 [==============================] - 7s 5ms/step - loss: 0.4079 - accuracy: 0.8515\n",
            "Epoch 19/70\n",
            "1563/1563 [==============================] - 7s 5ms/step - loss: 0.4065 - accuracy: 0.8520\n",
            "Epoch 20/70\n",
            "1563/1563 [==============================] - 7s 5ms/step - loss: 0.4070 - accuracy: 0.8527\n",
            "Epoch 21/70\n",
            "1563/1563 [==============================] - 7s 5ms/step - loss: 0.4018 - accuracy: 0.8539\n",
            "Epoch 22/70\n",
            "1563/1563 [==============================] - 7s 5ms/step - loss: 0.3989 - accuracy: 0.8538\n",
            "Epoch 23/70\n",
            "1563/1563 [==============================] - 7s 5ms/step - loss: 0.3964 - accuracy: 0.8563\n",
            "Epoch 24/70\n",
            "1563/1563 [==============================] - 7s 5ms/step - loss: 0.3977 - accuracy: 0.8555\n",
            "Epoch 25/70\n",
            "1563/1563 [==============================] - 7s 5ms/step - loss: 0.3939 - accuracy: 0.8573\n",
            "Epoch 26/70\n",
            "1563/1563 [==============================] - 7s 5ms/step - loss: 0.3952 - accuracy: 0.8557\n",
            "Epoch 27/70\n",
            "1563/1563 [==============================] - 7s 5ms/step - loss: 0.3919 - accuracy: 0.8569\n",
            "Epoch 28/70\n",
            "1563/1563 [==============================] - 7s 5ms/step - loss: 0.3881 - accuracy: 0.8583\n",
            "Epoch 29/70\n",
            "1563/1563 [==============================] - 7s 5ms/step - loss: 0.3885 - accuracy: 0.8592\n",
            "Epoch 30/70\n",
            "1563/1563 [==============================] - 7s 5ms/step - loss: 0.3890 - accuracy: 0.8564\n",
            "Epoch 31/70\n",
            "1563/1563 [==============================] - 7s 5ms/step - loss: 0.3857 - accuracy: 0.8598\n",
            "Epoch 32/70\n",
            "1563/1563 [==============================] - 7s 5ms/step - loss: 0.3797 - accuracy: 0.8602\n",
            "Epoch 33/70\n",
            "1563/1563 [==============================] - 7s 4ms/step - loss: 0.3813 - accuracy: 0.8609\n",
            "Epoch 34/70\n",
            "1563/1563 [==============================] - 7s 4ms/step - loss: 0.3794 - accuracy: 0.8615\n",
            "Epoch 35/70\n",
            "1563/1563 [==============================] - 7s 5ms/step - loss: 0.3768 - accuracy: 0.8627\n",
            "Epoch 36/70\n",
            "1563/1563 [==============================] - 7s 5ms/step - loss: 0.3793 - accuracy: 0.8616\n",
            "Epoch 37/70\n",
            "1563/1563 [==============================] - 7s 5ms/step - loss: 0.3746 - accuracy: 0.8628\n",
            "Epoch 38/70\n",
            "1563/1563 [==============================] - 7s 5ms/step - loss: 0.3755 - accuracy: 0.8636\n",
            "Epoch 39/70\n",
            "1563/1563 [==============================] - 7s 5ms/step - loss: 0.3740 - accuracy: 0.8645\n",
            "Epoch 40/70\n",
            "1563/1563 [==============================] - 7s 5ms/step - loss: 0.3700 - accuracy: 0.8647\n",
            "Epoch 41/70\n",
            "1563/1563 [==============================] - 7s 5ms/step - loss: 0.3691 - accuracy: 0.8660\n",
            "Epoch 42/70\n",
            "1563/1563 [==============================] - 7s 4ms/step - loss: 0.3700 - accuracy: 0.8647\n",
            "Epoch 43/70\n",
            "1563/1563 [==============================] - 7s 5ms/step - loss: 0.3686 - accuracy: 0.8641\n",
            "Epoch 44/70\n",
            "1563/1563 [==============================] - 7s 5ms/step - loss: 0.3652 - accuracy: 0.8675\n",
            "Epoch 45/70\n",
            "1563/1563 [==============================] - 7s 5ms/step - loss: 0.3641 - accuracy: 0.8695\n",
            "Epoch 46/70\n",
            "1563/1563 [==============================] - 7s 5ms/step - loss: 0.3717 - accuracy: 0.8637\n",
            "Epoch 47/70\n",
            "1563/1563 [==============================] - 7s 5ms/step - loss: 0.3611 - accuracy: 0.8693\n",
            "Epoch 48/70\n",
            "1563/1563 [==============================] - 7s 5ms/step - loss: 0.3614 - accuracy: 0.8684\n",
            "Epoch 49/70\n",
            "1563/1563 [==============================] - 7s 5ms/step - loss: 0.3628 - accuracy: 0.8669\n",
            "Epoch 50/70\n",
            "1563/1563 [==============================] - 7s 5ms/step - loss: 0.3616 - accuracy: 0.8681\n",
            "Epoch 51/70\n",
            "1563/1563 [==============================] - 7s 5ms/step - loss: 0.3519 - accuracy: 0.8707\n",
            "Epoch 52/70\n",
            "1563/1563 [==============================] - 7s 5ms/step - loss: 0.3561 - accuracy: 0.8698\n",
            "Epoch 53/70\n",
            "1563/1563 [==============================] - 7s 5ms/step - loss: 0.3564 - accuracy: 0.8691\n",
            "Epoch 54/70\n",
            "1563/1563 [==============================] - 7s 5ms/step - loss: 0.3543 - accuracy: 0.8706\n",
            "Epoch 55/70\n",
            "1563/1563 [==============================] - 7s 5ms/step - loss: 0.3484 - accuracy: 0.8726\n",
            "Epoch 56/70\n",
            "1563/1563 [==============================] - 7s 5ms/step - loss: 0.3512 - accuracy: 0.8734\n",
            "Epoch 57/70\n",
            "1563/1563 [==============================] - 7s 5ms/step - loss: 0.3508 - accuracy: 0.8722\n",
            "Epoch 58/70\n",
            "1563/1563 [==============================] - 7s 5ms/step - loss: 0.3439 - accuracy: 0.8754\n",
            "Epoch 59/70\n",
            "1563/1563 [==============================] - 7s 5ms/step - loss: 0.3500 - accuracy: 0.8725\n",
            "Epoch 60/70\n",
            "1563/1563 [==============================] - 7s 5ms/step - loss: 0.3413 - accuracy: 0.8754\n",
            "Epoch 61/70\n",
            "1563/1563 [==============================] - 7s 5ms/step - loss: 0.3494 - accuracy: 0.8728\n",
            "Epoch 62/70\n",
            "1563/1563 [==============================] - 7s 5ms/step - loss: 0.3476 - accuracy: 0.8726\n",
            "Epoch 63/70\n",
            "1563/1563 [==============================] - 7s 5ms/step - loss: 0.3401 - accuracy: 0.8765\n",
            "Epoch 64/70\n",
            "1563/1563 [==============================] - 7s 5ms/step - loss: 0.3433 - accuracy: 0.8742\n",
            "Epoch 65/70\n",
            "1563/1563 [==============================] - 7s 5ms/step - loss: 0.3425 - accuracy: 0.8738\n",
            "Epoch 66/70\n",
            "1563/1563 [==============================] - 7s 5ms/step - loss: 0.3397 - accuracy: 0.8764\n",
            "Epoch 67/70\n",
            "1563/1563 [==============================] - 7s 5ms/step - loss: 0.3359 - accuracy: 0.8771\n",
            "Epoch 68/70\n",
            "1563/1563 [==============================] - 7s 5ms/step - loss: 0.3349 - accuracy: 0.8778\n",
            "Epoch 69/70\n",
            "1563/1563 [==============================] - 7s 5ms/step - loss: 0.3417 - accuracy: 0.8743\n",
            "Epoch 70/70\n",
            "1563/1563 [==============================] - 7s 5ms/step - loss: 0.3362 - accuracy: 0.8755\n"
          ]
        },
        {
          "output_type": "execute_result",
          "data": {
            "text/plain": [
              "<keras.callbacks.History at 0x7f26501eb590>"
            ]
          },
          "metadata": {},
          "execution_count": 45
        }
      ]
    },
    {
      "cell_type": "code",
      "source": [
        "model.evaluate(x_test,y_test)"
      ],
      "metadata": {
        "colab": {
          "base_uri": "https://localhost:8080/"
        },
        "id": "ZsC2xU6ur0PU",
        "outputId": "8df7daa9-b0bb-4288-807b-41932e865a4c"
      },
      "execution_count": 49,
      "outputs": [
        {
          "output_type": "stream",
          "name": "stdout",
          "text": [
            "313/313 [==============================] - 1s 3ms/step - loss: 2.0469 - accuracy: 0.6637\n"
          ]
        },
        {
          "output_type": "execute_result",
          "data": {
            "text/plain": [
              "[2.046926498413086, 0.6636999845504761]"
            ]
          },
          "metadata": {},
          "execution_count": 49
        }
      ]
    },
    {
      "cell_type": "code",
      "source": [
        "model.fit(x_train,y_train, epochs=100)"
      ],
      "metadata": {
        "colab": {
          "base_uri": "https://localhost:8080/"
        },
        "id": "FyJo8TXxxsMt",
        "outputId": "ae3aad02-5cd1-4d3f-fce3-1f04383a6256"
      },
      "execution_count": 50,
      "outputs": [
        {
          "output_type": "stream",
          "name": "stdout",
          "text": [
            "Epoch 1/100\n",
            "1563/1563 [==============================] - 7s 4ms/step - loss: 0.2675 - accuracy: 0.9021\n",
            "Epoch 2/100\n",
            "1563/1563 [==============================] - 7s 4ms/step - loss: 0.2634 - accuracy: 0.9028\n",
            "Epoch 3/100\n",
            "1563/1563 [==============================] - 7s 4ms/step - loss: 0.2601 - accuracy: 0.9040\n",
            "Epoch 4/100\n",
            "1563/1563 [==============================] - 7s 4ms/step - loss: 0.2695 - accuracy: 0.9022\n",
            "Epoch 5/100\n",
            "1563/1563 [==============================] - 7s 4ms/step - loss: 0.2635 - accuracy: 0.9050\n",
            "Epoch 6/100\n",
            "1563/1563 [==============================] - 7s 4ms/step - loss: 0.2575 - accuracy: 0.9053\n",
            "Epoch 7/100\n",
            "1563/1563 [==============================] - 7s 4ms/step - loss: 0.2634 - accuracy: 0.9044\n",
            "Epoch 8/100\n",
            "1563/1563 [==============================] - 7s 4ms/step - loss: 0.2587 - accuracy: 0.9046\n",
            "Epoch 9/100\n",
            "1563/1563 [==============================] - 7s 4ms/step - loss: 0.2580 - accuracy: 0.9052\n",
            "Epoch 10/100\n",
            "1563/1563 [==============================] - 7s 4ms/step - loss: 0.2634 - accuracy: 0.9027\n",
            "Epoch 11/100\n",
            "1563/1563 [==============================] - 7s 4ms/step - loss: 0.2637 - accuracy: 0.9036\n",
            "Epoch 12/100\n",
            "1563/1563 [==============================] - 7s 4ms/step - loss: 0.2538 - accuracy: 0.9055\n",
            "Epoch 13/100\n",
            "1563/1563 [==============================] - 7s 4ms/step - loss: 0.2610 - accuracy: 0.9051\n",
            "Epoch 14/100\n",
            "1563/1563 [==============================] - 7s 4ms/step - loss: 0.2627 - accuracy: 0.9040\n",
            "Epoch 15/100\n",
            "1563/1563 [==============================] - 7s 4ms/step - loss: 0.2569 - accuracy: 0.9058\n",
            "Epoch 16/100\n",
            "1563/1563 [==============================] - 7s 4ms/step - loss: 0.2566 - accuracy: 0.9058\n",
            "Epoch 17/100\n",
            "1563/1563 [==============================] - 7s 4ms/step - loss: 0.2605 - accuracy: 0.9049\n",
            "Epoch 18/100\n",
            "1563/1563 [==============================] - 7s 4ms/step - loss: 0.2523 - accuracy: 0.9075\n",
            "Epoch 19/100\n",
            "1563/1563 [==============================] - 6s 4ms/step - loss: 0.2574 - accuracy: 0.9039\n",
            "Epoch 20/100\n",
            "1563/1563 [==============================] - 7s 4ms/step - loss: 0.2573 - accuracy: 0.9050\n",
            "Epoch 21/100\n",
            "1563/1563 [==============================] - 7s 4ms/step - loss: 0.2581 - accuracy: 0.9042\n",
            "Epoch 22/100\n",
            "1563/1563 [==============================] - 7s 4ms/step - loss: 0.2508 - accuracy: 0.9088\n",
            "Epoch 23/100\n",
            "1563/1563 [==============================] - 7s 4ms/step - loss: 0.2578 - accuracy: 0.9055\n",
            "Epoch 24/100\n",
            "1563/1563 [==============================] - 7s 4ms/step - loss: 0.2554 - accuracy: 0.9066\n",
            "Epoch 25/100\n",
            "1563/1563 [==============================] - 7s 4ms/step - loss: 0.2554 - accuracy: 0.9058\n",
            "Epoch 26/100\n",
            "1563/1563 [==============================] - 7s 4ms/step - loss: 0.2515 - accuracy: 0.9070\n",
            "Epoch 27/100\n",
            "1563/1563 [==============================] - 7s 4ms/step - loss: 0.2596 - accuracy: 0.9040\n",
            "Epoch 28/100\n",
            "1563/1563 [==============================] - 7s 4ms/step - loss: 0.2508 - accuracy: 0.9091\n",
            "Epoch 29/100\n",
            "1563/1563 [==============================] - 7s 4ms/step - loss: 0.2518 - accuracy: 0.9063\n",
            "Epoch 30/100\n",
            "1563/1563 [==============================] - 7s 4ms/step - loss: 0.2591 - accuracy: 0.9046\n",
            "Epoch 31/100\n",
            "1563/1563 [==============================] - 7s 4ms/step - loss: 0.2492 - accuracy: 0.9080\n",
            "Epoch 32/100\n",
            "1563/1563 [==============================] - 7s 4ms/step - loss: 0.2509 - accuracy: 0.9079\n",
            "Epoch 33/100\n",
            "1563/1563 [==============================] - 7s 4ms/step - loss: 0.2462 - accuracy: 0.9093\n",
            "Epoch 34/100\n",
            "1563/1563 [==============================] - 7s 4ms/step - loss: 0.2487 - accuracy: 0.9080\n",
            "Epoch 35/100\n",
            "1563/1563 [==============================] - 7s 4ms/step - loss: 0.2494 - accuracy: 0.9081\n",
            "Epoch 36/100\n",
            "1563/1563 [==============================] - 7s 4ms/step - loss: 0.2478 - accuracy: 0.9093\n",
            "Epoch 37/100\n",
            "1563/1563 [==============================] - 7s 4ms/step - loss: 0.2519 - accuracy: 0.9073\n",
            "Epoch 38/100\n",
            "1563/1563 [==============================] - 7s 4ms/step - loss: 0.2486 - accuracy: 0.9083\n",
            "Epoch 39/100\n",
            "1563/1563 [==============================] - 7s 4ms/step - loss: 0.2468 - accuracy: 0.9084\n",
            "Epoch 40/100\n",
            "1563/1563 [==============================] - 7s 4ms/step - loss: 0.2533 - accuracy: 0.9071\n",
            "Epoch 41/100\n",
            "1563/1563 [==============================] - 7s 4ms/step - loss: 0.2466 - accuracy: 0.9086\n",
            "Epoch 42/100\n",
            "1563/1563 [==============================] - 7s 4ms/step - loss: 0.2531 - accuracy: 0.9072\n",
            "Epoch 43/100\n",
            "1563/1563 [==============================] - 7s 4ms/step - loss: 0.2423 - accuracy: 0.9100\n",
            "Epoch 44/100\n",
            "1563/1563 [==============================] - 7s 4ms/step - loss: 0.2455 - accuracy: 0.9109\n",
            "Epoch 45/100\n",
            "1563/1563 [==============================] - 7s 4ms/step - loss: 0.2500 - accuracy: 0.9081\n",
            "Epoch 46/100\n",
            "1563/1563 [==============================] - 7s 4ms/step - loss: 0.2452 - accuracy: 0.9103\n",
            "Epoch 47/100\n",
            "1563/1563 [==============================] - 7s 4ms/step - loss: 0.2437 - accuracy: 0.9114\n",
            "Epoch 48/100\n",
            "1563/1563 [==============================] - 7s 4ms/step - loss: 0.2498 - accuracy: 0.9081\n",
            "Epoch 49/100\n",
            "1563/1563 [==============================] - 7s 4ms/step - loss: 0.2423 - accuracy: 0.9108\n",
            "Epoch 50/100\n",
            "1563/1563 [==============================] - 7s 4ms/step - loss: 0.2471 - accuracy: 0.9090\n",
            "Epoch 51/100\n",
            "1563/1563 [==============================] - 7s 4ms/step - loss: 0.2437 - accuracy: 0.9096\n",
            "Epoch 52/100\n",
            "1563/1563 [==============================] - 7s 4ms/step - loss: 0.2424 - accuracy: 0.9106\n",
            "Epoch 53/100\n",
            "1563/1563 [==============================] - 7s 4ms/step - loss: 0.2419 - accuracy: 0.9114\n",
            "Epoch 54/100\n",
            "1563/1563 [==============================] - 7s 4ms/step - loss: 0.2443 - accuracy: 0.9088\n",
            "Epoch 55/100\n",
            "1563/1563 [==============================] - 7s 5ms/step - loss: 0.2412 - accuracy: 0.9112\n",
            "Epoch 56/100\n",
            "1563/1563 [==============================] - 7s 4ms/step - loss: 0.2417 - accuracy: 0.9096\n",
            "Epoch 57/100\n",
            "1563/1563 [==============================] - 7s 4ms/step - loss: 0.2395 - accuracy: 0.9112\n",
            "Epoch 58/100\n",
            "1563/1563 [==============================] - 7s 4ms/step - loss: 0.2474 - accuracy: 0.9084\n",
            "Epoch 59/100\n",
            "1563/1563 [==============================] - 7s 4ms/step - loss: 0.2416 - accuracy: 0.9104\n",
            "Epoch 60/100\n",
            "1563/1563 [==============================] - 7s 4ms/step - loss: 0.2455 - accuracy: 0.9109\n",
            "Epoch 61/100\n",
            "1563/1563 [==============================] - 7s 4ms/step - loss: 0.2387 - accuracy: 0.9120\n",
            "Epoch 62/100\n",
            "1563/1563 [==============================] - 7s 4ms/step - loss: 0.2374 - accuracy: 0.9118\n",
            "Epoch 63/100\n",
            "1563/1563 [==============================] - 7s 4ms/step - loss: 0.2417 - accuracy: 0.9113\n",
            "Epoch 64/100\n",
            "1563/1563 [==============================] - 7s 4ms/step - loss: 0.2381 - accuracy: 0.9125\n",
            "Epoch 65/100\n",
            "1563/1563 [==============================] - 7s 4ms/step - loss: 0.2462 - accuracy: 0.9097\n",
            "Epoch 66/100\n",
            "1563/1563 [==============================] - 7s 4ms/step - loss: 0.2345 - accuracy: 0.9131\n",
            "Epoch 67/100\n",
            "1563/1563 [==============================] - 7s 4ms/step - loss: 0.2411 - accuracy: 0.9118\n",
            "Epoch 68/100\n",
            "1563/1563 [==============================] - 7s 4ms/step - loss: 0.2324 - accuracy: 0.9133\n",
            "Epoch 69/100\n",
            "1563/1563 [==============================] - 7s 4ms/step - loss: 0.2403 - accuracy: 0.9105\n",
            "Epoch 70/100\n",
            "1563/1563 [==============================] - 7s 4ms/step - loss: 0.2316 - accuracy: 0.9143\n",
            "Epoch 71/100\n",
            "1563/1563 [==============================] - 7s 4ms/step - loss: 0.2439 - accuracy: 0.9096\n",
            "Epoch 72/100\n",
            "1563/1563 [==============================] - 7s 4ms/step - loss: 0.2394 - accuracy: 0.9126\n",
            "Epoch 73/100\n",
            "1563/1563 [==============================] - 7s 4ms/step - loss: 0.2396 - accuracy: 0.9132\n",
            "Epoch 74/100\n",
            "1563/1563 [==============================] - 7s 4ms/step - loss: 0.2388 - accuracy: 0.9119\n",
            "Epoch 75/100\n",
            "1563/1563 [==============================] - 7s 4ms/step - loss: 0.2385 - accuracy: 0.9112\n",
            "Epoch 76/100\n",
            "1563/1563 [==============================] - 7s 4ms/step - loss: 0.2345 - accuracy: 0.9147\n",
            "Epoch 77/100\n",
            "1563/1563 [==============================] - 7s 4ms/step - loss: 0.2367 - accuracy: 0.9131\n",
            "Epoch 78/100\n",
            "1563/1563 [==============================] - 7s 4ms/step - loss: 0.2385 - accuracy: 0.9123\n",
            "Epoch 79/100\n",
            "1563/1563 [==============================] - 7s 4ms/step - loss: 0.2351 - accuracy: 0.9126\n",
            "Epoch 80/100\n",
            "1563/1563 [==============================] - 7s 4ms/step - loss: 0.2349 - accuracy: 0.9139\n",
            "Epoch 81/100\n",
            "1563/1563 [==============================] - 7s 4ms/step - loss: 0.2307 - accuracy: 0.9143\n",
            "Epoch 82/100\n",
            "1563/1563 [==============================] - 7s 4ms/step - loss: 0.2375 - accuracy: 0.9135\n",
            "Epoch 83/100\n",
            "1563/1563 [==============================] - 7s 4ms/step - loss: 0.2358 - accuracy: 0.9131\n",
            "Epoch 84/100\n",
            "1563/1563 [==============================] - 7s 4ms/step - loss: 0.2308 - accuracy: 0.9152\n",
            "Epoch 85/100\n",
            "1563/1563 [==============================] - 7s 4ms/step - loss: 0.2317 - accuracy: 0.9148\n",
            "Epoch 86/100\n",
            "1563/1563 [==============================] - 7s 4ms/step - loss: 0.2348 - accuracy: 0.9133\n",
            "Epoch 87/100\n",
            "1563/1563 [==============================] - 7s 4ms/step - loss: 0.2349 - accuracy: 0.9136\n",
            "Epoch 88/100\n",
            "1563/1563 [==============================] - 7s 4ms/step - loss: 0.2358 - accuracy: 0.9130\n",
            "Epoch 89/100\n",
            "1563/1563 [==============================] - 7s 4ms/step - loss: 0.2324 - accuracy: 0.9150\n",
            "Epoch 90/100\n",
            "1563/1563 [==============================] - 7s 4ms/step - loss: 0.2355 - accuracy: 0.9129\n",
            "Epoch 91/100\n",
            "1563/1563 [==============================] - 7s 4ms/step - loss: 0.2303 - accuracy: 0.9153\n",
            "Epoch 92/100\n",
            "1563/1563 [==============================] - 7s 4ms/step - loss: 0.2279 - accuracy: 0.9159\n",
            "Epoch 93/100\n",
            "1563/1563 [==============================] - 7s 4ms/step - loss: 0.2322 - accuracy: 0.9157\n",
            "Epoch 94/100\n",
            "1563/1563 [==============================] - 7s 4ms/step - loss: 0.2305 - accuracy: 0.9152\n",
            "Epoch 95/100\n",
            "1563/1563 [==============================] - 7s 4ms/step - loss: 0.2298 - accuracy: 0.9142\n",
            "Epoch 96/100\n",
            "1563/1563 [==============================] - 7s 4ms/step - loss: 0.2292 - accuracy: 0.9158\n",
            "Epoch 97/100\n",
            "1563/1563 [==============================] - 7s 4ms/step - loss: 0.2256 - accuracy: 0.9168\n",
            "Epoch 98/100\n",
            "1563/1563 [==============================] - 7s 4ms/step - loss: 0.2354 - accuracy: 0.9134\n",
            "Epoch 99/100\n",
            "1563/1563 [==============================] - 7s 4ms/step - loss: 0.2361 - accuracy: 0.9128\n",
            "Epoch 100/100\n",
            "1563/1563 [==============================] - 7s 4ms/step - loss: 0.2231 - accuracy: 0.9166\n"
          ]
        },
        {
          "output_type": "execute_result",
          "data": {
            "text/plain": [
              "<keras.callbacks.History at 0x7f265028b750>"
            ]
          },
          "metadata": {},
          "execution_count": 50
        }
      ]
    },
    {
      "cell_type": "code",
      "source": [
        "model.evaluate(x_test,y_test)"
      ],
      "metadata": {
        "colab": {
          "base_uri": "https://localhost:8080/"
        },
        "id": "TizodTtPx0AM",
        "outputId": "371410c7-96d7-4eb4-b24f-1120593c6ceb"
      },
      "execution_count": 51,
      "outputs": [
        {
          "output_type": "stream",
          "name": "stdout",
          "text": [
            "313/313 [==============================] - 1s 3ms/step - loss: 2.5295 - accuracy: 0.6558\n"
          ]
        },
        {
          "output_type": "execute_result",
          "data": {
            "text/plain": [
              "[2.5295097827911377, 0.6557999849319458]"
            ]
          },
          "metadata": {},
          "execution_count": 51
        }
      ]
    },
    {
      "cell_type": "code",
      "source": [
        ""
      ],
      "metadata": {
        "id": "fb3KuIePx2U7"
      },
      "execution_count": null,
      "outputs": []
    }
  ]
}