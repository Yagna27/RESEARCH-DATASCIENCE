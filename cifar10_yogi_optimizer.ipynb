{
  "cells": [
    {
      "cell_type": "code",
      "execution_count": 1,
      "metadata": {
        "id": "VAyvlNtkKayp"
      },
      "outputs": [],
      "source": [
        "import tensorflow as tf\n",
        "from tensorflow.keras import datasets , layers ,models\n",
        "import matplotlib.pyplot as plt\n",
        "import numpy as np\n",
        "import pandas as pd\n",
        "import keras"
      ]
    },
    {
      "cell_type": "code",
      "execution_count": 2,
      "metadata": {
        "colab": {
          "base_uri": "https://localhost:8080/"
        },
        "id": "xY_X-1aVKlTl",
        "outputId": "7ac43174-4f32-41de-bf9b-2216da933803"
      },
      "outputs": [
        {
          "output_type": "stream",
          "name": "stdout",
          "text": [
            "Downloading data from https://www.cs.toronto.edu/~kriz/cifar-10-python.tar.gz\n",
            "170500096/170498071 [==============================] - 3s 0us/step\n",
            "170508288/170498071 [==============================] - 3s 0us/step\n"
          ]
        }
      ],
      "source": [
        "(x_train,y_train),(x_test,y_test)=datasets.cifar10.load_data()"
      ]
    },
    {
      "cell_type": "code",
      "execution_count": 3,
      "metadata": {
        "colab": {
          "base_uri": "https://localhost:8080/"
        },
        "id": "msCLJ8vIKrDX",
        "outputId": "52ab36ae-f42f-4be2-ab51-3585232e65ed"
      },
      "outputs": [
        {
          "output_type": "execute_result",
          "data": {
            "text/plain": [
              "(50000, 32, 32, 3)"
            ]
          },
          "metadata": {},
          "execution_count": 3
        }
      ],
      "source": [
        "x_train.shape"
      ]
    },
    {
      "cell_type": "code",
      "execution_count": 4,
      "metadata": {
        "colab": {
          "base_uri": "https://localhost:8080/"
        },
        "id": "bhluEWHTKtzJ",
        "outputId": "4f86a439-3e36-4dff-cf71-59128418b902"
      },
      "outputs": [
        {
          "output_type": "execute_result",
          "data": {
            "text/plain": [
              "(10000, 32, 32, 3)"
            ]
          },
          "metadata": {},
          "execution_count": 4
        }
      ],
      "source": [
        "x_test.shape"
      ]
    },
    {
      "cell_type": "code",
      "execution_count": 5,
      "metadata": {
        "id": "pvVZUZhhKwpa"
      },
      "outputs": [],
      "source": [
        "classes = [ \"airplane\" , \"automobile\" ,\"bird\", \"cat\", \"deer\", \"dog\" ,\"frog\" ,\"horse\" ,\"ship\" ,\"truck\"]"
      ]
    },
    {
      "cell_type": "code",
      "execution_count": 6,
      "metadata": {
        "colab": {
          "base_uri": "https://localhost:8080/"
        },
        "id": "UgmFHkHSKzk1",
        "outputId": "2b4f2b56-f45c-49c8-a963-f5a53721dcca"
      },
      "outputs": [
        {
          "output_type": "execute_result",
          "data": {
            "text/plain": [
              "array([6, 9, 9, ..., 9, 1, 1], dtype=uint8)"
            ]
          },
          "metadata": {},
          "execution_count": 6
        }
      ],
      "source": [
        "y_train=y_train.reshape(-1,)\n",
        "y_train"
      ]
    },
    {
      "cell_type": "code",
      "execution_count": 7,
      "metadata": {
        "id": "3RWpy9BFK3Qe"
      },
      "outputs": [],
      "source": [
        "def plot_sample(X,y,index):\n",
        "  plt.figure(figsize=(15,2))\n",
        "  plt.imshow(X[index])\n",
        "  plt.xlabel(classes[y[index]])"
      ]
    },
    {
      "cell_type": "code",
      "execution_count": 8,
      "metadata": {
        "colab": {
          "base_uri": "https://localhost:8080/",
          "height": 173
        },
        "id": "-RKskd8zK5Va",
        "outputId": "9a0ff5ff-5bad-45a4-9db1-0a0420b53262"
      },
      "outputs": [
        {
          "output_type": "display_data",
          "data": {
            "image/png": "[encoded data removed]",
            "text/plain": [
              "<Figure size 1080x144 with 1 Axes>"
            ]
          },
          "metadata": {
            "needs_background": "light"
          }
        }
      ],
      "source": [
        "plot_sample(x_train,y_train,1)"
      ]
    },
    {
      "cell_type": "code",
      "execution_count": 9,
      "metadata": {
        "id": "7AgLj19OK7ey"
      },
      "outputs": [],
      "source": [
        "x_train =x_train/255\n",
        "x_test = x_test/255\n"
      ]
    },
    {
      "cell_type": "code",
      "execution_count": 10,
      "metadata": {
        "colab": {
          "base_uri": "https://localhost:8080/"
        },
        "id": "DZEODAgso8Ot",
        "outputId": "99a1a57e-7cda-4c71-e333-47e8a603d11b"
      },
      "outputs": [
        {
          "output_type": "stream",
          "name": "stdout",
          "text": [
            "Collecting tensorflow-addons\n",
            "  Downloading tensorflow_addons-0.15.0-cp37-cp37m-manylinux_2_12_x86_64.manylinux2010_x86_64.whl (1.1 MB)\n",
            "\u001b[K     |████████████████████████████████| 1.1 MB 8.0 MB/s \n",
            "\u001b[?25hRequirement already satisfied: typeguard>=2.7 in /usr/local/lib/python3.7/dist-packages (from tensorflow-addons) (2.7.1)\n",
            "Installing collected packages: tensorflow-addons\n",
            "Successfully installed tensorflow-addons-0.15.0\n"
          ]
        }
      ],
      "source": [
        "pip install tensorflow-addons"
      ]
    },
    {
      "cell_type": "code",
      "execution_count": 11,
      "metadata": {
        "id": "ff_uPUGlpAvL"
      },
      "outputs": [],
      "source": [
        "import tensorflow_addons as tfa"
      ]
    },
    {
      "cell_type": "code",
      "execution_count": 12,
      "metadata": {
        "id": "fghAzcXapHYi"
      },
      "outputs": [],
      "source": [
        "opt=tfa.optimizers.Yogi(learning_rate= 0.01,\n",
        "    beta1= 0.9,\n",
        "    beta2= 0.999,\n",
        "    epsilon= 0.001,\n",
        "    l1_regularization_strength= 0.0,\n",
        "    l2_regularization_strength= 0.0,\n",
        "    initial_accumulator_value= 1e-06,\n",
        "    activation = 'sign',\n",
        "    name= 'Yogi',\n",
        ")"
      ]
    },
    {
      "cell_type": "code",
      "execution_count": 13,
      "metadata": {
        "colab": {
          "base_uri": "https://localhost:8080/"
        },
        "id": "pAPe6_aYK-mh",
        "outputId": "52c27a4f-0c88-4351-f29b-b290f8d291df"
      },
      "outputs": [
        {
          "output_type": "stream",
          "name": "stdout",
          "text": [
            "Epoch 1/5\n",
            "1563/1563 [==============================] - 23s 5ms/step - loss: 1.7508 - accuracy: 0.3507\n",
            "Epoch 2/5\n",
            "1563/1563 [==============================] - 8s 5ms/step - loss: 1.5446 - accuracy: 0.4353\n",
            "Epoch 3/5\n",
            "1563/1563 [==============================] - 8s 5ms/step - loss: 1.4767 - accuracy: 0.4613\n",
            "Epoch 4/5\n",
            "1563/1563 [==============================] - 8s 5ms/step - loss: 1.4266 - accuracy: 0.4827\n",
            "Epoch 5/5\n",
            "1563/1563 [==============================] - 8s 5ms/step - loss: 1.3895 - accuracy: 0.4988\n"
          ]
        },
        {
          "output_type": "execute_result",
          "data": {
            "text/plain": [
              "<keras.callbacks.History at 0x7f93200a0190>"
            ]
          },
          "metadata": {},
          "execution_count": 13
        }
      ],
      "source": [
        "model = keras.Sequential(\n",
        "    [\n",
        "     layers.Conv2D(filters=64,kernel_size=(3,3), activation ='relu' ,input_shape=(32,32,3)),\n",
        "     layers.MaxPool2D((2,2)),\n",
        "     layers.Conv2D(filters=32,kernel_size=(3,3), activation ='relu'),\n",
        "     layers.MaxPool2D((2,2)),\n",
        "     layers.Conv2D(filters=32,kernel_size=(3,3), activation ='relu'),\n",
        "     layers.MaxPool2D((2,2)),\n",
        "     keras.layers.Flatten(),\n",
        "     keras.layers.Dense(32,activation =\"relu\"),\n",
        "     keras.layers.Dense(10 ,activation =\"softmax\"),\n",
        "     \n",
        "    ]\n",
        ")\n",
        "\n",
        "model.compile(optimizer = opt,\n",
        "               loss=\"sparse_categorical_crossentropy\",\n",
        "               metrics=[\"accuracy\"])\n",
        "model.fit(x_train,y_train, epochs=5)"
      ]
    },
    {
      "cell_type": "code",
      "execution_count": 14,
      "metadata": {
        "colab": {
          "base_uri": "https://localhost:8080/"
        },
        "id": "WJhGYOG7LCJN",
        "outputId": "048e2a5b-a2a0-4c14-cc21-70af6ca1938b"
      },
      "outputs": [
        {
          "output_type": "stream",
          "name": "stdout",
          "text": [
            "classification report: \n",
            "               precision    recall  f1-score   support\n",
            "\n",
            "           0       0.51      0.57      0.54      1000\n",
            "           1       0.57      0.66      0.61      1000\n",
            "           2       0.44      0.30      0.36      1000\n",
            "           3       0.33      0.33      0.33      1000\n",
            "           4       0.42      0.45      0.43      1000\n",
            "           5       0.46      0.33      0.39      1000\n",
            "           6       0.56      0.64      0.59      1000\n",
            "           7       0.48      0.64      0.55      1000\n",
            "           8       0.77      0.26      0.39      1000\n",
            "           9       0.49      0.71      0.58      1000\n",
            "\n",
            "    accuracy                           0.49     10000\n",
            "   macro avg       0.50      0.49      0.48     10000\n",
            "weighted avg       0.50      0.49      0.48     10000\n",
            "\n"
          ]
        }
      ],
      "source": [
        "from sklearn.metrics import confusion_matrix , classification_report\n",
        "import numpy as np \n",
        "y_pred = model.predict(x_test)\n",
        "y_pred_classes = [np.argmax(element) for element in y_pred]\n",
        "print(\"classification report: \\n\" , classification_report(y_test, y_pred_classes))"
      ]
    },
    {
      "cell_type": "code",
      "execution_count": 15,
      "metadata": {
        "colab": {
          "base_uri": "https://localhost:8080/"
        },
        "id": "R0RzjkcsLKNW",
        "outputId": "dcc96889-8597-4c97-d470-8a09caf614b9"
      },
      "outputs": [
        {
          "output_type": "stream",
          "name": "stdout",
          "text": [
            "313/313 [==============================] - 1s 3ms/step - loss: 1.4131 - accuracy: 0.4891\n"
          ]
        },
        {
          "output_type": "execute_result",
          "data": {
            "text/plain": [
              "[1.4130908250808716, 0.48910000920295715]"
            ]
          },
          "metadata": {},
          "execution_count": 15
        }
      ],
      "source": [
        "model.evaluate(x_test,y_test)"
      ]
    },
    {
      "cell_type": "code",
      "execution_count": 16,
      "metadata": {
        "colab": {
          "base_uri": "https://localhost:8080/"
        },
        "id": "yrsVvrtxLMl6",
        "outputId": "9547b287-b59e-4931-f83b-de335d9ee1f7"
      },
      "outputs": [
        {
          "output_type": "stream",
          "name": "stdout",
          "text": [
            "Epoch 1/10\n",
            "1563/1563 [==============================] - 9s 6ms/step - loss: 1.3517 - accuracy: 0.5158\n",
            "Epoch 2/10\n",
            "1563/1563 [==============================] - 9s 6ms/step - loss: 1.3314 - accuracy: 0.5238\n",
            "Epoch 3/10\n",
            "1563/1563 [==============================] - 9s 6ms/step - loss: 1.3139 - accuracy: 0.5301\n",
            "Epoch 4/10\n",
            "1563/1563 [==============================] - 9s 6ms/step - loss: 1.2910 - accuracy: 0.5417\n",
            "Epoch 5/10\n",
            "1563/1563 [==============================] - 9s 6ms/step - loss: 1.2790 - accuracy: 0.5483\n",
            "Epoch 6/10\n",
            "1563/1563 [==============================] - 9s 6ms/step - loss: 1.2632 - accuracy: 0.5553\n",
            "Epoch 7/10\n",
            "1563/1563 [==============================] - 9s 6ms/step - loss: 1.2474 - accuracy: 0.5595\n",
            "Epoch 8/10\n",
            "1563/1563 [==============================] - 9s 6ms/step - loss: 1.2413 - accuracy: 0.5644\n",
            "Epoch 9/10\n",
            "1563/1563 [==============================] - 9s 6ms/step - loss: 1.2237 - accuracy: 0.5690\n",
            "Epoch 10/10\n",
            "1563/1563 [==============================] - 9s 5ms/step - loss: 1.2207 - accuracy: 0.5712\n"
          ]
        },
        {
          "output_type": "execute_result",
          "data": {
            "text/plain": [
              "<keras.callbacks.History at 0x7f92a61e84d0>"
            ]
          },
          "metadata": {},
          "execution_count": 16
        }
      ],
      "source": [
        "model.fit(x_train,y_train, epochs=10)"
      ]
    },
    {
      "cell_type": "code",
      "execution_count": 17,
      "metadata": {
        "colab": {
          "base_uri": "https://localhost:8080/"
        },
        "id": "0yKi__ehLOqA",
        "outputId": "a1876868-93f6-47e2-d8c4-d0ef279df49a"
      },
      "outputs": [
        {
          "output_type": "stream",
          "name": "stdout",
          "text": [
            "313/313 [==============================] - 1s 3ms/step - loss: 1.2395 - accuracy: 0.5681\n"
          ]
        },
        {
          "output_type": "execute_result",
          "data": {
            "text/plain": [
              "[1.2394601106643677, 0.5680999755859375]"
            ]
          },
          "metadata": {},
          "execution_count": 17
        }
      ],
      "source": [
        "model.evaluate(x_test,y_test)"
      ]
    },
    {
      "cell_type": "code",
      "execution_count": 18,
      "metadata": {
        "colab": {
          "base_uri": "https://localhost:8080/"
        },
        "id": "9OdwPphgLS6L",
        "outputId": "3203b2ee-987e-4655-e2e1-0fb90e4a6ce6"
      },
      "outputs": [
        {
          "output_type": "stream",
          "name": "stdout",
          "text": [
            "Epoch 1/20\n",
            "1563/1563 [==============================] - 9s 5ms/step - loss: 1.2009 - accuracy: 0.5789\n",
            "Epoch 2/20\n",
            "1563/1563 [==============================] - 8s 5ms/step - loss: 1.1919 - accuracy: 0.5824\n",
            "Epoch 3/20\n",
            "1563/1563 [==============================] - 8s 5ms/step - loss: 1.1747 - accuracy: 0.5907\n",
            "Epoch 4/20\n",
            "1563/1563 [==============================] - 9s 5ms/step - loss: 1.1628 - accuracy: 0.5948\n",
            "Epoch 5/20\n",
            "1563/1563 [==============================] - 9s 6ms/step - loss: 1.1468 - accuracy: 0.5992\n",
            "Epoch 6/20\n",
            "1563/1563 [==============================] - 9s 6ms/step - loss: 1.1392 - accuracy: 0.6045\n",
            "Epoch 7/20\n",
            "1563/1563 [==============================] - 9s 6ms/step - loss: 1.1289 - accuracy: 0.6046\n",
            "Epoch 8/20\n",
            "1563/1563 [==============================] - 9s 6ms/step - loss: 1.1199 - accuracy: 0.6091\n",
            "Epoch 9/20\n",
            "1563/1563 [==============================] - 9s 5ms/step - loss: 1.1186 - accuracy: 0.6109\n",
            "Epoch 10/20\n",
            "1563/1563 [==============================] - 9s 5ms/step - loss: 1.1166 - accuracy: 0.6100\n",
            "Epoch 11/20\n",
            "1563/1563 [==============================] - 9s 5ms/step - loss: 1.1050 - accuracy: 0.6157\n",
            "Epoch 12/20\n",
            "1563/1563 [==============================] - 9s 5ms/step - loss: 1.1019 - accuracy: 0.6168\n",
            "Epoch 13/20\n",
            "1563/1563 [==============================] - 9s 6ms/step - loss: 1.0912 - accuracy: 0.6213\n",
            "Epoch 14/20\n",
            "1563/1563 [==============================] - 9s 5ms/step - loss: 1.0852 - accuracy: 0.6206\n",
            "Epoch 15/20\n",
            "1563/1563 [==============================] - 9s 5ms/step - loss: 1.0783 - accuracy: 0.6264\n",
            "Epoch 16/20\n",
            "1563/1563 [==============================] - 8s 5ms/step - loss: 1.0760 - accuracy: 0.6280\n",
            "Epoch 17/20\n",
            "1563/1563 [==============================] - 9s 5ms/step - loss: 1.0732 - accuracy: 0.6285\n",
            "Epoch 18/20\n",
            "1563/1563 [==============================] - 9s 5ms/step - loss: 1.0635 - accuracy: 0.6324\n",
            "Epoch 19/20\n",
            "1563/1563 [==============================] - 9s 6ms/step - loss: 1.0673 - accuracy: 0.6303\n",
            "Epoch 20/20\n",
            "1563/1563 [==============================] - 8s 5ms/step - loss: 1.0545 - accuracy: 0.6354\n"
          ]
        },
        {
          "output_type": "execute_result",
          "data": {
            "text/plain": [
              "<keras.callbacks.History at 0x7f92a60efb50>"
            ]
          },
          "metadata": {},
          "execution_count": 18
        }
      ],
      "source": [
        "model.fit(x_train,y_train, epochs=20)"
      ]
    },
    {
      "cell_type": "code",
      "execution_count": 19,
      "metadata": {
        "colab": {
          "base_uri": "https://localhost:8080/"
        },
        "id": "wVijfVF6LVCD",
        "outputId": "f9ab7226-8a91-42c0-f2d1-528bd4ef11d4"
      },
      "outputs": [
        {
          "output_type": "stream",
          "name": "stdout",
          "text": [
            "313/313 [==============================] - 1s 3ms/step - loss: 1.2407 - accuracy: 0.5903\n"
          ]
        },
        {
          "output_type": "execute_result",
          "data": {
            "text/plain": [
              "[1.2407323122024536, 0.5903000235557556]"
            ]
          },
          "metadata": {},
          "execution_count": 19
        }
      ],
      "source": [
        "model.evaluate(x_test,y_test)"
      ]
    },
    {
      "cell_type": "code",
      "execution_count": 20,
      "metadata": {
        "colab": {
          "base_uri": "https://localhost:8080/"
        },
        "id": "_3X8ca9ZLXCc",
        "outputId": "726afaca-529d-4004-c4d2-56167cfe8733"
      },
      "outputs": [
        {
          "output_type": "stream",
          "name": "stdout",
          "text": [
            "Epoch 1/50\n",
            "1563/1563 [==============================] - 8s 5ms/step - loss: 1.0623 - accuracy: 0.6329\n",
            "Epoch 2/50\n",
            "1563/1563 [==============================] - 8s 5ms/step - loss: 1.0449 - accuracy: 0.6400\n",
            "Epoch 3/50\n",
            "1563/1563 [==============================] - 8s 5ms/step - loss: 1.0539 - accuracy: 0.6331\n",
            "Epoch 4/50\n",
            "1563/1563 [==============================] - 9s 5ms/step - loss: 1.0473 - accuracy: 0.6366\n",
            "Epoch 5/50\n",
            "1563/1563 [==============================] - 8s 5ms/step - loss: 1.0321 - accuracy: 0.6420\n",
            "Epoch 6/50\n",
            "1563/1563 [==============================] - 8s 5ms/step - loss: 1.0398 - accuracy: 0.6412\n",
            "Epoch 7/50\n",
            "1563/1563 [==============================] - 8s 5ms/step - loss: 1.0308 - accuracy: 0.6462\n",
            "Epoch 8/50\n",
            "1563/1563 [==============================] - 8s 5ms/step - loss: 1.0308 - accuracy: 0.6457\n",
            "Epoch 9/50\n",
            "1563/1563 [==============================] - 8s 5ms/step - loss: 1.0224 - accuracy: 0.6472\n",
            "Epoch 10/50\n",
            "1563/1563 [==============================] - 8s 5ms/step - loss: 1.0183 - accuracy: 0.6501\n",
            "Epoch 11/50\n",
            "1563/1563 [==============================] - 9s 5ms/step - loss: 1.0191 - accuracy: 0.6499\n",
            "Epoch 12/50\n",
            "1563/1563 [==============================] - 9s 5ms/step - loss: 1.0110 - accuracy: 0.6534\n",
            "Epoch 13/50\n",
            "1563/1563 [==============================] - 8s 5ms/step - loss: 1.0127 - accuracy: 0.6511\n",
            "Epoch 14/50\n",
            "1563/1563 [==============================] - 8s 5ms/step - loss: 1.0064 - accuracy: 0.6503\n",
            "Epoch 15/50\n",
            "1563/1563 [==============================] - 8s 5ms/step - loss: 0.9993 - accuracy: 0.6583\n",
            "Epoch 16/50\n",
            "1563/1563 [==============================] - 8s 5ms/step - loss: 0.9956 - accuracy: 0.6575\n",
            "Epoch 17/50\n",
            "1563/1563 [==============================] - 8s 5ms/step - loss: 0.9988 - accuracy: 0.6558\n",
            "Epoch 18/50\n",
            "1563/1563 [==============================] - 8s 5ms/step - loss: 0.9996 - accuracy: 0.6592\n",
            "Epoch 19/50\n",
            "1563/1563 [==============================] - 8s 5ms/step - loss: 0.9956 - accuracy: 0.6577\n",
            "Epoch 20/50\n",
            "1563/1563 [==============================] - 8s 5ms/step - loss: 0.9860 - accuracy: 0.6635\n",
            "Epoch 21/50\n",
            "1563/1563 [==============================] - 8s 5ms/step - loss: 0.9909 - accuracy: 0.6598\n",
            "Epoch 22/50\n",
            "1563/1563 [==============================] - 8s 5ms/step - loss: 0.9818 - accuracy: 0.6653\n",
            "Epoch 23/50\n",
            "1563/1563 [==============================] - 9s 5ms/step - loss: 0.9857 - accuracy: 0.6613\n",
            "Epoch 24/50\n",
            "1563/1563 [==============================] - 8s 5ms/step - loss: 0.9894 - accuracy: 0.6606\n",
            "Epoch 25/50\n",
            "1563/1563 [==============================] - 8s 5ms/step - loss: 0.9816 - accuracy: 0.6635\n",
            "Epoch 26/50\n",
            "1563/1563 [==============================] - 8s 5ms/step - loss: 0.9797 - accuracy: 0.6643\n",
            "Epoch 27/50\n",
            "1563/1563 [==============================] - 8s 5ms/step - loss: 0.9811 - accuracy: 0.6649\n",
            "Epoch 28/50\n",
            "1563/1563 [==============================] - 8s 5ms/step - loss: 0.9762 - accuracy: 0.6666\n",
            "Epoch 29/50\n",
            "1563/1563 [==============================] - 8s 5ms/step - loss: 0.9674 - accuracy: 0.6703\n",
            "Epoch 30/50\n",
            "1563/1563 [==============================] - 8s 5ms/step - loss: 0.9669 - accuracy: 0.6708\n",
            "Epoch 31/50\n",
            "1563/1563 [==============================] - 8s 5ms/step - loss: 0.9675 - accuracy: 0.6674\n",
            "Epoch 32/50\n",
            "1563/1563 [==============================] - 8s 5ms/step - loss: 0.9596 - accuracy: 0.6737\n",
            "Epoch 33/50\n",
            "1563/1563 [==============================] - 8s 5ms/step - loss: 0.9614 - accuracy: 0.6743\n",
            "Epoch 34/50\n",
            "1563/1563 [==============================] - 8s 5ms/step - loss: 0.9567 - accuracy: 0.6735\n",
            "Epoch 35/50\n",
            "1563/1563 [==============================] - 8s 5ms/step - loss: 0.9520 - accuracy: 0.6759\n",
            "Epoch 36/50\n",
            "1563/1563 [==============================] - 8s 5ms/step - loss: 0.9462 - accuracy: 0.6759\n",
            "Epoch 37/50\n",
            "1563/1563 [==============================] - 8s 5ms/step - loss: 0.9538 - accuracy: 0.6763\n",
            "Epoch 38/50\n",
            "1563/1563 [==============================] - 8s 5ms/step - loss: 0.9447 - accuracy: 0.6776\n",
            "Epoch 39/50\n",
            "1563/1563 [==============================] - 9s 5ms/step - loss: 0.9436 - accuracy: 0.6794\n",
            "Epoch 40/50\n",
            "1563/1563 [==============================] - 8s 5ms/step - loss: 0.9388 - accuracy: 0.6810\n",
            "Epoch 41/50\n",
            "1563/1563 [==============================] - 8s 5ms/step - loss: 0.9374 - accuracy: 0.6814\n",
            "Epoch 42/50\n",
            "1563/1563 [==============================] - 8s 5ms/step - loss: 0.9415 - accuracy: 0.6798\n",
            "Epoch 43/50\n",
            "1563/1563 [==============================] - 8s 5ms/step - loss: 0.9369 - accuracy: 0.6813\n",
            "Epoch 44/50\n",
            "1563/1563 [==============================] - 9s 5ms/step - loss: 0.9362 - accuracy: 0.6841\n",
            "Epoch 45/50\n",
            "1563/1563 [==============================] - 8s 5ms/step - loss: 0.9331 - accuracy: 0.6846\n",
            "Epoch 46/50\n",
            "1563/1563 [==============================] - 8s 5ms/step - loss: 0.9401 - accuracy: 0.6814\n",
            "Epoch 47/50\n",
            "1563/1563 [==============================] - 8s 5ms/step - loss: 0.9311 - accuracy: 0.6820\n",
            "Epoch 48/50\n",
            "1563/1563 [==============================] - 8s 5ms/step - loss: 0.9228 - accuracy: 0.6872\n",
            "Epoch 49/50\n",
            "1563/1563 [==============================] - 8s 5ms/step - loss: 0.9270 - accuracy: 0.6832\n",
            "Epoch 50/50\n",
            "1563/1563 [==============================] - 8s 5ms/step - loss: 0.9164 - accuracy: 0.6897\n"
          ]
        },
        {
          "output_type": "execute_result",
          "data": {
            "text/plain": [
              "<keras.callbacks.History at 0x7f92a61e8890>"
            ]
          },
          "metadata": {},
          "execution_count": 20
        }
      ],
      "source": [
        "model.fit(x_train,y_train, epochs=50)"
      ]
    },
    {
      "cell_type": "code",
      "execution_count": 21,
      "metadata": {
        "id": "lAMD4t2iLb66",
        "colab": {
          "base_uri": "https://localhost:8080/"
        },
        "outputId": "e35beecd-e977-41df-cb94-57f792172903"
      },
      "outputs": [
        {
          "output_type": "stream",
          "name": "stdout",
          "text": [
            "313/313 [==============================] - 1s 3ms/step - loss: 1.1369 - accuracy: 0.6280\n"
          ]
        },
        {
          "output_type": "execute_result",
          "data": {
            "text/plain": [
              "[1.1369092464447021, 0.628000020980835]"
            ]
          },
          "metadata": {},
          "execution_count": 21
        }
      ],
      "source": [
        "model.evaluate(x_test,y_test)"
      ]
    },
    {
      "cell_type": "code",
      "execution_count": 22,
      "metadata": {
        "id": "DQjs6LfYLf7F",
        "colab": {
          "base_uri": "https://localhost:8080/"
        },
        "outputId": "499a06d1-b421-4571-ab48-bf08c828a8cf"
      },
      "outputs": [
        {
          "output_type": "stream",
          "name": "stdout",
          "text": [
            "Epoch 1/70\n",
            "1563/1563 [==============================] - 8s 5ms/step - loss: 0.9241 - accuracy: 0.6868\n",
            "Epoch 2/70\n",
            "1563/1563 [==============================] - 8s 5ms/step - loss: 0.9258 - accuracy: 0.6875\n",
            "Epoch 3/70\n",
            "1563/1563 [==============================] - 8s 5ms/step - loss: 0.9320 - accuracy: 0.6837\n",
            "Epoch 4/70\n",
            "1563/1563 [==============================] - 8s 5ms/step - loss: 0.9249 - accuracy: 0.6860\n",
            "Epoch 5/70\n",
            "1563/1563 [==============================] - 8s 5ms/step - loss: 0.9163 - accuracy: 0.6869\n",
            "Epoch 6/70\n",
            "1563/1563 [==============================] - 8s 5ms/step - loss: 0.9181 - accuracy: 0.6891\n",
            "Epoch 7/70\n",
            "1563/1563 [==============================] - 8s 5ms/step - loss: 0.9210 - accuracy: 0.6861\n",
            "Epoch 8/70\n",
            "1563/1563 [==============================] - 8s 5ms/step - loss: 0.9125 - accuracy: 0.6904\n",
            "Epoch 9/70\n",
            "1563/1563 [==============================] - 8s 5ms/step - loss: 0.9047 - accuracy: 0.6929\n",
            "Epoch 10/70\n",
            "1563/1563 [==============================] - 9s 5ms/step - loss: 0.9117 - accuracy: 0.6916\n",
            "Epoch 11/70\n",
            "1563/1563 [==============================] - 9s 5ms/step - loss: 0.9113 - accuracy: 0.6920\n",
            "Epoch 12/70\n",
            "1563/1563 [==============================] - 9s 6ms/step - loss: 0.9157 - accuracy: 0.6906\n",
            "Epoch 13/70\n",
            "1563/1563 [==============================] - 8s 5ms/step - loss: 0.8998 - accuracy: 0.6953\n",
            "Epoch 14/70\n",
            "1563/1563 [==============================] - 8s 5ms/step - loss: 0.9043 - accuracy: 0.6930\n",
            "Epoch 15/70\n",
            "1563/1563 [==============================] - 8s 5ms/step - loss: 0.9043 - accuracy: 0.6950\n",
            "Epoch 16/70\n",
            "1563/1563 [==============================] - 8s 5ms/step - loss: 0.9007 - accuracy: 0.6948\n",
            "Epoch 17/70\n",
            "1563/1563 [==============================] - 8s 5ms/step - loss: 0.8967 - accuracy: 0.6964\n",
            "Epoch 18/70\n",
            "1563/1563 [==============================] - 8s 5ms/step - loss: 0.8928 - accuracy: 0.6975\n",
            "Epoch 19/70\n",
            "1563/1563 [==============================] - 9s 5ms/step - loss: 0.8980 - accuracy: 0.6933\n",
            "Epoch 20/70\n",
            "1563/1563 [==============================] - 8s 5ms/step - loss: 0.8915 - accuracy: 0.6982\n",
            "Epoch 21/70\n",
            "1563/1563 [==============================] - 8s 5ms/step - loss: 0.8957 - accuracy: 0.6947\n",
            "Epoch 22/70\n",
            "1563/1563 [==============================] - 8s 5ms/step - loss: 0.8957 - accuracy: 0.6955\n",
            "Epoch 23/70\n",
            "1563/1563 [==============================] - 8s 5ms/step - loss: 0.8934 - accuracy: 0.6991\n",
            "Epoch 24/70\n",
            "1563/1563 [==============================] - 8s 5ms/step - loss: 0.8885 - accuracy: 0.6984\n",
            "Epoch 25/70\n",
            "1563/1563 [==============================] - 8s 5ms/step - loss: 0.8885 - accuracy: 0.6989\n",
            "Epoch 26/70\n",
            "1563/1563 [==============================] - 8s 5ms/step - loss: 0.8858 - accuracy: 0.7029\n",
            "Epoch 27/70\n",
            "1563/1563 [==============================] - 8s 5ms/step - loss: 0.8821 - accuracy: 0.6996\n",
            "Epoch 28/70\n",
            "1563/1563 [==============================] - 8s 5ms/step - loss: 0.8875 - accuracy: 0.6996\n",
            "Epoch 29/70\n",
            "1563/1563 [==============================] - 8s 5ms/step - loss: 0.8935 - accuracy: 0.6982\n",
            "Epoch 30/70\n",
            "1563/1563 [==============================] - 8s 5ms/step - loss: 0.8786 - accuracy: 0.7032\n",
            "Epoch 31/70\n",
            "1563/1563 [==============================] - 8s 5ms/step - loss: 0.8769 - accuracy: 0.7030\n",
            "Epoch 32/70\n",
            "1563/1563 [==============================] - 8s 5ms/step - loss: 0.8828 - accuracy: 0.6998\n",
            "Epoch 33/70\n",
            "1563/1563 [==============================] - 8s 5ms/step - loss: 0.8822 - accuracy: 0.7007\n",
            "Epoch 34/70\n",
            "1563/1563 [==============================] - 8s 5ms/step - loss: 0.8736 - accuracy: 0.7039\n",
            "Epoch 35/70\n",
            "1563/1563 [==============================] - 8s 5ms/step - loss: 0.8764 - accuracy: 0.7038\n",
            "Epoch 36/70\n",
            "1563/1563 [==============================] - 8s 5ms/step - loss: 0.8738 - accuracy: 0.7028\n",
            "Epoch 37/70\n",
            "1563/1563 [==============================] - 8s 5ms/step - loss: 0.8777 - accuracy: 0.7037\n",
            "Epoch 38/70\n",
            "1563/1563 [==============================] - 8s 5ms/step - loss: 0.8694 - accuracy: 0.7054\n",
            "Epoch 39/70\n",
            "1563/1563 [==============================] - 8s 5ms/step - loss: 0.8758 - accuracy: 0.7040\n",
            "Epoch 40/70\n",
            "1563/1563 [==============================] - 8s 5ms/step - loss: 0.8728 - accuracy: 0.7038\n",
            "Epoch 41/70\n",
            "1563/1563 [==============================] - 8s 5ms/step - loss: 0.8687 - accuracy: 0.7050\n",
            "Epoch 42/70\n",
            "1563/1563 [==============================] - 8s 5ms/step - loss: 0.8712 - accuracy: 0.7037\n",
            "Epoch 43/70\n",
            "1563/1563 [==============================] - 8s 5ms/step - loss: 0.8620 - accuracy: 0.7068\n",
            "Epoch 44/70\n",
            "1563/1563 [==============================] - 8s 5ms/step - loss: 0.8629 - accuracy: 0.7091\n",
            "Epoch 45/70\n",
            "1563/1563 [==============================] - 8s 5ms/step - loss: 0.8705 - accuracy: 0.7053\n",
            "Epoch 46/70\n",
            "1563/1563 [==============================] - 8s 5ms/step - loss: 0.8729 - accuracy: 0.7051\n",
            "Epoch 47/70\n",
            "1563/1563 [==============================] - 9s 5ms/step - loss: 0.8716 - accuracy: 0.7051\n",
            "Epoch 48/70\n",
            "1563/1563 [==============================] - 8s 5ms/step - loss: 0.8701 - accuracy: 0.7054\n",
            "Epoch 49/70\n",
            "1563/1563 [==============================] - 8s 5ms/step - loss: 0.8634 - accuracy: 0.7092\n",
            "Epoch 50/70\n",
            "1563/1563 [==============================] - 8s 5ms/step - loss: 0.8625 - accuracy: 0.7062\n",
            "Epoch 51/70\n",
            "1563/1563 [==============================] - 8s 5ms/step - loss: 0.8607 - accuracy: 0.7077\n",
            "Epoch 52/70\n",
            "1563/1563 [==============================] - 8s 5ms/step - loss: 0.8679 - accuracy: 0.7069\n",
            "Epoch 53/70\n",
            "1563/1563 [==============================] - 8s 5ms/step - loss: 0.8553 - accuracy: 0.7108\n",
            "Epoch 54/70\n",
            "1563/1563 [==============================] - 8s 5ms/step - loss: 0.8533 - accuracy: 0.7114\n",
            "Epoch 55/70\n",
            "1563/1563 [==============================] - 8s 5ms/step - loss: 0.8599 - accuracy: 0.7072\n",
            "Epoch 56/70\n",
            "1563/1563 [==============================] - 8s 5ms/step - loss: 0.8646 - accuracy: 0.7054\n",
            "Epoch 57/70\n",
            "1563/1563 [==============================] - 8s 5ms/step - loss: 0.8635 - accuracy: 0.7078\n",
            "Epoch 58/70\n",
            "1563/1563 [==============================] - 8s 5ms/step - loss: 0.8550 - accuracy: 0.7094\n",
            "Epoch 59/70\n",
            "1563/1563 [==============================] - 8s 5ms/step - loss: 0.8552 - accuracy: 0.7141\n",
            "Epoch 60/70\n",
            "1563/1563 [==============================] - 8s 5ms/step - loss: 0.8542 - accuracy: 0.7122\n",
            "Epoch 61/70\n",
            "1563/1563 [==============================] - 8s 5ms/step - loss: 0.8600 - accuracy: 0.7088\n",
            "Epoch 62/70\n",
            "1563/1563 [==============================] - 8s 5ms/step - loss: 0.8605 - accuracy: 0.7105\n",
            "Epoch 63/70\n",
            "1563/1563 [==============================] - 8s 5ms/step - loss: 0.8539 - accuracy: 0.7107\n",
            "Epoch 64/70\n",
            "1563/1563 [==============================] - 8s 5ms/step - loss: 0.8467 - accuracy: 0.7146\n",
            "Epoch 65/70\n",
            "1563/1563 [==============================] - 8s 5ms/step - loss: 0.8506 - accuracy: 0.7115\n",
            "Epoch 66/70\n",
            "1563/1563 [==============================] - 8s 5ms/step - loss: 0.8547 - accuracy: 0.7101\n",
            "Epoch 67/70\n",
            "1563/1563 [==============================] - 8s 5ms/step - loss: 0.8513 - accuracy: 0.7139\n",
            "Epoch 68/70\n",
            "1563/1563 [==============================] - 8s 5ms/step - loss: 0.8422 - accuracy: 0.7140\n",
            "Epoch 69/70\n",
            "1563/1563 [==============================] - 8s 5ms/step - loss: 0.8539 - accuracy: 0.7132\n",
            "Epoch 70/70\n",
            "1563/1563 [==============================] - 8s 5ms/step - loss: 0.8405 - accuracy: 0.7150\n"
          ]
        },
        {
          "output_type": "execute_result",
          "data": {
            "text/plain": [
              "<keras.callbacks.History at 0x7f924e83ae10>"
            ]
          },
          "metadata": {},
          "execution_count": 22
        }
      ],
      "source": [
        "model.fit(x_train,y_train, epochs=70)"
      ]
    },
    {
      "cell_type": "code",
      "execution_count": 23,
      "metadata": {
        "id": "PGFzF2RCLjam",
        "colab": {
          "base_uri": "https://localhost:8080/"
        },
        "outputId": "002f612f-a13c-4bcc-a092-359d373847ae"
      },
      "outputs": [
        {
          "output_type": "stream",
          "name": "stdout",
          "text": [
            "313/313 [==============================] - 1s 3ms/step - loss: 1.1768 - accuracy: 0.6230\n"
          ]
        },
        {
          "output_type": "execute_result",
          "data": {
            "text/plain": [
              "[1.1767677068710327, 0.6230000257492065]"
            ]
          },
          "metadata": {},
          "execution_count": 23
        }
      ],
      "source": [
        "model.evaluate(x_test,y_test)"
      ]
    },
    {
      "cell_type": "code",
      "execution_count": 24,
      "metadata": {
        "id": "RkgcFNnyLlFw",
        "colab": {
          "base_uri": "https://localhost:8080/"
        },
        "outputId": "8bfd3c99-6dc6-4b97-ce93-322834a01097"
      },
      "outputs": [
        {
          "output_type": "stream",
          "name": "stdout",
          "text": [
            "Epoch 1/100\n",
            "1563/1563 [==============================] - 8s 5ms/step - loss: 0.8480 - accuracy: 0.7140\n",
            "Epoch 2/100\n",
            "1563/1563 [==============================] - 8s 5ms/step - loss: 0.8464 - accuracy: 0.7145\n",
            "Epoch 3/100\n",
            "1563/1563 [==============================] - 8s 5ms/step - loss: 0.8412 - accuracy: 0.7166\n",
            "Epoch 4/100\n",
            "1563/1563 [==============================] - 8s 5ms/step - loss: 0.8423 - accuracy: 0.7142\n",
            "Epoch 5/100\n",
            "1563/1563 [==============================] - 8s 5ms/step - loss: 0.8372 - accuracy: 0.7172\n",
            "Epoch 6/100\n",
            "1563/1563 [==============================] - 8s 5ms/step - loss: 0.8406 - accuracy: 0.7174\n",
            "Epoch 7/100\n",
            "1563/1563 [==============================] - 8s 5ms/step - loss: 0.8343 - accuracy: 0.7167\n",
            "Epoch 8/100\n",
            "1563/1563 [==============================] - 8s 5ms/step - loss: 0.8414 - accuracy: 0.7169\n",
            "Epoch 9/100\n",
            "1563/1563 [==============================] - 8s 5ms/step - loss: 0.8343 - accuracy: 0.7174\n",
            "Epoch 10/100\n",
            "1563/1563 [==============================] - 8s 5ms/step - loss: 0.8346 - accuracy: 0.7168\n",
            "Epoch 11/100\n",
            "1563/1563 [==============================] - 8s 5ms/step - loss: 0.8385 - accuracy: 0.7170\n",
            "Epoch 12/100\n",
            "1563/1563 [==============================] - 8s 5ms/step - loss: 0.8308 - accuracy: 0.7199\n",
            "Epoch 13/100\n",
            "1563/1563 [==============================] - 8s 5ms/step - loss: 0.8264 - accuracy: 0.7215\n",
            "Epoch 14/100\n",
            "1563/1563 [==============================] - 8s 5ms/step - loss: 0.8383 - accuracy: 0.7165\n",
            "Epoch 15/100\n",
            "1563/1563 [==============================] - 8s 5ms/step - loss: 0.8233 - accuracy: 0.7213\n",
            "Epoch 16/100\n",
            "1563/1563 [==============================] - 8s 5ms/step - loss: 0.8311 - accuracy: 0.7163\n",
            "Epoch 17/100\n",
            "1563/1563 [==============================] - 8s 5ms/step - loss: 0.8249 - accuracy: 0.7203\n",
            "Epoch 18/100\n",
            "1563/1563 [==============================] - 8s 5ms/step - loss: 0.8229 - accuracy: 0.7222\n",
            "Epoch 19/100\n",
            "1563/1563 [==============================] - 8s 5ms/step - loss: 0.8292 - accuracy: 0.7198\n",
            "Epoch 20/100\n",
            "1563/1563 [==============================] - 8s 5ms/step - loss: 0.8192 - accuracy: 0.7227\n",
            "Epoch 21/100\n",
            "1563/1563 [==============================] - 8s 5ms/step - loss: 0.8291 - accuracy: 0.7184\n",
            "Epoch 22/100\n",
            "1563/1563 [==============================] - 8s 5ms/step - loss: 0.8260 - accuracy: 0.7219\n",
            "Epoch 23/100\n",
            "1563/1563 [==============================] - 8s 5ms/step - loss: 0.8205 - accuracy: 0.7242\n",
            "Epoch 24/100\n",
            "1563/1563 [==============================] - 8s 5ms/step - loss: 0.8306 - accuracy: 0.7236\n",
            "Epoch 25/100\n",
            "1563/1563 [==============================] - 8s 5ms/step - loss: 0.8261 - accuracy: 0.7216\n",
            "Epoch 26/100\n",
            "1563/1563 [==============================] - 8s 5ms/step - loss: 0.8137 - accuracy: 0.7258\n",
            "Epoch 27/100\n",
            "1563/1563 [==============================] - 8s 5ms/step - loss: 0.8204 - accuracy: 0.7222\n",
            "Epoch 28/100\n",
            "1563/1563 [==============================] - 8s 5ms/step - loss: 0.8184 - accuracy: 0.7237\n",
            "Epoch 29/100\n",
            "1563/1563 [==============================] - 8s 5ms/step - loss: 0.8137 - accuracy: 0.7245\n",
            "Epoch 30/100\n",
            "1563/1563 [==============================] - 8s 5ms/step - loss: 0.8162 - accuracy: 0.7252\n",
            "Epoch 31/100\n",
            "1563/1563 [==============================] - 8s 5ms/step - loss: 0.8178 - accuracy: 0.7239\n",
            "Epoch 32/100\n",
            "1563/1563 [==============================] - 8s 5ms/step - loss: 0.8122 - accuracy: 0.7246\n",
            "Epoch 33/100\n",
            "1563/1563 [==============================] - 8s 5ms/step - loss: 0.8102 - accuracy: 0.7271\n",
            "Epoch 34/100\n",
            "1563/1563 [==============================] - 8s 5ms/step - loss: 0.8087 - accuracy: 0.7263\n",
            "Epoch 35/100\n",
            "1563/1563 [==============================] - 8s 5ms/step - loss: 0.8080 - accuracy: 0.7283\n",
            "Epoch 36/100\n",
            "1563/1563 [==============================] - 8s 5ms/step - loss: 0.8036 - accuracy: 0.7300\n",
            "Epoch 37/100\n",
            "1563/1563 [==============================] - 8s 5ms/step - loss: 0.8048 - accuracy: 0.7285\n",
            "Epoch 38/100\n",
            "1563/1563 [==============================] - 8s 5ms/step - loss: 0.8048 - accuracy: 0.7297\n",
            "Epoch 39/100\n",
            "1563/1563 [==============================] - 8s 5ms/step - loss: 0.8071 - accuracy: 0.7297\n",
            "Epoch 40/100\n",
            "1563/1563 [==============================] - 8s 5ms/step - loss: 0.8079 - accuracy: 0.7266\n",
            "Epoch 41/100\n",
            "1563/1563 [==============================] - 8s 5ms/step - loss: 0.8014 - accuracy: 0.7308\n",
            "Epoch 42/100\n",
            "1563/1563 [==============================] - 8s 5ms/step - loss: 0.8048 - accuracy: 0.7277\n",
            "Epoch 43/100\n",
            "1563/1563 [==============================] - 8s 5ms/step - loss: 0.8017 - accuracy: 0.7307\n",
            "Epoch 44/100\n",
            "1563/1563 [==============================] - 8s 5ms/step - loss: 0.8063 - accuracy: 0.7283\n",
            "Epoch 45/100\n",
            "1563/1563 [==============================] - 8s 5ms/step - loss: 0.8030 - accuracy: 0.7294\n",
            "Epoch 46/100\n",
            "1563/1563 [==============================] - 8s 5ms/step - loss: 0.7989 - accuracy: 0.7294\n",
            "Epoch 47/100\n",
            "1563/1563 [==============================] - 8s 5ms/step - loss: 0.8032 - accuracy: 0.7291\n",
            "Epoch 48/100\n",
            "1563/1563 [==============================] - 8s 5ms/step - loss: 0.7984 - accuracy: 0.7305\n",
            "Epoch 49/100\n",
            "1563/1563 [==============================] - 8s 5ms/step - loss: 0.7968 - accuracy: 0.7304\n",
            "Epoch 50/100\n",
            "1563/1563 [==============================] - 8s 5ms/step - loss: 0.7982 - accuracy: 0.7318\n",
            "Epoch 51/100\n",
            "1563/1563 [==============================] - 8s 5ms/step - loss: 0.7956 - accuracy: 0.7321\n",
            "Epoch 52/100\n",
            "1563/1563 [==============================] - 8s 5ms/step - loss: 0.7934 - accuracy: 0.7328\n",
            "Epoch 53/100\n",
            "1563/1563 [==============================] - 8s 5ms/step - loss: 0.7951 - accuracy: 0.7328\n",
            "Epoch 54/100\n",
            "1563/1563 [==============================] - 8s 5ms/step - loss: 0.7981 - accuracy: 0.7325\n",
            "Epoch 55/100\n",
            "1563/1563 [==============================] - 8s 5ms/step - loss: 0.7956 - accuracy: 0.7330\n",
            "Epoch 56/100\n",
            "1563/1563 [==============================] - 8s 5ms/step - loss: 0.7985 - accuracy: 0.7306\n",
            "Epoch 57/100\n",
            "1563/1563 [==============================] - 8s 5ms/step - loss: 0.8029 - accuracy: 0.7294\n",
            "Epoch 58/100\n",
            "1563/1563 [==============================] - 8s 5ms/step - loss: 0.7851 - accuracy: 0.7339\n",
            "Epoch 59/100\n",
            "1563/1563 [==============================] - 8s 5ms/step - loss: 0.7874 - accuracy: 0.7350\n",
            "Epoch 60/100\n",
            "1563/1563 [==============================] - 8s 5ms/step - loss: 0.7947 - accuracy: 0.7334\n",
            "Epoch 61/100\n",
            "1563/1563 [==============================] - 8s 5ms/step - loss: 0.7919 - accuracy: 0.7318\n",
            "Epoch 62/100\n",
            "1563/1563 [==============================] - 8s 5ms/step - loss: 0.7941 - accuracy: 0.7330\n",
            "Epoch 63/100\n",
            "1563/1563 [==============================] - 8s 5ms/step - loss: 0.7848 - accuracy: 0.7354\n",
            "Epoch 64/100\n",
            "1563/1563 [==============================] - 8s 5ms/step - loss: 0.7884 - accuracy: 0.7354\n",
            "Epoch 65/100\n",
            "1563/1563 [==============================] - 8s 5ms/step - loss: 0.7935 - accuracy: 0.7320\n",
            "Epoch 66/100\n",
            "1563/1563 [==============================] - 8s 5ms/step - loss: 0.7972 - accuracy: 0.7338\n",
            "Epoch 67/100\n",
            "1563/1563 [==============================] - 8s 5ms/step - loss: 0.7921 - accuracy: 0.7328\n",
            "Epoch 68/100\n",
            "1563/1563 [==============================] - 8s 5ms/step - loss: 0.7865 - accuracy: 0.7356\n",
            "Epoch 69/100\n",
            "1563/1563 [==============================] - 8s 5ms/step - loss: 0.7894 - accuracy: 0.7342\n",
            "Epoch 70/100\n",
            "1563/1563 [==============================] - 8s 5ms/step - loss: 0.7799 - accuracy: 0.7370\n",
            "Epoch 71/100\n",
            "1563/1563 [==============================] - 8s 5ms/step - loss: 0.7832 - accuracy: 0.7369\n",
            "Epoch 72/100\n",
            "1563/1563 [==============================] - 8s 5ms/step - loss: 0.7919 - accuracy: 0.7348\n",
            "Epoch 73/100\n",
            "1563/1563 [==============================] - 8s 5ms/step - loss: 0.7810 - accuracy: 0.7381\n",
            "Epoch 74/100\n",
            "1563/1563 [==============================] - 8s 5ms/step - loss: 0.7816 - accuracy: 0.7384\n",
            "Epoch 75/100\n",
            "1563/1563 [==============================] - 8s 5ms/step - loss: 0.7793 - accuracy: 0.7407\n",
            "Epoch 76/100\n",
            "1563/1563 [==============================] - 8s 5ms/step - loss: 0.7770 - accuracy: 0.7349\n",
            "Epoch 77/100\n",
            "1563/1563 [==============================] - 8s 5ms/step - loss: 0.7859 - accuracy: 0.7348\n",
            "Epoch 78/100\n",
            "1563/1563 [==============================] - 8s 5ms/step - loss: 0.7845 - accuracy: 0.7370\n",
            "Epoch 79/100\n",
            "1563/1563 [==============================] - 8s 5ms/step - loss: 0.7770 - accuracy: 0.7389\n",
            "Epoch 80/100\n",
            "1563/1563 [==============================] - 8s 5ms/step - loss: 0.7702 - accuracy: 0.7404\n",
            "Epoch 81/100\n",
            "1563/1563 [==============================] - 8s 5ms/step - loss: 0.7819 - accuracy: 0.7370\n",
            "Epoch 82/100\n",
            "1563/1563 [==============================] - 8s 5ms/step - loss: 0.7829 - accuracy: 0.7376\n",
            "Epoch 83/100\n",
            "1563/1563 [==============================] - 8s 5ms/step - loss: 0.7734 - accuracy: 0.7405\n",
            "Epoch 84/100\n",
            "1563/1563 [==============================] - 8s 5ms/step - loss: 0.7899 - accuracy: 0.7333\n",
            "Epoch 85/100\n",
            "1563/1563 [==============================] - 8s 5ms/step - loss: 0.7801 - accuracy: 0.7394\n",
            "Epoch 86/100\n",
            "1563/1563 [==============================] - 8s 5ms/step - loss: 0.7797 - accuracy: 0.7374\n",
            "Epoch 87/100\n",
            "1563/1563 [==============================] - 8s 5ms/step - loss: 0.7771 - accuracy: 0.7385\n",
            "Epoch 88/100\n",
            "1563/1563 [==============================] - 8s 5ms/step - loss: 0.7713 - accuracy: 0.7415\n",
            "Epoch 89/100\n",
            "1563/1563 [==============================] - 8s 5ms/step - loss: 0.7863 - accuracy: 0.7345\n",
            "Epoch 90/100\n",
            "1563/1563 [==============================] - 8s 5ms/step - loss: 0.7770 - accuracy: 0.7382\n",
            "Epoch 91/100\n",
            "1563/1563 [==============================] - 8s 5ms/step - loss: 0.7781 - accuracy: 0.7391\n",
            "Epoch 92/100\n",
            "1563/1563 [==============================] - 8s 5ms/step - loss: 0.7777 - accuracy: 0.7403\n",
            "Epoch 93/100\n",
            "1563/1563 [==============================] - 8s 5ms/step - loss: 0.7804 - accuracy: 0.7371\n",
            "Epoch 94/100\n",
            "1563/1563 [==============================] - 8s 5ms/step - loss: 0.7673 - accuracy: 0.7421\n",
            "Epoch 95/100\n",
            "1563/1563 [==============================] - 8s 5ms/step - loss: 0.7720 - accuracy: 0.7418\n",
            "Epoch 96/100\n",
            "1563/1563 [==============================] - 8s 5ms/step - loss: 0.7707 - accuracy: 0.7406\n",
            "Epoch 97/100\n",
            "1563/1563 [==============================] - 8s 5ms/step - loss: 0.7764 - accuracy: 0.7386\n",
            "Epoch 98/100\n",
            "1563/1563 [==============================] - 8s 5ms/step - loss: 0.7733 - accuracy: 0.7414\n",
            "Epoch 99/100\n",
            "1563/1563 [==============================] - 8s 5ms/step - loss: 0.7677 - accuracy: 0.7435\n",
            "Epoch 100/100\n",
            "1563/1563 [==============================] - 8s 5ms/step - loss: 0.7690 - accuracy: 0.7409\n"
          ]
        },
        {
          "output_type": "execute_result",
          "data": {
            "text/plain": [
              "<keras.callbacks.History at 0x7f91edf3d410>"
            ]
          },
          "metadata": {},
          "execution_count": 24
        }
      ],
      "source": [
        "model.fit(x_train,y_train, epochs=100)"
      ]
    },
    {
      "cell_type": "code",
      "execution_count": 25,
      "metadata": {
        "id": "F95WovuyLniy",
        "colab": {
          "base_uri": "https://localhost:8080/"
        },
        "outputId": "644af284-81f2-42e7-c02c-207af2e3d9da"
      },
      "outputs": [
        {
          "output_type": "stream",
          "name": "stdout",
          "text": [
            "313/313 [==============================] - 1s 3ms/step - loss: 1.2447 - accuracy: 0.6327\n"
          ]
        },
        {
          "output_type": "execute_result",
          "data": {
            "text/plain": [
              "[1.2447209358215332, 0.6327000260353088]"
            ]
          },
          "metadata": {},
          "execution_count": 25
        }
      ],
      "source": [
        "model.evaluate(x_test,y_test)"
      ]
    },
    {
      "cell_type": "code",
      "execution_count": 25,
      "metadata": {
        "id": "jxsjhydnLq4G"
      },
      "outputs": [],
      "source": [
        ""
      ]
    }
  ],
  "metadata": {
    "accelerator": "GPU",
    "colab": {
      "collapsed_sections": [],
      "name": "cifar10  yogi optimizer.ipynb",
      "provenance": []
    },
    "kernelspec": {
      "display_name": "Python 3",
      "name": "python3"
    },
    "language_info": {
      "name": "python"
    }
  },
  "nbformat": 4,
  "nbformat_minor": 0
}