{
  "nbformat": 4,
  "nbformat_minor": 0,
  "metadata": {
    "colab": {
      "name": "cifar10  Adagrad  optimizer.ipynb",
      "provenance": [],
      "collapsed_sections": []
    },
    "kernelspec": {
      "name": "python3",
      "display_name": "Python 3"
    },
    "language_info": {
      "name": "python"
    },
    "accelerator": "GPU"
  },
  "cells": [
    {
      "cell_type": "code",
      "source": [
        "import tensorflow as tf\n",
        "from tensorflow.keras import datasets , layers ,models\n",
        "import matplotlib.pyplot as plt\n",
        "import numpy as np\n",
        "import pandas as pd\n",
        "import keras"
      ],
      "metadata": {
        "id": "r9mEBdS3bPh6"
      },
      "execution_count": 115,
      "outputs": []
    },
    {
      "cell_type": "code",
      "source": [
        "(x_train,y_train),(x_test,y_test)=datasets.cifar10.load_data()"
      ],
      "metadata": {
        "id": "KARkqeKbbPqa"
      },
      "execution_count": 116,
      "outputs": []
    },
    {
      "cell_type": "code",
      "source": [
        "x_train.shape"
      ],
      "metadata": {
        "colab": {
          "base_uri": "https://localhost:8080/"
        },
        "id": "5O5geXzubP0i",
        "outputId": "b909beb4-5f98-4d46-a7d8-debbdb6c4f6e"
      },
      "execution_count": 117,
      "outputs": [
        {
          "output_type": "execute_result",
          "data": {
            "text/plain": [
              "(50000, 32, 32, 3)"
            ]
          },
          "metadata": {},
          "execution_count": 117
        }
      ]
    },
    {
      "cell_type": "code",
      "source": [
        "x_test.shape"
      ],
      "metadata": {
        "colab": {
          "base_uri": "https://localhost:8080/"
        },
        "id": "13s9Nx6HcMt9",
        "outputId": "3462a874-4b02-4e76-be8b-e5560e842830"
      },
      "execution_count": 118,
      "outputs": [
        {
          "output_type": "execute_result",
          "data": {
            "text/plain": [
              "(10000, 32, 32, 3)"
            ]
          },
          "metadata": {},
          "execution_count": 118
        }
      ]
    },
    {
      "cell_type": "code",
      "source": [
        "plt.imshow(x_train[1])"
      ],
      "metadata": {
        "colab": {
          "base_uri": "https://localhost:8080/",
          "height": 283
        },
        "id": "HxebsSUJcPp8",
        "outputId": "65ae75ac-024e-4af9-d6ea-4b1d34627bc5"
      },
      "execution_count": 119,
      "outputs": [
        {
          "output_type": "execute_result",
          "data": {
            "text/plain": [
              "<matplotlib.image.AxesImage at 0x7f25ce527310>"
            ]
          },
          "metadata": {},
          "execution_count": 119
        },
        {
          "output_type": "display_data",
          "data": {
            "image/png": "[encoded data removed]",
            "text/plain": [
              "<Figure size 432x288 with 1 Axes>"
            ]
          },
          "metadata": {
            "needs_background": "light"
          }
        }
      ]
    },
    {
      "cell_type": "code",
      "source": [
        "classes = [ \"airplane\" , \"automobile\" ,\"bird\", \"cat\", \"deer\", \"dog\" ,\"frog\" ,\"horse\" ,\"ship\" ,\"truck\"]"
      ],
      "metadata": {
        "id": "h4_ibMD4cZbu"
      },
      "execution_count": 120,
      "outputs": []
    },
    {
      "cell_type": "code",
      "source": [
        " y_train.shape"
      ],
      "metadata": {
        "colab": {
          "base_uri": "https://localhost:8080/"
        },
        "id": "jYkE-Hk3gupT",
        "outputId": "bb02599d-41a4-468a-9b98-3ed960290ab8"
      },
      "execution_count": 121,
      "outputs": [
        {
          "output_type": "execute_result",
          "data": {
            "text/plain": [
              "(50000, 1)"
            ]
          },
          "metadata": {},
          "execution_count": 121
        }
      ]
    },
    {
      "cell_type": "code",
      "source": [
        "y_train[:5]"
      ],
      "metadata": {
        "colab": {
          "base_uri": "https://localhost:8080/"
        },
        "id": "jO_tq21_g4pl",
        "outputId": "546ce67e-a63b-40e9-cd2a-391e13f10310"
      },
      "execution_count": 122,
      "outputs": [
        {
          "output_type": "execute_result",
          "data": {
            "text/plain": [
              "array([[6],\n",
              "       [9],\n",
              "       [9],\n",
              "       [4],\n",
              "       [1]], dtype=uint8)"
            ]
          },
          "metadata": {},
          "execution_count": 122
        }
      ]
    },
    {
      "cell_type": "code",
      "source": [
        "y_train=y_train.reshape(-1,)\n",
        "y_train"
      ],
      "metadata": {
        "colab": {
          "base_uri": "https://localhost:8080/"
        },
        "id": "Jlzo-E50g7D6",
        "outputId": "e0d4bb88-1fa0-447a-f76e-5a497be45ce4"
      },
      "execution_count": 123,
      "outputs": [
        {
          "output_type": "execute_result",
          "data": {
            "text/plain": [
              "array([6, 9, 9, ..., 9, 1, 1], dtype=uint8)"
            ]
          },
          "metadata": {},
          "execution_count": 123
        }
      ]
    },
    {
      "cell_type": "code",
      "source": [
        "classes[9]"
      ],
      "metadata": {
        "colab": {
          "base_uri": "https://localhost:8080/",
          "height": 35
        },
        "id": "vPUSMWB4hWi3",
        "outputId": "f9868eeb-3f76-4a34-cb78-3b46b4d83634"
      },
      "execution_count": 124,
      "outputs": [
        {
          "output_type": "execute_result",
          "data": {
            "application/vnd.google.colaboratory.intrinsic+json": {
              "type": "string"
            },
            "text/plain": [
              "'truck'"
            ]
          },
          "metadata": {},
          "execution_count": 124
        }
      ]
    },
    {
      "cell_type": "code",
      "source": [
        "def plot_sample(X,y,index):\n",
        "  plt.figure(figsize=(15,2))\n",
        "  plt.imshow(X[index])\n",
        "  plt.xlabel(classes[y[index]])"
      ],
      "metadata": {
        "id": "R-GDMyu4hdeO"
      },
      "execution_count": 125,
      "outputs": []
    },
    {
      "cell_type": "code",
      "source": [
        "plot_sample(x_train,y_train,1)"
      ],
      "metadata": {
        "colab": {
          "base_uri": "https://localhost:8080/",
          "height": 173
        },
        "id": "56it8GN6h7RB",
        "outputId": "772fd679-c915-4179-eeac-dc36ebdd683e"
      },
      "execution_count": 126,
      "outputs": [
        {
          "output_type": "display_data",
          "data": {
            "image/png": "[encoded data removed]",
            "text/plain": [
              "<Figure size 1080x144 with 1 Axes>"
            ]
          },
          "metadata": {
            "needs_background": "light"
          }
        }
      ]
    },
    {
      "cell_type": "code",
      "source": [
        "x_train =x_train/255\n",
        "x_test = x_test/255\n"
      ],
      "metadata": {
        "id": "qZKRES41iEDo"
      },
      "execution_count": 127,
      "outputs": []
    },
    {
      "cell_type": "code",
      "source": [
        "print(x_train.shape)\n",
        "print(y_train.shape)"
      ],
      "metadata": {
        "colab": {
          "base_uri": "https://localhost:8080/"
        },
        "id": "YE-nv0S7pEg-",
        "outputId": "dfb90190-183b-4fd9-cbd9-a938de5b3aae"
      },
      "execution_count": 128,
      "outputs": [
        {
          "output_type": "stream",
          "name": "stdout",
          "text": [
            "(50000, 32, 32, 3)\n",
            "(50000,)\n"
          ]
        }
      ]
    },
    {
      "cell_type": "code",
      "source": [
        "model = keras.Sequential(\n",
        "    [\n",
        "     layers.Conv2D(filters=64,kernel_size=(3,3), activation ='relu' ,input_shape=(32,32,3)),\n",
        "     layers.MaxPool2D((2,2)),\n",
        "     layers.Conv2D(filters=32,kernel_size=(3,3), activation ='relu'),\n",
        "     layers.MaxPool2D((2,2)),\n",
        "     layers.Conv2D(filters=32,kernel_size=(3,3), activation ='relu'),\n",
        "     layers.MaxPool2D((2,2)),\n",
        "     keras.layers.Flatten(),\n",
        "     keras.layers.Dense(32,activation =\"relu\"),\n",
        "     keras.layers.Dense(10 ,activation =\"softmax\"),\n",
        "     \n",
        "    ]\n",
        ")\n",
        "\n",
        "model.compile(optimizer = \"Adagrad\",\n",
        "               loss=\"sparse_categorical_crossentropy\",\n",
        "               metrics=[\"accuracy\"])\n",
        "model.fit(x_train,y_train, epochs=5)"
      ],
      "metadata": {
        "colab": {
          "base_uri": "https://localhost:8080/"
        },
        "id": "roKuRHDbiPxj",
        "outputId": "2b60d388-095b-49c1-9544-bc98c73f5759"
      },
      "execution_count": 129,
      "outputs": [
        {
          "output_type": "stream",
          "name": "stdout",
          "text": [
            "Epoch 1/5\n",
            "1563/1563 [==============================] - 7s 4ms/step - loss: 2.2828 - accuracy: 0.1657\n",
            "Epoch 2/5\n",
            "1563/1563 [==============================] - 6s 4ms/step - loss: 2.1749 - accuracy: 0.1851\n",
            "Epoch 3/5\n",
            "1563/1563 [==============================] - 6s 4ms/step - loss: 2.0636 - accuracy: 0.2249\n",
            "Epoch 4/5\n",
            "1563/1563 [==============================] - 6s 4ms/step - loss: 2.0105 - accuracy: 0.2496\n",
            "Epoch 5/5\n",
            "1563/1563 [==============================] - 6s 4ms/step - loss: 1.9677 - accuracy: 0.2728\n"
          ]
        },
        {
          "output_type": "execute_result",
          "data": {
            "text/plain": [
              "<keras.callbacks.History at 0x7f25ce4458d0>"
            ]
          },
          "metadata": {},
          "execution_count": 129
        }
      ]
    },
    {
      "cell_type": "code",
      "source": [
        "from sklearn.metrics import confusion_matrix , classification_report\n",
        "import numpy as np \n",
        "y_pred = model.predict(x_test)\n",
        "y_pred_classes = [np.argmax(element) for element in y_pred]\n",
        "print(\"classification report: \\n\" , classification_report(y_test, y_pred_classes))"
      ],
      "metadata": {
        "colab": {
          "base_uri": "https://localhost:8080/"
        },
        "id": "t_Se6bS2lsbN",
        "outputId": "1239cba1-2649-43f4-d304-00b5ca549e11"
      },
      "execution_count": 130,
      "outputs": [
        {
          "output_type": "stream",
          "name": "stdout",
          "text": [
            "classification report: \n",
            "               precision    recall  f1-score   support\n",
            "\n",
            "           0       0.38      0.37      0.38      1000\n",
            "           1       0.34      0.27      0.30      1000\n",
            "           2       0.18      0.02      0.04      1000\n",
            "           3       0.20      0.09      0.13      1000\n",
            "           4       0.30      0.17      0.22      1000\n",
            "           5       0.26      0.39      0.31      1000\n",
            "           6       0.29      0.60      0.39      1000\n",
            "           7       0.24      0.39      0.30      1000\n",
            "           8       0.31      0.42      0.36      1000\n",
            "           9       0.36      0.21      0.26      1000\n",
            "\n",
            "    accuracy                           0.29     10000\n",
            "   macro avg       0.29      0.29      0.27     10000\n",
            "weighted avg       0.29      0.29      0.27     10000\n",
            "\n"
          ]
        }
      ]
    },
    {
      "cell_type": "code",
      "source": [
        "model.evaluate(x_test,y_test)"
      ],
      "metadata": {
        "colab": {
          "base_uri": "https://localhost:8080/"
        },
        "id": "pYBdWVdbqGBp",
        "outputId": "217e959c-1ef2-43ab-d408-8cdfc09c07de"
      },
      "execution_count": 131,
      "outputs": [
        {
          "output_type": "stream",
          "name": "stdout",
          "text": [
            "313/313 [==============================] - 1s 3ms/step - loss: 1.9429 - accuracy: 0.2935\n"
          ]
        },
        {
          "output_type": "execute_result",
          "data": {
            "text/plain": [
              "[1.9429298639297485, 0.29350000619888306]"
            ]
          },
          "metadata": {},
          "execution_count": 131
        }
      ]
    },
    {
      "cell_type": "code",
      "source": [
        "model.fit(x_train,y_train, epochs=10)"
      ],
      "metadata": {
        "colab": {
          "base_uri": "https://localhost:8080/"
        },
        "id": "OfvqBz-0qPOd",
        "outputId": "607271fa-71d0-4755-9dc0-2e59b3271e58"
      },
      "execution_count": 132,
      "outputs": [
        {
          "output_type": "stream",
          "name": "stdout",
          "text": [
            "Epoch 1/10\n",
            "1563/1563 [==============================] - 6s 4ms/step - loss: 1.9250 - accuracy: 0.2951\n",
            "Epoch 2/10\n",
            "1563/1563 [==============================] - 6s 4ms/step - loss: 1.8848 - accuracy: 0.3095\n",
            "Epoch 3/10\n",
            "1563/1563 [==============================] - 6s 4ms/step - loss: 1.8501 - accuracy: 0.3245\n",
            "Epoch 4/10\n",
            "1563/1563 [==============================] - 6s 4ms/step - loss: 1.8216 - accuracy: 0.3342\n",
            "Epoch 5/10\n",
            "1563/1563 [==============================] - 6s 4ms/step - loss: 1.7973 - accuracy: 0.3437\n",
            "Epoch 6/10\n",
            "1563/1563 [==============================] - 6s 4ms/step - loss: 1.7763 - accuracy: 0.3498\n",
            "Epoch 7/10\n",
            "1563/1563 [==============================] - 6s 4ms/step - loss: 1.7582 - accuracy: 0.3566\n",
            "Epoch 8/10\n",
            "1563/1563 [==============================] - 6s 4ms/step - loss: 1.7426 - accuracy: 0.3633\n",
            "Epoch 9/10\n",
            "1563/1563 [==============================] - 6s 4ms/step - loss: 1.7292 - accuracy: 0.3666\n",
            "Epoch 10/10\n",
            "1563/1563 [==============================] - 6s 4ms/step - loss: 1.7167 - accuracy: 0.3697\n"
          ]
        },
        {
          "output_type": "execute_result",
          "data": {
            "text/plain": [
              "<keras.callbacks.History at 0x7f25ce295e50>"
            ]
          },
          "metadata": {},
          "execution_count": 132
        }
      ]
    },
    {
      "cell_type": "code",
      "source": [
        "model.evaluate(x_test,y_test)"
      ],
      "metadata": {
        "colab": {
          "base_uri": "https://localhost:8080/"
        },
        "id": "JjscndYvrLSv",
        "outputId": "d6f671e3-c1ed-420a-a5db-9cb892b45252"
      },
      "execution_count": 133,
      "outputs": [
        {
          "output_type": "stream",
          "name": "stdout",
          "text": [
            "313/313 [==============================] - 1s 3ms/step - loss: 1.7086 - accuracy: 0.3742\n"
          ]
        },
        {
          "output_type": "execute_result",
          "data": {
            "text/plain": [
              "[1.7085870504379272, 0.3741999864578247]"
            ]
          },
          "metadata": {},
          "execution_count": 133
        }
      ]
    },
    {
      "cell_type": "code",
      "source": [
        "model.fit(x_train,y_train, epochs=20)"
      ],
      "metadata": {
        "colab": {
          "base_uri": "https://localhost:8080/"
        },
        "id": "UIJdm7PVrQRb",
        "outputId": "c2d89fda-0c99-42b6-f8d6-4c55d2fbf474"
      },
      "execution_count": 134,
      "outputs": [
        {
          "output_type": "stream",
          "name": "stdout",
          "text": [
            "Epoch 1/20\n",
            "1563/1563 [==============================] - 6s 4ms/step - loss: 1.7059 - accuracy: 0.3754\n",
            "Epoch 2/20\n",
            "1563/1563 [==============================] - 6s 4ms/step - loss: 1.6960 - accuracy: 0.3793\n",
            "Epoch 3/20\n",
            "1563/1563 [==============================] - 6s 4ms/step - loss: 1.6865 - accuracy: 0.3814\n",
            "Epoch 4/20\n",
            "1563/1563 [==============================] - 6s 4ms/step - loss: 1.6779 - accuracy: 0.3855\n",
            "Epoch 5/20\n",
            "1563/1563 [==============================] - 6s 4ms/step - loss: 1.6700 - accuracy: 0.3882\n",
            "Epoch 6/20\n",
            "1563/1563 [==============================] - 6s 4ms/step - loss: 1.6624 - accuracy: 0.3910\n",
            "Epoch 7/20\n",
            "1563/1563 [==============================] - 6s 4ms/step - loss: 1.6552 - accuracy: 0.3943\n",
            "Epoch 8/20\n",
            "1563/1563 [==============================] - 6s 4ms/step - loss: 1.6483 - accuracy: 0.3961\n",
            "Epoch 9/20\n",
            "1563/1563 [==============================] - 6s 4ms/step - loss: 1.6414 - accuracy: 0.3987\n",
            "Epoch 10/20\n",
            "1563/1563 [==============================] - 6s 4ms/step - loss: 1.6352 - accuracy: 0.4013\n",
            "Epoch 11/20\n",
            "1563/1563 [==============================] - 6s 4ms/step - loss: 1.6286 - accuracy: 0.4039\n",
            "Epoch 12/20\n",
            "1563/1563 [==============================] - 6s 4ms/step - loss: 1.6225 - accuracy: 0.4069\n",
            "Epoch 13/20\n",
            "1563/1563 [==============================] - 6s 4ms/step - loss: 1.6165 - accuracy: 0.4095\n",
            "Epoch 14/20\n",
            "1563/1563 [==============================] - 6s 4ms/step - loss: 1.6108 - accuracy: 0.4106\n",
            "Epoch 15/20\n",
            "1563/1563 [==============================] - 6s 4ms/step - loss: 1.6054 - accuracy: 0.4121\n",
            "Epoch 16/20\n",
            "1563/1563 [==============================] - 6s 4ms/step - loss: 1.6000 - accuracy: 0.4142\n",
            "Epoch 17/20\n",
            "1563/1563 [==============================] - 6s 4ms/step - loss: 1.5947 - accuracy: 0.4168\n",
            "Epoch 18/20\n",
            "1563/1563 [==============================] - 6s 4ms/step - loss: 1.5898 - accuracy: 0.4185\n",
            "Epoch 19/20\n",
            "1563/1563 [==============================] - 6s 4ms/step - loss: 1.5850 - accuracy: 0.4217\n",
            "Epoch 20/20\n",
            "1563/1563 [==============================] - 6s 4ms/step - loss: 1.5802 - accuracy: 0.4231\n"
          ]
        },
        {
          "output_type": "execute_result",
          "data": {
            "text/plain": [
              "<keras.callbacks.History at 0x7f25ce295b90>"
            ]
          },
          "metadata": {},
          "execution_count": 134
        }
      ]
    },
    {
      "cell_type": "code",
      "source": [
        "model.evaluate(x_test,y_test)"
      ],
      "metadata": {
        "colab": {
          "base_uri": "https://localhost:8080/"
        },
        "id": "DvQj8IbfrUMW",
        "outputId": "2aa89603-c162-46dd-ba8c-ba8b1ffed6aa"
      },
      "execution_count": 135,
      "outputs": [
        {
          "output_type": "stream",
          "name": "stdout",
          "text": [
            "313/313 [==============================] - 1s 3ms/step - loss: 1.5815 - accuracy: 0.4210\n"
          ]
        },
        {
          "output_type": "execute_result",
          "data": {
            "text/plain": [
              "[1.5814584493637085, 0.42100000381469727]"
            ]
          },
          "metadata": {},
          "execution_count": 135
        }
      ]
    },
    {
      "cell_type": "code",
      "source": [
        "model.fit(x_train,y_train, epochs=50)"
      ],
      "metadata": {
        "colab": {
          "base_uri": "https://localhost:8080/"
        },
        "id": "x-wKGPgwrYpb",
        "outputId": "cc834953-ef56-494f-a15e-2837807653b7"
      },
      "execution_count": 136,
      "outputs": [
        {
          "output_type": "stream",
          "name": "stdout",
          "text": [
            "Epoch 1/50\n",
            "1563/1563 [==============================] - 6s 4ms/step - loss: 1.5757 - accuracy: 0.4239\n",
            "Epoch 2/50\n",
            "1563/1563 [==============================] - 6s 4ms/step - loss: 1.5715 - accuracy: 0.4255\n",
            "Epoch 3/50\n",
            "1563/1563 [==============================] - 6s 4ms/step - loss: 1.5670 - accuracy: 0.4282\n",
            "Epoch 4/50\n",
            "1563/1563 [==============================] - 6s 4ms/step - loss: 1.5630 - accuracy: 0.4283\n",
            "Epoch 5/50\n",
            "1563/1563 [==============================] - 6s 4ms/step - loss: 1.5590 - accuracy: 0.4298\n",
            "Epoch 6/50\n",
            "1563/1563 [==============================] - 6s 4ms/step - loss: 1.5554 - accuracy: 0.4324\n",
            "Epoch 7/50\n",
            "1563/1563 [==============================] - 6s 4ms/step - loss: 1.5516 - accuracy: 0.4330\n",
            "Epoch 8/50\n",
            "1563/1563 [==============================] - 6s 4ms/step - loss: 1.5478 - accuracy: 0.4343\n",
            "Epoch 9/50\n",
            "1563/1563 [==============================] - 6s 4ms/step - loss: 1.5444 - accuracy: 0.4368\n",
            "Epoch 10/50\n",
            "1563/1563 [==============================] - 6s 4ms/step - loss: 1.5410 - accuracy: 0.4376\n",
            "Epoch 11/50\n",
            "1563/1563 [==============================] - 6s 4ms/step - loss: 1.5378 - accuracy: 0.4383\n",
            "Epoch 12/50\n",
            "1563/1563 [==============================] - 6s 4ms/step - loss: 1.5347 - accuracy: 0.4390\n",
            "Epoch 13/50\n",
            "1563/1563 [==============================] - 6s 4ms/step - loss: 1.5315 - accuracy: 0.4412\n",
            "Epoch 14/50\n",
            "1563/1563 [==============================] - 6s 4ms/step - loss: 1.5281 - accuracy: 0.4424\n",
            "Epoch 15/50\n",
            "1563/1563 [==============================] - 6s 4ms/step - loss: 1.5255 - accuracy: 0.4437\n",
            "Epoch 16/50\n",
            "1563/1563 [==============================] - 6s 4ms/step - loss: 1.5227 - accuracy: 0.4443\n",
            "Epoch 17/50\n",
            "1563/1563 [==============================] - 6s 4ms/step - loss: 1.5199 - accuracy: 0.4461\n",
            "Epoch 18/50\n",
            "1563/1563 [==============================] - 6s 4ms/step - loss: 1.5171 - accuracy: 0.4470\n",
            "Epoch 19/50\n",
            "1563/1563 [==============================] - 6s 4ms/step - loss: 1.5145 - accuracy: 0.4472\n",
            "Epoch 20/50\n",
            "1563/1563 [==============================] - 6s 4ms/step - loss: 1.5119 - accuracy: 0.4479\n",
            "Epoch 21/50\n",
            "1563/1563 [==============================] - 6s 4ms/step - loss: 1.5095 - accuracy: 0.4492\n",
            "Epoch 22/50\n",
            "1563/1563 [==============================] - 6s 4ms/step - loss: 1.5072 - accuracy: 0.4505\n",
            "Epoch 23/50\n",
            "1563/1563 [==============================] - 6s 4ms/step - loss: 1.5049 - accuracy: 0.4510\n",
            "Epoch 24/50\n",
            "1563/1563 [==============================] - 6s 4ms/step - loss: 1.5025 - accuracy: 0.4511\n",
            "Epoch 25/50\n",
            "1563/1563 [==============================] - 6s 4ms/step - loss: 1.5003 - accuracy: 0.4521\n",
            "Epoch 26/50\n",
            "1563/1563 [==============================] - 6s 4ms/step - loss: 1.4979 - accuracy: 0.4534\n",
            "Epoch 27/50\n",
            "1563/1563 [==============================] - 6s 4ms/step - loss: 1.4959 - accuracy: 0.4532\n",
            "Epoch 28/50\n",
            "1563/1563 [==============================] - 6s 4ms/step - loss: 1.4938 - accuracy: 0.4553\n",
            "Epoch 29/50\n",
            "1563/1563 [==============================] - 6s 4ms/step - loss: 1.4917 - accuracy: 0.4549\n",
            "Epoch 30/50\n",
            "1563/1563 [==============================] - 6s 4ms/step - loss: 1.4895 - accuracy: 0.4558\n",
            "Epoch 31/50\n",
            "1563/1563 [==============================] - 6s 4ms/step - loss: 1.4875 - accuracy: 0.4562\n",
            "Epoch 32/50\n",
            "1563/1563 [==============================] - 6s 4ms/step - loss: 1.4854 - accuracy: 0.4574\n",
            "Epoch 33/50\n",
            "1563/1563 [==============================] - 6s 4ms/step - loss: 1.4836 - accuracy: 0.4578\n",
            "Epoch 34/50\n",
            "1563/1563 [==============================] - 6s 4ms/step - loss: 1.4816 - accuracy: 0.4579\n",
            "Epoch 35/50\n",
            "1563/1563 [==============================] - 6s 4ms/step - loss: 1.4800 - accuracy: 0.4583\n",
            "Epoch 36/50\n",
            "1563/1563 [==============================] - 6s 4ms/step - loss: 1.4781 - accuracy: 0.4593\n",
            "Epoch 37/50\n",
            "1563/1563 [==============================] - 6s 4ms/step - loss: 1.4762 - accuracy: 0.4607\n",
            "Epoch 38/50\n",
            "1563/1563 [==============================] - 6s 4ms/step - loss: 1.4742 - accuracy: 0.4615\n",
            "Epoch 39/50\n",
            "1563/1563 [==============================] - 6s 4ms/step - loss: 1.4727 - accuracy: 0.4616\n",
            "Epoch 40/50\n",
            "1563/1563 [==============================] - 6s 4ms/step - loss: 1.4709 - accuracy: 0.4611\n",
            "Epoch 41/50\n",
            "1563/1563 [==============================] - 6s 4ms/step - loss: 1.4692 - accuracy: 0.4632\n",
            "Epoch 42/50\n",
            "1563/1563 [==============================] - 6s 4ms/step - loss: 1.4676 - accuracy: 0.4639\n",
            "Epoch 43/50\n",
            "1563/1563 [==============================] - 6s 4ms/step - loss: 1.4659 - accuracy: 0.4646\n",
            "Epoch 44/50\n",
            "1563/1563 [==============================] - 6s 4ms/step - loss: 1.4640 - accuracy: 0.4654\n",
            "Epoch 45/50\n",
            "1563/1563 [==============================] - 6s 4ms/step - loss: 1.4627 - accuracy: 0.4666\n",
            "Epoch 46/50\n",
            "1563/1563 [==============================] - 6s 4ms/step - loss: 1.4610 - accuracy: 0.4669\n",
            "Epoch 47/50\n",
            "1563/1563 [==============================] - 6s 4ms/step - loss: 1.4594 - accuracy: 0.4674\n",
            "Epoch 48/50\n",
            "1563/1563 [==============================] - 6s 4ms/step - loss: 1.4579 - accuracy: 0.4685\n",
            "Epoch 49/50\n",
            "1563/1563 [==============================] - 6s 4ms/step - loss: 1.4563 - accuracy: 0.4695\n",
            "Epoch 50/50\n",
            "1563/1563 [==============================] - 6s 4ms/step - loss: 1.4547 - accuracy: 0.4693\n"
          ]
        },
        {
          "output_type": "execute_result",
          "data": {
            "text/plain": [
              "<keras.callbacks.History at 0x7f25ce2474d0>"
            ]
          },
          "metadata": {},
          "execution_count": 136
        }
      ]
    },
    {
      "cell_type": "code",
      "source": [
        "model.evaluate(x_test,y_test)"
      ],
      "metadata": {
        "colab": {
          "base_uri": "https://localhost:8080/"
        },
        "id": "NNDsDSesriGs",
        "outputId": "5071aa48-a3d7-4433-8e64-d43aad5f9b50"
      },
      "execution_count": 137,
      "outputs": [
        {
          "output_type": "stream",
          "name": "stdout",
          "text": [
            "313/313 [==============================] - 1s 3ms/step - loss: 1.4652 - accuracy: 0.4663\n"
          ]
        },
        {
          "output_type": "execute_result",
          "data": {
            "text/plain": [
              "[1.4652221202850342, 0.46630001068115234]"
            ]
          },
          "metadata": {},
          "execution_count": 137
        }
      ]
    },
    {
      "cell_type": "code",
      "source": [
        "model.fit(x_train,y_train, epochs=70)"
      ],
      "metadata": {
        "colab": {
          "base_uri": "https://localhost:8080/"
        },
        "id": "yYAC5gvSrkB2",
        "outputId": "471e5e30-8de6-4200-bc3d-86c7f1eaaee3"
      },
      "execution_count": 138,
      "outputs": [
        {
          "output_type": "stream",
          "name": "stdout",
          "text": [
            "Epoch 1/70\n",
            "1563/1563 [==============================] - 6s 4ms/step - loss: 1.4531 - accuracy: 0.4705\n",
            "Epoch 2/70\n",
            "1563/1563 [==============================] - 6s 4ms/step - loss: 1.4518 - accuracy: 0.4708\n",
            "Epoch 3/70\n",
            "1563/1563 [==============================] - 6s 4ms/step - loss: 1.4503 - accuracy: 0.4716\n",
            "Epoch 4/70\n",
            "1563/1563 [==============================] - 6s 4ms/step - loss: 1.4489 - accuracy: 0.4718\n",
            "Epoch 5/70\n",
            "1563/1563 [==============================] - 6s 4ms/step - loss: 1.4473 - accuracy: 0.4733\n",
            "Epoch 6/70\n",
            "1563/1563 [==============================] - 6s 4ms/step - loss: 1.4460 - accuracy: 0.4736\n",
            "Epoch 7/70\n",
            "1563/1563 [==============================] - 6s 4ms/step - loss: 1.4444 - accuracy: 0.4741\n",
            "Epoch 8/70\n",
            "1563/1563 [==============================] - 6s 4ms/step - loss: 1.4432 - accuracy: 0.4748\n",
            "Epoch 9/70\n",
            "1563/1563 [==============================] - 6s 4ms/step - loss: 1.4416 - accuracy: 0.4745\n",
            "Epoch 10/70\n",
            "1563/1563 [==============================] - 6s 4ms/step - loss: 1.4402 - accuracy: 0.4752\n",
            "Epoch 11/70\n",
            "1563/1563 [==============================] - 6s 4ms/step - loss: 1.4388 - accuracy: 0.4763\n",
            "Epoch 12/70\n",
            "1563/1563 [==============================] - 6s 4ms/step - loss: 1.4374 - accuracy: 0.4760\n",
            "Epoch 13/70\n",
            "1563/1563 [==============================] - 6s 4ms/step - loss: 1.4361 - accuracy: 0.4758\n",
            "Epoch 14/70\n",
            "1563/1563 [==============================] - 6s 4ms/step - loss: 1.4348 - accuracy: 0.4778\n",
            "Epoch 15/70\n",
            "1563/1563 [==============================] - 6s 4ms/step - loss: 1.4334 - accuracy: 0.4782\n",
            "Epoch 16/70\n",
            "1563/1563 [==============================] - 6s 4ms/step - loss: 1.4319 - accuracy: 0.4791\n",
            "Epoch 17/70\n",
            "1563/1563 [==============================] - 6s 4ms/step - loss: 1.4308 - accuracy: 0.4784\n",
            "Epoch 18/70\n",
            "1563/1563 [==============================] - 6s 4ms/step - loss: 1.4294 - accuracy: 0.4789\n",
            "Epoch 19/70\n",
            "1563/1563 [==============================] - 6s 4ms/step - loss: 1.4282 - accuracy: 0.4808\n",
            "Epoch 20/70\n",
            "1563/1563 [==============================] - 6s 4ms/step - loss: 1.4266 - accuracy: 0.4808\n",
            "Epoch 21/70\n",
            "1563/1563 [==============================] - 6s 4ms/step - loss: 1.4256 - accuracy: 0.4812\n",
            "Epoch 22/70\n",
            "1563/1563 [==============================] - 6s 4ms/step - loss: 1.4242 - accuracy: 0.4816\n",
            "Epoch 23/70\n",
            "1563/1563 [==============================] - 6s 4ms/step - loss: 1.4231 - accuracy: 0.4824\n",
            "Epoch 24/70\n",
            "1563/1563 [==============================] - 6s 4ms/step - loss: 1.4217 - accuracy: 0.4829\n",
            "Epoch 25/70\n",
            "1563/1563 [==============================] - 6s 4ms/step - loss: 1.4205 - accuracy: 0.4834\n",
            "Epoch 26/70\n",
            "1563/1563 [==============================] - 6s 4ms/step - loss: 1.4192 - accuracy: 0.4836\n",
            "Epoch 27/70\n",
            "1563/1563 [==============================] - 6s 4ms/step - loss: 1.4182 - accuracy: 0.4850\n",
            "Epoch 28/70\n",
            "1563/1563 [==============================] - 6s 4ms/step - loss: 1.4168 - accuracy: 0.4854\n",
            "Epoch 29/70\n",
            "1563/1563 [==============================] - 6s 4ms/step - loss: 1.4156 - accuracy: 0.4848\n",
            "Epoch 30/70\n",
            "1563/1563 [==============================] - 6s 4ms/step - loss: 1.4144 - accuracy: 0.4859\n",
            "Epoch 31/70\n",
            "1563/1563 [==============================] - 6s 4ms/step - loss: 1.4131 - accuracy: 0.4860\n",
            "Epoch 32/70\n",
            "1563/1563 [==============================] - 6s 4ms/step - loss: 1.4121 - accuracy: 0.4864\n",
            "Epoch 33/70\n",
            "1563/1563 [==============================] - 6s 4ms/step - loss: 1.4109 - accuracy: 0.4878\n",
            "Epoch 34/70\n",
            "1563/1563 [==============================] - 6s 4ms/step - loss: 1.4097 - accuracy: 0.4883\n",
            "Epoch 35/70\n",
            "1563/1563 [==============================] - 6s 4ms/step - loss: 1.4085 - accuracy: 0.4887\n",
            "Epoch 36/70\n",
            "1563/1563 [==============================] - 6s 4ms/step - loss: 1.4073 - accuracy: 0.4890\n",
            "Epoch 37/70\n",
            "1563/1563 [==============================] - 6s 4ms/step - loss: 1.4061 - accuracy: 0.4896\n",
            "Epoch 38/70\n",
            "1563/1563 [==============================] - 6s 4ms/step - loss: 1.4049 - accuracy: 0.4906\n",
            "Epoch 39/70\n",
            "1563/1563 [==============================] - 6s 4ms/step - loss: 1.4038 - accuracy: 0.4906\n",
            "Epoch 40/70\n",
            "1563/1563 [==============================] - 6s 4ms/step - loss: 1.4026 - accuracy: 0.4909\n",
            "Epoch 41/70\n",
            "1563/1563 [==============================] - 6s 4ms/step - loss: 1.4015 - accuracy: 0.4913\n",
            "Epoch 42/70\n",
            "1563/1563 [==============================] - 6s 4ms/step - loss: 1.4005 - accuracy: 0.4915\n",
            "Epoch 43/70\n",
            "1563/1563 [==============================] - 6s 4ms/step - loss: 1.3992 - accuracy: 0.4922\n",
            "Epoch 44/70\n",
            "1563/1563 [==============================] - 6s 4ms/step - loss: 1.3980 - accuracy: 0.4926\n",
            "Epoch 45/70\n",
            "1563/1563 [==============================] - 6s 4ms/step - loss: 1.3970 - accuracy: 0.4931\n",
            "Epoch 46/70\n",
            "1563/1563 [==============================] - 6s 4ms/step - loss: 1.3960 - accuracy: 0.4928\n",
            "Epoch 47/70\n",
            "1563/1563 [==============================] - 6s 4ms/step - loss: 1.3951 - accuracy: 0.4936\n",
            "Epoch 48/70\n",
            "1563/1563 [==============================] - 6s 4ms/step - loss: 1.3938 - accuracy: 0.4937\n",
            "Epoch 49/70\n",
            "1563/1563 [==============================] - 6s 4ms/step - loss: 1.3927 - accuracy: 0.4942\n",
            "Epoch 50/70\n",
            "1563/1563 [==============================] - 6s 4ms/step - loss: 1.3917 - accuracy: 0.4947\n",
            "Epoch 51/70\n",
            "1563/1563 [==============================] - 6s 4ms/step - loss: 1.3906 - accuracy: 0.4964\n",
            "Epoch 52/70\n",
            "1563/1563 [==============================] - 6s 4ms/step - loss: 1.3897 - accuracy: 0.4961\n",
            "Epoch 53/70\n",
            "1563/1563 [==============================] - 6s 4ms/step - loss: 1.3885 - accuracy: 0.4970\n",
            "Epoch 54/70\n",
            "1563/1563 [==============================] - 6s 4ms/step - loss: 1.3877 - accuracy: 0.4970\n",
            "Epoch 55/70\n",
            "1563/1563 [==============================] - 6s 4ms/step - loss: 1.3865 - accuracy: 0.4970\n",
            "Epoch 56/70\n",
            "1563/1563 [==============================] - 6s 4ms/step - loss: 1.3856 - accuracy: 0.4979\n",
            "Epoch 57/70\n",
            "1563/1563 [==============================] - 6s 4ms/step - loss: 1.3847 - accuracy: 0.4982\n",
            "Epoch 58/70\n",
            "1563/1563 [==============================] - 6s 4ms/step - loss: 1.3834 - accuracy: 0.4978\n",
            "Epoch 59/70\n",
            "1563/1563 [==============================] - 6s 4ms/step - loss: 1.3826 - accuracy: 0.4994\n",
            "Epoch 60/70\n",
            "1563/1563 [==============================] - 6s 4ms/step - loss: 1.3818 - accuracy: 0.4992\n",
            "Epoch 61/70\n",
            "1563/1563 [==============================] - 6s 4ms/step - loss: 1.3809 - accuracy: 0.4994\n",
            "Epoch 62/70\n",
            "1563/1563 [==============================] - 6s 4ms/step - loss: 1.3798 - accuracy: 0.5010\n",
            "Epoch 63/70\n",
            "1563/1563 [==============================] - 6s 4ms/step - loss: 1.3789 - accuracy: 0.5000\n",
            "Epoch 64/70\n",
            "1563/1563 [==============================] - 6s 4ms/step - loss: 1.3780 - accuracy: 0.5011\n",
            "Epoch 65/70\n",
            "1563/1563 [==============================] - 6s 4ms/step - loss: 1.3769 - accuracy: 0.5005\n",
            "Epoch 66/70\n",
            "1563/1563 [==============================] - 6s 4ms/step - loss: 1.3759 - accuracy: 0.5019\n",
            "Epoch 67/70\n",
            "1563/1563 [==============================] - 6s 4ms/step - loss: 1.3751 - accuracy: 0.5022\n",
            "Epoch 68/70\n",
            "1563/1563 [==============================] - 6s 4ms/step - loss: 1.3742 - accuracy: 0.5024\n",
            "Epoch 69/70\n",
            "1563/1563 [==============================] - 6s 4ms/step - loss: 1.3732 - accuracy: 0.5035\n",
            "Epoch 70/70\n",
            "1563/1563 [==============================] - 6s 4ms/step - loss: 1.3723 - accuracy: 0.5039\n"
          ]
        },
        {
          "output_type": "execute_result",
          "data": {
            "text/plain": [
              "<keras.callbacks.History at 0x7f25ce22b290>"
            ]
          },
          "metadata": {},
          "execution_count": 138
        }
      ]
    },
    {
      "cell_type": "code",
      "source": [
        "model.evaluate(x_test,y_test)"
      ],
      "metadata": {
        "colab": {
          "base_uri": "https://localhost:8080/"
        },
        "id": "ZsC2xU6ur0PU",
        "outputId": "e65bb8c7-28e2-4f76-b6f0-c7cae37cf243"
      },
      "execution_count": 139,
      "outputs": [
        {
          "output_type": "stream",
          "name": "stdout",
          "text": [
            "313/313 [==============================] - 1s 3ms/step - loss: 1.3900 - accuracy: 0.4947\n"
          ]
        },
        {
          "output_type": "execute_result",
          "data": {
            "text/plain": [
              "[1.3899520635604858, 0.49470001459121704]"
            ]
          },
          "metadata": {},
          "execution_count": 139
        }
      ]
    },
    {
      "cell_type": "code",
      "source": [
        "model.fit(x_train,y_train, epochs=100)"
      ],
      "metadata": {
        "colab": {
          "base_uri": "https://localhost:8080/"
        },
        "id": "FyJo8TXxxsMt",
        "outputId": "40eb14d0-4467-482f-8076-c5af823341a4"
      },
      "execution_count": 140,
      "outputs": [
        {
          "output_type": "stream",
          "name": "stdout",
          "text": [
            "Epoch 1/100\n",
            "1563/1563 [==============================] - 6s 4ms/step - loss: 1.3714 - accuracy: 0.5045\n",
            "Epoch 2/100\n",
            "1563/1563 [==============================] - 6s 4ms/step - loss: 1.3706 - accuracy: 0.5038\n",
            "Epoch 3/100\n",
            "1563/1563 [==============================] - 6s 4ms/step - loss: 1.3697 - accuracy: 0.5055\n",
            "Epoch 4/100\n",
            "1563/1563 [==============================] - 6s 4ms/step - loss: 1.3688 - accuracy: 0.5052\n",
            "Epoch 5/100\n",
            "1563/1563 [==============================] - 6s 4ms/step - loss: 1.3678 - accuracy: 0.5050\n",
            "Epoch 6/100\n",
            "1563/1563 [==============================] - 6s 4ms/step - loss: 1.3670 - accuracy: 0.5055\n",
            "Epoch 7/100\n",
            "1563/1563 [==============================] - 6s 4ms/step - loss: 1.3660 - accuracy: 0.5065\n",
            "Epoch 8/100\n",
            "1563/1563 [==============================] - 6s 4ms/step - loss: 1.3653 - accuracy: 0.5064\n",
            "Epoch 9/100\n",
            "1563/1563 [==============================] - 6s 4ms/step - loss: 1.3644 - accuracy: 0.5075\n",
            "Epoch 10/100\n",
            "1563/1563 [==============================] - 6s 4ms/step - loss: 1.3637 - accuracy: 0.5077\n",
            "Epoch 11/100\n",
            "1563/1563 [==============================] - 6s 4ms/step - loss: 1.3627 - accuracy: 0.5083\n",
            "Epoch 12/100\n",
            "1563/1563 [==============================] - 6s 4ms/step - loss: 1.3617 - accuracy: 0.5087\n",
            "Epoch 13/100\n",
            "1563/1563 [==============================] - 6s 4ms/step - loss: 1.3610 - accuracy: 0.5089\n",
            "Epoch 14/100\n",
            "1563/1563 [==============================] - 6s 4ms/step - loss: 1.3601 - accuracy: 0.5093\n",
            "Epoch 15/100\n",
            "1563/1563 [==============================] - 6s 4ms/step - loss: 1.3594 - accuracy: 0.5088\n",
            "Epoch 16/100\n",
            "1563/1563 [==============================] - 6s 4ms/step - loss: 1.3586 - accuracy: 0.5094\n",
            "Epoch 17/100\n",
            "1563/1563 [==============================] - 6s 4ms/step - loss: 1.3577 - accuracy: 0.5093\n",
            "Epoch 18/100\n",
            "1563/1563 [==============================] - 6s 4ms/step - loss: 1.3568 - accuracy: 0.5097\n",
            "Epoch 19/100\n",
            "1563/1563 [==============================] - 6s 4ms/step - loss: 1.3561 - accuracy: 0.5105\n",
            "Epoch 20/100\n",
            "1563/1563 [==============================] - 6s 4ms/step - loss: 1.3554 - accuracy: 0.5105\n",
            "Epoch 21/100\n",
            "1563/1563 [==============================] - 6s 4ms/step - loss: 1.3546 - accuracy: 0.5115\n",
            "Epoch 22/100\n",
            "1563/1563 [==============================] - 6s 4ms/step - loss: 1.3537 - accuracy: 0.5111\n",
            "Epoch 23/100\n",
            "1563/1563 [==============================] - 6s 4ms/step - loss: 1.3529 - accuracy: 0.5120\n",
            "Epoch 24/100\n",
            "1563/1563 [==============================] - 6s 4ms/step - loss: 1.3522 - accuracy: 0.5119\n",
            "Epoch 25/100\n",
            "1563/1563 [==============================] - 6s 4ms/step - loss: 1.3514 - accuracy: 0.5126\n",
            "Epoch 26/100\n",
            "1563/1563 [==============================] - 6s 4ms/step - loss: 1.3506 - accuracy: 0.5125\n",
            "Epoch 27/100\n",
            "1563/1563 [==============================] - 6s 4ms/step - loss: 1.3499 - accuracy: 0.5131\n",
            "Epoch 28/100\n",
            "1563/1563 [==============================] - 6s 4ms/step - loss: 1.3491 - accuracy: 0.5138\n",
            "Epoch 29/100\n",
            "1563/1563 [==============================] - 6s 4ms/step - loss: 1.3483 - accuracy: 0.5137\n",
            "Epoch 30/100\n",
            "1563/1563 [==============================] - 6s 4ms/step - loss: 1.3477 - accuracy: 0.5146\n",
            "Epoch 31/100\n",
            "1563/1563 [==============================] - 6s 4ms/step - loss: 1.3469 - accuracy: 0.5143\n",
            "Epoch 32/100\n",
            "1563/1563 [==============================] - 6s 4ms/step - loss: 1.3461 - accuracy: 0.5144\n",
            "Epoch 33/100\n",
            "1563/1563 [==============================] - 6s 4ms/step - loss: 1.3454 - accuracy: 0.5145\n",
            "Epoch 34/100\n",
            "1563/1563 [==============================] - 6s 4ms/step - loss: 1.3447 - accuracy: 0.5148\n",
            "Epoch 35/100\n",
            "1563/1563 [==============================] - 6s 4ms/step - loss: 1.3441 - accuracy: 0.5152\n",
            "Epoch 36/100\n",
            "1563/1563 [==============================] - 6s 4ms/step - loss: 1.3432 - accuracy: 0.5152\n",
            "Epoch 37/100\n",
            "1563/1563 [==============================] - 6s 4ms/step - loss: 1.3425 - accuracy: 0.5156\n",
            "Epoch 38/100\n",
            "1563/1563 [==============================] - 6s 4ms/step - loss: 1.3418 - accuracy: 0.5165\n",
            "Epoch 39/100\n",
            "1563/1563 [==============================] - 6s 4ms/step - loss: 1.3412 - accuracy: 0.5158\n",
            "Epoch 40/100\n",
            "1563/1563 [==============================] - 6s 4ms/step - loss: 1.3405 - accuracy: 0.5160\n",
            "Epoch 41/100\n",
            "1563/1563 [==============================] - 6s 4ms/step - loss: 1.3399 - accuracy: 0.5172\n",
            "Epoch 42/100\n",
            "1563/1563 [==============================] - 6s 4ms/step - loss: 1.3392 - accuracy: 0.5172\n",
            "Epoch 43/100\n",
            "1563/1563 [==============================] - 6s 4ms/step - loss: 1.3384 - accuracy: 0.5168\n",
            "Epoch 44/100\n",
            "1563/1563 [==============================] - 6s 4ms/step - loss: 1.3378 - accuracy: 0.5186\n",
            "Epoch 45/100\n",
            "1563/1563 [==============================] - 6s 4ms/step - loss: 1.3371 - accuracy: 0.5181\n",
            "Epoch 46/100\n",
            "1563/1563 [==============================] - 6s 4ms/step - loss: 1.3364 - accuracy: 0.5180\n",
            "Epoch 47/100\n",
            "1563/1563 [==============================] - 6s 4ms/step - loss: 1.3358 - accuracy: 0.5187\n",
            "Epoch 48/100\n",
            "1563/1563 [==============================] - 6s 4ms/step - loss: 1.3352 - accuracy: 0.5194\n",
            "Epoch 49/100\n",
            "1563/1563 [==============================] - 6s 4ms/step - loss: 1.3345 - accuracy: 0.5185\n",
            "Epoch 50/100\n",
            "1563/1563 [==============================] - 6s 4ms/step - loss: 1.3338 - accuracy: 0.5192\n",
            "Epoch 51/100\n",
            "1563/1563 [==============================] - 6s 4ms/step - loss: 1.3332 - accuracy: 0.5195\n",
            "Epoch 52/100\n",
            "1563/1563 [==============================] - 6s 4ms/step - loss: 1.3324 - accuracy: 0.5202\n",
            "Epoch 53/100\n",
            "1563/1563 [==============================] - 6s 4ms/step - loss: 1.3319 - accuracy: 0.5203\n",
            "Epoch 54/100\n",
            "1563/1563 [==============================] - 6s 4ms/step - loss: 1.3312 - accuracy: 0.5202\n",
            "Epoch 55/100\n",
            "1563/1563 [==============================] - 6s 4ms/step - loss: 1.3305 - accuracy: 0.5202\n",
            "Epoch 56/100\n",
            "1563/1563 [==============================] - 6s 4ms/step - loss: 1.3300 - accuracy: 0.5209\n",
            "Epoch 57/100\n",
            "1563/1563 [==============================] - 6s 4ms/step - loss: 1.3292 - accuracy: 0.5211\n",
            "Epoch 58/100\n",
            "1563/1563 [==============================] - 6s 4ms/step - loss: 1.3286 - accuracy: 0.5219\n",
            "Epoch 59/100\n",
            "1563/1563 [==============================] - 6s 4ms/step - loss: 1.3279 - accuracy: 0.5219\n",
            "Epoch 60/100\n",
            "1563/1563 [==============================] - 6s 4ms/step - loss: 1.3273 - accuracy: 0.5216\n",
            "Epoch 61/100\n",
            "1563/1563 [==============================] - 6s 4ms/step - loss: 1.3266 - accuracy: 0.5223\n",
            "Epoch 62/100\n",
            "1563/1563 [==============================] - 6s 4ms/step - loss: 1.3259 - accuracy: 0.5227\n",
            "Epoch 63/100\n",
            "1563/1563 [==============================] - 6s 4ms/step - loss: 1.3255 - accuracy: 0.5225\n",
            "Epoch 64/100\n",
            "1563/1563 [==============================] - 6s 4ms/step - loss: 1.3248 - accuracy: 0.5222\n",
            "Epoch 65/100\n",
            "1563/1563 [==============================] - 6s 4ms/step - loss: 1.3241 - accuracy: 0.5233\n",
            "Epoch 66/100\n",
            "1563/1563 [==============================] - 6s 4ms/step - loss: 1.3234 - accuracy: 0.5236\n",
            "Epoch 67/100\n",
            "1563/1563 [==============================] - 6s 4ms/step - loss: 1.3228 - accuracy: 0.5238\n",
            "Epoch 68/100\n",
            "1563/1563 [==============================] - 6s 4ms/step - loss: 1.3222 - accuracy: 0.5237\n",
            "Epoch 69/100\n",
            "1563/1563 [==============================] - 6s 4ms/step - loss: 1.3215 - accuracy: 0.5244\n",
            "Epoch 70/100\n",
            "1563/1563 [==============================] - 6s 4ms/step - loss: 1.3211 - accuracy: 0.5237\n",
            "Epoch 71/100\n",
            "1563/1563 [==============================] - 6s 4ms/step - loss: 1.3204 - accuracy: 0.5245\n",
            "Epoch 72/100\n",
            "1563/1563 [==============================] - 6s 4ms/step - loss: 1.3199 - accuracy: 0.5251\n",
            "Epoch 73/100\n",
            "1563/1563 [==============================] - 6s 4ms/step - loss: 1.3192 - accuracy: 0.5262\n",
            "Epoch 74/100\n",
            "1563/1563 [==============================] - 6s 4ms/step - loss: 1.3188 - accuracy: 0.5254\n",
            "Epoch 75/100\n",
            "1563/1563 [==============================] - 6s 4ms/step - loss: 1.3180 - accuracy: 0.5250\n",
            "Epoch 76/100\n",
            "1563/1563 [==============================] - 6s 4ms/step - loss: 1.3175 - accuracy: 0.5261\n",
            "Epoch 77/100\n",
            "1563/1563 [==============================] - 6s 4ms/step - loss: 1.3169 - accuracy: 0.5263\n",
            "Epoch 78/100\n",
            "1563/1563 [==============================] - 6s 4ms/step - loss: 1.3164 - accuracy: 0.5257\n",
            "Epoch 79/100\n",
            "1563/1563 [==============================] - 6s 4ms/step - loss: 1.3157 - accuracy: 0.5263\n",
            "Epoch 80/100\n",
            "1563/1563 [==============================] - 6s 4ms/step - loss: 1.3151 - accuracy: 0.5262\n",
            "Epoch 81/100\n",
            "1563/1563 [==============================] - 6s 4ms/step - loss: 1.3147 - accuracy: 0.5268\n",
            "Epoch 82/100\n",
            "1563/1563 [==============================] - 6s 4ms/step - loss: 1.3139 - accuracy: 0.5270\n",
            "Epoch 83/100\n",
            "1563/1563 [==============================] - 6s 4ms/step - loss: 1.3136 - accuracy: 0.5277\n",
            "Epoch 84/100\n",
            "1563/1563 [==============================] - 6s 4ms/step - loss: 1.3130 - accuracy: 0.5273\n",
            "Epoch 85/100\n",
            "1563/1563 [==============================] - 6s 4ms/step - loss: 1.3124 - accuracy: 0.5281\n",
            "Epoch 86/100\n",
            "1563/1563 [==============================] - 6s 4ms/step - loss: 1.3118 - accuracy: 0.5278\n",
            "Epoch 87/100\n",
            "1563/1563 [==============================] - 6s 4ms/step - loss: 1.3113 - accuracy: 0.5288\n",
            "Epoch 88/100\n",
            "1563/1563 [==============================] - 6s 4ms/step - loss: 1.3108 - accuracy: 0.5288\n",
            "Epoch 89/100\n",
            "1563/1563 [==============================] - 6s 4ms/step - loss: 1.3100 - accuracy: 0.5284\n",
            "Epoch 90/100\n",
            "1563/1563 [==============================] - 6s 4ms/step - loss: 1.3096 - accuracy: 0.5289\n",
            "Epoch 91/100\n",
            "1563/1563 [==============================] - 6s 4ms/step - loss: 1.3091 - accuracy: 0.5294\n",
            "Epoch 92/100\n",
            "1563/1563 [==============================] - 6s 4ms/step - loss: 1.3086 - accuracy: 0.5298\n",
            "Epoch 93/100\n",
            "1563/1563 [==============================] - 6s 4ms/step - loss: 1.3080 - accuracy: 0.5297\n",
            "Epoch 94/100\n",
            "1563/1563 [==============================] - 6s 4ms/step - loss: 1.3074 - accuracy: 0.5296\n",
            "Epoch 95/100\n",
            "1563/1563 [==============================] - 6s 4ms/step - loss: 1.3069 - accuracy: 0.5304\n",
            "Epoch 96/100\n",
            "1563/1563 [==============================] - 6s 4ms/step - loss: 1.3063 - accuracy: 0.5300\n",
            "Epoch 97/100\n",
            "1563/1563 [==============================] - 6s 4ms/step - loss: 1.3058 - accuracy: 0.5313\n",
            "Epoch 98/100\n",
            "1563/1563 [==============================] - 6s 4ms/step - loss: 1.3052 - accuracy: 0.5307\n",
            "Epoch 99/100\n",
            "1563/1563 [==============================] - 6s 4ms/step - loss: 1.3047 - accuracy: 0.5313\n",
            "Epoch 100/100\n",
            "1563/1563 [==============================] - 6s 4ms/step - loss: 1.3040 - accuracy: 0.5315\n"
          ]
        },
        {
          "output_type": "execute_result",
          "data": {
            "text/plain": [
              "<keras.callbacks.History at 0x7f25ce1e3950>"
            ]
          },
          "metadata": {},
          "execution_count": 140
        }
      ]
    },
    {
      "cell_type": "code",
      "source": [
        "model.evaluate(x_test,y_test)"
      ],
      "metadata": {
        "colab": {
          "base_uri": "https://localhost:8080/"
        },
        "id": "TizodTtPx0AM",
        "outputId": "b3979756-5477-4fef-fedc-00f0f8c2106b"
      },
      "execution_count": 141,
      "outputs": [
        {
          "output_type": "stream",
          "name": "stdout",
          "text": [
            "313/313 [==============================] - 1s 3ms/step - loss: 1.3247 - accuracy: 0.5232\n"
          ]
        },
        {
          "output_type": "execute_result",
          "data": {
            "text/plain": [
              "[1.3247122764587402, 0.5231999754905701]"
            ]
          },
          "metadata": {},
          "execution_count": 141
        }
      ]
    },
    {
      "cell_type": "code",
      "source": [
        ""
      ],
      "metadata": {
        "id": "fb3KuIePx2U7"
      },
      "execution_count": 141,
      "outputs": []
    }
  ]
}