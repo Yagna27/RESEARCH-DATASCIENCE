{
  "nbformat": 4,
  "nbformat_minor": 0,
  "metadata": {
    "colab": {
      "name": "cifar10  NADAM optimizer.ipynb",
      "provenance": []
    },
    "kernelspec": {
      "name": "python3",
      "display_name": "Python 3"
    },
    "language_info": {
      "name": "python"
    },
    "accelerator": "GPU"
  },
  "cells": [
    {
      "cell_type": "code",
      "execution_count": 1,
      "metadata": {
        "id": "VAyvlNtkKayp"
      },
      "outputs": [],
      "source": [
        "import tensorflow as tf\n",
        "from tensorflow.keras import datasets , layers ,models\n",
        "import matplotlib.pyplot as plt\n",
        "import numpy as np\n",
        "import pandas as pd\n",
        "import keras"
      ]
    },
    {
      "cell_type": "code",
      "source": [
        "(x_train,y_train),(x_test,y_test)=datasets.cifar10.load_data()"
      ],
      "metadata": {
        "id": "xY_X-1aVKlTl"
      },
      "execution_count": 2,
      "outputs": []
    },
    {
      "cell_type": "code",
      "source": [
        "x_train.shape"
      ],
      "metadata": {
        "colab": {
          "base_uri": "https://localhost:8080/"
        },
        "id": "msCLJ8vIKrDX",
        "outputId": "25bdc813-4738-46df-d432-25eca2f109ce"
      },
      "execution_count": 3,
      "outputs": [
        {
          "output_type": "execute_result",
          "data": {
            "text/plain": [
              "(50000, 32, 32, 3)"
            ]
          },
          "metadata": {},
          "execution_count": 3
        }
      ]
    },
    {
      "cell_type": "code",
      "source": [
        "x_test.shape"
      ],
      "metadata": {
        "colab": {
          "base_uri": "https://localhost:8080/"
        },
        "id": "bhluEWHTKtzJ",
        "outputId": "46de56b4-8272-4ffe-9be1-3a301b6e2de2"
      },
      "execution_count": 4,
      "outputs": [
        {
          "output_type": "execute_result",
          "data": {
            "text/plain": [
              "(10000, 32, 32, 3)"
            ]
          },
          "metadata": {},
          "execution_count": 4
        }
      ]
    },
    {
      "cell_type": "code",
      "source": [
        "classes = [ \"airplane\" , \"automobile\" ,\"bird\", \"cat\", \"deer\", \"dog\" ,\"frog\" ,\"horse\" ,\"ship\" ,\"truck\"]"
      ],
      "metadata": {
        "id": "pvVZUZhhKwpa"
      },
      "execution_count": 5,
      "outputs": []
    },
    {
      "cell_type": "code",
      "source": [
        "y_train=y_train.reshape(-1,)\n",
        "y_train"
      ],
      "metadata": {
        "colab": {
          "base_uri": "https://localhost:8080/"
        },
        "id": "UgmFHkHSKzk1",
        "outputId": "422fdd75-a468-47c1-8fd0-31df43b958d5"
      },
      "execution_count": 6,
      "outputs": [
        {
          "output_type": "execute_result",
          "data": {
            "text/plain": [
              "array([6, 9, 9, ..., 9, 1, 1], dtype=uint8)"
            ]
          },
          "metadata": {},
          "execution_count": 6
        }
      ]
    },
    {
      "cell_type": "code",
      "source": [
        "def plot_sample(X,y,index):\n",
        "  plt.figure(figsize=(15,2))\n",
        "  plt.imshow(X[index])\n",
        "  plt.xlabel(classes[y[index]])"
      ],
      "metadata": {
        "id": "3RWpy9BFK3Qe"
      },
      "execution_count": 7,
      "outputs": []
    },
    {
      "cell_type": "code",
      "source": [
        "plot_sample(x_train,y_train,1)"
      ],
      "metadata": {
        "colab": {
          "base_uri": "https://localhost:8080/",
          "height": 173
        },
        "id": "-RKskd8zK5Va",
        "outputId": "06d7ccd9-076e-4c3f-a7e9-ca008e504e59"
      },
      "execution_count": 8,
      "outputs": [
        {
          "output_type": "display_data",
          "data": {
            "image/png": "[encoded data removed]",
            "text/plain": [
              "<Figure size 1080x144 with 1 Axes>"
            ]
          },
          "metadata": {
            "needs_background": "light"
          }
        }
      ]
    },
    {
      "cell_type": "code",
      "source": [
        "x_train =x_train/255\n",
        "x_test = x_test/255\n"
      ],
      "metadata": {
        "id": "7AgLj19OK7ey"
      },
      "execution_count": 8,
      "outputs": []
    },
    {
      "cell_type": "code",
      "source": [
        "model = keras.Sequential(\n",
        "    [\n",
        "     layers.Conv2D(filters=64,kernel_size=(3,3), activation ='relu' ,input_shape=(32,32,3)),\n",
        "     layers.MaxPool2D((2,2)),\n",
        "     layers.Conv2D(filters=32,kernel_size=(3,3), activation ='relu'),\n",
        "     layers.MaxPool2D((2,2)),\n",
        "     layers.Conv2D(filters=32,kernel_size=(3,3), activation ='relu'),\n",
        "     layers.MaxPool2D((2,2)),\n",
        "     keras.layers.Flatten(),\n",
        "     keras.layers.Dense(32,activation =\"relu\"),\n",
        "     keras.layers.Dense(10 ,activation =\"softmax\"),\n",
        "     \n",
        "    ]\n",
        ")\n",
        "\n",
        "model.compile(optimizer = \"Nadam\",\n",
        "               loss=\"sparse_categorical_crossentropy\",\n",
        "               metrics=[\"accuracy\"])\n",
        "model.fit(x_train,y_train, epochs=5)"
      ],
      "metadata": {
        "colab": {
          "base_uri": "https://localhost:8080/"
        },
        "id": "pAPe6_aYK-mh",
        "outputId": "7e6d3ccc-7a29-43f3-b3ca-083b80345aaf"
      },
      "execution_count": 9,
      "outputs": [
        {
          "output_type": "stream",
          "name": "stdout",
          "text": [
            "Epoch 1/5\n",
            "1563/1563 [==============================] - 24s 9ms/step - loss: 1.5900 - accuracy: 0.4213\n",
            "Epoch 2/5\n",
            "1563/1563 [==============================] - 14s 9ms/step - loss: 1.2301 - accuracy: 0.5625\n",
            "Epoch 3/5\n",
            "1563/1563 [==============================] - 14s 9ms/step - loss: 1.1001 - accuracy: 0.6106\n",
            "Epoch 4/5\n",
            "1563/1563 [==============================] - 14s 9ms/step - loss: 1.0189 - accuracy: 0.6412\n",
            "Epoch 5/5\n",
            "1563/1563 [==============================] - 14s 9ms/step - loss: 0.9587 - accuracy: 0.6661\n"
          ]
        },
        {
          "output_type": "execute_result",
          "data": {
            "text/plain": [
              "<keras.callbacks.History at 0x7f69004357d0>"
            ]
          },
          "metadata": {},
          "execution_count": 9
        }
      ]
    },
    {
      "cell_type": "code",
      "source": [
        "from sklearn.metrics import confusion_matrix , classification_report\n",
        "import numpy as np \n",
        "y_pred = model.predict(x_test)\n",
        "y_pred_classes = [np.argmax(element) for element in y_pred]\n",
        "print(\"classification report: \\n\" , classification_report(y_test, y_pred_classes))"
      ],
      "metadata": {
        "colab": {
          "base_uri": "https://localhost:8080/"
        },
        "id": "WJhGYOG7LCJN",
        "outputId": "923e88d4-52cc-4675-a302-b781998144ed"
      },
      "execution_count": 12,
      "outputs": [
        {
          "output_type": "stream",
          "name": "stdout",
          "text": [
            "classification report: \n",
            "               precision    recall  f1-score   support\n",
            "\n",
            "           0       0.57      0.75      0.65      1000\n",
            "           1       0.74      0.81      0.78      1000\n",
            "           2       0.62      0.36      0.46      1000\n",
            "           3       0.44      0.42      0.43      1000\n",
            "           4       0.57      0.59      0.58      1000\n",
            "           5       0.48      0.64      0.55      1000\n",
            "           6       0.75      0.66      0.70      1000\n",
            "           7       0.71      0.64      0.67      1000\n",
            "           8       0.72      0.72      0.72      1000\n",
            "           9       0.76      0.68      0.72      1000\n",
            "\n",
            "    accuracy                           0.63     10000\n",
            "   macro avg       0.64      0.63      0.62     10000\n",
            "weighted avg       0.64      0.63      0.62     10000\n",
            "\n"
          ]
        }
      ]
    },
    {
      "cell_type": "code",
      "source": [
        "model.evaluate(x_test,y_test)"
      ],
      "metadata": {
        "colab": {
          "base_uri": "https://localhost:8080/"
        },
        "id": "R0RzjkcsLKNW",
        "outputId": "3e01f3bc-512f-4cd4-aae0-9a8c6655bc2b"
      },
      "execution_count": 13,
      "outputs": [
        {
          "output_type": "stream",
          "name": "stdout",
          "text": [
            "313/313 [==============================] - 2s 5ms/step - loss: 1.0643 - accuracy: 0.6268\n"
          ]
        },
        {
          "output_type": "execute_result",
          "data": {
            "text/plain": [
              "[1.0643388032913208, 0.626800000667572]"
            ]
          },
          "metadata": {},
          "execution_count": 13
        }
      ]
    },
    {
      "cell_type": "code",
      "source": [
        "model.fit(x_train,y_train, epochs=10)"
      ],
      "metadata": {
        "colab": {
          "base_uri": "https://localhost:8080/"
        },
        "id": "yrsVvrtxLMl6",
        "outputId": "a468b158-472b-4b97-d2bf-58eaa5ad7b07"
      },
      "execution_count": 14,
      "outputs": [
        {
          "output_type": "stream",
          "name": "stdout",
          "text": [
            "Epoch 1/10\n",
            "1563/1563 [==============================] - 14s 9ms/step - loss: 1.0029 - accuracy: 0.6491\n",
            "Epoch 2/10\n",
            "1563/1563 [==============================] - 14s 9ms/step - loss: 0.9664 - accuracy: 0.6626\n",
            "Epoch 3/10\n",
            "1563/1563 [==============================] - 14s 9ms/step - loss: 0.9332 - accuracy: 0.6744\n",
            "Epoch 4/10\n",
            "1563/1563 [==============================] - 14s 9ms/step - loss: 0.9076 - accuracy: 0.6838\n",
            "Epoch 5/10\n",
            "1563/1563 [==============================] - 14s 9ms/step - loss: 0.8805 - accuracy: 0.6915\n",
            "Epoch 6/10\n",
            "1563/1563 [==============================] - 14s 9ms/step - loss: 0.8590 - accuracy: 0.7000\n",
            "Epoch 7/10\n",
            "1563/1563 [==============================] - 14s 9ms/step - loss: 0.8372 - accuracy: 0.7080\n",
            "Epoch 8/10\n",
            "1563/1563 [==============================] - 14s 9ms/step - loss: 0.8225 - accuracy: 0.7120\n",
            "Epoch 9/10\n",
            "1563/1563 [==============================] - 14s 9ms/step - loss: 0.8057 - accuracy: 0.7195\n",
            "Epoch 10/10\n",
            "1563/1563 [==============================] - 14s 9ms/step - loss: 0.7921 - accuracy: 0.7217\n"
          ]
        },
        {
          "output_type": "execute_result",
          "data": {
            "text/plain": [
              "<keras.callbacks.History at 0x7f2e1808a490>"
            ]
          },
          "metadata": {},
          "execution_count": 14
        }
      ]
    },
    {
      "cell_type": "code",
      "source": [
        "model.evaluate(x_test,y_test)"
      ],
      "metadata": {
        "colab": {
          "base_uri": "https://localhost:8080/"
        },
        "id": "0yKi__ehLOqA",
        "outputId": "6951c8ba-74fa-4acd-9c75-9b316ebb6cbf"
      },
      "execution_count": 15,
      "outputs": [
        {
          "output_type": "stream",
          "name": "stdout",
          "text": [
            "313/313 [==============================] - 1s 5ms/step - loss: 0.9269 - accuracy: 0.6808\n"
          ]
        },
        {
          "output_type": "execute_result",
          "data": {
            "text/plain": [
              "[0.9268765449523926, 0.6808000206947327]"
            ]
          },
          "metadata": {},
          "execution_count": 15
        }
      ]
    },
    {
      "cell_type": "code",
      "source": [
        "model.fit(x_train,y_train, epochs=20)"
      ],
      "metadata": {
        "colab": {
          "base_uri": "https://localhost:8080/"
        },
        "id": "9OdwPphgLS6L",
        "outputId": "95d58487-78b0-4875-9e49-c18e9f21155c"
      },
      "execution_count": 16,
      "outputs": [
        {
          "output_type": "stream",
          "name": "stdout",
          "text": [
            "Epoch 1/20\n",
            "1563/1563 [==============================] - 14s 9ms/step - loss: 0.7799 - accuracy: 0.7247\n",
            "Epoch 2/20\n",
            "1563/1563 [==============================] - 14s 9ms/step - loss: 0.7690 - accuracy: 0.7309\n",
            "Epoch 3/20\n",
            "1563/1563 [==============================] - 14s 9ms/step - loss: 0.7533 - accuracy: 0.7358\n",
            "Epoch 4/20\n",
            "1563/1563 [==============================] - 14s 9ms/step - loss: 0.7419 - accuracy: 0.7409\n",
            "Epoch 5/20\n",
            "1563/1563 [==============================] - 14s 9ms/step - loss: 0.7330 - accuracy: 0.7423\n",
            "Epoch 6/20\n",
            "1563/1563 [==============================] - 14s 9ms/step - loss: 0.7226 - accuracy: 0.7466\n",
            "Epoch 7/20\n",
            "1563/1563 [==============================] - 14s 9ms/step - loss: 0.7126 - accuracy: 0.7488\n",
            "Epoch 8/20\n",
            "1563/1563 [==============================] - 14s 9ms/step - loss: 0.7007 - accuracy: 0.7539\n",
            "Epoch 9/20\n",
            "1563/1563 [==============================] - 14s 9ms/step - loss: 0.6909 - accuracy: 0.7572\n",
            "Epoch 10/20\n",
            "1563/1563 [==============================] - 14s 9ms/step - loss: 0.6855 - accuracy: 0.7596\n",
            "Epoch 11/20\n",
            "1563/1563 [==============================] - 14s 9ms/step - loss: 0.6745 - accuracy: 0.7627\n",
            "Epoch 12/20\n",
            "1563/1563 [==============================] - 15s 9ms/step - loss: 0.6660 - accuracy: 0.7660\n",
            "Epoch 13/20\n",
            "1563/1563 [==============================] - 14s 9ms/step - loss: 0.6621 - accuracy: 0.7665\n",
            "Epoch 14/20\n",
            "1563/1563 [==============================] - 14s 9ms/step - loss: 0.6507 - accuracy: 0.7718\n",
            "Epoch 15/20\n",
            "1563/1563 [==============================] - 14s 9ms/step - loss: 0.6457 - accuracy: 0.7732\n",
            "Epoch 16/20\n",
            "1563/1563 [==============================] - 14s 9ms/step - loss: 0.6359 - accuracy: 0.7754\n",
            "Epoch 17/20\n",
            "1563/1563 [==============================] - 14s 9ms/step - loss: 0.6312 - accuracy: 0.7780\n",
            "Epoch 18/20\n",
            "1563/1563 [==============================] - 14s 9ms/step - loss: 0.6219 - accuracy: 0.7794\n",
            "Epoch 19/20\n",
            "1563/1563 [==============================] - 14s 9ms/step - loss: 0.6199 - accuracy: 0.7806\n",
            "Epoch 20/20\n",
            "1563/1563 [==============================] - 15s 9ms/step - loss: 0.6130 - accuracy: 0.7812\n"
          ]
        },
        {
          "output_type": "execute_result",
          "data": {
            "text/plain": [
              "<keras.callbacks.History at 0x7f2e18841450>"
            ]
          },
          "metadata": {},
          "execution_count": 16
        }
      ]
    },
    {
      "cell_type": "code",
      "source": [
        "model.evaluate(x_test,y_test)"
      ],
      "metadata": {
        "colab": {
          "base_uri": "https://localhost:8080/"
        },
        "id": "wVijfVF6LVCD",
        "outputId": "32a7e790-5cae-4fa0-a12b-71542926f9b7"
      },
      "execution_count": 17,
      "outputs": [
        {
          "output_type": "stream",
          "name": "stdout",
          "text": [
            "313/313 [==============================] - 1s 5ms/step - loss: 0.8924 - accuracy: 0.6975\n"
          ]
        },
        {
          "output_type": "execute_result",
          "data": {
            "text/plain": [
              "[0.892379879951477, 0.6974999904632568]"
            ]
          },
          "metadata": {},
          "execution_count": 17
        }
      ]
    },
    {
      "cell_type": "code",
      "source": [
        "model.fit(x_train,y_train, epochs=50)"
      ],
      "metadata": {
        "colab": {
          "base_uri": "https://localhost:8080/"
        },
        "id": "_3X8ca9ZLXCc",
        "outputId": "4bdefe5d-dc5d-4273-8909-1ca9d475ecaa"
      },
      "execution_count": 18,
      "outputs": [
        {
          "output_type": "stream",
          "name": "stdout",
          "text": [
            "Epoch 1/50\n",
            "1563/1563 [==============================] - 14s 9ms/step - loss: 0.6063 - accuracy: 0.7858\n",
            "Epoch 2/50\n",
            "1563/1563 [==============================] - 14s 9ms/step - loss: 0.6014 - accuracy: 0.7878\n",
            "Epoch 3/50\n",
            "1563/1563 [==============================] - 14s 9ms/step - loss: 0.5959 - accuracy: 0.7886\n",
            "Epoch 4/50\n",
            "1563/1563 [==============================] - 14s 9ms/step - loss: 0.5875 - accuracy: 0.7922\n",
            "Epoch 5/50\n",
            "1563/1563 [==============================] - 14s 9ms/step - loss: 0.5837 - accuracy: 0.7935\n",
            "Epoch 6/50\n",
            "1563/1563 [==============================] - 14s 9ms/step - loss: 0.5795 - accuracy: 0.7959\n",
            "Epoch 7/50\n",
            "1563/1563 [==============================] - 14s 9ms/step - loss: 0.5776 - accuracy: 0.7953\n",
            "Epoch 8/50\n",
            "1563/1563 [==============================] - 14s 9ms/step - loss: 0.5707 - accuracy: 0.7992\n",
            "Epoch 9/50\n",
            "1563/1563 [==============================] - 14s 9ms/step - loss: 0.5673 - accuracy: 0.8003\n",
            "Epoch 10/50\n",
            "1563/1563 [==============================] - 15s 9ms/step - loss: 0.5621 - accuracy: 0.8007\n",
            "Epoch 11/50\n",
            "1563/1563 [==============================] - 15s 9ms/step - loss: 0.5540 - accuracy: 0.8031\n",
            "Epoch 12/50\n",
            "1563/1563 [==============================] - 14s 9ms/step - loss: 0.5534 - accuracy: 0.8038\n",
            "Epoch 13/50\n",
            "1563/1563 [==============================] - 14s 9ms/step - loss: 0.5504 - accuracy: 0.8045\n",
            "Epoch 14/50\n",
            "1563/1563 [==============================] - 14s 9ms/step - loss: 0.5442 - accuracy: 0.8060\n",
            "Epoch 15/50\n",
            "1563/1563 [==============================] - 14s 9ms/step - loss: 0.5395 - accuracy: 0.8076\n",
            "Epoch 16/50\n",
            "1563/1563 [==============================] - 14s 9ms/step - loss: 0.5335 - accuracy: 0.8120\n",
            "Epoch 17/50\n",
            "1563/1563 [==============================] - 14s 9ms/step - loss: 0.5310 - accuracy: 0.8116\n",
            "Epoch 18/50\n",
            "1563/1563 [==============================] - 14s 9ms/step - loss: 0.5237 - accuracy: 0.8129\n",
            "Epoch 19/50\n",
            "1563/1563 [==============================] - 14s 9ms/step - loss: 0.5221 - accuracy: 0.8141\n",
            "Epoch 20/50\n",
            "1563/1563 [==============================] - 14s 9ms/step - loss: 0.5201 - accuracy: 0.8148\n",
            "Epoch 21/50\n",
            "1563/1563 [==============================] - 14s 9ms/step - loss: 0.5162 - accuracy: 0.8168\n",
            "Epoch 22/50\n",
            "1563/1563 [==============================] - 14s 9ms/step - loss: 0.5107 - accuracy: 0.8195\n",
            "Epoch 23/50\n",
            "1563/1563 [==============================] - 14s 9ms/step - loss: 0.5047 - accuracy: 0.8221\n",
            "Epoch 24/50\n",
            "1563/1563 [==============================] - 14s 9ms/step - loss: 0.5063 - accuracy: 0.8197\n",
            "Epoch 25/50\n",
            "1563/1563 [==============================] - 14s 9ms/step - loss: 0.5001 - accuracy: 0.8213\n",
            "Epoch 26/50\n",
            "1563/1563 [==============================] - 14s 9ms/step - loss: 0.4978 - accuracy: 0.8207\n",
            "Epoch 27/50\n",
            "1563/1563 [==============================] - 14s 9ms/step - loss: 0.4940 - accuracy: 0.8242\n",
            "Epoch 28/50\n",
            "1563/1563 [==============================] - 14s 9ms/step - loss: 0.4880 - accuracy: 0.8247\n",
            "Epoch 29/50\n",
            "1563/1563 [==============================] - 14s 9ms/step - loss: 0.4882 - accuracy: 0.8254\n",
            "Epoch 30/50\n",
            "1563/1563 [==============================] - 14s 9ms/step - loss: 0.4851 - accuracy: 0.8265\n",
            "Epoch 31/50\n",
            "1563/1563 [==============================] - 14s 9ms/step - loss: 0.4796 - accuracy: 0.8302\n",
            "Epoch 32/50\n",
            "1563/1563 [==============================] - 14s 9ms/step - loss: 0.4773 - accuracy: 0.8287\n",
            "Epoch 33/50\n",
            "1563/1563 [==============================] - 14s 9ms/step - loss: 0.4734 - accuracy: 0.8308\n",
            "Epoch 34/50\n",
            "1563/1563 [==============================] - 14s 9ms/step - loss: 0.4718 - accuracy: 0.8317\n",
            "Epoch 35/50\n",
            "1563/1563 [==============================] - 14s 9ms/step - loss: 0.4700 - accuracy: 0.8307\n",
            "Epoch 36/50\n",
            "1563/1563 [==============================] - 14s 9ms/step - loss: 0.4659 - accuracy: 0.8328\n",
            "Epoch 37/50\n",
            "1563/1563 [==============================] - 14s 9ms/step - loss: 0.4624 - accuracy: 0.8339\n",
            "Epoch 38/50\n",
            "1563/1563 [==============================] - 14s 9ms/step - loss: 0.4605 - accuracy: 0.8338\n",
            "Epoch 39/50\n",
            "1563/1563 [==============================] - 14s 9ms/step - loss: 0.4586 - accuracy: 0.8369\n",
            "Epoch 40/50\n",
            "1563/1563 [==============================] - 14s 9ms/step - loss: 0.4565 - accuracy: 0.8349\n",
            "Epoch 41/50\n",
            "1563/1563 [==============================] - 14s 9ms/step - loss: 0.4528 - accuracy: 0.8388\n",
            "Epoch 42/50\n",
            "1563/1563 [==============================] - 14s 9ms/step - loss: 0.4465 - accuracy: 0.8387\n",
            "Epoch 43/50\n",
            "1563/1563 [==============================] - 14s 9ms/step - loss: 0.4501 - accuracy: 0.8368\n",
            "Epoch 44/50\n",
            "1563/1563 [==============================] - 14s 9ms/step - loss: 0.4453 - accuracy: 0.8406\n",
            "Epoch 45/50\n",
            "1563/1563 [==============================] - 14s 9ms/step - loss: 0.4446 - accuracy: 0.8408\n",
            "Epoch 46/50\n",
            "1563/1563 [==============================] - 14s 9ms/step - loss: 0.4389 - accuracy: 0.8420\n",
            "Epoch 47/50\n",
            "1563/1563 [==============================] - 14s 9ms/step - loss: 0.4379 - accuracy: 0.8429\n",
            "Epoch 48/50\n",
            "1563/1563 [==============================] - 14s 9ms/step - loss: 0.4360 - accuracy: 0.8433\n",
            "Epoch 49/50\n",
            "1563/1563 [==============================] - 14s 9ms/step - loss: 0.4323 - accuracy: 0.8446\n",
            "Epoch 50/50\n",
            "1563/1563 [==============================] - 14s 9ms/step - loss: 0.4281 - accuracy: 0.8468\n"
          ]
        },
        {
          "output_type": "execute_result",
          "data": {
            "text/plain": [
              "<keras.callbacks.History at 0x7f2e188c75d0>"
            ]
          },
          "metadata": {},
          "execution_count": 18
        }
      ]
    },
    {
      "cell_type": "code",
      "source": [
        "model.evaluate(x_test,y_test)"
      ],
      "metadata": {
        "colab": {
          "base_uri": "https://localhost:8080/"
        },
        "id": "lAMD4t2iLb66",
        "outputId": "341cdb8c-5c00-43d6-aa27-10ff170dda4f"
      },
      "execution_count": 19,
      "outputs": [
        {
          "output_type": "stream",
          "name": "stdout",
          "text": [
            "313/313 [==============================] - 1s 4ms/step - loss: 1.1087 - accuracy: 0.6914\n"
          ]
        },
        {
          "output_type": "execute_result",
          "data": {
            "text/plain": [
              "[1.1086634397506714, 0.6913999915122986]"
            ]
          },
          "metadata": {},
          "execution_count": 19
        }
      ]
    },
    {
      "cell_type": "code",
      "source": [
        "model.fit(x_train,y_train, epochs=70)"
      ],
      "metadata": {
        "colab": {
          "base_uri": "https://localhost:8080/"
        },
        "id": "DQjs6LfYLf7F",
        "outputId": "ad723f88-3617-46fe-9588-44a487fc41f2"
      },
      "execution_count": 20,
      "outputs": [
        {
          "output_type": "stream",
          "name": "stdout",
          "text": [
            "Epoch 1/70\n",
            "1563/1563 [==============================] - 14s 9ms/step - loss: 0.4268 - accuracy: 0.8459\n",
            "Epoch 2/70\n",
            "1563/1563 [==============================] - 14s 9ms/step - loss: 0.4267 - accuracy: 0.8459\n",
            "Epoch 3/70\n",
            "1563/1563 [==============================] - 14s 9ms/step - loss: 0.4235 - accuracy: 0.8472\n",
            "Epoch 4/70\n",
            "1563/1563 [==============================] - 14s 9ms/step - loss: 0.4215 - accuracy: 0.8495\n",
            "Epoch 5/70\n",
            "1563/1563 [==============================] - 14s 9ms/step - loss: 0.4172 - accuracy: 0.8500\n",
            "Epoch 6/70\n",
            "1563/1563 [==============================] - 14s 9ms/step - loss: 0.4168 - accuracy: 0.8510\n",
            "Epoch 7/70\n",
            "1563/1563 [==============================] - 14s 9ms/step - loss: 0.4167 - accuracy: 0.8507\n",
            "Epoch 8/70\n",
            "1563/1563 [==============================] - 14s 9ms/step - loss: 0.4154 - accuracy: 0.8506\n",
            "Epoch 9/70\n",
            "1563/1563 [==============================] - 14s 9ms/step - loss: 0.4088 - accuracy: 0.8533\n",
            "Epoch 10/70\n",
            "1563/1563 [==============================] - 14s 9ms/step - loss: 0.4095 - accuracy: 0.8534\n",
            "Epoch 11/70\n",
            "1563/1563 [==============================] - 14s 9ms/step - loss: 0.4049 - accuracy: 0.8554\n",
            "Epoch 12/70\n",
            "1563/1563 [==============================] - 14s 9ms/step - loss: 0.4023 - accuracy: 0.8539\n",
            "Epoch 13/70\n",
            "1563/1563 [==============================] - 14s 9ms/step - loss: 0.4010 - accuracy: 0.8565\n",
            "Epoch 14/70\n",
            "1563/1563 [==============================] - 14s 9ms/step - loss: 0.3998 - accuracy: 0.8560\n",
            "Epoch 15/70\n",
            "1563/1563 [==============================] - 14s 9ms/step - loss: 0.3967 - accuracy: 0.8578\n",
            "Epoch 16/70\n",
            "1563/1563 [==============================] - 14s 9ms/step - loss: 0.3944 - accuracy: 0.8583\n",
            "Epoch 17/70\n",
            "1563/1563 [==============================] - 14s 9ms/step - loss: 0.3950 - accuracy: 0.8578\n",
            "Epoch 18/70\n",
            "1563/1563 [==============================] - 14s 9ms/step - loss: 0.3911 - accuracy: 0.8583\n",
            "Epoch 19/70\n",
            "1563/1563 [==============================] - 14s 9ms/step - loss: 0.3896 - accuracy: 0.8584\n",
            "Epoch 20/70\n",
            "1563/1563 [==============================] - 14s 9ms/step - loss: 0.3883 - accuracy: 0.8582\n",
            "Epoch 21/70\n",
            "1563/1563 [==============================] - 14s 9ms/step - loss: 0.3835 - accuracy: 0.8625\n",
            "Epoch 22/70\n",
            "1563/1563 [==============================] - 14s 9ms/step - loss: 0.3828 - accuracy: 0.8618\n",
            "Epoch 23/70\n",
            "1563/1563 [==============================] - 14s 9ms/step - loss: 0.3837 - accuracy: 0.8617\n",
            "Epoch 24/70\n",
            "1563/1563 [==============================] - 14s 9ms/step - loss: 0.3845 - accuracy: 0.8607\n",
            "Epoch 25/70\n",
            "1563/1563 [==============================] - 14s 9ms/step - loss: 0.3771 - accuracy: 0.8650\n",
            "Epoch 26/70\n",
            "1563/1563 [==============================] - 14s 9ms/step - loss: 0.3805 - accuracy: 0.8622\n",
            "Epoch 27/70\n",
            "1563/1563 [==============================] - 14s 9ms/step - loss: 0.3754 - accuracy: 0.8643\n",
            "Epoch 28/70\n",
            "1563/1563 [==============================] - 14s 9ms/step - loss: 0.3733 - accuracy: 0.8647\n",
            "Epoch 29/70\n",
            "1563/1563 [==============================] - 14s 9ms/step - loss: 0.3728 - accuracy: 0.8636\n",
            "Epoch 30/70\n",
            "1563/1563 [==============================] - 14s 9ms/step - loss: 0.3694 - accuracy: 0.8650\n",
            "Epoch 31/70\n",
            "1563/1563 [==============================] - 14s 9ms/step - loss: 0.3681 - accuracy: 0.8670\n",
            "Epoch 32/70\n",
            "1563/1563 [==============================] - 15s 9ms/step - loss: 0.3682 - accuracy: 0.8674\n",
            "Epoch 33/70\n",
            "1563/1563 [==============================] - 15s 9ms/step - loss: 0.3683 - accuracy: 0.8678\n",
            "Epoch 34/70\n",
            "1563/1563 [==============================] - 14s 9ms/step - loss: 0.3647 - accuracy: 0.8679\n",
            "Epoch 35/70\n",
            "1563/1563 [==============================] - 15s 10ms/step - loss: 0.3632 - accuracy: 0.8694\n",
            "Epoch 36/70\n",
            "1563/1563 [==============================] - 15s 10ms/step - loss: 0.3623 - accuracy: 0.8683\n",
            "Epoch 37/70\n",
            "1563/1563 [==============================] - 15s 10ms/step - loss: 0.3589 - accuracy: 0.8712\n",
            "Epoch 38/70\n",
            "1563/1563 [==============================] - 15s 10ms/step - loss: 0.3588 - accuracy: 0.8706\n",
            "Epoch 39/70\n",
            "1563/1563 [==============================] - 15s 10ms/step - loss: 0.3545 - accuracy: 0.8714\n",
            "Epoch 40/70\n",
            "1563/1563 [==============================] - 15s 10ms/step - loss: 0.3551 - accuracy: 0.8723\n",
            "Epoch 41/70\n",
            "1563/1563 [==============================] - 15s 10ms/step - loss: 0.3583 - accuracy: 0.8694\n",
            "Epoch 42/70\n",
            "1563/1563 [==============================] - 15s 10ms/step - loss: 0.3521 - accuracy: 0.8720\n",
            "Epoch 43/70\n",
            "1563/1563 [==============================] - 15s 10ms/step - loss: 0.3560 - accuracy: 0.8720\n",
            "Epoch 44/70\n",
            "1563/1563 [==============================] - 15s 10ms/step - loss: 0.3508 - accuracy: 0.8724\n",
            "Epoch 45/70\n",
            "1563/1563 [==============================] - 15s 10ms/step - loss: 0.3500 - accuracy: 0.8730\n",
            "Epoch 46/70\n",
            "1563/1563 [==============================] - 15s 10ms/step - loss: 0.3481 - accuracy: 0.8740\n",
            "Epoch 47/70\n",
            "1563/1563 [==============================] - 15s 10ms/step - loss: 0.3462 - accuracy: 0.8756\n",
            "Epoch 48/70\n",
            "1563/1563 [==============================] - 15s 10ms/step - loss: 0.3496 - accuracy: 0.8736\n",
            "Epoch 49/70\n",
            "1563/1563 [==============================] - 14s 9ms/step - loss: 0.3423 - accuracy: 0.8756\n",
            "Epoch 50/70\n",
            "1563/1563 [==============================] - 14s 9ms/step - loss: 0.3451 - accuracy: 0.8753\n",
            "Epoch 51/70\n",
            "1563/1563 [==============================] - 14s 9ms/step - loss: 0.3390 - accuracy: 0.8774\n",
            "Epoch 52/70\n",
            "1563/1563 [==============================] - 14s 9ms/step - loss: 0.3361 - accuracy: 0.8796\n",
            "Epoch 53/70\n",
            "1563/1563 [==============================] - 14s 9ms/step - loss: 0.3410 - accuracy: 0.8767\n",
            "Epoch 54/70\n",
            "1563/1563 [==============================] - 14s 9ms/step - loss: 0.3398 - accuracy: 0.8775\n",
            "Epoch 55/70\n",
            "1563/1563 [==============================] - 14s 9ms/step - loss: 0.3326 - accuracy: 0.8802\n",
            "Epoch 56/70\n",
            "1563/1563 [==============================] - 14s 9ms/step - loss: 0.3361 - accuracy: 0.8786\n",
            "Epoch 57/70\n",
            "1563/1563 [==============================] - 14s 9ms/step - loss: 0.3323 - accuracy: 0.8805\n",
            "Epoch 58/70\n",
            "1563/1563 [==============================] - 14s 9ms/step - loss: 0.3334 - accuracy: 0.8809\n",
            "Epoch 59/70\n",
            "1563/1563 [==============================] - 14s 9ms/step - loss: 0.3363 - accuracy: 0.8784\n",
            "Epoch 60/70\n",
            "1563/1563 [==============================] - 14s 9ms/step - loss: 0.3341 - accuracy: 0.8789\n",
            "Epoch 61/70\n",
            "1563/1563 [==============================] - 14s 9ms/step - loss: 0.3280 - accuracy: 0.8813\n",
            "Epoch 62/70\n",
            "1563/1563 [==============================] - 14s 9ms/step - loss: 0.3278 - accuracy: 0.8807\n",
            "Epoch 63/70\n",
            "1563/1563 [==============================] - 14s 9ms/step - loss: 0.3279 - accuracy: 0.8812\n",
            "Epoch 64/70\n",
            "1563/1563 [==============================] - 14s 9ms/step - loss: 0.3279 - accuracy: 0.8812\n",
            "Epoch 65/70\n",
            "1563/1563 [==============================] - 14s 9ms/step - loss: 0.3286 - accuracy: 0.8796\n",
            "Epoch 66/70\n",
            "1563/1563 [==============================] - 14s 9ms/step - loss: 0.3264 - accuracy: 0.8812\n",
            "Epoch 67/70\n",
            "1563/1563 [==============================] - 14s 9ms/step - loss: 0.3212 - accuracy: 0.8836\n",
            "Epoch 68/70\n",
            "1563/1563 [==============================] - 14s 9ms/step - loss: 0.3265 - accuracy: 0.8817\n",
            "Epoch 69/70\n",
            "1563/1563 [==============================] - 14s 9ms/step - loss: 0.3162 - accuracy: 0.8853\n",
            "Epoch 70/70\n",
            "1563/1563 [==============================] - 14s 9ms/step - loss: 0.3227 - accuracy: 0.8827\n"
          ]
        },
        {
          "output_type": "execute_result",
          "data": {
            "text/plain": [
              "<keras.callbacks.History at 0x7f2e188d5f10>"
            ]
          },
          "metadata": {},
          "execution_count": 20
        }
      ]
    },
    {
      "cell_type": "code",
      "source": [
        "model.evaluate(x_test,y_test)"
      ],
      "metadata": {
        "colab": {
          "base_uri": "https://localhost:8080/"
        },
        "id": "PGFzF2RCLjam",
        "outputId": "0ba7c540-6c49-4c35-a174-9c87d1e39657"
      },
      "execution_count": 21,
      "outputs": [
        {
          "output_type": "stream",
          "name": "stdout",
          "text": [
            "313/313 [==============================] - 1s 5ms/step - loss: 1.5153 - accuracy: 0.6725\n"
          ]
        },
        {
          "output_type": "execute_result",
          "data": {
            "text/plain": [
              "[1.5152519941329956, 0.6725000143051147]"
            ]
          },
          "metadata": {},
          "execution_count": 21
        }
      ]
    },
    {
      "cell_type": "code",
      "source": [
        "model.fit(x_train,y_train, epochs=100)"
      ],
      "metadata": {
        "colab": {
          "base_uri": "https://localhost:8080/"
        },
        "id": "RkgcFNnyLlFw",
        "outputId": "ff7fbf81-1f16-4d61-eb42-a61dbcfbc996"
      },
      "execution_count": 10,
      "outputs": [
        {
          "output_type": "stream",
          "name": "stdout",
          "text": [
            "Epoch 1/100\n",
            "1563/1563 [==============================] - 14s 9ms/step - loss: 0.9137 - accuracy: 0.6811\n",
            "Epoch 2/100\n",
            "1563/1563 [==============================] - 14s 9ms/step - loss: 0.8756 - accuracy: 0.6943\n",
            "Epoch 3/100\n",
            "1563/1563 [==============================] - 14s 9ms/step - loss: 0.8457 - accuracy: 0.7049\n",
            "Epoch 4/100\n",
            "1563/1563 [==============================] - 14s 9ms/step - loss: 0.8199 - accuracy: 0.7139\n",
            "Epoch 5/100\n",
            "1563/1563 [==============================] - 14s 9ms/step - loss: 0.7988 - accuracy: 0.7204\n",
            "Epoch 6/100\n",
            "1563/1563 [==============================] - 14s 9ms/step - loss: 0.7794 - accuracy: 0.7289\n",
            "Epoch 7/100\n",
            "1563/1563 [==============================] - 14s 9ms/step - loss: 0.7607 - accuracy: 0.7333\n",
            "Epoch 8/100\n",
            "1563/1563 [==============================] - 14s 9ms/step - loss: 0.7445 - accuracy: 0.7406\n",
            "Epoch 9/100\n",
            "1563/1563 [==============================] - 14s 9ms/step - loss: 0.7270 - accuracy: 0.7463\n",
            "Epoch 10/100\n",
            "1563/1563 [==============================] - 14s 9ms/step - loss: 0.7123 - accuracy: 0.7504\n",
            "Epoch 11/100\n",
            "1563/1563 [==============================] - 14s 9ms/step - loss: 0.6982 - accuracy: 0.7562\n",
            "Epoch 12/100\n",
            "1563/1563 [==============================] - 14s 9ms/step - loss: 0.6838 - accuracy: 0.7607\n",
            "Epoch 13/100\n",
            "1563/1563 [==============================] - 14s 9ms/step - loss: 0.6732 - accuracy: 0.7631\n",
            "Epoch 14/100\n",
            "1563/1563 [==============================] - 14s 9ms/step - loss: 0.6611 - accuracy: 0.7671\n",
            "Epoch 15/100\n",
            "1563/1563 [==============================] - 14s 9ms/step - loss: 0.6518 - accuracy: 0.7729\n",
            "Epoch 16/100\n",
            "1563/1563 [==============================] - 14s 9ms/step - loss: 0.6387 - accuracy: 0.7781\n",
            "Epoch 17/100\n",
            "1563/1563 [==============================] - 14s 9ms/step - loss: 0.6311 - accuracy: 0.7790\n",
            "Epoch 18/100\n",
            "1563/1563 [==============================] - 14s 9ms/step - loss: 0.6199 - accuracy: 0.7833\n",
            "Epoch 19/100\n",
            "1563/1563 [==============================] - 14s 9ms/step - loss: 0.6092 - accuracy: 0.7884\n",
            "Epoch 20/100\n",
            "1563/1563 [==============================] - 14s 9ms/step - loss: 0.6036 - accuracy: 0.7873\n",
            "Epoch 21/100\n",
            "1563/1563 [==============================] - 14s 9ms/step - loss: 0.5934 - accuracy: 0.7918\n",
            "Epoch 22/100\n",
            "1563/1563 [==============================] - 14s 9ms/step - loss: 0.5868 - accuracy: 0.7945\n",
            "Epoch 23/100\n",
            "1563/1563 [==============================] - 14s 9ms/step - loss: 0.5775 - accuracy: 0.7975\n",
            "Epoch 24/100\n",
            "1563/1563 [==============================] - 14s 9ms/step - loss: 0.5714 - accuracy: 0.8012\n",
            "Epoch 25/100\n",
            "1563/1563 [==============================] - 14s 9ms/step - loss: 0.5660 - accuracy: 0.8007\n",
            "Epoch 26/100\n",
            "1563/1563 [==============================] - 14s 9ms/step - loss: 0.5526 - accuracy: 0.8064\n",
            "Epoch 27/100\n",
            "1563/1563 [==============================] - 14s 9ms/step - loss: 0.5475 - accuracy: 0.8067\n",
            "Epoch 28/100\n",
            "1563/1563 [==============================] - 14s 9ms/step - loss: 0.5418 - accuracy: 0.8080\n",
            "Epoch 29/100\n",
            "1563/1563 [==============================] - 14s 9ms/step - loss: 0.5356 - accuracy: 0.8114\n",
            "Epoch 30/100\n",
            "1563/1563 [==============================] - 14s 9ms/step - loss: 0.5316 - accuracy: 0.8118\n",
            "Epoch 31/100\n",
            "1563/1563 [==============================] - 14s 9ms/step - loss: 0.5211 - accuracy: 0.8158\n",
            "Epoch 32/100\n",
            "1563/1563 [==============================] - 14s 9ms/step - loss: 0.5158 - accuracy: 0.8174\n",
            "Epoch 33/100\n",
            "1563/1563 [==============================] - 14s 9ms/step - loss: 0.5123 - accuracy: 0.8173\n",
            "Epoch 34/100\n",
            "1563/1563 [==============================] - 14s 9ms/step - loss: 0.5056 - accuracy: 0.8200\n",
            "Epoch 35/100\n",
            "1563/1563 [==============================] - 14s 9ms/step - loss: 0.4982 - accuracy: 0.8234\n",
            "Epoch 36/100\n",
            "1563/1563 [==============================] - 14s 9ms/step - loss: 0.4939 - accuracy: 0.8227\n",
            "Epoch 37/100\n",
            "1563/1563 [==============================] - 14s 9ms/step - loss: 0.4901 - accuracy: 0.8240\n",
            "Epoch 38/100\n",
            "1563/1563 [==============================] - 14s 9ms/step - loss: 0.4848 - accuracy: 0.8273\n",
            "Epoch 39/100\n",
            "1563/1563 [==============================] - 14s 9ms/step - loss: 0.4767 - accuracy: 0.8295\n",
            "Epoch 40/100\n",
            "1563/1563 [==============================] - 14s 9ms/step - loss: 0.4750 - accuracy: 0.8317\n",
            "Epoch 41/100\n",
            "1563/1563 [==============================] - 14s 9ms/step - loss: 0.4696 - accuracy: 0.8320\n",
            "Epoch 42/100\n",
            "1563/1563 [==============================] - 14s 9ms/step - loss: 0.4627 - accuracy: 0.8359\n",
            "Epoch 43/100\n",
            "1563/1563 [==============================] - 14s 9ms/step - loss: 0.4569 - accuracy: 0.8367\n",
            "Epoch 44/100\n",
            "1563/1563 [==============================] - 14s 9ms/step - loss: 0.4568 - accuracy: 0.8373\n",
            "Epoch 45/100\n",
            "1563/1563 [==============================] - 14s 9ms/step - loss: 0.4541 - accuracy: 0.8384\n",
            "Epoch 46/100\n",
            "1563/1563 [==============================] - 14s 9ms/step - loss: 0.4491 - accuracy: 0.8392\n",
            "Epoch 47/100\n",
            "1563/1563 [==============================] - 14s 9ms/step - loss: 0.4438 - accuracy: 0.8422\n",
            "Epoch 48/100\n",
            "1563/1563 [==============================] - 14s 9ms/step - loss: 0.4392 - accuracy: 0.8431\n",
            "Epoch 49/100\n",
            "1563/1563 [==============================] - 14s 9ms/step - loss: 0.4332 - accuracy: 0.8454\n",
            "Epoch 50/100\n",
            "1563/1563 [==============================] - 14s 9ms/step - loss: 0.4308 - accuracy: 0.8456\n",
            "Epoch 51/100\n",
            "1563/1563 [==============================] - 14s 9ms/step - loss: 0.4277 - accuracy: 0.8458\n",
            "Epoch 52/100\n",
            "1563/1563 [==============================] - 14s 9ms/step - loss: 0.4292 - accuracy: 0.8458\n",
            "Epoch 53/100\n",
            "1563/1563 [==============================] - 14s 9ms/step - loss: 0.4187 - accuracy: 0.8506\n",
            "Epoch 54/100\n",
            "1563/1563 [==============================] - 14s 9ms/step - loss: 0.4157 - accuracy: 0.8507\n",
            "Epoch 55/100\n",
            "1563/1563 [==============================] - 14s 9ms/step - loss: 0.4141 - accuracy: 0.8515\n",
            "Epoch 56/100\n",
            "1563/1563 [==============================] - 14s 9ms/step - loss: 0.4092 - accuracy: 0.8522\n",
            "Epoch 57/100\n",
            "1563/1563 [==============================] - 14s 9ms/step - loss: 0.4107 - accuracy: 0.8526\n",
            "Epoch 58/100\n",
            "1563/1563 [==============================] - 14s 9ms/step - loss: 0.4024 - accuracy: 0.8543\n",
            "Epoch 59/100\n",
            "1563/1563 [==============================] - 14s 9ms/step - loss: 0.4006 - accuracy: 0.8556\n",
            "Epoch 60/100\n",
            "1563/1563 [==============================] - 14s 9ms/step - loss: 0.3996 - accuracy: 0.8559\n",
            "Epoch 61/100\n",
            "1563/1563 [==============================] - 14s 9ms/step - loss: 0.4002 - accuracy: 0.8556\n",
            "Epoch 62/100\n",
            "1563/1563 [==============================] - 14s 9ms/step - loss: 0.3927 - accuracy: 0.8580\n",
            "Epoch 63/100\n",
            "1563/1563 [==============================] - 14s 9ms/step - loss: 0.3925 - accuracy: 0.8600\n",
            "Epoch 64/100\n",
            "1563/1563 [==============================] - 14s 9ms/step - loss: 0.3850 - accuracy: 0.8615\n",
            "Epoch 65/100\n",
            "1563/1563 [==============================] - 14s 9ms/step - loss: 0.3874 - accuracy: 0.8606\n",
            "Epoch 66/100\n",
            "1563/1563 [==============================] - 14s 9ms/step - loss: 0.3835 - accuracy: 0.8622\n",
            "Epoch 67/100\n",
            "1563/1563 [==============================] - 14s 9ms/step - loss: 0.3802 - accuracy: 0.8617\n",
            "Epoch 68/100\n",
            "1563/1563 [==============================] - 14s 9ms/step - loss: 0.3798 - accuracy: 0.8626\n",
            "Epoch 69/100\n",
            "1563/1563 [==============================] - 14s 9ms/step - loss: 0.3760 - accuracy: 0.8643\n",
            "Epoch 70/100\n",
            "1563/1563 [==============================] - 14s 9ms/step - loss: 0.3741 - accuracy: 0.8645\n",
            "Epoch 71/100\n",
            "1563/1563 [==============================] - 14s 9ms/step - loss: 0.3686 - accuracy: 0.8663\n",
            "Epoch 72/100\n",
            "1563/1563 [==============================] - 14s 9ms/step - loss: 0.3696 - accuracy: 0.8655\n",
            "Epoch 73/100\n",
            "1563/1563 [==============================] - 14s 9ms/step - loss: 0.3640 - accuracy: 0.8669\n",
            "Epoch 74/100\n",
            "1563/1563 [==============================] - 14s 9ms/step - loss: 0.3651 - accuracy: 0.8683\n",
            "Epoch 75/100\n",
            "1563/1563 [==============================] - 14s 9ms/step - loss: 0.3574 - accuracy: 0.8706\n",
            "Epoch 76/100\n",
            "1563/1563 [==============================] - 14s 9ms/step - loss: 0.3559 - accuracy: 0.8700\n",
            "Epoch 77/100\n",
            "1563/1563 [==============================] - 14s 9ms/step - loss: 0.3577 - accuracy: 0.8697\n",
            "Epoch 78/100\n",
            "1563/1563 [==============================] - 14s 9ms/step - loss: 0.3526 - accuracy: 0.8732\n",
            "Epoch 79/100\n",
            "1563/1563 [==============================] - 14s 9ms/step - loss: 0.3498 - accuracy: 0.8720\n",
            "Epoch 80/100\n",
            "1563/1563 [==============================] - 14s 9ms/step - loss: 0.3472 - accuracy: 0.8747\n",
            "Epoch 81/100\n",
            "1563/1563 [==============================] - 14s 9ms/step - loss: 0.3451 - accuracy: 0.8750\n",
            "Epoch 82/100\n",
            "1563/1563 [==============================] - 14s 9ms/step - loss: 0.3433 - accuracy: 0.8767\n",
            "Epoch 83/100\n",
            "1563/1563 [==============================] - 14s 9ms/step - loss: 0.3432 - accuracy: 0.8751\n",
            "Epoch 84/100\n",
            "1563/1563 [==============================] - 14s 9ms/step - loss: 0.3408 - accuracy: 0.8784\n",
            "Epoch 85/100\n",
            "1563/1563 [==============================] - 14s 9ms/step - loss: 0.3373 - accuracy: 0.8777\n",
            "Epoch 86/100\n",
            "1563/1563 [==============================] - 14s 9ms/step - loss: 0.3356 - accuracy: 0.8779\n",
            "Epoch 87/100\n",
            "1563/1563 [==============================] - 14s 9ms/step - loss: 0.3342 - accuracy: 0.8792\n",
            "Epoch 88/100\n",
            "1563/1563 [==============================] - 14s 9ms/step - loss: 0.3340 - accuracy: 0.8788\n",
            "Epoch 89/100\n",
            "1563/1563 [==============================] - 14s 9ms/step - loss: 0.3337 - accuracy: 0.8772\n",
            "Epoch 90/100\n",
            "1563/1563 [==============================] - 14s 9ms/step - loss: 0.3259 - accuracy: 0.8817\n",
            "Epoch 91/100\n",
            "1563/1563 [==============================] - 14s 9ms/step - loss: 0.3271 - accuracy: 0.8799\n",
            "Epoch 92/100\n",
            "1563/1563 [==============================] - 14s 9ms/step - loss: 0.3250 - accuracy: 0.8809\n",
            "Epoch 93/100\n",
            "1563/1563 [==============================] - 14s 9ms/step - loss: 0.3212 - accuracy: 0.8828\n",
            "Epoch 94/100\n",
            "1563/1563 [==============================] - 14s 9ms/step - loss: 0.3249 - accuracy: 0.8807\n",
            "Epoch 95/100\n",
            "1563/1563 [==============================] - 14s 9ms/step - loss: 0.3211 - accuracy: 0.8823\n",
            "Epoch 96/100\n",
            "1563/1563 [==============================] - 14s 9ms/step - loss: 0.3194 - accuracy: 0.8832\n",
            "Epoch 97/100\n",
            "1563/1563 [==============================] - 14s 9ms/step - loss: 0.3170 - accuracy: 0.8839\n",
            "Epoch 98/100\n",
            "1563/1563 [==============================] - 14s 9ms/step - loss: 0.3142 - accuracy: 0.8844\n",
            "Epoch 99/100\n",
            "1563/1563 [==============================] - 14s 9ms/step - loss: 0.3164 - accuracy: 0.8849\n",
            "Epoch 100/100\n",
            "1563/1563 [==============================] - 14s 9ms/step - loss: 0.3153 - accuracy: 0.8854\n"
          ]
        },
        {
          "output_type": "execute_result",
          "data": {
            "text/plain": [
              "<keras.callbacks.History at 0x7f690029e550>"
            ]
          },
          "metadata": {},
          "execution_count": 10
        }
      ]
    },
    {
      "cell_type": "code",
      "source": [
        "model.evaluate(x_test,y_test)"
      ],
      "metadata": {
        "colab": {
          "base_uri": "https://localhost:8080/"
        },
        "id": "F95WovuyLniy",
        "outputId": "7888d3b9-96eb-4018-d8f7-a4bae739cebc"
      },
      "execution_count": 11,
      "outputs": [
        {
          "output_type": "stream",
          "name": "stdout",
          "text": [
            "313/313 [==============================] - 2s 5ms/step - loss: 1.4725 - accuracy: 0.6796\n"
          ]
        },
        {
          "output_type": "execute_result",
          "data": {
            "text/plain": [
              "[1.4724551439285278, 0.6796000003814697]"
            ]
          },
          "metadata": {},
          "execution_count": 11
        }
      ]
    },
    {
      "cell_type": "code",
      "source": [
        ""
      ],
      "metadata": {
        "id": "jxsjhydnLq4G"
      },
      "execution_count": null,
      "outputs": []
    }
  ]
}